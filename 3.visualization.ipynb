{
 "cells": [
  {
   "cell_type": "code",
   "execution_count": 5,
   "metadata": {},
   "outputs": [],
   "source": [
    "# import of libraries \n",
    "from sqlalchemy import create_engine, text\n",
    "import pandas as pd\n",
    "import plotly.express as px\n",
    "import psycopg2\n",
    "import os\n",
    "from datetime import datetime\n",
    "import json"
   ]
  },
  {
   "cell_type": "code",
   "execution_count": 6,
   "metadata": {},
   "outputs": [],
   "source": [
    "# Call of our date in S3 \n",
    "weather = pd.read_csv('s3://booking-scapping/city_weather_by_day.csv')\n",
    "hotel = pd.read_csv('s3://booking-scapping/hotels_info.csv')"
   ]
  },
  {
   "cell_type": "code",
   "execution_count": 7,
   "metadata": {},
   "outputs": [
    {
     "data": {
      "text/html": [
       "<div>\n",
       "<style scoped>\n",
       "    .dataframe tbody tr th:only-of-type {\n",
       "        vertical-align: middle;\n",
       "    }\n",
       "\n",
       "    .dataframe tbody tr th {\n",
       "        vertical-align: top;\n",
       "    }\n",
       "\n",
       "    .dataframe thead th {\n",
       "        text-align: right;\n",
       "    }\n",
       "</style>\n",
       "<table border=\"1\" class=\"dataframe\">\n",
       "  <thead>\n",
       "    <tr style=\"text-align: right;\">\n",
       "      <th></th>\n",
       "      <th>Unnamed: 0</th>\n",
       "      <th>city</th>\n",
       "      <th>dt_object</th>\n",
       "      <th>main_weather</th>\n",
       "      <th>prepcipitation</th>\n",
       "      <th>temperature</th>\n",
       "      <th>latitude</th>\n",
       "      <th>longitude</th>\n",
       "    </tr>\n",
       "  </thead>\n",
       "  <tbody>\n",
       "    <tr>\n",
       "      <th>0</th>\n",
       "      <td>0</td>\n",
       "      <td>Aigues Mortes</td>\n",
       "      <td>2023-02-15</td>\n",
       "      <td>Clouds</td>\n",
       "      <td>0.0</td>\n",
       "      <td>10.71000</td>\n",
       "      <td>43.565823</td>\n",
       "      <td>4.191284</td>\n",
       "    </tr>\n",
       "    <tr>\n",
       "      <th>1</th>\n",
       "      <td>1</td>\n",
       "      <td>Aigues Mortes</td>\n",
       "      <td>2023-02-16</td>\n",
       "      <td>Clouds</td>\n",
       "      <td>0.0</td>\n",
       "      <td>9.81125</td>\n",
       "      <td>43.565823</td>\n",
       "      <td>4.191284</td>\n",
       "    </tr>\n",
       "    <tr>\n",
       "      <th>2</th>\n",
       "      <td>2</td>\n",
       "      <td>Aigues Mortes</td>\n",
       "      <td>2023-02-17</td>\n",
       "      <td>Clear</td>\n",
       "      <td>0.0</td>\n",
       "      <td>10.83000</td>\n",
       "      <td>43.565823</td>\n",
       "      <td>4.191284</td>\n",
       "    </tr>\n",
       "    <tr>\n",
       "      <th>3</th>\n",
       "      <td>3</td>\n",
       "      <td>Aigues Mortes</td>\n",
       "      <td>2023-02-18</td>\n",
       "      <td>Clear</td>\n",
       "      <td>0.0</td>\n",
       "      <td>12.93875</td>\n",
       "      <td>43.565823</td>\n",
       "      <td>4.191284</td>\n",
       "    </tr>\n",
       "    <tr>\n",
       "      <th>4</th>\n",
       "      <td>4</td>\n",
       "      <td>Aigues Mortes</td>\n",
       "      <td>2023-02-19</td>\n",
       "      <td>Clear</td>\n",
       "      <td>0.0</td>\n",
       "      <td>12.17375</td>\n",
       "      <td>43.565823</td>\n",
       "      <td>4.191284</td>\n",
       "    </tr>\n",
       "  </tbody>\n",
       "</table>\n",
       "</div>"
      ],
      "text/plain": [
       "   Unnamed: 0           city   dt_object main_weather  prepcipitation  \\\n",
       "0           0  Aigues Mortes  2023-02-15       Clouds             0.0   \n",
       "1           1  Aigues Mortes  2023-02-16       Clouds             0.0   \n",
       "2           2  Aigues Mortes  2023-02-17        Clear             0.0   \n",
       "3           3  Aigues Mortes  2023-02-18        Clear             0.0   \n",
       "4           4  Aigues Mortes  2023-02-19        Clear             0.0   \n",
       "\n",
       "   temperature   latitude  longitude  \n",
       "0     10.71000  43.565823   4.191284  \n",
       "1      9.81125  43.565823   4.191284  \n",
       "2     10.83000  43.565823   4.191284  \n",
       "3     12.93875  43.565823   4.191284  \n",
       "4     12.17375  43.565823   4.191284  "
      ]
     },
     "execution_count": 7,
     "metadata": {},
     "output_type": "execute_result"
    }
   ],
   "source": [
    "# Keep usefull data before sending it to our DB : take the weather by day of the top 5 city \n",
    "\n",
    "top_5_city_name = pd.read_csv('top_5_city_name.csv', names= ['city'])\n",
    "top_5_city_list = [x.strip() for x in top_5_city_name['city']]\n",
    "\n",
    "city_weather_top_5 = weather[weather['city'].isin(top_5_city_list)]\n",
    "city_weather_top_5.head()"
   ]
  },
  {
   "cell_type": "code",
   "execution_count": 8,
   "metadata": {},
   "outputs": [
    {
     "name": "stderr",
     "output_type": "stream",
     "text": [
      "/var/folders/38/qp_mmpqs5_5fc3fgl0jc4_v40000gn/T/ipykernel_85769/2801105528.py:3: FutureWarning: In a future version of pandas all arguments of StringMethods.split except for the argument 'pat' will be keyword-only.\n",
      "  hotel[['lat', 'lon']] = hotel['latlng'].str.split(',', 1, expand=True)\n"
     ]
    }
   ],
   "source": [
    "# Clean the scrapping data before sending it to our DB\n",
    "\n",
    "hotel[['lat', 'lon']] = hotel['latlng'].str.split(',', 1, expand=True)\n",
    "hotel = hotel.drop(['depth','download_timeout','download_slot','latlng','download_latency'], axis=1)\n",
    "\n",
    "hotel['Score'] = hotel['Score'].replace({ ',' : '.'}, regex=True)\n",
    "\n",
    "hotel['Score'] = hotel['Score'].astype(float)\n",
    "hotel['lat'] = hotel['lat'].astype(float)\n",
    "hotel['lon'] = hotel['lon'].astype(float)"
   ]
  },
  {
   "cell_type": "code",
   "execution_count": 10,
   "metadata": {},
   "outputs": [],
   "source": [
    "# gets our secrets for connection at RDS\n",
    "\n",
    "import json\n",
    "with open(\"./secrets.json\") as f:\n",
    "    secrets = json.load(f)\n"
   ]
  },
  {
   "cell_type": "code",
   "execution_count": 11,
   "metadata": {},
   "outputs": [
    {
     "name": "stdout",
     "output_type": "stream",
     "text": [
      "2023-02-16 16:12:05,165 INFO sqlalchemy.engine.Engine select pg_catalog.version()\n",
      "2023-02-16 16:12:05,166 INFO sqlalchemy.engine.Engine [raw sql] {}\n",
      "2023-02-16 16:12:05,461 INFO sqlalchemy.engine.Engine select current_schema()\n",
      "2023-02-16 16:12:05,461 INFO sqlalchemy.engine.Engine [raw sql] {}\n",
      "2023-02-16 16:12:05,760 INFO sqlalchemy.engine.Engine show standard_conforming_strings\n",
      "2023-02-16 16:12:05,761 INFO sqlalchemy.engine.Engine [raw sql] {}\n",
      "2023-02-16 16:12:06,066 INFO sqlalchemy.engine.Engine select relname from pg_class c join pg_namespace n on n.oid=c.relnamespace where pg_catalog.pg_table_is_visible(c.oid) and relname=%(name)s\n",
      "2023-02-16 16:12:06,067 INFO sqlalchemy.engine.Engine [generated in 0.00149s] {'name': 'city_weather_top_5'}\n",
      "2023-02-16 16:12:06,521 INFO sqlalchemy.engine.Engine BEGIN (implicit)\n",
      "2023-02-16 16:12:06,523 INFO sqlalchemy.engine.Engine INSERT INTO city_weather_top_5 (index, \"Unnamed: 0\", city, dt_object, main_weather, prepcipitation, temperature, latitude, longitude) VALUES (%(index)s, %(UnnamedC_0)s, %(city)s, %(dt_object)s, %(main_weather)s, %(prepcipitation)s, %(temperature)s, %(latitude)s, %(longitude)s)\n",
      "2023-02-16 16:12:06,523 INFO sqlalchemy.engine.Engine [generated in 0.00073s] ({'index': 0, 'UnnamedC_0': 0, 'city': 'Aigues Mortes', 'dt_object': '2023-02-15', 'main_weather': 'Clouds', 'prepcipitation': 0.0, 'temperature': 10.710000000000022, 'latitude': 43.5658225, 'longitude': 4.1912837}, {'index': 1, 'UnnamedC_0': 1, 'city': 'Aigues Mortes', 'dt_object': '2023-02-16', 'main_weather': 'Clouds', 'prepcipitation': 0.0, 'temperature': 9.811250000000022, 'latitude': 43.5658225, 'longitude': 4.1912837}, {'index': 2, 'UnnamedC_0': 2, 'city': 'Aigues Mortes', 'dt_object': '2023-02-17', 'main_weather': 'Clear', 'prepcipitation': 0.0, 'temperature': 10.830000000000034, 'latitude': 43.5658225, 'longitude': 4.1912837}, {'index': 3, 'UnnamedC_0': 3, 'city': 'Aigues Mortes', 'dt_object': '2023-02-18', 'main_weather': 'Clear', 'prepcipitation': 0.0, 'temperature': 12.938750000000034, 'latitude': 43.5658225, 'longitude': 4.1912837}, {'index': 4, 'UnnamedC_0': 4, 'city': 'Aigues Mortes', 'dt_object': '2023-02-19', 'main_weather': 'Clear', 'prepcipitation': 0.0, 'temperature': 12.173750000000028, 'latitude': 43.5658225, 'longitude': 4.1912837}, {'index': 5, 'UnnamedC_0': 5, 'city': 'Aigues Mortes', 'dt_object': '2023-02-20', 'main_weather': 'Clouds', 'prepcipitation': 0.0, 'temperature': 10.417500000000032, 'latitude': 43.5658225, 'longitude': 4.1912837}, {'index': 30, 'UnnamedC_0': 30, 'city': 'Avignon', 'dt_object': '2023-02-15', 'main_weather': 'Clouds', 'prepcipitation': 0.0, 'temperature': 10.100000000000025, 'latitude': 43.9492493, 'longitude': 4.8059012}, {'index': 31, 'UnnamedC_0': 31, 'city': 'Avignon', 'dt_object': '2023-02-16', 'main_weather': 'Clouds', 'prepcipitation': 0.0, 'temperature': 8.930000000000021, 'latitude': 43.9492493, 'longitude': 4.8059012}  ... displaying 10 of 30 total bound parameter sets ...  {'index': 184, 'UnnamedC_0': 184, 'city': 'Saintes Maries de la mer', 'dt_object': '2023-02-19', 'main_weather': 'Clear', 'prepcipitation': 0.0, 'temperature': 12.241250000000022, 'latitude': 43.4522771, 'longitude': 4.4287172}, {'index': 185, 'UnnamedC_0': 185, 'city': 'Saintes Maries de la mer', 'dt_object': '2023-02-20', 'main_weather': 'Clouds', 'prepcipitation': 0.0, 'temperature': 10.760000000000034, 'latitude': 43.4522771, 'longitude': 4.4287172})\n",
      "2023-02-16 16:12:06,837 INFO sqlalchemy.engine.Engine COMMIT\n",
      "2023-02-16 16:12:07,013 INFO sqlalchemy.engine.Engine select relname from pg_class c join pg_namespace n on n.oid=c.relnamespace where pg_catalog.pg_table_is_visible(c.oid) and relname=%(name)s\n",
      "2023-02-16 16:12:07,014 INFO sqlalchemy.engine.Engine [cached since 0.9484s ago] {'name': 'hotel'}\n",
      "2023-02-16 16:12:07,504 INFO sqlalchemy.engine.Engine BEGIN (implicit)\n",
      "2023-02-16 16:12:07,509 INFO sqlalchemy.engine.Engine INSERT INTO hotel (index, \"Unnamed: 0\", \"hotel name\", \"Url to its booking.com page\", \"Score\", \"Text description\", lat, lon) VALUES (%(index)s, %(UnnamedC_0)s, %(hotel_name)s, %(Url_to_its_booking.com_page)s, %(Score)s, %(Text_description)s, %(lat)s, %(lon)s)\n",
      "2023-02-16 16:12:07,510 INFO sqlalchemy.engine.Engine [generated in 0.00234s] ({'index': 0, 'UnnamedC_0': 0, 'hotel_name': 'Typique, authentique, super pratique', 'Url_to_its_booking.com_page': 'https://www.booking.com/hotel/fr/typique-authentique-super-pratique.fr.html?aid=304142&label=gen173nr-1FCAEoggI46AdIM1gEaEaIAQGYAQ24AQfIAQzYAQHoAQH4A ... (130 characters truncated) ... _rooms=1&group_children=0&req_children=0&hpos=15&hapos=15&sr_order=popularity&srpvid=deb56ff783c40220&srepoch=1676476528&from=searchresults#hotelTmpl', 'Score': 7.0, 'Text_description': \"Doté d'une connexion Wi-Fi gratuite et offrant une vue sur la ville, le Typique, authentique, super pratique est un hébergement situé dans un quartier central de Marseille, à seulement 500 mètres de...\", 'lat': 43.2953889, 'lon': 5.3791652}, {'index': 1, 'UnnamedC_0': 1, 'hotel_name': 'Maison 3 chambres gde terrasse proche vieux port et sncf', 'Url_to_its_booking.com_page': 'https://www.booking.com/hotel/fr/maison-de-ville-proche-vieux-port-et-sncf.fr.html?aid=304142&label=gen173nr-1FCAEoggI46AdIM1gEaEaIAQGYAQ24AQfIAQzYAQ ... (137 characters truncated) ... _rooms=1&group_children=0&req_children=0&hpos=17&hapos=17&sr_order=popularity&srpvid=deb56ff783c40220&srepoch=1676476528&from=searchresults#hotelTmpl', 'Score': 7.3, 'Text_description': 'Située à Marseille, à seulement 3 km de la station de métro Joliette, la Maison 3 chambres gde terrasse proche vieux port et sncf propose un hébergement avec accès à un salon commun, une terrasse et...', 'lat': 43.31433499, 'lon': 5.38842062}, {'index': 2, 'UnnamedC_0': 2, 'hotel_name': 'Ibis Marseille Centre Prefecture', 'Url_to_its_booking.com_page': 'https://www.booking.com/hotel/fr/premiere-classe-marseille-centre-xml.fr.html?aid=304142&label=gen173nr-1FCAEoggI46AdIM1gEaEaIAQGYAQ24AQfIAQzYAQHoAQH ... (163 characters truncated) ... hildren=0&hpos=20&hapos=20&sr_order=popularity&srpvid=deb56ff783c40220&srepoch=1676476528&from_sustainable_property_sr=1&from=searchresults#hotelTmpl', 'Score': 7.0, 'Text_description': 'L’Ibis Marseille Centre Préfecture met à votre disposition une connexion Wi-Fi gratuite et une réception ouverte 24h/24. ', 'lat': 43.29155323, 'lon': 5.38197108}, {'index': 3, 'UnnamedC_0': 3, 'hotel_name': 'Hôtel Maison Montgrand - Vieux Port', 'Url_to_its_booking.com_page': 'https://www.booking.com/hotel/fr/montgrand.fr.html?aid=304142&label=gen173nr-1FCAEoggI46AdIM1gEaEaIAQGYAQ24AQfIAQzYAQHoAQH4AQuIAgGoAgO4AperqZ8GwAIB0g ... (134 characters truncated) ... _children=0&hpos=1&hapos=1&sr_order=popularity&srpvid=deb56ff783c40220&srepoch=1676476528&from_sustainable_property_sr=1&from=searchresults#hotelTmpl', 'Score': 7.9, 'Text_description': \"Doté d'une terrasse spacieuse, d'un terrain de pétanque et d'un magasin de concept, l'Hôtel Maison Montgrand - Vieux Port vous propose 49\\xa0chambres et 13\\xa0appartements dans le centre de Marseille, à...\", 'lat': 43.2909627, 'lon': 5.3764292}, {'index': 4, 'UnnamedC_0': 4, 'hotel_name': 'Residhotel Vieux Port', 'Url_to_its_booking.com_page': 'https://www.booking.com/hotel/fr/residhotel-vieux-port.fr.html?aid=304142&label=gen173nr-1FCAEoggI46AdIM1gEaEaIAQGYAQ24AQfIAQzYAQHoAQH4AQuIAgGoAgO4Ap ... (148 characters truncated) ... hildren=0&hpos=19&hapos=19&sr_order=popularity&srpvid=deb56ff783c40220&srepoch=1676476528&from_sustainable_property_sr=1&from=searchresults#hotelTmpl', 'Score': 7.3, 'Text_description': 'Le Residhotel Vieux Port se situe dans le centre-ville de Marseille. Il vous accueille en face du Vieux-Port et à 15\\xa0minutes à pied du musée Mucem et du centre commercial Les Terrasses du Port. ', 'lat': 43.29681825, 'lon': 5.37305743}, {'index': 5, 'UnnamedC_0': 5, 'hotel_name': 'La Lodge', 'Url_to_its_booking.com_page': 'https://www.booking.com/hotel/fr/sunny-vieux-port-3bed-apartment-with-sea-view.fr.html?aid=304142&label=gen173nr-1FCAEoggI46AdIM1gEaEaIAQGYAQ24AQfIAQ ... (141 characters truncated) ... _rooms=1&group_children=0&req_children=0&hpos=14&hapos=14&sr_order=popularity&srpvid=deb56ff783c40220&srepoch=1676476528&from=searchresults#hotelTmpl', 'Score': 8.5, 'Text_description': \"Idéalement situé dans le centre de Marseille, l'établissement La Lodge possède une terrasse. Vous bénéficierez d'une connexion Wi-Fi gratuite et d'un balcon. \", 'lat': 43.2964649, 'lon': 5.3671383}, {'index': 6, 'UnnamedC_0': 6, 'hotel_name': 'Hôtel Hermès', 'Url_to_its_booking.com_page': 'https://www.booking.com/hotel/fr/hermes.fr.html?aid=304142&label=gen173nr-1FCAEoggI46AdIM1gEaEaIAQGYAQ24AQfIAQzYAQHoAQH4AQuIAgGoAgO4AperqZ8GwAIB0gIkN ... (102 characters truncated) ... _rooms=1&group_children=0&req_children=0&hpos=16&hapos=16&sr_order=popularity&srpvid=deb56ff783c40220&srepoch=1676476528&from=searchresults#hotelTmpl', 'Score': 7.9, 'Text_description': \"L'hôtel Hermès se situe à seulement 35 mètres du Vieux-Port, dans le centre de Marseille. Il dispose d'une connexion Wi-Fi gratuite et d'un toit-terrasse avec vue panoramique sur le port et la ville. \", 'lat': 43.29655283, 'lon': 5.37188329}, {'index': 7, 'UnnamedC_0': 7, 'hotel_name': 'Superbe 100m2 - 2 Balcons - Proche Gare - Climatisé', 'Url_to_its_booking.com_page': 'https://www.booking.com/hotel/fr/appartement-cosy-100m2-proche-gare-climatise.fr.html?aid=304142&label=gen173nr-1FCAEoggI46AdIM1gEaEaIAQGYAQ24AQfIAQz ... (140 characters truncated) ... _rooms=1&group_children=0&req_children=0&hpos=18&hapos=18&sr_order=popularity&srpvid=deb56ff783c40220&srepoch=1676476528&from=searchresults#hotelTmpl', 'Score': 7.2, 'Text_description': 'Offrant une vue sur la ville, le Superbe 100m2 - 2 Balcons - Proche Gare - Climatisé propose un hébergement avec une terrasse et un balcon, à environ 1,3 km de la station de métro Joliette. ', 'lat': 43.309587, 'lon': 5.3799856}  ... displaying 10 of 100 total bound parameter sets ...  {'index': 98, 'UnnamedC_0': 98, 'hotel_name': 'LE PANIER ENCHANTÉ - Suites & Loft - Terrasse et patio au dessus du Vieux Port', 'Url_to_its_booking.com_page': 'https://www.booking.com/hotel/fr/le-panier-enchante-suites-amp-spa.fr.html?aid=304142&label=gen173nr-1FCAEoggI46AdIM1gEaEaIAQGYAQ24AQfIAQzYAQHoAQH4AQ ... (158 characters truncated) ... _children=0&hpos=3&hapos=3&sr_order=popularity&srpvid=deb56ff783c40220&srepoch=1676476528&from_sustainable_property_sr=1&from=searchresults#hotelTmpl', 'Score': 7.8, 'Text_description': \"Situé dans le centre de Marseille, à 2,8 km de la plage des Catalans et à 700 mètres de la station de métro Joliette, l'établissement LE PANIER ENCHANTÉ - Suites & Loft - Terrasse et patio au dessus...\", 'lat': 43.300097, 'lon': 5.367585}, {'index': 99, 'UnnamedC_0': 99, 'hotel_name': 'SUD PASSION - Sakakini - calme - 3 chambres - lumineux - fibre', 'Url_to_its_booking.com_page': 'https://www.booking.com/hotel/fr/sud-passion-sakakini-calme-3-chambres-lumineux-fibre.fr.html?aid=304142&label=gen173nr-1FCAEoggI46AdIM1gEaEaIAQGYAQ2 ... (177 characters truncated) ... _children=0&hpos=2&hapos=2&sr_order=popularity&srpvid=deb56ff783c40220&srepoch=1676476528&from_sustainable_property_sr=1&from=searchresults#hotelTmpl', 'Score': 10.0, 'Text_description': 'Offrant une vue sur la ville, le SUD PASSION - Sakakini - calme - 3 chambres - lumineux - fibre propose un hébergement avec une terrasse et un balcon, à environ 1,1 km de la station de métro La...', 'lat': 43.299162, 'lon': 5.401543})\n",
      "2023-02-16 16:12:08,136 INFO sqlalchemy.engine.Engine COMMIT\n"
     ]
    },
    {
     "data": {
      "text/plain": [
       "100"
      ]
     },
     "execution_count": 11,
     "metadata": {},
     "output_type": "execute_result"
    }
   ],
   "source": [
    "# send to our DB\n",
    "\n",
    "#engine = create_engine(\"sqlite:///:memory:\", echo=True)\n",
    "engine = create_engine(f'postgresql+psycopg2://{secrets[\"DBUSER\"]}:{secrets[\"DBPASS\"]}@{secrets[\"DBHOST\"]}', echo=True)\n",
    "\n",
    "city_weather_top_5.to_sql(\n",
    "    f\"city_weather_top_5\",\n",
    "    engine,\n",
    "    if_exists='append'\n",
    ")\n",
    "\n",
    "hotel.to_sql(\n",
    "    \"hotel\",\n",
    "    engine,\n",
    "    if_exists='append'\n",
    ")"
   ]
  },
  {
   "attachments": {},
   "cell_type": "markdown",
   "metadata": {},
   "source": [
    "## Call tables from our BD and do visualization "
   ]
  },
  {
   "cell_type": "code",
   "execution_count": 12,
   "metadata": {},
   "outputs": [
    {
     "name": "stdout",
     "output_type": "stream",
     "text": [
      "2023-02-16 16:12:08,368 INFO sqlalchemy.engine.Engine select relname from pg_class c join pg_namespace n on n.oid=c.relnamespace where pg_catalog.pg_table_is_visible(c.oid) and relname=%(name)s\n",
      "2023-02-16 16:12:08,370 INFO sqlalchemy.engine.Engine [cached since 2.304s ago] {'name': 'SELECT * FROM city_weather_top_5 '}\n",
      "2023-02-16 16:12:08,832 INFO sqlalchemy.engine.Engine SELECT * FROM city_weather_top_5 \n",
      "2023-02-16 16:12:08,833 INFO sqlalchemy.engine.Engine [generated in 0.00082s] {}\n"
     ]
    },
    {
     "data": {
      "text/html": [
       "<div>\n",
       "<style scoped>\n",
       "    .dataframe tbody tr th:only-of-type {\n",
       "        vertical-align: middle;\n",
       "    }\n",
       "\n",
       "    .dataframe tbody tr th {\n",
       "        vertical-align: top;\n",
       "    }\n",
       "\n",
       "    .dataframe thead th {\n",
       "        text-align: right;\n",
       "    }\n",
       "</style>\n",
       "<table border=\"1\" class=\"dataframe\">\n",
       "  <thead>\n",
       "    <tr style=\"text-align: right;\">\n",
       "      <th></th>\n",
       "      <th>index</th>\n",
       "      <th>Unnamed: 0</th>\n",
       "      <th>city</th>\n",
       "      <th>dt_object</th>\n",
       "      <th>main_weather</th>\n",
       "      <th>prepcipitation</th>\n",
       "      <th>temperature</th>\n",
       "      <th>latitude</th>\n",
       "      <th>longitude</th>\n",
       "    </tr>\n",
       "  </thead>\n",
       "  <tbody>\n",
       "    <tr>\n",
       "      <th>0</th>\n",
       "      <td>0</td>\n",
       "      <td>0</td>\n",
       "      <td>Aigues Mortes</td>\n",
       "      <td>2023-02-15</td>\n",
       "      <td>Clouds</td>\n",
       "      <td>0.0</td>\n",
       "      <td>10.71000</td>\n",
       "      <td>43.565823</td>\n",
       "      <td>4.191284</td>\n",
       "    </tr>\n",
       "    <tr>\n",
       "      <th>1</th>\n",
       "      <td>1</td>\n",
       "      <td>1</td>\n",
       "      <td>Aigues Mortes</td>\n",
       "      <td>2023-02-16</td>\n",
       "      <td>Clouds</td>\n",
       "      <td>0.0</td>\n",
       "      <td>9.81125</td>\n",
       "      <td>43.565823</td>\n",
       "      <td>4.191284</td>\n",
       "    </tr>\n",
       "    <tr>\n",
       "      <th>2</th>\n",
       "      <td>2</td>\n",
       "      <td>2</td>\n",
       "      <td>Aigues Mortes</td>\n",
       "      <td>2023-02-17</td>\n",
       "      <td>Clear</td>\n",
       "      <td>0.0</td>\n",
       "      <td>10.83000</td>\n",
       "      <td>43.565823</td>\n",
       "      <td>4.191284</td>\n",
       "    </tr>\n",
       "    <tr>\n",
       "      <th>3</th>\n",
       "      <td>3</td>\n",
       "      <td>3</td>\n",
       "      <td>Aigues Mortes</td>\n",
       "      <td>2023-02-18</td>\n",
       "      <td>Clear</td>\n",
       "      <td>0.0</td>\n",
       "      <td>12.93875</td>\n",
       "      <td>43.565823</td>\n",
       "      <td>4.191284</td>\n",
       "    </tr>\n",
       "    <tr>\n",
       "      <th>4</th>\n",
       "      <td>4</td>\n",
       "      <td>4</td>\n",
       "      <td>Aigues Mortes</td>\n",
       "      <td>2023-02-19</td>\n",
       "      <td>Clear</td>\n",
       "      <td>0.0</td>\n",
       "      <td>12.17375</td>\n",
       "      <td>43.565823</td>\n",
       "      <td>4.191284</td>\n",
       "    </tr>\n",
       "  </tbody>\n",
       "</table>\n",
       "</div>"
      ],
      "text/plain": [
       "   index  Unnamed: 0           city   dt_object main_weather  prepcipitation  \\\n",
       "0      0           0  Aigues Mortes  2023-02-15       Clouds             0.0   \n",
       "1      1           1  Aigues Mortes  2023-02-16       Clouds             0.0   \n",
       "2      2           2  Aigues Mortes  2023-02-17        Clear             0.0   \n",
       "3      3           3  Aigues Mortes  2023-02-18        Clear             0.0   \n",
       "4      4           4  Aigues Mortes  2023-02-19        Clear             0.0   \n",
       "\n",
       "   temperature   latitude  longitude  \n",
       "0     10.71000  43.565823   4.191284  \n",
       "1      9.81125  43.565823   4.191284  \n",
       "2     10.83000  43.565823   4.191284  \n",
       "3     12.93875  43.565823   4.191284  \n",
       "4     12.17375  43.565823   4.191284  "
      ]
     },
     "execution_count": 12,
     "metadata": {},
     "output_type": "execute_result"
    }
   ],
   "source": [
    "# Weather table \n",
    "\n",
    "stmt = text(\"SELECT * FROM city_weather_top_5 \"\n",
    "            )\n",
    "\n",
    "weather = pd.read_sql(\n",
    "        stmt,\n",
    "        engine\n",
    "    )\n",
    "\n",
    "weather.head()"
   ]
  },
  {
   "cell_type": "code",
   "execution_count": 13,
   "metadata": {},
   "outputs": [],
   "source": [
    "# Add a proportinal colum on temperature for better see the variation \n",
    "city_weather_top_5['temp_cube'] = city_weather_top_5['temperature']**3\n",
    "city_weather_top_5.head()\n",
    "\n",
    "city_weather_top_5['dt_object'] = city_weather_top_5['dt_object'].astype(str)"
   ]
  },
  {
   "cell_type": "code",
   "execution_count": 14,
   "metadata": {},
   "outputs": [
    {
     "data": {
      "application/vnd.plotly.v1+json": {
       "config": {
        "plotlyServerURL": "https://plot.ly"
       },
       "data": [
        {
         "hovertemplate": "dt_object=2023-02-15<br>temp_cube=%{marker.size}<br>latitude=%{lat}<br>longitude=%{lon}<br>temperature=%{marker.color}<extra></extra>",
         "ids": [
          10.710000000000022,
          10.100000000000025,
          11.847500000000023,
          12.125000000000014,
          10.69750000000002
         ],
         "lat": [
          43.5658225,
          43.9492493,
          43.2140359,
          43.2961743,
          43.4522771
         ],
         "legendgroup": "",
         "lon": [
          4.1912837,
          4.8059012,
          5.5396318,
          5.3699525,
          4.4287172
         ],
         "marker": {
          "color": [
           10.710000000000022,
           10.100000000000025,
           11.847500000000023,
           12.125000000000014,
           10.69750000000002
          ],
          "coloraxis": "coloraxis",
          "size": [
           1228.4809110000076,
           1030.3010000000074,
           1662.953678421885,
           1782.5644531250064,
           1224.1845256093816
          ],
          "sizemode": "area",
          "sizeref": 6.018627378164095
         },
         "mode": "markers",
         "name": "",
         "showlegend": false,
         "subplot": "mapbox",
         "type": "scattermapbox"
        }
       ],
       "frames": [
        {
         "data": [
          {
           "hovertemplate": "dt_object=2023-02-15<br>temp_cube=%{marker.size}<br>latitude=%{lat}<br>longitude=%{lon}<br>temperature=%{marker.color}<extra></extra>",
           "ids": [
            10.710000000000022,
            10.100000000000025,
            11.847500000000023,
            12.125000000000014,
            10.69750000000002
           ],
           "lat": [
            43.5658225,
            43.9492493,
            43.2140359,
            43.2961743,
            43.4522771
           ],
           "legendgroup": "",
           "lon": [
            4.1912837,
            4.8059012,
            5.5396318,
            5.3699525,
            4.4287172
           ],
           "marker": {
            "color": [
             10.710000000000022,
             10.100000000000025,
             11.847500000000023,
             12.125000000000014,
             10.69750000000002
            ],
            "coloraxis": "coloraxis",
            "size": [
             1228.4809110000076,
             1030.3010000000074,
             1662.953678421885,
             1782.5644531250064,
             1224.1845256093816
            ],
            "sizemode": "area",
            "sizeref": 6.018627378164095
           },
           "mode": "markers",
           "name": "",
           "showlegend": false,
           "subplot": "mapbox",
           "type": "scattermapbox"
          }
         ],
         "name": "2023-02-15"
        },
        {
         "data": [
          {
           "hovertemplate": "dt_object=2023-02-16<br>temp_cube=%{marker.size}<br>latitude=%{lat}<br>longitude=%{lon}<br>temperature=%{marker.color}<extra></extra>",
           "ids": [
            9.811250000000022,
            8.930000000000021,
            10.910000000000023,
            11.042500000000024,
            10.145000000000024
           ],
           "lat": [
            43.5658225,
            43.9492493,
            43.2140359,
            43.2961743,
            43.4522771
           ],
           "legendgroup": "",
           "lon": [
            4.1912837,
            4.8059012,
            5.5396318,
            5.3699525,
            4.4287172
           ],
           "marker": {
            "color": [
             9.811250000000022,
             8.930000000000021,
             10.910000000000023,
             11.042500000000024,
             10.145000000000024
            ],
            "coloraxis": "coloraxis",
            "size": [
             944.4370723613346,
             712.1219570000051,
             1298.5965710000082,
             1346.4871830156335,
             1044.1337986250076
            ],
            "sizemode": "area",
            "sizeref": 6.018627378164095
           },
           "mode": "markers",
           "name": "",
           "showlegend": false,
           "subplot": "mapbox",
           "type": "scattermapbox"
          }
         ],
         "name": "2023-02-16"
        },
        {
         "data": [
          {
           "hovertemplate": "dt_object=2023-02-17<br>temp_cube=%{marker.size}<br>latitude=%{lat}<br>longitude=%{lon}<br>temperature=%{marker.color}<extra></extra>",
           "ids": [
            10.830000000000034,
            10.476250000000022,
            10.891250000000028,
            11.196250000000028,
            10.965000000000025
           ],
           "lat": [
            43.5658225,
            43.9492493,
            43.2140359,
            43.2961743,
            43.4522771
           ],
           "legendgroup": "",
           "lon": [
            4.1912837,
            4.8059012,
            5.5396318,
            5.3699525,
            4.4287172
           ],
           "marker": {
            "color": [
             10.830000000000034,
             10.476250000000022,
             10.891250000000028,
             11.196250000000028,
             10.965000000000025
            ],
            "coloraxis": "coloraxis",
            "size": [
             1270.2387870000118,
             1149.7874420722728,
             1291.912740423838,
             1403.517272447276,
             1318.335382125009
            ],
            "sizemode": "area",
            "sizeref": 6.018627378164095
           },
           "mode": "markers",
           "name": "",
           "showlegend": false,
           "subplot": "mapbox",
           "type": "scattermapbox"
          }
         ],
         "name": "2023-02-17"
        },
        {
         "data": [
          {
           "hovertemplate": "dt_object=2023-02-18<br>temp_cube=%{marker.size}<br>latitude=%{lat}<br>longitude=%{lon}<br>temperature=%{marker.color}<extra></extra>",
           "ids": [
            12.938750000000034,
            13.402500000000025,
            11.72125000000002,
            12.086250000000014,
            13.00250000000002
           ],
           "lat": [
            43.5658225,
            43.9492493,
            43.2140359,
            43.2961743,
            43.4522771
           ],
           "legendgroup": "",
           "lon": [
            4.1912837,
            4.8059012,
            5.5396318,
            5.3699525,
            4.4287172
           ],
           "marker": {
            "color": [
             12.938750000000034,
             13.402500000000025,
             11.72125000000002,
             12.086250000000014,
             13.00250000000002
            ],
            "coloraxis": "coloraxis",
            "size": [
             2166.0923311543143,
             2407.450951265638,
             1610.3555969394617,
             1765.5284478691467,
             2198.2677437656357
            ],
            "sizemode": "area",
            "sizeref": 6.018627378164095
           },
           "mode": "markers",
           "name": "",
           "showlegend": false,
           "subplot": "mapbox",
           "type": "scattermapbox"
          }
         ],
         "name": "2023-02-18"
        },
        {
         "data": [
          {
           "hovertemplate": "dt_object=2023-02-19<br>temp_cube=%{marker.size}<br>latitude=%{lat}<br>longitude=%{lon}<br>temperature=%{marker.color}<extra></extra>",
           "ids": [
            12.173750000000028,
            12.075000000000015,
            12.390000000000027,
            12.621250000000018,
            12.241250000000022
           ],
           "lat": [
            43.5658225,
            43.9492493,
            43.2140359,
            43.2961743,
            43.4522771
           ],
           "legendgroup": "",
           "lon": [
            4.1912837,
            4.8059012,
            5.5396318,
            5.3699525,
            4.4287172
           ],
           "marker": {
            "color": [
             12.173750000000028,
             12.075000000000015,
             12.390000000000027,
             12.621250000000018,
             12.241250000000022
            ],
            "coloraxis": "coloraxis",
            "size": [
             1804.1520515996222,
             1760.6029218750066,
             1902.0149190000125,
             2010.5140286582116,
             1834.329297376963
            ],
            "sizemode": "area",
            "sizeref": 6.018627378164095
           },
           "mode": "markers",
           "name": "",
           "showlegend": false,
           "subplot": "mapbox",
           "type": "scattermapbox"
          }
         ],
         "name": "2023-02-19"
        },
        {
         "data": [
          {
           "hovertemplate": "dt_object=2023-02-20<br>temp_cube=%{marker.size}<br>latitude=%{lat}<br>longitude=%{lon}<br>temperature=%{marker.color}<extra></extra>",
           "ids": [
            10.417500000000032,
            9.830000000000028,
            11.220000000000011,
            11.315000000000012,
            10.760000000000034
           ],
           "lat": [
            43.5658225,
            43.9492493,
            43.2140359,
            43.2961743,
            43.4522771
           ],
           "legendgroup": "",
           "lon": [
            4.1912837,
            4.8059012,
            5.5396318,
            5.3699525,
            4.4287172
           ],
           "marker": {
            "color": [
             10.417500000000032,
             9.830000000000028,
             11.220000000000011,
             11.315000000000012,
             10.760000000000034
            ],
            "coloraxis": "coloraxis",
            "size": [
             1130.5519603593855,
             949.8620870000083,
             1412.4678480000043,
             1448.6506808750046,
             1245.7669760000117
            ],
            "sizemode": "area",
            "sizeref": 6.018627378164095
           },
           "mode": "markers",
           "name": "",
           "showlegend": false,
           "subplot": "mapbox",
           "type": "scattermapbox"
          }
         ],
         "name": "2023-02-20"
        }
       ],
       "layout": {
        "coloraxis": {
         "colorbar": {
          "title": {
           "text": "temperature"
          }
         },
         "colorscale": [
          [
           0,
           "#0d0887"
          ],
          [
           0.1111111111111111,
           "#46039f"
          ],
          [
           0.2222222222222222,
           "#7201a8"
          ],
          [
           0.3333333333333333,
           "#9c179e"
          ],
          [
           0.4444444444444444,
           "#bd3786"
          ],
          [
           0.5555555555555556,
           "#d8576b"
          ],
          [
           0.6666666666666666,
           "#ed7953"
          ],
          [
           0.7777777777777778,
           "#fb9f3a"
          ],
          [
           0.8888888888888888,
           "#fdca26"
          ],
          [
           1,
           "#f0f921"
          ]
         ]
        },
        "legend": {
         "itemsizing": "constant",
         "tracegroupgap": 0
        },
        "mapbox": {
         "center": {
          "lat": 43.49551181999998,
          "lon": 4.8670972799999985
         },
         "domain": {
          "x": [
           0,
           1
          ],
          "y": [
           0,
           1
          ]
         },
         "style": "carto-positron",
         "zoom": 7
        },
        "sliders": [
         {
          "active": 0,
          "currentvalue": {
           "prefix": "dt_object="
          },
          "len": 0.9,
          "pad": {
           "b": 10,
           "t": 60
          },
          "steps": [
           {
            "args": [
             [
              "2023-02-15"
             ],
             {
              "frame": {
               "duration": 0,
               "redraw": true
              },
              "fromcurrent": true,
              "mode": "immediate",
              "transition": {
               "duration": 0,
               "easing": "linear"
              }
             }
            ],
            "label": "2023-02-15",
            "method": "animate"
           },
           {
            "args": [
             [
              "2023-02-16"
             ],
             {
              "frame": {
               "duration": 0,
               "redraw": true
              },
              "fromcurrent": true,
              "mode": "immediate",
              "transition": {
               "duration": 0,
               "easing": "linear"
              }
             }
            ],
            "label": "2023-02-16",
            "method": "animate"
           },
           {
            "args": [
             [
              "2023-02-17"
             ],
             {
              "frame": {
               "duration": 0,
               "redraw": true
              },
              "fromcurrent": true,
              "mode": "immediate",
              "transition": {
               "duration": 0,
               "easing": "linear"
              }
             }
            ],
            "label": "2023-02-17",
            "method": "animate"
           },
           {
            "args": [
             [
              "2023-02-18"
             ],
             {
              "frame": {
               "duration": 0,
               "redraw": true
              },
              "fromcurrent": true,
              "mode": "immediate",
              "transition": {
               "duration": 0,
               "easing": "linear"
              }
             }
            ],
            "label": "2023-02-18",
            "method": "animate"
           },
           {
            "args": [
             [
              "2023-02-19"
             ],
             {
              "frame": {
               "duration": 0,
               "redraw": true
              },
              "fromcurrent": true,
              "mode": "immediate",
              "transition": {
               "duration": 0,
               "easing": "linear"
              }
             }
            ],
            "label": "2023-02-19",
            "method": "animate"
           },
           {
            "args": [
             [
              "2023-02-20"
             ],
             {
              "frame": {
               "duration": 0,
               "redraw": true
              },
              "fromcurrent": true,
              "mode": "immediate",
              "transition": {
               "duration": 0,
               "easing": "linear"
              }
             }
            ],
            "label": "2023-02-20",
            "method": "animate"
           }
          ],
          "x": 0.1,
          "xanchor": "left",
          "y": 0,
          "yanchor": "top"
         }
        ],
        "template": {
         "data": {
          "bar": [
           {
            "error_x": {
             "color": "#2a3f5f"
            },
            "error_y": {
             "color": "#2a3f5f"
            },
            "marker": {
             "line": {
              "color": "#E5ECF6",
              "width": 0.5
             },
             "pattern": {
              "fillmode": "overlay",
              "size": 10,
              "solidity": 0.2
             }
            },
            "type": "bar"
           }
          ],
          "barpolar": [
           {
            "marker": {
             "line": {
              "color": "#E5ECF6",
              "width": 0.5
             },
             "pattern": {
              "fillmode": "overlay",
              "size": 10,
              "solidity": 0.2
             }
            },
            "type": "barpolar"
           }
          ],
          "carpet": [
           {
            "aaxis": {
             "endlinecolor": "#2a3f5f",
             "gridcolor": "white",
             "linecolor": "white",
             "minorgridcolor": "white",
             "startlinecolor": "#2a3f5f"
            },
            "baxis": {
             "endlinecolor": "#2a3f5f",
             "gridcolor": "white",
             "linecolor": "white",
             "minorgridcolor": "white",
             "startlinecolor": "#2a3f5f"
            },
            "type": "carpet"
           }
          ],
          "choropleth": [
           {
            "colorbar": {
             "outlinewidth": 0,
             "ticks": ""
            },
            "type": "choropleth"
           }
          ],
          "contour": [
           {
            "colorbar": {
             "outlinewidth": 0,
             "ticks": ""
            },
            "colorscale": [
             [
              0,
              "#0d0887"
             ],
             [
              0.1111111111111111,
              "#46039f"
             ],
             [
              0.2222222222222222,
              "#7201a8"
             ],
             [
              0.3333333333333333,
              "#9c179e"
             ],
             [
              0.4444444444444444,
              "#bd3786"
             ],
             [
              0.5555555555555556,
              "#d8576b"
             ],
             [
              0.6666666666666666,
              "#ed7953"
             ],
             [
              0.7777777777777778,
              "#fb9f3a"
             ],
             [
              0.8888888888888888,
              "#fdca26"
             ],
             [
              1,
              "#f0f921"
             ]
            ],
            "type": "contour"
           }
          ],
          "contourcarpet": [
           {
            "colorbar": {
             "outlinewidth": 0,
             "ticks": ""
            },
            "type": "contourcarpet"
           }
          ],
          "heatmap": [
           {
            "colorbar": {
             "outlinewidth": 0,
             "ticks": ""
            },
            "colorscale": [
             [
              0,
              "#0d0887"
             ],
             [
              0.1111111111111111,
              "#46039f"
             ],
             [
              0.2222222222222222,
              "#7201a8"
             ],
             [
              0.3333333333333333,
              "#9c179e"
             ],
             [
              0.4444444444444444,
              "#bd3786"
             ],
             [
              0.5555555555555556,
              "#d8576b"
             ],
             [
              0.6666666666666666,
              "#ed7953"
             ],
             [
              0.7777777777777778,
              "#fb9f3a"
             ],
             [
              0.8888888888888888,
              "#fdca26"
             ],
             [
              1,
              "#f0f921"
             ]
            ],
            "type": "heatmap"
           }
          ],
          "heatmapgl": [
           {
            "colorbar": {
             "outlinewidth": 0,
             "ticks": ""
            },
            "colorscale": [
             [
              0,
              "#0d0887"
             ],
             [
              0.1111111111111111,
              "#46039f"
             ],
             [
              0.2222222222222222,
              "#7201a8"
             ],
             [
              0.3333333333333333,
              "#9c179e"
             ],
             [
              0.4444444444444444,
              "#bd3786"
             ],
             [
              0.5555555555555556,
              "#d8576b"
             ],
             [
              0.6666666666666666,
              "#ed7953"
             ],
             [
              0.7777777777777778,
              "#fb9f3a"
             ],
             [
              0.8888888888888888,
              "#fdca26"
             ],
             [
              1,
              "#f0f921"
             ]
            ],
            "type": "heatmapgl"
           }
          ],
          "histogram": [
           {
            "marker": {
             "pattern": {
              "fillmode": "overlay",
              "size": 10,
              "solidity": 0.2
             }
            },
            "type": "histogram"
           }
          ],
          "histogram2d": [
           {
            "colorbar": {
             "outlinewidth": 0,
             "ticks": ""
            },
            "colorscale": [
             [
              0,
              "#0d0887"
             ],
             [
              0.1111111111111111,
              "#46039f"
             ],
             [
              0.2222222222222222,
              "#7201a8"
             ],
             [
              0.3333333333333333,
              "#9c179e"
             ],
             [
              0.4444444444444444,
              "#bd3786"
             ],
             [
              0.5555555555555556,
              "#d8576b"
             ],
             [
              0.6666666666666666,
              "#ed7953"
             ],
             [
              0.7777777777777778,
              "#fb9f3a"
             ],
             [
              0.8888888888888888,
              "#fdca26"
             ],
             [
              1,
              "#f0f921"
             ]
            ],
            "type": "histogram2d"
           }
          ],
          "histogram2dcontour": [
           {
            "colorbar": {
             "outlinewidth": 0,
             "ticks": ""
            },
            "colorscale": [
             [
              0,
              "#0d0887"
             ],
             [
              0.1111111111111111,
              "#46039f"
             ],
             [
              0.2222222222222222,
              "#7201a8"
             ],
             [
              0.3333333333333333,
              "#9c179e"
             ],
             [
              0.4444444444444444,
              "#bd3786"
             ],
             [
              0.5555555555555556,
              "#d8576b"
             ],
             [
              0.6666666666666666,
              "#ed7953"
             ],
             [
              0.7777777777777778,
              "#fb9f3a"
             ],
             [
              0.8888888888888888,
              "#fdca26"
             ],
             [
              1,
              "#f0f921"
             ]
            ],
            "type": "histogram2dcontour"
           }
          ],
          "mesh3d": [
           {
            "colorbar": {
             "outlinewidth": 0,
             "ticks": ""
            },
            "type": "mesh3d"
           }
          ],
          "parcoords": [
           {
            "line": {
             "colorbar": {
              "outlinewidth": 0,
              "ticks": ""
             }
            },
            "type": "parcoords"
           }
          ],
          "pie": [
           {
            "automargin": true,
            "type": "pie"
           }
          ],
          "scatter": [
           {
            "fillpattern": {
             "fillmode": "overlay",
             "size": 10,
             "solidity": 0.2
            },
            "type": "scatter"
           }
          ],
          "scatter3d": [
           {
            "line": {
             "colorbar": {
              "outlinewidth": 0,
              "ticks": ""
             }
            },
            "marker": {
             "colorbar": {
              "outlinewidth": 0,
              "ticks": ""
             }
            },
            "type": "scatter3d"
           }
          ],
          "scattercarpet": [
           {
            "marker": {
             "colorbar": {
              "outlinewidth": 0,
              "ticks": ""
             }
            },
            "type": "scattercarpet"
           }
          ],
          "scattergeo": [
           {
            "marker": {
             "colorbar": {
              "outlinewidth": 0,
              "ticks": ""
             }
            },
            "type": "scattergeo"
           }
          ],
          "scattergl": [
           {
            "marker": {
             "colorbar": {
              "outlinewidth": 0,
              "ticks": ""
             }
            },
            "type": "scattergl"
           }
          ],
          "scattermapbox": [
           {
            "marker": {
             "colorbar": {
              "outlinewidth": 0,
              "ticks": ""
             }
            },
            "type": "scattermapbox"
           }
          ],
          "scatterpolar": [
           {
            "marker": {
             "colorbar": {
              "outlinewidth": 0,
              "ticks": ""
             }
            },
            "type": "scatterpolar"
           }
          ],
          "scatterpolargl": [
           {
            "marker": {
             "colorbar": {
              "outlinewidth": 0,
              "ticks": ""
             }
            },
            "type": "scatterpolargl"
           }
          ],
          "scatterternary": [
           {
            "marker": {
             "colorbar": {
              "outlinewidth": 0,
              "ticks": ""
             }
            },
            "type": "scatterternary"
           }
          ],
          "surface": [
           {
            "colorbar": {
             "outlinewidth": 0,
             "ticks": ""
            },
            "colorscale": [
             [
              0,
              "#0d0887"
             ],
             [
              0.1111111111111111,
              "#46039f"
             ],
             [
              0.2222222222222222,
              "#7201a8"
             ],
             [
              0.3333333333333333,
              "#9c179e"
             ],
             [
              0.4444444444444444,
              "#bd3786"
             ],
             [
              0.5555555555555556,
              "#d8576b"
             ],
             [
              0.6666666666666666,
              "#ed7953"
             ],
             [
              0.7777777777777778,
              "#fb9f3a"
             ],
             [
              0.8888888888888888,
              "#fdca26"
             ],
             [
              1,
              "#f0f921"
             ]
            ],
            "type": "surface"
           }
          ],
          "table": [
           {
            "cells": {
             "fill": {
              "color": "#EBF0F8"
             },
             "line": {
              "color": "white"
             }
            },
            "header": {
             "fill": {
              "color": "#C8D4E3"
             },
             "line": {
              "color": "white"
             }
            },
            "type": "table"
           }
          ]
         },
         "layout": {
          "annotationdefaults": {
           "arrowcolor": "#2a3f5f",
           "arrowhead": 0,
           "arrowwidth": 1
          },
          "autotypenumbers": "strict",
          "coloraxis": {
           "colorbar": {
            "outlinewidth": 0,
            "ticks": ""
           }
          },
          "colorscale": {
           "diverging": [
            [
             0,
             "#8e0152"
            ],
            [
             0.1,
             "#c51b7d"
            ],
            [
             0.2,
             "#de77ae"
            ],
            [
             0.3,
             "#f1b6da"
            ],
            [
             0.4,
             "#fde0ef"
            ],
            [
             0.5,
             "#f7f7f7"
            ],
            [
             0.6,
             "#e6f5d0"
            ],
            [
             0.7,
             "#b8e186"
            ],
            [
             0.8,
             "#7fbc41"
            ],
            [
             0.9,
             "#4d9221"
            ],
            [
             1,
             "#276419"
            ]
           ],
           "sequential": [
            [
             0,
             "#0d0887"
            ],
            [
             0.1111111111111111,
             "#46039f"
            ],
            [
             0.2222222222222222,
             "#7201a8"
            ],
            [
             0.3333333333333333,
             "#9c179e"
            ],
            [
             0.4444444444444444,
             "#bd3786"
            ],
            [
             0.5555555555555556,
             "#d8576b"
            ],
            [
             0.6666666666666666,
             "#ed7953"
            ],
            [
             0.7777777777777778,
             "#fb9f3a"
            ],
            [
             0.8888888888888888,
             "#fdca26"
            ],
            [
             1,
             "#f0f921"
            ]
           ],
           "sequentialminus": [
            [
             0,
             "#0d0887"
            ],
            [
             0.1111111111111111,
             "#46039f"
            ],
            [
             0.2222222222222222,
             "#7201a8"
            ],
            [
             0.3333333333333333,
             "#9c179e"
            ],
            [
             0.4444444444444444,
             "#bd3786"
            ],
            [
             0.5555555555555556,
             "#d8576b"
            ],
            [
             0.6666666666666666,
             "#ed7953"
            ],
            [
             0.7777777777777778,
             "#fb9f3a"
            ],
            [
             0.8888888888888888,
             "#fdca26"
            ],
            [
             1,
             "#f0f921"
            ]
           ]
          },
          "colorway": [
           "#636efa",
           "#EF553B",
           "#00cc96",
           "#ab63fa",
           "#FFA15A",
           "#19d3f3",
           "#FF6692",
           "#B6E880",
           "#FF97FF",
           "#FECB52"
          ],
          "font": {
           "color": "#2a3f5f"
          },
          "geo": {
           "bgcolor": "white",
           "lakecolor": "white",
           "landcolor": "#E5ECF6",
           "showlakes": true,
           "showland": true,
           "subunitcolor": "white"
          },
          "hoverlabel": {
           "align": "left"
          },
          "hovermode": "closest",
          "mapbox": {
           "style": "light"
          },
          "paper_bgcolor": "white",
          "plot_bgcolor": "#E5ECF6",
          "polar": {
           "angularaxis": {
            "gridcolor": "white",
            "linecolor": "white",
            "ticks": ""
           },
           "bgcolor": "#E5ECF6",
           "radialaxis": {
            "gridcolor": "white",
            "linecolor": "white",
            "ticks": ""
           }
          },
          "scene": {
           "xaxis": {
            "backgroundcolor": "#E5ECF6",
            "gridcolor": "white",
            "gridwidth": 2,
            "linecolor": "white",
            "showbackground": true,
            "ticks": "",
            "zerolinecolor": "white"
           },
           "yaxis": {
            "backgroundcolor": "#E5ECF6",
            "gridcolor": "white",
            "gridwidth": 2,
            "linecolor": "white",
            "showbackground": true,
            "ticks": "",
            "zerolinecolor": "white"
           },
           "zaxis": {
            "backgroundcolor": "#E5ECF6",
            "gridcolor": "white",
            "gridwidth": 2,
            "linecolor": "white",
            "showbackground": true,
            "ticks": "",
            "zerolinecolor": "white"
           }
          },
          "shapedefaults": {
           "line": {
            "color": "#2a3f5f"
           }
          },
          "ternary": {
           "aaxis": {
            "gridcolor": "white",
            "linecolor": "white",
            "ticks": ""
           },
           "baxis": {
            "gridcolor": "white",
            "linecolor": "white",
            "ticks": ""
           },
           "bgcolor": "#E5ECF6",
           "caxis": {
            "gridcolor": "white",
            "linecolor": "white",
            "ticks": ""
           }
          },
          "title": {
           "x": 0.05
          },
          "xaxis": {
           "automargin": true,
           "gridcolor": "white",
           "linecolor": "white",
           "ticks": "",
           "title": {
            "standoff": 15
           },
           "zerolinecolor": "white",
           "zerolinewidth": 2
          },
          "yaxis": {
           "automargin": true,
           "gridcolor": "white",
           "linecolor": "white",
           "ticks": "",
           "title": {
            "standoff": 15
           },
           "zerolinecolor": "white",
           "zerolinewidth": 2
          }
         }
        },
        "title": {
         "text": "Top 5 best weather cities"
        },
        "updatemenus": [
         {
          "buttons": [
           {
            "args": [
             null,
             {
              "frame": {
               "duration": 500,
               "redraw": true
              },
              "fromcurrent": true,
              "mode": "immediate",
              "transition": {
               "duration": 500,
               "easing": "linear"
              }
             }
            ],
            "label": "&#9654;",
            "method": "animate"
           },
           {
            "args": [
             [
              null
             ],
             {
              "frame": {
               "duration": 0,
               "redraw": true
              },
              "fromcurrent": true,
              "mode": "immediate",
              "transition": {
               "duration": 0,
               "easing": "linear"
              }
             }
            ],
            "label": "&#9724;",
            "method": "animate"
           }
          ],
          "direction": "left",
          "pad": {
           "r": 10,
           "t": 70
          },
          "showactive": false,
          "type": "buttons",
          "x": 0.1,
          "xanchor": "right",
          "y": 0,
          "yanchor": "top"
         }
        ]
       }
      }
     },
     "metadata": {},
     "output_type": "display_data"
    }
   ],
   "source": [
    "fig = px.scatter_mapbox(city_weather_top_5, lat=\"latitude\", lon=\"longitude\",\n",
    "                        color=\"temperature\", size ='temp_cube', zoom=7, mapbox_style=\"carto-positron\",\n",
    "                        animation_frame = \"dt_object\", animation_group = 'temperature',\n",
    "                        title=\"Top 5 best weather cities\")\n",
    "fig.show()"
   ]
  },
  {
   "cell_type": "code",
   "execution_count": 15,
   "metadata": {},
   "outputs": [
    {
     "name": "stdout",
     "output_type": "stream",
     "text": [
      "2023-02-16 16:12:09,991 INFO sqlalchemy.engine.Engine select relname from pg_class c join pg_namespace n on n.oid=c.relnamespace where pg_catalog.pg_table_is_visible(c.oid) and relname=%(name)s\n",
      "2023-02-16 16:12:09,993 INFO sqlalchemy.engine.Engine [cached since 3.928s ago] {'name': 'SELECT * FROM hotel '}\n",
      "2023-02-16 16:12:10,471 INFO sqlalchemy.engine.Engine SELECT * FROM hotel \n",
      "2023-02-16 16:12:10,471 INFO sqlalchemy.engine.Engine [generated in 0.00049s] {}\n"
     ]
    },
    {
     "data": {
      "text/html": [
       "<div>\n",
       "<style scoped>\n",
       "    .dataframe tbody tr th:only-of-type {\n",
       "        vertical-align: middle;\n",
       "    }\n",
       "\n",
       "    .dataframe tbody tr th {\n",
       "        vertical-align: top;\n",
       "    }\n",
       "\n",
       "    .dataframe thead th {\n",
       "        text-align: right;\n",
       "    }\n",
       "</style>\n",
       "<table border=\"1\" class=\"dataframe\">\n",
       "  <thead>\n",
       "    <tr style=\"text-align: right;\">\n",
       "      <th></th>\n",
       "      <th>index</th>\n",
       "      <th>Unnamed: 0</th>\n",
       "      <th>hotel name</th>\n",
       "      <th>Url to its booking.com page</th>\n",
       "      <th>Score</th>\n",
       "      <th>Text description</th>\n",
       "      <th>lat</th>\n",
       "      <th>lon</th>\n",
       "    </tr>\n",
       "  </thead>\n",
       "  <tbody>\n",
       "    <tr>\n",
       "      <th>0</th>\n",
       "      <td>0</td>\n",
       "      <td>0</td>\n",
       "      <td>Typique, authentique, super pratique</td>\n",
       "      <td>https://www.booking.com/hotel/fr/typique-authe...</td>\n",
       "      <td>7.0</td>\n",
       "      <td>Doté d'une connexion Wi-Fi gratuite et offrant...</td>\n",
       "      <td>43.295389</td>\n",
       "      <td>5.379165</td>\n",
       "    </tr>\n",
       "    <tr>\n",
       "      <th>1</th>\n",
       "      <td>1</td>\n",
       "      <td>1</td>\n",
       "      <td>Maison 3 chambres gde terrasse proche vieux po...</td>\n",
       "      <td>https://www.booking.com/hotel/fr/maison-de-vil...</td>\n",
       "      <td>7.3</td>\n",
       "      <td>Située à Marseille, à seulement 3 km de la sta...</td>\n",
       "      <td>43.314335</td>\n",
       "      <td>5.388421</td>\n",
       "    </tr>\n",
       "    <tr>\n",
       "      <th>2</th>\n",
       "      <td>2</td>\n",
       "      <td>2</td>\n",
       "      <td>Ibis Marseille Centre Prefecture</td>\n",
       "      <td>https://www.booking.com/hotel/fr/premiere-clas...</td>\n",
       "      <td>7.0</td>\n",
       "      <td>L’Ibis Marseille Centre Préfecture met à votre...</td>\n",
       "      <td>43.291553</td>\n",
       "      <td>5.381971</td>\n",
       "    </tr>\n",
       "    <tr>\n",
       "      <th>3</th>\n",
       "      <td>3</td>\n",
       "      <td>3</td>\n",
       "      <td>Hôtel Maison Montgrand - Vieux Port</td>\n",
       "      <td>https://www.booking.com/hotel/fr/montgrand.fr....</td>\n",
       "      <td>7.9</td>\n",
       "      <td>Doté d'une terrasse spacieuse, d'un terrain de...</td>\n",
       "      <td>43.290963</td>\n",
       "      <td>5.376429</td>\n",
       "    </tr>\n",
       "    <tr>\n",
       "      <th>4</th>\n",
       "      <td>4</td>\n",
       "      <td>4</td>\n",
       "      <td>Residhotel Vieux Port</td>\n",
       "      <td>https://www.booking.com/hotel/fr/residhotel-vi...</td>\n",
       "      <td>7.3</td>\n",
       "      <td>Le Residhotel Vieux Port se situe dans le cent...</td>\n",
       "      <td>43.296818</td>\n",
       "      <td>5.373057</td>\n",
       "    </tr>\n",
       "  </tbody>\n",
       "</table>\n",
       "</div>"
      ],
      "text/plain": [
       "   index  Unnamed: 0                                         hotel name  \\\n",
       "0      0           0               Typique, authentique, super pratique   \n",
       "1      1           1  Maison 3 chambres gde terrasse proche vieux po...   \n",
       "2      2           2                   Ibis Marseille Centre Prefecture   \n",
       "3      3           3                Hôtel Maison Montgrand - Vieux Port   \n",
       "4      4           4                              Residhotel Vieux Port   \n",
       "\n",
       "                         Url to its booking.com page  Score  \\\n",
       "0  https://www.booking.com/hotel/fr/typique-authe...    7.0   \n",
       "1  https://www.booking.com/hotel/fr/maison-de-vil...    7.3   \n",
       "2  https://www.booking.com/hotel/fr/premiere-clas...    7.0   \n",
       "3  https://www.booking.com/hotel/fr/montgrand.fr....    7.9   \n",
       "4  https://www.booking.com/hotel/fr/residhotel-vi...    7.3   \n",
       "\n",
       "                                    Text description        lat       lon  \n",
       "0  Doté d'une connexion Wi-Fi gratuite et offrant...  43.295389  5.379165  \n",
       "1  Située à Marseille, à seulement 3 km de la sta...  43.314335  5.388421  \n",
       "2  L’Ibis Marseille Centre Préfecture met à votre...  43.291553  5.381971  \n",
       "3  Doté d'une terrasse spacieuse, d'un terrain de...  43.290963  5.376429  \n",
       "4  Le Residhotel Vieux Port se situe dans le cent...  43.296818  5.373057  "
      ]
     },
     "execution_count": 15,
     "metadata": {},
     "output_type": "execute_result"
    }
   ],
   "source": [
    "# Hotel info\n",
    "stmt = text(\"SELECT * FROM hotel \"\n",
    "            )\n",
    "\n",
    "df = pd.read_sql(\n",
    "        stmt,\n",
    "        engine\n",
    "    )\n",
    "\n",
    "df.head()"
   ]
  },
  {
   "cell_type": "code",
   "execution_count": 16,
   "metadata": {},
   "outputs": [
    {
     "data": {
      "application/vnd.plotly.v1+json": {
       "config": {
        "plotlyServerURL": "https://plot.ly"
       },
       "data": [
        {
         "hovertemplate": "Score=%{marker.color}<br>lat=%{lat}<br>lon=%{lon}<extra></extra>",
         "lat": [
          43.2953889,
          43.31433499,
          43.29155323,
          43.2909627,
          43.29681825,
          43.2964649,
          43.29655283,
          43.309587,
          43.2892719,
          43.29594971,
          43.29654954,
          43.21521908,
          43.216905,
          43.296878,
          43.5575394,
          43.45978795,
          43.452083,
          43.46542981,
          43.47418844,
          43.45656073,
          43.45512494,
          43.44888,
          43.45039148,
          43.50038852,
          43.46095608,
          43.45105644,
          43.45033695,
          43.45233086,
          43.52955573,
          43.47103999,
          43.45349134,
          43.451133,
          43.47260109,
          43.45134949,
          43.92275766,
          43.5022583,
          43.9476071,
          43.9461414,
          43.9509511,
          43.9501934,
          43.9493997,
          43.945024,
          43.95034438,
          43.9438081,
          43.95108984,
          43.94362946,
          43.9465116,
          43.95249614,
          43.9488705,
          43.94403213,
          43.9481658,
          43.9499383,
          43.9403371,
          43.94917757,
          43.565401,
          43.952055,
          43.57639589,
          43.566769,
          43.5656945,
          43.56607498,
          43.56803552,
          43.5656986,
          43.567701,
          43.5667316,
          43.5660175,
          43.5655416,
          43.5689974,
          43.5658193,
          43.57006008,
          43.57298752,
          43.5793021,
          43.57379435,
          43.2120018,
          43.56498662,
          43.56721967,
          43.22207969,
          43.21589392,
          43.21537,
          43.21529502,
          43.214926,
          43.21509805,
          43.21644024,
          43.21524569,
          43.2208045,
          43.2206243,
          43.21462214,
          43.21505477,
          43.2211281,
          43.2202401,
          43.21407197,
          43.2191999,
          43.215009,
          43.2954015,
          43.304229,
          43.30272424,
          43.30020105,
          43.2505303,
          43.300097,
          43.299162
         ],
         "legendgroup": "",
         "lon": [
          5.3791652,
          5.38842062,
          5.38197108,
          5.3764292,
          5.37305743,
          5.3671383,
          5.37188329,
          5.3799856,
          5.3619231,
          5.37455259,
          5.39145293,
          5.53568187,
          5.541446,
          5.377579,
          4.1823967,
          4.42328453,
          4.425598,
          4.41963136,
          4.41020608,
          4.42670293,
          4.42874014,
          4.40168,
          4.42991227,
          4.427241,
          4.42231894,
          4.42515671,
          4.42622423,
          4.43364993,
          4.40055013,
          4.41058695,
          4.43545103,
          4.430953,
          4.41012025,
          4.42507625,
          4.804295,
          4.42575753,
          4.8079964,
          4.8130876,
          4.8062009,
          4.81058627,
          4.8088708,
          4.808641,
          4.81153785,
          4.80494678,
          4.79801933,
          4.81217131,
          4.8035118,
          4.81014222,
          4.8095723,
          4.80533168,
          4.80576485,
          4.8065625,
          4.81174964,
          4.81083119,
          4.192973,
          4.8054629,
          4.19781804,
          4.189113,
          4.19151132,
          4.19257857,
          4.1903438,
          4.1908793,
          4.193413,
          4.2024508,
          4.1923532,
          4.1896099,
          4.1882982,
          4.2053528,
          4.1871778,
          4.1948247,
          4.2128337,
          4.18062186,
          5.5276305,
          4.19175196,
          4.1893436,
          5.53792695,
          5.53476321,
          5.53719,
          5.54623054,
          5.532989,
          5.54048743,
          5.54174572,
          5.54466784,
          5.54229625,
          5.540767,
          5.53477276,
          5.54057326,
          5.5565709,
          5.5424693,
          5.53062182,
          5.5471365,
          5.530956,
          5.363451,
          5.376624,
          5.37933044,
          5.38260245,
          5.3814817,
          5.367585,
          5.401543
         ],
         "marker": {
          "color": [
           7,
           7.3,
           7,
           7.9,
           7.3,
           8.5,
           7.9,
           7.2,
           7,
           8.8,
           8.7,
           9.5,
           9.1,
           6.4,
           9.2,
           8.6,
           8.5,
           7.3,
           8.5,
           8.8,
           8.4,
           7.8,
           7.9,
           9.7,
           8.4,
           8.1,
           8.5,
           8.4,
           8.2,
           8.1,
           7.7,
           8.9,
           9,
           7,
           8.2,
           8.4,
           9.5,
           8.4,
           9.8,
           9.9,
           8.8,
           9.2,
           9,
           7.6,
           9.4,
           8.3,
           9.6,
           9.1,
           8.6,
           8,
           8.4,
           9.8,
           8.5,
           8.6,
           9.9,
           9.2,
           7,
           8.8,
           9.5,
           9.4,
           9.5,
           8.6,
           9.2,
           9,
           9.1,
           8.6,
           8.7,
           8.2,
           9,
           8.5,
           9.5,
           8,
           9.7,
           9.1,
           8.4,
           7.6,
           8.1,
           8.1,
           7.7,
           9,
           8.1,
           9.2,
           9.5,
           9,
           8.6,
           9.5,
           8.1,
           9,
           7,
           8.4,
           9.3,
           9.3,
           8.7,
           7.8,
           7.8,
           8.3,
           9.1,
           7.8,
           10
          ],
          "coloraxis": "coloraxis",
          "size": [
           7,
           7.3,
           7,
           7.9,
           7.3,
           8.5,
           7.9,
           7.2,
           7,
           8.8,
           8.7,
           9.5,
           9.1,
           6.4,
           9.2,
           8.6,
           8.5,
           7.3,
           8.5,
           8.8,
           8.4,
           7.8,
           7.9,
           9.7,
           8.4,
           8.1,
           8.5,
           8.4,
           8.2,
           8.1,
           7.7,
           8.9,
           9,
           7,
           8.2,
           8.4,
           9.5,
           8.4,
           9.8,
           9.9,
           8.8,
           9.2,
           9,
           7.6,
           9.4,
           8.3,
           9.6,
           9.1,
           8.6,
           8,
           8.4,
           9.8,
           8.5,
           8.6,
           9.9,
           9.2,
           7,
           8.8,
           9.5,
           9.4,
           9.5,
           8.6,
           9.2,
           9,
           9.1,
           8.6,
           8.7,
           8.2,
           9,
           8.5,
           9.5,
           8,
           9.7,
           9.1,
           8.4,
           7.6,
           8.1,
           8.1,
           7.7,
           9,
           8.1,
           9.2,
           9.5,
           9,
           8.6,
           9.5,
           8.1,
           9,
           7,
           8.4,
           9.3,
           9.3,
           8.7,
           7.8,
           7.8,
           8.3,
           9.1,
           7.8,
           10
          ],
          "sizemode": "area",
          "sizeref": 0.025
         },
         "mode": "markers",
         "name": "",
         "showlegend": false,
         "subplot": "mapbox",
         "type": "scattermapbox"
        }
       ],
       "layout": {
        "coloraxis": {
         "colorbar": {
          "title": {
           "text": "Score"
          }
         },
         "colorscale": [
          [
           0,
           "#0d0887"
          ],
          [
           0.1111111111111111,
           "#46039f"
          ],
          [
           0.2222222222222222,
           "#7201a8"
          ],
          [
           0.3333333333333333,
           "#9c179e"
          ],
          [
           0.4444444444444444,
           "#bd3786"
          ],
          [
           0.5555555555555556,
           "#d8576b"
          ],
          [
           0.6666666666666666,
           "#ed7953"
          ],
          [
           0.7777777777777778,
           "#fb9f3a"
          ],
          [
           0.8888888888888888,
           "#fdca26"
          ],
          [
           1,
           "#f0f921"
          ]
         ]
        },
        "legend": {
         "itemsizing": "constant",
         "tracegroupgap": 0
        },
        "mapbox": {
         "center": {
          "lat": 43.500607357171724,
          "lon": 4.862756238484849
         },
         "domain": {
          "x": [
           0,
           1
          ],
          "y": [
           0,
           1
          ]
         },
         "style": "carto-positron",
         "zoom": 7
        },
        "template": {
         "data": {
          "bar": [
           {
            "error_x": {
             "color": "#2a3f5f"
            },
            "error_y": {
             "color": "#2a3f5f"
            },
            "marker": {
             "line": {
              "color": "#E5ECF6",
              "width": 0.5
             },
             "pattern": {
              "fillmode": "overlay",
              "size": 10,
              "solidity": 0.2
             }
            },
            "type": "bar"
           }
          ],
          "barpolar": [
           {
            "marker": {
             "line": {
              "color": "#E5ECF6",
              "width": 0.5
             },
             "pattern": {
              "fillmode": "overlay",
              "size": 10,
              "solidity": 0.2
             }
            },
            "type": "barpolar"
           }
          ],
          "carpet": [
           {
            "aaxis": {
             "endlinecolor": "#2a3f5f",
             "gridcolor": "white",
             "linecolor": "white",
             "minorgridcolor": "white",
             "startlinecolor": "#2a3f5f"
            },
            "baxis": {
             "endlinecolor": "#2a3f5f",
             "gridcolor": "white",
             "linecolor": "white",
             "minorgridcolor": "white",
             "startlinecolor": "#2a3f5f"
            },
            "type": "carpet"
           }
          ],
          "choropleth": [
           {
            "colorbar": {
             "outlinewidth": 0,
             "ticks": ""
            },
            "type": "choropleth"
           }
          ],
          "contour": [
           {
            "colorbar": {
             "outlinewidth": 0,
             "ticks": ""
            },
            "colorscale": [
             [
              0,
              "#0d0887"
             ],
             [
              0.1111111111111111,
              "#46039f"
             ],
             [
              0.2222222222222222,
              "#7201a8"
             ],
             [
              0.3333333333333333,
              "#9c179e"
             ],
             [
              0.4444444444444444,
              "#bd3786"
             ],
             [
              0.5555555555555556,
              "#d8576b"
             ],
             [
              0.6666666666666666,
              "#ed7953"
             ],
             [
              0.7777777777777778,
              "#fb9f3a"
             ],
             [
              0.8888888888888888,
              "#fdca26"
             ],
             [
              1,
              "#f0f921"
             ]
            ],
            "type": "contour"
           }
          ],
          "contourcarpet": [
           {
            "colorbar": {
             "outlinewidth": 0,
             "ticks": ""
            },
            "type": "contourcarpet"
           }
          ],
          "heatmap": [
           {
            "colorbar": {
             "outlinewidth": 0,
             "ticks": ""
            },
            "colorscale": [
             [
              0,
              "#0d0887"
             ],
             [
              0.1111111111111111,
              "#46039f"
             ],
             [
              0.2222222222222222,
              "#7201a8"
             ],
             [
              0.3333333333333333,
              "#9c179e"
             ],
             [
              0.4444444444444444,
              "#bd3786"
             ],
             [
              0.5555555555555556,
              "#d8576b"
             ],
             [
              0.6666666666666666,
              "#ed7953"
             ],
             [
              0.7777777777777778,
              "#fb9f3a"
             ],
             [
              0.8888888888888888,
              "#fdca26"
             ],
             [
              1,
              "#f0f921"
             ]
            ],
            "type": "heatmap"
           }
          ],
          "heatmapgl": [
           {
            "colorbar": {
             "outlinewidth": 0,
             "ticks": ""
            },
            "colorscale": [
             [
              0,
              "#0d0887"
             ],
             [
              0.1111111111111111,
              "#46039f"
             ],
             [
              0.2222222222222222,
              "#7201a8"
             ],
             [
              0.3333333333333333,
              "#9c179e"
             ],
             [
              0.4444444444444444,
              "#bd3786"
             ],
             [
              0.5555555555555556,
              "#d8576b"
             ],
             [
              0.6666666666666666,
              "#ed7953"
             ],
             [
              0.7777777777777778,
              "#fb9f3a"
             ],
             [
              0.8888888888888888,
              "#fdca26"
             ],
             [
              1,
              "#f0f921"
             ]
            ],
            "type": "heatmapgl"
           }
          ],
          "histogram": [
           {
            "marker": {
             "pattern": {
              "fillmode": "overlay",
              "size": 10,
              "solidity": 0.2
             }
            },
            "type": "histogram"
           }
          ],
          "histogram2d": [
           {
            "colorbar": {
             "outlinewidth": 0,
             "ticks": ""
            },
            "colorscale": [
             [
              0,
              "#0d0887"
             ],
             [
              0.1111111111111111,
              "#46039f"
             ],
             [
              0.2222222222222222,
              "#7201a8"
             ],
             [
              0.3333333333333333,
              "#9c179e"
             ],
             [
              0.4444444444444444,
              "#bd3786"
             ],
             [
              0.5555555555555556,
              "#d8576b"
             ],
             [
              0.6666666666666666,
              "#ed7953"
             ],
             [
              0.7777777777777778,
              "#fb9f3a"
             ],
             [
              0.8888888888888888,
              "#fdca26"
             ],
             [
              1,
              "#f0f921"
             ]
            ],
            "type": "histogram2d"
           }
          ],
          "histogram2dcontour": [
           {
            "colorbar": {
             "outlinewidth": 0,
             "ticks": ""
            },
            "colorscale": [
             [
              0,
              "#0d0887"
             ],
             [
              0.1111111111111111,
              "#46039f"
             ],
             [
              0.2222222222222222,
              "#7201a8"
             ],
             [
              0.3333333333333333,
              "#9c179e"
             ],
             [
              0.4444444444444444,
              "#bd3786"
             ],
             [
              0.5555555555555556,
              "#d8576b"
             ],
             [
              0.6666666666666666,
              "#ed7953"
             ],
             [
              0.7777777777777778,
              "#fb9f3a"
             ],
             [
              0.8888888888888888,
              "#fdca26"
             ],
             [
              1,
              "#f0f921"
             ]
            ],
            "type": "histogram2dcontour"
           }
          ],
          "mesh3d": [
           {
            "colorbar": {
             "outlinewidth": 0,
             "ticks": ""
            },
            "type": "mesh3d"
           }
          ],
          "parcoords": [
           {
            "line": {
             "colorbar": {
              "outlinewidth": 0,
              "ticks": ""
             }
            },
            "type": "parcoords"
           }
          ],
          "pie": [
           {
            "automargin": true,
            "type": "pie"
           }
          ],
          "scatter": [
           {
            "fillpattern": {
             "fillmode": "overlay",
             "size": 10,
             "solidity": 0.2
            },
            "type": "scatter"
           }
          ],
          "scatter3d": [
           {
            "line": {
             "colorbar": {
              "outlinewidth": 0,
              "ticks": ""
             }
            },
            "marker": {
             "colorbar": {
              "outlinewidth": 0,
              "ticks": ""
             }
            },
            "type": "scatter3d"
           }
          ],
          "scattercarpet": [
           {
            "marker": {
             "colorbar": {
              "outlinewidth": 0,
              "ticks": ""
             }
            },
            "type": "scattercarpet"
           }
          ],
          "scattergeo": [
           {
            "marker": {
             "colorbar": {
              "outlinewidth": 0,
              "ticks": ""
             }
            },
            "type": "scattergeo"
           }
          ],
          "scattergl": [
           {
            "marker": {
             "colorbar": {
              "outlinewidth": 0,
              "ticks": ""
             }
            },
            "type": "scattergl"
           }
          ],
          "scattermapbox": [
           {
            "marker": {
             "colorbar": {
              "outlinewidth": 0,
              "ticks": ""
             }
            },
            "type": "scattermapbox"
           }
          ],
          "scatterpolar": [
           {
            "marker": {
             "colorbar": {
              "outlinewidth": 0,
              "ticks": ""
             }
            },
            "type": "scatterpolar"
           }
          ],
          "scatterpolargl": [
           {
            "marker": {
             "colorbar": {
              "outlinewidth": 0,
              "ticks": ""
             }
            },
            "type": "scatterpolargl"
           }
          ],
          "scatterternary": [
           {
            "marker": {
             "colorbar": {
              "outlinewidth": 0,
              "ticks": ""
             }
            },
            "type": "scatterternary"
           }
          ],
          "surface": [
           {
            "colorbar": {
             "outlinewidth": 0,
             "ticks": ""
            },
            "colorscale": [
             [
              0,
              "#0d0887"
             ],
             [
              0.1111111111111111,
              "#46039f"
             ],
             [
              0.2222222222222222,
              "#7201a8"
             ],
             [
              0.3333333333333333,
              "#9c179e"
             ],
             [
              0.4444444444444444,
              "#bd3786"
             ],
             [
              0.5555555555555556,
              "#d8576b"
             ],
             [
              0.6666666666666666,
              "#ed7953"
             ],
             [
              0.7777777777777778,
              "#fb9f3a"
             ],
             [
              0.8888888888888888,
              "#fdca26"
             ],
             [
              1,
              "#f0f921"
             ]
            ],
            "type": "surface"
           }
          ],
          "table": [
           {
            "cells": {
             "fill": {
              "color": "#EBF0F8"
             },
             "line": {
              "color": "white"
             }
            },
            "header": {
             "fill": {
              "color": "#C8D4E3"
             },
             "line": {
              "color": "white"
             }
            },
            "type": "table"
           }
          ]
         },
         "layout": {
          "annotationdefaults": {
           "arrowcolor": "#2a3f5f",
           "arrowhead": 0,
           "arrowwidth": 1
          },
          "autotypenumbers": "strict",
          "coloraxis": {
           "colorbar": {
            "outlinewidth": 0,
            "ticks": ""
           }
          },
          "colorscale": {
           "diverging": [
            [
             0,
             "#8e0152"
            ],
            [
             0.1,
             "#c51b7d"
            ],
            [
             0.2,
             "#de77ae"
            ],
            [
             0.3,
             "#f1b6da"
            ],
            [
             0.4,
             "#fde0ef"
            ],
            [
             0.5,
             "#f7f7f7"
            ],
            [
             0.6,
             "#e6f5d0"
            ],
            [
             0.7,
             "#b8e186"
            ],
            [
             0.8,
             "#7fbc41"
            ],
            [
             0.9,
             "#4d9221"
            ],
            [
             1,
             "#276419"
            ]
           ],
           "sequential": [
            [
             0,
             "#0d0887"
            ],
            [
             0.1111111111111111,
             "#46039f"
            ],
            [
             0.2222222222222222,
             "#7201a8"
            ],
            [
             0.3333333333333333,
             "#9c179e"
            ],
            [
             0.4444444444444444,
             "#bd3786"
            ],
            [
             0.5555555555555556,
             "#d8576b"
            ],
            [
             0.6666666666666666,
             "#ed7953"
            ],
            [
             0.7777777777777778,
             "#fb9f3a"
            ],
            [
             0.8888888888888888,
             "#fdca26"
            ],
            [
             1,
             "#f0f921"
            ]
           ],
           "sequentialminus": [
            [
             0,
             "#0d0887"
            ],
            [
             0.1111111111111111,
             "#46039f"
            ],
            [
             0.2222222222222222,
             "#7201a8"
            ],
            [
             0.3333333333333333,
             "#9c179e"
            ],
            [
             0.4444444444444444,
             "#bd3786"
            ],
            [
             0.5555555555555556,
             "#d8576b"
            ],
            [
             0.6666666666666666,
             "#ed7953"
            ],
            [
             0.7777777777777778,
             "#fb9f3a"
            ],
            [
             0.8888888888888888,
             "#fdca26"
            ],
            [
             1,
             "#f0f921"
            ]
           ]
          },
          "colorway": [
           "#636efa",
           "#EF553B",
           "#00cc96",
           "#ab63fa",
           "#FFA15A",
           "#19d3f3",
           "#FF6692",
           "#B6E880",
           "#FF97FF",
           "#FECB52"
          ],
          "font": {
           "color": "#2a3f5f"
          },
          "geo": {
           "bgcolor": "white",
           "lakecolor": "white",
           "landcolor": "#E5ECF6",
           "showlakes": true,
           "showland": true,
           "subunitcolor": "white"
          },
          "hoverlabel": {
           "align": "left"
          },
          "hovermode": "closest",
          "mapbox": {
           "style": "light"
          },
          "paper_bgcolor": "white",
          "plot_bgcolor": "#E5ECF6",
          "polar": {
           "angularaxis": {
            "gridcolor": "white",
            "linecolor": "white",
            "ticks": ""
           },
           "bgcolor": "#E5ECF6",
           "radialaxis": {
            "gridcolor": "white",
            "linecolor": "white",
            "ticks": ""
           }
          },
          "scene": {
           "xaxis": {
            "backgroundcolor": "#E5ECF6",
            "gridcolor": "white",
            "gridwidth": 2,
            "linecolor": "white",
            "showbackground": true,
            "ticks": "",
            "zerolinecolor": "white"
           },
           "yaxis": {
            "backgroundcolor": "#E5ECF6",
            "gridcolor": "white",
            "gridwidth": 2,
            "linecolor": "white",
            "showbackground": true,
            "ticks": "",
            "zerolinecolor": "white"
           },
           "zaxis": {
            "backgroundcolor": "#E5ECF6",
            "gridcolor": "white",
            "gridwidth": 2,
            "linecolor": "white",
            "showbackground": true,
            "ticks": "",
            "zerolinecolor": "white"
           }
          },
          "shapedefaults": {
           "line": {
            "color": "#2a3f5f"
           }
          },
          "ternary": {
           "aaxis": {
            "gridcolor": "white",
            "linecolor": "white",
            "ticks": ""
           },
           "baxis": {
            "gridcolor": "white",
            "linecolor": "white",
            "ticks": ""
           },
           "bgcolor": "#E5ECF6",
           "caxis": {
            "gridcolor": "white",
            "linecolor": "white",
            "ticks": ""
           }
          },
          "title": {
           "x": 0.05
          },
          "xaxis": {
           "automargin": true,
           "gridcolor": "white",
           "linecolor": "white",
           "ticks": "",
           "title": {
            "standoff": 15
           },
           "zerolinecolor": "white",
           "zerolinewidth": 2
          },
          "yaxis": {
           "automargin": true,
           "gridcolor": "white",
           "linecolor": "white",
           "ticks": "",
           "title": {
            "standoff": 15
           },
           "zerolinecolor": "white",
           "zerolinewidth": 2
          }
         }
        },
        "title": {
         "text": "Top 20 hotels in our top 5 cities"
        }
       }
      }
     },
     "metadata": {},
     "output_type": "display_data"
    }
   ],
   "source": [
    "fig = px.scatter_mapbox(hotel[hotel['Score'].notna()], lat=\"lat\", lon=\"lon\", \n",
    "                        zoom=7, size=\"Score\", color=\"Score\", mapbox_style=\"carto-positron\", \n",
    "                        title = 'Top 20 hotels in our top 5 cities')\n",
    "fig.show()"
   ]
  }
 ],
 "metadata": {
  "kernelspec": {
   "display_name": "base",
   "language": "python",
   "name": "python3"
  },
  "language_info": {
   "codemirror_mode": {
    "name": "ipython",
    "version": 3
   },
   "file_extension": ".py",
   "mimetype": "text/x-python",
   "name": "python",
   "nbconvert_exporter": "python",
   "pygments_lexer": "ipython3",
   "version": "3.10.8"
  },
  "orig_nbformat": 4,
  "vscode": {
   "interpreter": {
    "hash": "27475ad11a5960b5c9c2c23a23d0db9f81f2852f739b9cd5e7b2161981b102a1"
   }
  }
 },
 "nbformat": 4,
 "nbformat_minor": 2
}
