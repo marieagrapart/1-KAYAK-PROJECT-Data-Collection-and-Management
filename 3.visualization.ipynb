{
 "cells": [
  {
   "cell_type": "code",
   "execution_count": 1,
   "metadata": {},
   "outputs": [],
   "source": [
    "from sqlalchemy import create_engine, text\n",
    "import pandas as pd\n",
    "import plotly.express as px"
   ]
  },
  {
   "cell_type": "code",
   "execution_count": 2,
   "metadata": {},
   "outputs": [],
   "source": [
    "# récupération des tables sur S3 \n",
    "weather = pd.read_csv('s3://booking-scapping/city_weather_by_day.csv')"
   ]
  },
  {
   "cell_type": "code",
   "execution_count": 3,
   "metadata": {},
   "outputs": [
    {
     "name": "stdout",
     "output_type": "stream",
     "text": [
      "['Marseille', 'Cassis', 'Saintes Maries de la mer', 'Aigues Mortes', 'Avignon']\n"
     ]
    },
    {
     "data": {
      "text/html": [
       "<div>\n",
       "<style scoped>\n",
       "    .dataframe tbody tr th:only-of-type {\n",
       "        vertical-align: middle;\n",
       "    }\n",
       "\n",
       "    .dataframe tbody tr th {\n",
       "        vertical-align: top;\n",
       "    }\n",
       "\n",
       "    .dataframe thead th {\n",
       "        text-align: right;\n",
       "    }\n",
       "</style>\n",
       "<table border=\"1\" class=\"dataframe\">\n",
       "  <thead>\n",
       "    <tr style=\"text-align: right;\">\n",
       "      <th></th>\n",
       "      <th>Unnamed: 0</th>\n",
       "      <th>city</th>\n",
       "      <th>dt_object</th>\n",
       "      <th>main_weather</th>\n",
       "      <th>prepcipitation</th>\n",
       "      <th>temperature</th>\n",
       "      <th>latitude</th>\n",
       "      <th>longitude</th>\n",
       "    </tr>\n",
       "  </thead>\n",
       "  <tbody>\n",
       "    <tr>\n",
       "      <th>0</th>\n",
       "      <td>0</td>\n",
       "      <td>Aigues Mortes</td>\n",
       "      <td>2023-02-15</td>\n",
       "      <td>Clouds</td>\n",
       "      <td>0.0</td>\n",
       "      <td>10.71000</td>\n",
       "      <td>43.565823</td>\n",
       "      <td>4.191284</td>\n",
       "    </tr>\n",
       "    <tr>\n",
       "      <th>1</th>\n",
       "      <td>1</td>\n",
       "      <td>Aigues Mortes</td>\n",
       "      <td>2023-02-16</td>\n",
       "      <td>Clouds</td>\n",
       "      <td>0.0</td>\n",
       "      <td>9.81125</td>\n",
       "      <td>43.565823</td>\n",
       "      <td>4.191284</td>\n",
       "    </tr>\n",
       "    <tr>\n",
       "      <th>2</th>\n",
       "      <td>2</td>\n",
       "      <td>Aigues Mortes</td>\n",
       "      <td>2023-02-17</td>\n",
       "      <td>Clear</td>\n",
       "      <td>0.0</td>\n",
       "      <td>10.83000</td>\n",
       "      <td>43.565823</td>\n",
       "      <td>4.191284</td>\n",
       "    </tr>\n",
       "    <tr>\n",
       "      <th>3</th>\n",
       "      <td>3</td>\n",
       "      <td>Aigues Mortes</td>\n",
       "      <td>2023-02-18</td>\n",
       "      <td>Clear</td>\n",
       "      <td>0.0</td>\n",
       "      <td>12.93875</td>\n",
       "      <td>43.565823</td>\n",
       "      <td>4.191284</td>\n",
       "    </tr>\n",
       "    <tr>\n",
       "      <th>4</th>\n",
       "      <td>4</td>\n",
       "      <td>Aigues Mortes</td>\n",
       "      <td>2023-02-19</td>\n",
       "      <td>Clear</td>\n",
       "      <td>0.0</td>\n",
       "      <td>12.17375</td>\n",
       "      <td>43.565823</td>\n",
       "      <td>4.191284</td>\n",
       "    </tr>\n",
       "    <tr>\n",
       "      <th>5</th>\n",
       "      <td>5</td>\n",
       "      <td>Aigues Mortes</td>\n",
       "      <td>2023-02-20</td>\n",
       "      <td>Clouds</td>\n",
       "      <td>0.0</td>\n",
       "      <td>10.41750</td>\n",
       "      <td>43.565823</td>\n",
       "      <td>4.191284</td>\n",
       "    </tr>\n",
       "    <tr>\n",
       "      <th>30</th>\n",
       "      <td>30</td>\n",
       "      <td>Avignon</td>\n",
       "      <td>2023-02-15</td>\n",
       "      <td>Clouds</td>\n",
       "      <td>0.0</td>\n",
       "      <td>10.10000</td>\n",
       "      <td>43.949249</td>\n",
       "      <td>4.805901</td>\n",
       "    </tr>\n",
       "    <tr>\n",
       "      <th>31</th>\n",
       "      <td>31</td>\n",
       "      <td>Avignon</td>\n",
       "      <td>2023-02-16</td>\n",
       "      <td>Clouds</td>\n",
       "      <td>0.0</td>\n",
       "      <td>8.93000</td>\n",
       "      <td>43.949249</td>\n",
       "      <td>4.805901</td>\n",
       "    </tr>\n",
       "    <tr>\n",
       "      <th>32</th>\n",
       "      <td>32</td>\n",
       "      <td>Avignon</td>\n",
       "      <td>2023-02-17</td>\n",
       "      <td>Clear</td>\n",
       "      <td>0.0</td>\n",
       "      <td>10.47625</td>\n",
       "      <td>43.949249</td>\n",
       "      <td>4.805901</td>\n",
       "    </tr>\n",
       "    <tr>\n",
       "      <th>33</th>\n",
       "      <td>33</td>\n",
       "      <td>Avignon</td>\n",
       "      <td>2023-02-18</td>\n",
       "      <td>Clouds</td>\n",
       "      <td>0.0</td>\n",
       "      <td>13.40250</td>\n",
       "      <td>43.949249</td>\n",
       "      <td>4.805901</td>\n",
       "    </tr>\n",
       "    <tr>\n",
       "      <th>34</th>\n",
       "      <td>34</td>\n",
       "      <td>Avignon</td>\n",
       "      <td>2023-02-19</td>\n",
       "      <td>Clear</td>\n",
       "      <td>0.0</td>\n",
       "      <td>12.07500</td>\n",
       "      <td>43.949249</td>\n",
       "      <td>4.805901</td>\n",
       "    </tr>\n",
       "    <tr>\n",
       "      <th>35</th>\n",
       "      <td>35</td>\n",
       "      <td>Avignon</td>\n",
       "      <td>2023-02-20</td>\n",
       "      <td>Clouds</td>\n",
       "      <td>0.0</td>\n",
       "      <td>9.83000</td>\n",
       "      <td>43.949249</td>\n",
       "      <td>4.805901</td>\n",
       "    </tr>\n",
       "    <tr>\n",
       "      <th>72</th>\n",
       "      <td>72</td>\n",
       "      <td>Cassis</td>\n",
       "      <td>2023-02-15</td>\n",
       "      <td>Clouds</td>\n",
       "      <td>0.0</td>\n",
       "      <td>11.84750</td>\n",
       "      <td>43.214036</td>\n",
       "      <td>5.539632</td>\n",
       "    </tr>\n",
       "    <tr>\n",
       "      <th>73</th>\n",
       "      <td>73</td>\n",
       "      <td>Cassis</td>\n",
       "      <td>2023-02-16</td>\n",
       "      <td>Clouds</td>\n",
       "      <td>0.0</td>\n",
       "      <td>10.91000</td>\n",
       "      <td>43.214036</td>\n",
       "      <td>5.539632</td>\n",
       "    </tr>\n",
       "    <tr>\n",
       "      <th>74</th>\n",
       "      <td>74</td>\n",
       "      <td>Cassis</td>\n",
       "      <td>2023-02-17</td>\n",
       "      <td>Clear</td>\n",
       "      <td>0.0</td>\n",
       "      <td>10.89125</td>\n",
       "      <td>43.214036</td>\n",
       "      <td>5.539632</td>\n",
       "    </tr>\n",
       "    <tr>\n",
       "      <th>75</th>\n",
       "      <td>75</td>\n",
       "      <td>Cassis</td>\n",
       "      <td>2023-02-18</td>\n",
       "      <td>Clear</td>\n",
       "      <td>0.0</td>\n",
       "      <td>11.72125</td>\n",
       "      <td>43.214036</td>\n",
       "      <td>5.539632</td>\n",
       "    </tr>\n",
       "    <tr>\n",
       "      <th>76</th>\n",
       "      <td>76</td>\n",
       "      <td>Cassis</td>\n",
       "      <td>2023-02-19</td>\n",
       "      <td>Clear</td>\n",
       "      <td>0.0</td>\n",
       "      <td>12.39000</td>\n",
       "      <td>43.214036</td>\n",
       "      <td>5.539632</td>\n",
       "    </tr>\n",
       "    <tr>\n",
       "      <th>77</th>\n",
       "      <td>77</td>\n",
       "      <td>Cassis</td>\n",
       "      <td>2023-02-20</td>\n",
       "      <td>Clouds</td>\n",
       "      <td>0.0</td>\n",
       "      <td>11.22000</td>\n",
       "      <td>43.214036</td>\n",
       "      <td>5.539632</td>\n",
       "    </tr>\n",
       "    <tr>\n",
       "      <th>144</th>\n",
       "      <td>144</td>\n",
       "      <td>Marseille</td>\n",
       "      <td>2023-02-15</td>\n",
       "      <td>Clouds</td>\n",
       "      <td>0.0</td>\n",
       "      <td>12.12500</td>\n",
       "      <td>43.296174</td>\n",
       "      <td>5.369953</td>\n",
       "    </tr>\n",
       "    <tr>\n",
       "      <th>145</th>\n",
       "      <td>145</td>\n",
       "      <td>Marseille</td>\n",
       "      <td>2023-02-16</td>\n",
       "      <td>Clouds</td>\n",
       "      <td>0.0</td>\n",
       "      <td>11.04250</td>\n",
       "      <td>43.296174</td>\n",
       "      <td>5.369953</td>\n",
       "    </tr>\n",
       "    <tr>\n",
       "      <th>146</th>\n",
       "      <td>146</td>\n",
       "      <td>Marseille</td>\n",
       "      <td>2023-02-17</td>\n",
       "      <td>Clear</td>\n",
       "      <td>0.0</td>\n",
       "      <td>11.19625</td>\n",
       "      <td>43.296174</td>\n",
       "      <td>5.369953</td>\n",
       "    </tr>\n",
       "    <tr>\n",
       "      <th>147</th>\n",
       "      <td>147</td>\n",
       "      <td>Marseille</td>\n",
       "      <td>2023-02-18</td>\n",
       "      <td>Clear</td>\n",
       "      <td>0.0</td>\n",
       "      <td>12.08625</td>\n",
       "      <td>43.296174</td>\n",
       "      <td>5.369953</td>\n",
       "    </tr>\n",
       "    <tr>\n",
       "      <th>148</th>\n",
       "      <td>148</td>\n",
       "      <td>Marseille</td>\n",
       "      <td>2023-02-19</td>\n",
       "      <td>Clear</td>\n",
       "      <td>0.0</td>\n",
       "      <td>12.62125</td>\n",
       "      <td>43.296174</td>\n",
       "      <td>5.369953</td>\n",
       "    </tr>\n",
       "    <tr>\n",
       "      <th>149</th>\n",
       "      <td>149</td>\n",
       "      <td>Marseille</td>\n",
       "      <td>2023-02-20</td>\n",
       "      <td>Clouds</td>\n",
       "      <td>0.0</td>\n",
       "      <td>11.31500</td>\n",
       "      <td>43.296174</td>\n",
       "      <td>5.369953</td>\n",
       "    </tr>\n",
       "    <tr>\n",
       "      <th>180</th>\n",
       "      <td>180</td>\n",
       "      <td>Saintes Maries de la mer</td>\n",
       "      <td>2023-02-15</td>\n",
       "      <td>Clouds</td>\n",
       "      <td>0.0</td>\n",
       "      <td>10.69750</td>\n",
       "      <td>43.452277</td>\n",
       "      <td>4.428717</td>\n",
       "    </tr>\n",
       "    <tr>\n",
       "      <th>181</th>\n",
       "      <td>181</td>\n",
       "      <td>Saintes Maries de la mer</td>\n",
       "      <td>2023-02-16</td>\n",
       "      <td>Clouds</td>\n",
       "      <td>0.0</td>\n",
       "      <td>10.14500</td>\n",
       "      <td>43.452277</td>\n",
       "      <td>4.428717</td>\n",
       "    </tr>\n",
       "    <tr>\n",
       "      <th>182</th>\n",
       "      <td>182</td>\n",
       "      <td>Saintes Maries de la mer</td>\n",
       "      <td>2023-02-17</td>\n",
       "      <td>Clear</td>\n",
       "      <td>0.0</td>\n",
       "      <td>10.96500</td>\n",
       "      <td>43.452277</td>\n",
       "      <td>4.428717</td>\n",
       "    </tr>\n",
       "    <tr>\n",
       "      <th>183</th>\n",
       "      <td>183</td>\n",
       "      <td>Saintes Maries de la mer</td>\n",
       "      <td>2023-02-18</td>\n",
       "      <td>Clear</td>\n",
       "      <td>0.0</td>\n",
       "      <td>13.00250</td>\n",
       "      <td>43.452277</td>\n",
       "      <td>4.428717</td>\n",
       "    </tr>\n",
       "    <tr>\n",
       "      <th>184</th>\n",
       "      <td>184</td>\n",
       "      <td>Saintes Maries de la mer</td>\n",
       "      <td>2023-02-19</td>\n",
       "      <td>Clear</td>\n",
       "      <td>0.0</td>\n",
       "      <td>12.24125</td>\n",
       "      <td>43.452277</td>\n",
       "      <td>4.428717</td>\n",
       "    </tr>\n",
       "    <tr>\n",
       "      <th>185</th>\n",
       "      <td>185</td>\n",
       "      <td>Saintes Maries de la mer</td>\n",
       "      <td>2023-02-20</td>\n",
       "      <td>Clouds</td>\n",
       "      <td>0.0</td>\n",
       "      <td>10.76000</td>\n",
       "      <td>43.452277</td>\n",
       "      <td>4.428717</td>\n",
       "    </tr>\n",
       "  </tbody>\n",
       "</table>\n",
       "</div>"
      ],
      "text/plain": [
       "     Unnamed: 0                      city   dt_object main_weather  \\\n",
       "0             0             Aigues Mortes  2023-02-15       Clouds   \n",
       "1             1             Aigues Mortes  2023-02-16       Clouds   \n",
       "2             2             Aigues Mortes  2023-02-17        Clear   \n",
       "3             3             Aigues Mortes  2023-02-18        Clear   \n",
       "4             4             Aigues Mortes  2023-02-19        Clear   \n",
       "5             5             Aigues Mortes  2023-02-20       Clouds   \n",
       "30           30                   Avignon  2023-02-15       Clouds   \n",
       "31           31                   Avignon  2023-02-16       Clouds   \n",
       "32           32                   Avignon  2023-02-17        Clear   \n",
       "33           33                   Avignon  2023-02-18       Clouds   \n",
       "34           34                   Avignon  2023-02-19        Clear   \n",
       "35           35                   Avignon  2023-02-20       Clouds   \n",
       "72           72                    Cassis  2023-02-15       Clouds   \n",
       "73           73                    Cassis  2023-02-16       Clouds   \n",
       "74           74                    Cassis  2023-02-17        Clear   \n",
       "75           75                    Cassis  2023-02-18        Clear   \n",
       "76           76                    Cassis  2023-02-19        Clear   \n",
       "77           77                    Cassis  2023-02-20       Clouds   \n",
       "144         144                 Marseille  2023-02-15       Clouds   \n",
       "145         145                 Marseille  2023-02-16       Clouds   \n",
       "146         146                 Marseille  2023-02-17        Clear   \n",
       "147         147                 Marseille  2023-02-18        Clear   \n",
       "148         148                 Marseille  2023-02-19        Clear   \n",
       "149         149                 Marseille  2023-02-20       Clouds   \n",
       "180         180  Saintes Maries de la mer  2023-02-15       Clouds   \n",
       "181         181  Saintes Maries de la mer  2023-02-16       Clouds   \n",
       "182         182  Saintes Maries de la mer  2023-02-17        Clear   \n",
       "183         183  Saintes Maries de la mer  2023-02-18        Clear   \n",
       "184         184  Saintes Maries de la mer  2023-02-19        Clear   \n",
       "185         185  Saintes Maries de la mer  2023-02-20       Clouds   \n",
       "\n",
       "     prepcipitation  temperature   latitude  longitude  \n",
       "0               0.0     10.71000  43.565823   4.191284  \n",
       "1               0.0      9.81125  43.565823   4.191284  \n",
       "2               0.0     10.83000  43.565823   4.191284  \n",
       "3               0.0     12.93875  43.565823   4.191284  \n",
       "4               0.0     12.17375  43.565823   4.191284  \n",
       "5               0.0     10.41750  43.565823   4.191284  \n",
       "30              0.0     10.10000  43.949249   4.805901  \n",
       "31              0.0      8.93000  43.949249   4.805901  \n",
       "32              0.0     10.47625  43.949249   4.805901  \n",
       "33              0.0     13.40250  43.949249   4.805901  \n",
       "34              0.0     12.07500  43.949249   4.805901  \n",
       "35              0.0      9.83000  43.949249   4.805901  \n",
       "72              0.0     11.84750  43.214036   5.539632  \n",
       "73              0.0     10.91000  43.214036   5.539632  \n",
       "74              0.0     10.89125  43.214036   5.539632  \n",
       "75              0.0     11.72125  43.214036   5.539632  \n",
       "76              0.0     12.39000  43.214036   5.539632  \n",
       "77              0.0     11.22000  43.214036   5.539632  \n",
       "144             0.0     12.12500  43.296174   5.369953  \n",
       "145             0.0     11.04250  43.296174   5.369953  \n",
       "146             0.0     11.19625  43.296174   5.369953  \n",
       "147             0.0     12.08625  43.296174   5.369953  \n",
       "148             0.0     12.62125  43.296174   5.369953  \n",
       "149             0.0     11.31500  43.296174   5.369953  \n",
       "180             0.0     10.69750  43.452277   4.428717  \n",
       "181             0.0     10.14500  43.452277   4.428717  \n",
       "182             0.0     10.96500  43.452277   4.428717  \n",
       "183             0.0     13.00250  43.452277   4.428717  \n",
       "184             0.0     12.24125  43.452277   4.428717  \n",
       "185             0.0     10.76000  43.452277   4.428717  "
      ]
     },
     "execution_count": 3,
     "metadata": {},
     "output_type": "execute_result"
    }
   ],
   "source": [
    "# take the weather by day of the top 5 city \n",
    "\n",
    "top_5_city_name = pd.read_csv('top_5_city_name.csv', names= ['city'])\n",
    "top_5_city_list = [x.strip() for x in top_5_city_name['city']]\n",
    "\n",
    "print(top_5_city_list)\n",
    "\n",
    "city_weather_top_5 = weather[weather['city'].isin(top_5_city_list)]\n",
    "city_weather_top_5.head()"
   ]
  },
  {
   "cell_type": "code",
   "execution_count": 4,
   "metadata": {},
   "outputs": [
    {
     "name": "stdout",
     "output_type": "stream",
     "text": [
      "2023-02-15 11:05:24,046 INFO sqlalchemy.engine.Engine PRAGMA main.table_info(\"city_weather_top_5\")\n",
      "2023-02-15 11:05:24,048 INFO sqlalchemy.engine.Engine [raw sql] ()\n",
      "2023-02-15 11:05:24,049 INFO sqlalchemy.engine.Engine PRAGMA temp.table_info(\"city_weather_top_5\")\n",
      "2023-02-15 11:05:24,050 INFO sqlalchemy.engine.Engine [raw sql] ()\n",
      "2023-02-15 11:05:24,053 INFO sqlalchemy.engine.Engine BEGIN (implicit)\n",
      "2023-02-15 11:05:24,055 INFO sqlalchemy.engine.Engine \n",
      "CREATE TABLE city_weather_top_5 (\n",
      "\t\"index\" BIGINT, \n",
      "\t\"Unnamed: 0\" BIGINT, \n",
      "\tcity TEXT, \n",
      "\tdt_object TEXT, \n",
      "\tmain_weather TEXT, \n",
      "\tprepcipitation FLOAT, \n",
      "\ttemperature FLOAT, \n",
      "\tlatitude FLOAT, \n",
      "\tlongitude FLOAT\n",
      ")\n",
      "\n",
      "\n",
      "2023-02-15 11:05:24,057 INFO sqlalchemy.engine.Engine [no key 0.00147s] ()\n",
      "2023-02-15 11:05:24,059 INFO sqlalchemy.engine.Engine CREATE INDEX ix_city_weather_top_5_index ON city_weather_top_5 (\"index\")\n",
      "2023-02-15 11:05:24,064 INFO sqlalchemy.engine.Engine [no key 0.00506s] ()\n",
      "2023-02-15 11:05:24,066 INFO sqlalchemy.engine.Engine COMMIT\n",
      "2023-02-15 11:05:24,070 INFO sqlalchemy.engine.Engine BEGIN (implicit)\n",
      "2023-02-15 11:05:24,072 INFO sqlalchemy.engine.Engine INSERT INTO city_weather_top_5 (\"index\", \"Unnamed: 0\", city, dt_object, main_weather, prepcipitation, temperature, latitude, longitude) VALUES (?, ?, ?, ?, ?, ?, ?, ?, ?)\n",
      "2023-02-15 11:05:24,074 INFO sqlalchemy.engine.Engine [generated in 0.00176s] ((0, 0, 'Aigues Mortes', '2023-02-15', 'Clouds', 0.0, 10.710000000000022, 43.5658225, 4.1912837), (1, 1, 'Aigues Mortes', '2023-02-16', 'Clouds', 0.0, 9.811250000000022, 43.5658225, 4.1912837), (2, 2, 'Aigues Mortes', '2023-02-17', 'Clear', 0.0, 10.830000000000034, 43.5658225, 4.1912837), (3, 3, 'Aigues Mortes', '2023-02-18', 'Clear', 0.0, 12.938750000000034, 43.5658225, 4.1912837), (4, 4, 'Aigues Mortes', '2023-02-19', 'Clear', 0.0, 12.173750000000028, 43.5658225, 4.1912837), (5, 5, 'Aigues Mortes', '2023-02-20', 'Clouds', 0.0, 10.417500000000032, 43.5658225, 4.1912837), (30, 30, 'Avignon', '2023-02-15', 'Clouds', 0.0, 10.100000000000025, 43.9492493, 4.8059012), (31, 31, 'Avignon', '2023-02-16', 'Clouds', 0.0, 8.930000000000021, 43.9492493, 4.8059012)  ... displaying 10 of 30 total bound parameter sets ...  (184, 184, 'Saintes Maries de la mer', '2023-02-19', 'Clear', 0.0, 12.241250000000022, 43.4522771, 4.4287172), (185, 185, 'Saintes Maries de la mer', '2023-02-20', 'Clouds', 0.0, 10.760000000000034, 43.4522771, 4.4287172))\n",
      "2023-02-15 11:05:24,077 INFO sqlalchemy.engine.Engine COMMIT\n"
     ]
    },
    {
     "data": {
      "text/plain": [
       "30"
      ]
     },
     "execution_count": 4,
     "metadata": {},
     "output_type": "execute_result"
    }
   ],
   "source": [
    "# send to our DB\n",
    "engine = create_engine(\"sqlite:///:memory:\", echo=True)\n",
    "# engine = create_engine(f\"mysql+pymysql://{DBUSER}:{DBPASS}@{DBHOST}:{PORT}/{DBNAME}\", echo=True)\n",
    "# engine = create_engine(f\"postgresql+psycopg2://{USERNAME}:{PASSWORD}@{HOSTNAME}/{DBNAME}\", echo=True)\n",
    "\n",
    "city_weather_top_5.to_sql(\n",
    "    \"city_weather_top_5\",\n",
    "    engine\n",
    ")"
   ]
  },
  {
   "cell_type": "code",
   "execution_count": 5,
   "metadata": {},
   "outputs": [
    {
     "data": {
      "text/html": [
       "<div>\n",
       "<style scoped>\n",
       "    .dataframe tbody tr th:only-of-type {\n",
       "        vertical-align: middle;\n",
       "    }\n",
       "\n",
       "    .dataframe tbody tr th {\n",
       "        vertical-align: top;\n",
       "    }\n",
       "\n",
       "    .dataframe thead th {\n",
       "        text-align: right;\n",
       "    }\n",
       "</style>\n",
       "<table border=\"1\" class=\"dataframe\">\n",
       "  <thead>\n",
       "    <tr style=\"text-align: right;\">\n",
       "      <th></th>\n",
       "      <th>Unnamed: 0</th>\n",
       "      <th>hotel name</th>\n",
       "      <th>Url to its booking.com page</th>\n",
       "      <th>Score</th>\n",
       "      <th>Text description</th>\n",
       "      <th>depth</th>\n",
       "      <th>download_timeout</th>\n",
       "      <th>download_slot</th>\n",
       "      <th>download_latency</th>\n",
       "      <th>latlng</th>\n",
       "    </tr>\n",
       "  </thead>\n",
       "  <tbody>\n",
       "    <tr>\n",
       "      <th>0</th>\n",
       "      <td>0</td>\n",
       "      <td>Aux MARCHES DU PALAIS - SPACIEUX - TERRASSE - ...</td>\n",
       "      <td>https://www.booking.com/hotel/fr/nouveau-aux-m...</td>\n",
       "      <td>9,2</td>\n",
       "      <td>NaN</td>\n",
       "      <td>2</td>\n",
       "      <td>180</td>\n",
       "      <td>www.booking.com</td>\n",
       "      <td>0.771632</td>\n",
       "      <td>43.95205500,4.80546290</td>\n",
       "    </tr>\n",
       "    <tr>\n",
       "      <th>1</th>\n",
       "      <td>1</td>\n",
       "      <td>KAROUBA.31</td>\n",
       "      <td>https://www.booking.com/hotel/fr/karouba-31.fr...</td>\n",
       "      <td>9,5</td>\n",
       "      <td>NaN</td>\n",
       "      <td>2</td>\n",
       "      <td>180</td>\n",
       "      <td>www.booking.com</td>\n",
       "      <td>0.754695</td>\n",
       "      <td>43.94760710,4.80799640</td>\n",
       "    </tr>\n",
       "    <tr>\n",
       "      <th>2</th>\n",
       "      <td>2</td>\n",
       "      <td>Maison XIXe et Jardin en Intramuros</td>\n",
       "      <td>https://www.booking.com/hotel/fr/maison-xixe-e...</td>\n",
       "      <td>9,0</td>\n",
       "      <td>NaN</td>\n",
       "      <td>2</td>\n",
       "      <td>180</td>\n",
       "      <td>www.booking.com</td>\n",
       "      <td>0.898068</td>\n",
       "      <td>43.95034438,4.81153785</td>\n",
       "    </tr>\n",
       "    <tr>\n",
       "      <th>3</th>\n",
       "      <td>3</td>\n",
       "      <td>Hôtel Cloitre Saint Louis Avignon</td>\n",
       "      <td>https://www.booking.com/hotel/fr/clarioncloitr...</td>\n",
       "      <td>7,6</td>\n",
       "      <td>NaN</td>\n",
       "      <td>2</td>\n",
       "      <td>180</td>\n",
       "      <td>www.booking.com</td>\n",
       "      <td>0.801884</td>\n",
       "      <td>43.94380810,4.80494678</td>\n",
       "    </tr>\n",
       "    <tr>\n",
       "      <th>4</th>\n",
       "      <td>4</td>\n",
       "      <td>Cute and cozy town-house of 130m2 in Avignon</td>\n",
       "      <td>https://www.booking.com/hotel/fr/cute-and-cozy...</td>\n",
       "      <td>8,4</td>\n",
       "      <td>NaN</td>\n",
       "      <td>2</td>\n",
       "      <td>180</td>\n",
       "      <td>www.booking.com</td>\n",
       "      <td>1.027561</td>\n",
       "      <td>43.94614140,4.81308760</td>\n",
       "    </tr>\n",
       "  </tbody>\n",
       "</table>\n",
       "</div>"
      ],
      "text/plain": [
       "   Unnamed: 0                                         hotel name  \\\n",
       "0           0  Aux MARCHES DU PALAIS - SPACIEUX - TERRASSE - ...   \n",
       "1           1                                         KAROUBA.31   \n",
       "2           2                Maison XIXe et Jardin en Intramuros   \n",
       "3           3                  Hôtel Cloitre Saint Louis Avignon   \n",
       "4           4       Cute and cozy town-house of 130m2 in Avignon   \n",
       "\n",
       "                         Url to its booking.com page Score Text description  \\\n",
       "0  https://www.booking.com/hotel/fr/nouveau-aux-m...   9,2              NaN   \n",
       "1  https://www.booking.com/hotel/fr/karouba-31.fr...   9,5              NaN   \n",
       "2  https://www.booking.com/hotel/fr/maison-xixe-e...   9,0              NaN   \n",
       "3  https://www.booking.com/hotel/fr/clarioncloitr...   7,6              NaN   \n",
       "4  https://www.booking.com/hotel/fr/cute-and-cozy...   8,4              NaN   \n",
       "\n",
       "   depth  download_timeout    download_slot  download_latency  \\\n",
       "0      2               180  www.booking.com          0.771632   \n",
       "1      2               180  www.booking.com          0.754695   \n",
       "2      2               180  www.booking.com          0.898068   \n",
       "3      2               180  www.booking.com          0.801884   \n",
       "4      2               180  www.booking.com          1.027561   \n",
       "\n",
       "                   latlng  \n",
       "0  43.95205500,4.80546290  \n",
       "1  43.94760710,4.80799640  \n",
       "2  43.95034438,4.81153785  \n",
       "3  43.94380810,4.80494678  \n",
       "4  43.94614140,4.81308760  "
      ]
     },
     "execution_count": 5,
     "metadata": {},
     "output_type": "execute_result"
    }
   ],
   "source": [
    "# take the hotel info from S3 \n",
    "hotel = pd.read_csv('s3://booking-scapping/hotels_info.csv')\n",
    "hotel.head()"
   ]
  },
  {
   "cell_type": "code",
   "execution_count": 6,
   "metadata": {},
   "outputs": [
    {
     "name": "stderr",
     "output_type": "stream",
     "text": [
      "/var/folders/38/qp_mmpqs5_5fc3fgl0jc4_v40000gn/T/ipykernel_32976/2654650842.py:3: FutureWarning: In a future version of pandas all arguments of StringMethods.split except for the argument 'pat' will be keyword-only.\n",
      "  hotel[['lat', 'lon']] = hotel['latlng'].str.split(',', 1, expand=True)\n"
     ]
    }
   ],
   "source": [
    "# clean table before sendinf to DB\n",
    "\n",
    "hotel[['lat', 'lon']] = hotel['latlng'].str.split(',', 1, expand=True)\n",
    "hotel = hotel.drop(['depth','download_timeout','download_slot','latlng','download_latency'], axis=1)\n",
    "\n",
    "hotel['Score'] = hotel['Score'].replace({ ',' : '.'}, regex=True)\n",
    "\n",
    "hotel['Score'] = hotel['Score'].astype(float)\n",
    "hotel['lat'] = hotel['lat'].astype(float)\n",
    "hotel['lon'] = hotel['lon'].astype(float)"
   ]
  },
  {
   "cell_type": "code",
   "execution_count": 7,
   "metadata": {},
   "outputs": [
    {
     "name": "stdout",
     "output_type": "stream",
     "text": [
      "2023-02-15 11:05:24,587 INFO sqlalchemy.engine.Engine PRAGMA main.table_info(\"hotel\")\n",
      "2023-02-15 11:05:24,588 INFO sqlalchemy.engine.Engine [raw sql] ()\n",
      "2023-02-15 11:05:24,589 INFO sqlalchemy.engine.Engine PRAGMA temp.table_info(\"hotel\")\n",
      "2023-02-15 11:05:24,589 INFO sqlalchemy.engine.Engine [raw sql] ()\n",
      "2023-02-15 11:05:24,591 INFO sqlalchemy.engine.Engine BEGIN (implicit)\n",
      "2023-02-15 11:05:24,594 INFO sqlalchemy.engine.Engine \n",
      "CREATE TABLE hotel (\n",
      "\t\"index\" BIGINT, \n",
      "\t\"Unnamed: 0\" BIGINT, \n",
      "\t\"hotel name\" TEXT, \n",
      "\t\"Url to its booking.com page\" TEXT, \n",
      "\t\"Score\" FLOAT, \n",
      "\t\"Text description\" TEXT, \n",
      "\tlat FLOAT, \n",
      "\tlon FLOAT\n",
      ")\n",
      "\n",
      "\n",
      "2023-02-15 11:05:24,595 INFO sqlalchemy.engine.Engine [no key 0.00093s] ()\n",
      "2023-02-15 11:05:24,597 INFO sqlalchemy.engine.Engine CREATE INDEX ix_hotel_index ON hotel (\"index\")\n",
      "2023-02-15 11:05:24,598 INFO sqlalchemy.engine.Engine [no key 0.00098s] ()\n",
      "2023-02-15 11:05:24,599 INFO sqlalchemy.engine.Engine COMMIT\n",
      "2023-02-15 11:05:24,603 INFO sqlalchemy.engine.Engine BEGIN (implicit)\n",
      "2023-02-15 11:05:24,606 INFO sqlalchemy.engine.Engine INSERT INTO hotel (\"index\", \"Unnamed: 0\", \"hotel name\", \"Url to its booking.com page\", \"Score\", \"Text description\", lat, lon) VALUES (?, ?, ?, ?, ?, ?, ?, ?)\n",
      "2023-02-15 11:05:24,607 INFO sqlalchemy.engine.Engine [generated in 0.00112s] ((0, 0, 'Aux MARCHES DU PALAIS - SPACIEUX - TERRASSE - WIFI', 'https://www.booking.com/hotel/fr/nouveau-aux-marches-du-palais-spacieux-loggia.fr.html?aid=304142&label=gen173nr-1FCAEoggI46AdIM1gEaEaIAQGYAQ24AQfIAQ ... (139 characters truncated) ... no_rooms=1&group_children=0&req_children=0&hpos=1&hapos=1&sr_order=popularity&srpvid=c7004dcb0c6300ac&srepoch=1676459031&from=searchresults#hotelTmpl', 9.2, None, 43.952055, 4.8054629), (1, 1, 'KAROUBA.31', 'https://www.booking.com/hotel/fr/karouba-31.fr.html?aid=304142&label=gen173nr-1FCAEoggI46AdIM1gEaEaIAQGYAQ24AQfIAQzYAQHoAQH4AQuIAgGoAgO4AperqZ8GwAIB0 ... (106 characters truncated) ... _rooms=1&group_children=0&req_children=0&hpos=20&hapos=20&sr_order=popularity&srpvid=c7004dcb0c6300ac&srepoch=1676459031&from=searchresults#hotelTmpl', 9.5, None, 43.9476071, 4.8079964), (2, 2, 'Maison XIXe et Jardin en Intramuros', 'https://www.booking.com/hotel/fr/maison-xixe-et-jardin-en-intramuros.fr.html?aid=304142&label=gen173nr-1FCAEoggI46AdIM1gEaEaIAQGYAQ24AQfIAQzYAQHoAQH4 ... (131 characters truncated) ... _rooms=1&group_children=0&req_children=0&hpos=16&hapos=16&sr_order=popularity&srpvid=c7004dcb0c6300ac&srepoch=1676459031&from=searchresults#hotelTmpl', 9.0, None, 43.95034438, 4.81153785), (3, 3, 'Hôtel Cloitre Saint Louis Avignon', 'https://www.booking.com/hotel/fr/clarioncloitrestlouis.fr.html?aid=304142&label=gen173nr-1FCAEoggI46AdIM1gEaEaIAQGYAQ24AQfIAQzYAQHoAQH4AQuIAgGoAgO4Ap ... (117 characters truncated) ... _rooms=1&group_children=0&req_children=0&hpos=14&hapos=14&sr_order=popularity&srpvid=c7004dcb0c6300ac&srepoch=1676459031&from=searchresults#hotelTmpl', 7.6, None, 43.9438081, 4.80494678), (4, 4, 'Cute and cozy town-house of 130m2 in Avignon', 'https://www.booking.com/hotel/fr/cute-and-cozy-town-house-of-130m2-in-avignon.fr.html?aid=304142&label=gen173nr-1FCAEoggI46AdIM1gEaEaIAQGYAQ24AQfIAQz ... (140 characters truncated) ... _rooms=1&group_children=0&req_children=0&hpos=19&hapos=19&sr_order=popularity&srpvid=c7004dcb0c6300ac&srepoch=1676459031&from=searchresults#hotelTmpl', 8.4, None, 43.9461414, 4.8130876), (5, 5, 'La Petite Saunerie', 'https://www.booking.com/hotel/fr/la-petite-saunerie.fr.html?aid=304142&label=gen173nr-1FCAEoggI46AdIM1gEaEaIAQGYAQ24AQfIAQzYAQHoAQH4AQuIAgGoAgO4Aperq ... (114 characters truncated) ... _rooms=1&group_children=0&req_children=0&hpos=17&hapos=17&sr_order=popularity&srpvid=c7004dcb0c6300ac&srepoch=1676459031&from=searchresults#hotelTmpl', 8.8, None, 43.9493997, 4.8088708), (6, 6, 'Le Clos Saluces', 'https://www.booking.com/hotel/fr/le-clos-saluces.fr.html?aid=304142&label=gen173nr-1FCAEoggI46AdIM1gEaEaIAQGYAQ24AQfIAQzYAQHoAQH4AQuIAgGoAgO4AperqZ8G ... (111 characters truncated) ... _rooms=1&group_children=0&req_children=0&hpos=18&hapos=18&sr_order=popularity&srpvid=c7004dcb0c6300ac&srepoch=1676459031&from=searchresults#hotelTmpl', 9.9, None, 43.9501934, 4.81058627), (7, 7, \"Camping du Pont d'Avignon\", 'https://www.booking.com/hotel/fr/camping-du-pont-d-avignon.fr.html?aid=304142&label=gen173nr-1FCAEoggI46AdIM1gEaEaIAQGYAQ24AQfIAQzYAQHoAQH4AQuIAgGoAg ... (121 characters truncated) ... _rooms=1&group_children=0&req_children=0&hpos=15&hapos=15&sr_order=popularity&srpvid=c7004dcb0c6300ac&srepoch=1676459031&from=searchresults#hotelTmpl', 8.0, None, 43.95638753, 4.80199099)  ... displaying 10 of 100 total bound parameter sets ...  (98, 98, 'UNE TERRASSE SUR LA MER 3 pers 2 chambres VUE MER', 'https://www.booking.com/hotel/fr/une-terrasse-sur-la-mer-cassis.fr.html?aid=304142&label=gen173nr-1FCAEoggI46AdIM1gEaEaIAQGYAQ24AQfIAQzYAQHoAQH4AQuIA ... (171 characters truncated) ... =1&hapos=1&sr_order=popularity&srpvid=59a94dcb99d70360&srepoch=1676459031&from_beach_sr=1&from_sustainable_property_sr=1&from=searchresults#hotelTmpl', 8.4, \"Situé à Cassis, à seulement 400 mètres de Bestouan, l'établissement UNE TERRASSE SUR LA MER 3 pers 2 chambres VUE MER propose un hébergement en bord de mer avec connexion Wi-Fi gratuite. \", 43.21407197, 5.53062182), (99, 99, 'B&B Villa de Margot', 'https://www.booking.com/hotel/fr/villa-de-margot.fr.html?aid=304142&label=gen173nr-1FCAEoggI46AdIM1gEaEaIAQGYAQ24AQfIAQzYAQHoAQH4AQuIAgGoAgO4AperqZ8G ... (109 characters truncated) ... no_rooms=1&group_children=0&req_children=0&hpos=5&hapos=5&sr_order=popularity&srpvid=c7004dcb0c6300ac&srepoch=1676459031&from=searchresults#hotelTmpl', 9.1, None, 43.95249614, 4.81014222))\n",
      "2023-02-15 11:05:24,611 INFO sqlalchemy.engine.Engine COMMIT\n"
     ]
    },
    {
     "data": {
      "text/plain": [
       "100"
      ]
     },
     "execution_count": 7,
     "metadata": {},
     "output_type": "execute_result"
    }
   ],
   "source": [
    "# send to DB\n",
    "\n",
    "hotel.to_sql(\n",
    "    \"hotel\",\n",
    "    engine\n",
    ")"
   ]
  },
  {
   "cell_type": "code",
   "execution_count": null,
   "metadata": {},
   "outputs": [],
   "source": []
  },
  {
   "attachments": {},
   "cell_type": "markdown",
   "metadata": {},
   "source": [
    "## Call tables from our BD and do visualization "
   ]
  },
  {
   "cell_type": "code",
   "execution_count": 8,
   "metadata": {},
   "outputs": [
    {
     "name": "stdout",
     "output_type": "stream",
     "text": [
      "2023-02-15 11:05:24,671 INFO sqlalchemy.engine.Engine SELECT * FROM city_weather_top_5 \n",
      "2023-02-15 11:05:24,672 INFO sqlalchemy.engine.Engine [generated in 0.00153s] ()\n"
     ]
    },
    {
     "data": {
      "text/html": [
       "<div>\n",
       "<style scoped>\n",
       "    .dataframe tbody tr th:only-of-type {\n",
       "        vertical-align: middle;\n",
       "    }\n",
       "\n",
       "    .dataframe tbody tr th {\n",
       "        vertical-align: top;\n",
       "    }\n",
       "\n",
       "    .dataframe thead th {\n",
       "        text-align: right;\n",
       "    }\n",
       "</style>\n",
       "<table border=\"1\" class=\"dataframe\">\n",
       "  <thead>\n",
       "    <tr style=\"text-align: right;\">\n",
       "      <th></th>\n",
       "      <th>index</th>\n",
       "      <th>Unnamed: 0</th>\n",
       "      <th>city</th>\n",
       "      <th>dt_object</th>\n",
       "      <th>main_weather</th>\n",
       "      <th>prepcipitation</th>\n",
       "      <th>temperature</th>\n",
       "      <th>latitude</th>\n",
       "      <th>longitude</th>\n",
       "    </tr>\n",
       "  </thead>\n",
       "  <tbody>\n",
       "    <tr>\n",
       "      <th>0</th>\n",
       "      <td>0</td>\n",
       "      <td>0</td>\n",
       "      <td>Aigues Mortes</td>\n",
       "      <td>2023-02-15</td>\n",
       "      <td>Clouds</td>\n",
       "      <td>0.0</td>\n",
       "      <td>10.71000</td>\n",
       "      <td>43.565823</td>\n",
       "      <td>4.191284</td>\n",
       "    </tr>\n",
       "    <tr>\n",
       "      <th>1</th>\n",
       "      <td>1</td>\n",
       "      <td>1</td>\n",
       "      <td>Aigues Mortes</td>\n",
       "      <td>2023-02-16</td>\n",
       "      <td>Clouds</td>\n",
       "      <td>0.0</td>\n",
       "      <td>9.81125</td>\n",
       "      <td>43.565823</td>\n",
       "      <td>4.191284</td>\n",
       "    </tr>\n",
       "    <tr>\n",
       "      <th>2</th>\n",
       "      <td>2</td>\n",
       "      <td>2</td>\n",
       "      <td>Aigues Mortes</td>\n",
       "      <td>2023-02-17</td>\n",
       "      <td>Clear</td>\n",
       "      <td>0.0</td>\n",
       "      <td>10.83000</td>\n",
       "      <td>43.565823</td>\n",
       "      <td>4.191284</td>\n",
       "    </tr>\n",
       "    <tr>\n",
       "      <th>3</th>\n",
       "      <td>3</td>\n",
       "      <td>3</td>\n",
       "      <td>Aigues Mortes</td>\n",
       "      <td>2023-02-18</td>\n",
       "      <td>Clear</td>\n",
       "      <td>0.0</td>\n",
       "      <td>12.93875</td>\n",
       "      <td>43.565823</td>\n",
       "      <td>4.191284</td>\n",
       "    </tr>\n",
       "    <tr>\n",
       "      <th>4</th>\n",
       "      <td>4</td>\n",
       "      <td>4</td>\n",
       "      <td>Aigues Mortes</td>\n",
       "      <td>2023-02-19</td>\n",
       "      <td>Clear</td>\n",
       "      <td>0.0</td>\n",
       "      <td>12.17375</td>\n",
       "      <td>43.565823</td>\n",
       "      <td>4.191284</td>\n",
       "    </tr>\n",
       "  </tbody>\n",
       "</table>\n",
       "</div>"
      ],
      "text/plain": [
       "   index  Unnamed: 0           city   dt_object main_weather  prepcipitation  \\\n",
       "0      0           0  Aigues Mortes  2023-02-15       Clouds             0.0   \n",
       "1      1           1  Aigues Mortes  2023-02-16       Clouds             0.0   \n",
       "2      2           2  Aigues Mortes  2023-02-17        Clear             0.0   \n",
       "3      3           3  Aigues Mortes  2023-02-18        Clear             0.0   \n",
       "4      4           4  Aigues Mortes  2023-02-19        Clear             0.0   \n",
       "\n",
       "   temperature   latitude  longitude  \n",
       "0     10.71000  43.565823   4.191284  \n",
       "1      9.81125  43.565823   4.191284  \n",
       "2     10.83000  43.565823   4.191284  \n",
       "3     12.93875  43.565823   4.191284  \n",
       "4     12.17375  43.565823   4.191284  "
      ]
     },
     "execution_count": 8,
     "metadata": {},
     "output_type": "execute_result"
    }
   ],
   "source": [
    "# Weather table \n",
    "\n",
    "stmt = text(\"SELECT * FROM city_weather_top_5 \"\n",
    "            )\n",
    "\n",
    "weather = pd.read_sql(\n",
    "        stmt,\n",
    "        engine\n",
    "    )\n",
    "\n",
    "weather.head()"
   ]
  },
  {
   "cell_type": "code",
   "execution_count": 9,
   "metadata": {},
   "outputs": [],
   "source": [
    "# Add a proportinal colum on temperature for better see the variation \n",
    "city_weather_top_5['temp_cube'] = city_weather_top_5['temperature']**3\n",
    "city_weather_top_5.head()\n",
    "\n",
    "city_weather_top_5['dt_object'] = city_weather_top_5['dt_object'].astype(str)"
   ]
  },
  {
   "cell_type": "code",
   "execution_count": 10,
   "metadata": {},
   "outputs": [
    {
     "data": {
      "application/vnd.plotly.v1+json": {
       "config": {
        "plotlyServerURL": "https://plot.ly"
       },
       "data": [
        {
         "hovertemplate": "dt_object=2023-02-15<br>temp_cube=%{marker.size}<br>latitude=%{lat}<br>longitude=%{lon}<br>temperature=%{marker.color}<extra></extra>",
         "ids": [
          10.710000000000022,
          10.100000000000025,
          11.847500000000023,
          12.125000000000014,
          10.69750000000002
         ],
         "lat": [
          43.5658225,
          43.9492493,
          43.2140359,
          43.2961743,
          43.4522771
         ],
         "legendgroup": "",
         "lon": [
          4.1912837,
          4.8059012,
          5.5396318,
          5.3699525,
          4.4287172
         ],
         "marker": {
          "color": [
           10.710000000000022,
           10.100000000000025,
           11.847500000000023,
           12.125000000000014,
           10.69750000000002
          ],
          "coloraxis": "coloraxis",
          "size": [
           1228.4809110000076,
           1030.3010000000074,
           1662.953678421885,
           1782.5644531250064,
           1224.1845256093816
          ],
          "sizemode": "area",
          "sizeref": 6.018627378164095
         },
         "mode": "markers",
         "name": "",
         "showlegend": false,
         "subplot": "mapbox",
         "type": "scattermapbox"
        }
       ],
       "frames": [
        {
         "data": [
          {
           "hovertemplate": "dt_object=2023-02-15<br>temp_cube=%{marker.size}<br>latitude=%{lat}<br>longitude=%{lon}<br>temperature=%{marker.color}<extra></extra>",
           "ids": [
            10.710000000000022,
            10.100000000000025,
            11.847500000000023,
            12.125000000000014,
            10.69750000000002
           ],
           "lat": [
            43.5658225,
            43.9492493,
            43.2140359,
            43.2961743,
            43.4522771
           ],
           "legendgroup": "",
           "lon": [
            4.1912837,
            4.8059012,
            5.5396318,
            5.3699525,
            4.4287172
           ],
           "marker": {
            "color": [
             10.710000000000022,
             10.100000000000025,
             11.847500000000023,
             12.125000000000014,
             10.69750000000002
            ],
            "coloraxis": "coloraxis",
            "size": [
             1228.4809110000076,
             1030.3010000000074,
             1662.953678421885,
             1782.5644531250064,
             1224.1845256093816
            ],
            "sizemode": "area",
            "sizeref": 6.018627378164095
           },
           "mode": "markers",
           "name": "",
           "showlegend": false,
           "subplot": "mapbox",
           "type": "scattermapbox"
          }
         ],
         "name": "2023-02-15"
        },
        {
         "data": [
          {
           "hovertemplate": "dt_object=2023-02-16<br>temp_cube=%{marker.size}<br>latitude=%{lat}<br>longitude=%{lon}<br>temperature=%{marker.color}<extra></extra>",
           "ids": [
            9.811250000000022,
            8.930000000000021,
            10.910000000000023,
            11.042500000000024,
            10.145000000000024
           ],
           "lat": [
            43.5658225,
            43.9492493,
            43.2140359,
            43.2961743,
            43.4522771
           ],
           "legendgroup": "",
           "lon": [
            4.1912837,
            4.8059012,
            5.5396318,
            5.3699525,
            4.4287172
           ],
           "marker": {
            "color": [
             9.811250000000022,
             8.930000000000021,
             10.910000000000023,
             11.042500000000024,
             10.145000000000024
            ],
            "coloraxis": "coloraxis",
            "size": [
             944.4370723613346,
             712.1219570000051,
             1298.5965710000082,
             1346.4871830156335,
             1044.1337986250076
            ],
            "sizemode": "area",
            "sizeref": 6.018627378164095
           },
           "mode": "markers",
           "name": "",
           "showlegend": false,
           "subplot": "mapbox",
           "type": "scattermapbox"
          }
         ],
         "name": "2023-02-16"
        },
        {
         "data": [
          {
           "hovertemplate": "dt_object=2023-02-17<br>temp_cube=%{marker.size}<br>latitude=%{lat}<br>longitude=%{lon}<br>temperature=%{marker.color}<extra></extra>",
           "ids": [
            10.830000000000034,
            10.476250000000022,
            10.891250000000028,
            11.196250000000028,
            10.965000000000025
           ],
           "lat": [
            43.5658225,
            43.9492493,
            43.2140359,
            43.2961743,
            43.4522771
           ],
           "legendgroup": "",
           "lon": [
            4.1912837,
            4.8059012,
            5.5396318,
            5.3699525,
            4.4287172
           ],
           "marker": {
            "color": [
             10.830000000000034,
             10.476250000000022,
             10.891250000000028,
             11.196250000000028,
             10.965000000000025
            ],
            "coloraxis": "coloraxis",
            "size": [
             1270.2387870000118,
             1149.7874420722728,
             1291.912740423838,
             1403.517272447276,
             1318.335382125009
            ],
            "sizemode": "area",
            "sizeref": 6.018627378164095
           },
           "mode": "markers",
           "name": "",
           "showlegend": false,
           "subplot": "mapbox",
           "type": "scattermapbox"
          }
         ],
         "name": "2023-02-17"
        },
        {
         "data": [
          {
           "hovertemplate": "dt_object=2023-02-18<br>temp_cube=%{marker.size}<br>latitude=%{lat}<br>longitude=%{lon}<br>temperature=%{marker.color}<extra></extra>",
           "ids": [
            12.938750000000034,
            13.402500000000025,
            11.72125000000002,
            12.086250000000014,
            13.00250000000002
           ],
           "lat": [
            43.5658225,
            43.9492493,
            43.2140359,
            43.2961743,
            43.4522771
           ],
           "legendgroup": "",
           "lon": [
            4.1912837,
            4.8059012,
            5.5396318,
            5.3699525,
            4.4287172
           ],
           "marker": {
            "color": [
             12.938750000000034,
             13.402500000000025,
             11.72125000000002,
             12.086250000000014,
             13.00250000000002
            ],
            "coloraxis": "coloraxis",
            "size": [
             2166.0923311543143,
             2407.450951265638,
             1610.3555969394617,
             1765.5284478691467,
             2198.2677437656357
            ],
            "sizemode": "area",
            "sizeref": 6.018627378164095
           },
           "mode": "markers",
           "name": "",
           "showlegend": false,
           "subplot": "mapbox",
           "type": "scattermapbox"
          }
         ],
         "name": "2023-02-18"
        },
        {
         "data": [
          {
           "hovertemplate": "dt_object=2023-02-19<br>temp_cube=%{marker.size}<br>latitude=%{lat}<br>longitude=%{lon}<br>temperature=%{marker.color}<extra></extra>",
           "ids": [
            12.173750000000028,
            12.075000000000015,
            12.390000000000027,
            12.621250000000018,
            12.241250000000022
           ],
           "lat": [
            43.5658225,
            43.9492493,
            43.2140359,
            43.2961743,
            43.4522771
           ],
           "legendgroup": "",
           "lon": [
            4.1912837,
            4.8059012,
            5.5396318,
            5.3699525,
            4.4287172
           ],
           "marker": {
            "color": [
             12.173750000000028,
             12.075000000000015,
             12.390000000000027,
             12.621250000000018,
             12.241250000000022
            ],
            "coloraxis": "coloraxis",
            "size": [
             1804.1520515996222,
             1760.6029218750066,
             1902.0149190000125,
             2010.5140286582116,
             1834.329297376963
            ],
            "sizemode": "area",
            "sizeref": 6.018627378164095
           },
           "mode": "markers",
           "name": "",
           "showlegend": false,
           "subplot": "mapbox",
           "type": "scattermapbox"
          }
         ],
         "name": "2023-02-19"
        },
        {
         "data": [
          {
           "hovertemplate": "dt_object=2023-02-20<br>temp_cube=%{marker.size}<br>latitude=%{lat}<br>longitude=%{lon}<br>temperature=%{marker.color}<extra></extra>",
           "ids": [
            10.417500000000032,
            9.830000000000028,
            11.220000000000011,
            11.315000000000012,
            10.760000000000034
           ],
           "lat": [
            43.5658225,
            43.9492493,
            43.2140359,
            43.2961743,
            43.4522771
           ],
           "legendgroup": "",
           "lon": [
            4.1912837,
            4.8059012,
            5.5396318,
            5.3699525,
            4.4287172
           ],
           "marker": {
            "color": [
             10.417500000000032,
             9.830000000000028,
             11.220000000000011,
             11.315000000000012,
             10.760000000000034
            ],
            "coloraxis": "coloraxis",
            "size": [
             1130.5519603593855,
             949.8620870000083,
             1412.4678480000043,
             1448.6506808750046,
             1245.7669760000117
            ],
            "sizemode": "area",
            "sizeref": 6.018627378164095
           },
           "mode": "markers",
           "name": "",
           "showlegend": false,
           "subplot": "mapbox",
           "type": "scattermapbox"
          }
         ],
         "name": "2023-02-20"
        }
       ],
       "layout": {
        "coloraxis": {
         "colorbar": {
          "title": {
           "text": "temperature"
          }
         },
         "colorscale": [
          [
           0,
           "#0d0887"
          ],
          [
           0.1111111111111111,
           "#46039f"
          ],
          [
           0.2222222222222222,
           "#7201a8"
          ],
          [
           0.3333333333333333,
           "#9c179e"
          ],
          [
           0.4444444444444444,
           "#bd3786"
          ],
          [
           0.5555555555555556,
           "#d8576b"
          ],
          [
           0.6666666666666666,
           "#ed7953"
          ],
          [
           0.7777777777777778,
           "#fb9f3a"
          ],
          [
           0.8888888888888888,
           "#fdca26"
          ],
          [
           1,
           "#f0f921"
          ]
         ]
        },
        "legend": {
         "itemsizing": "constant",
         "tracegroupgap": 0
        },
        "mapbox": {
         "center": {
          "lat": 43.49551181999998,
          "lon": 4.8670972799999985
         },
         "domain": {
          "x": [
           0,
           1
          ],
          "y": [
           0,
           1
          ]
         },
         "style": "carto-positron",
         "zoom": 7
        },
        "margin": {
         "t": 60
        },
        "sliders": [
         {
          "active": 0,
          "currentvalue": {
           "prefix": "dt_object="
          },
          "len": 0.9,
          "pad": {
           "b": 10,
           "t": 60
          },
          "steps": [
           {
            "args": [
             [
              "2023-02-15"
             ],
             {
              "frame": {
               "duration": 0,
               "redraw": true
              },
              "fromcurrent": true,
              "mode": "immediate",
              "transition": {
               "duration": 0,
               "easing": "linear"
              }
             }
            ],
            "label": "2023-02-15",
            "method": "animate"
           },
           {
            "args": [
             [
              "2023-02-16"
             ],
             {
              "frame": {
               "duration": 0,
               "redraw": true
              },
              "fromcurrent": true,
              "mode": "immediate",
              "transition": {
               "duration": 0,
               "easing": "linear"
              }
             }
            ],
            "label": "2023-02-16",
            "method": "animate"
           },
           {
            "args": [
             [
              "2023-02-17"
             ],
             {
              "frame": {
               "duration": 0,
               "redraw": true
              },
              "fromcurrent": true,
              "mode": "immediate",
              "transition": {
               "duration": 0,
               "easing": "linear"
              }
             }
            ],
            "label": "2023-02-17",
            "method": "animate"
           },
           {
            "args": [
             [
              "2023-02-18"
             ],
             {
              "frame": {
               "duration": 0,
               "redraw": true
              },
              "fromcurrent": true,
              "mode": "immediate",
              "transition": {
               "duration": 0,
               "easing": "linear"
              }
             }
            ],
            "label": "2023-02-18",
            "method": "animate"
           },
           {
            "args": [
             [
              "2023-02-19"
             ],
             {
              "frame": {
               "duration": 0,
               "redraw": true
              },
              "fromcurrent": true,
              "mode": "immediate",
              "transition": {
               "duration": 0,
               "easing": "linear"
              }
             }
            ],
            "label": "2023-02-19",
            "method": "animate"
           },
           {
            "args": [
             [
              "2023-02-20"
             ],
             {
              "frame": {
               "duration": 0,
               "redraw": true
              },
              "fromcurrent": true,
              "mode": "immediate",
              "transition": {
               "duration": 0,
               "easing": "linear"
              }
             }
            ],
            "label": "2023-02-20",
            "method": "animate"
           }
          ],
          "x": 0.1,
          "xanchor": "left",
          "y": 0,
          "yanchor": "top"
         }
        ],
        "template": {
         "data": {
          "bar": [
           {
            "error_x": {
             "color": "#2a3f5f"
            },
            "error_y": {
             "color": "#2a3f5f"
            },
            "marker": {
             "line": {
              "color": "#E5ECF6",
              "width": 0.5
             },
             "pattern": {
              "fillmode": "overlay",
              "size": 10,
              "solidity": 0.2
             }
            },
            "type": "bar"
           }
          ],
          "barpolar": [
           {
            "marker": {
             "line": {
              "color": "#E5ECF6",
              "width": 0.5
             },
             "pattern": {
              "fillmode": "overlay",
              "size": 10,
              "solidity": 0.2
             }
            },
            "type": "barpolar"
           }
          ],
          "carpet": [
           {
            "aaxis": {
             "endlinecolor": "#2a3f5f",
             "gridcolor": "white",
             "linecolor": "white",
             "minorgridcolor": "white",
             "startlinecolor": "#2a3f5f"
            },
            "baxis": {
             "endlinecolor": "#2a3f5f",
             "gridcolor": "white",
             "linecolor": "white",
             "minorgridcolor": "white",
             "startlinecolor": "#2a3f5f"
            },
            "type": "carpet"
           }
          ],
          "choropleth": [
           {
            "colorbar": {
             "outlinewidth": 0,
             "ticks": ""
            },
            "type": "choropleth"
           }
          ],
          "contour": [
           {
            "colorbar": {
             "outlinewidth": 0,
             "ticks": ""
            },
            "colorscale": [
             [
              0,
              "#0d0887"
             ],
             [
              0.1111111111111111,
              "#46039f"
             ],
             [
              0.2222222222222222,
              "#7201a8"
             ],
             [
              0.3333333333333333,
              "#9c179e"
             ],
             [
              0.4444444444444444,
              "#bd3786"
             ],
             [
              0.5555555555555556,
              "#d8576b"
             ],
             [
              0.6666666666666666,
              "#ed7953"
             ],
             [
              0.7777777777777778,
              "#fb9f3a"
             ],
             [
              0.8888888888888888,
              "#fdca26"
             ],
             [
              1,
              "#f0f921"
             ]
            ],
            "type": "contour"
           }
          ],
          "contourcarpet": [
           {
            "colorbar": {
             "outlinewidth": 0,
             "ticks": ""
            },
            "type": "contourcarpet"
           }
          ],
          "heatmap": [
           {
            "colorbar": {
             "outlinewidth": 0,
             "ticks": ""
            },
            "colorscale": [
             [
              0,
              "#0d0887"
             ],
             [
              0.1111111111111111,
              "#46039f"
             ],
             [
              0.2222222222222222,
              "#7201a8"
             ],
             [
              0.3333333333333333,
              "#9c179e"
             ],
             [
              0.4444444444444444,
              "#bd3786"
             ],
             [
              0.5555555555555556,
              "#d8576b"
             ],
             [
              0.6666666666666666,
              "#ed7953"
             ],
             [
              0.7777777777777778,
              "#fb9f3a"
             ],
             [
              0.8888888888888888,
              "#fdca26"
             ],
             [
              1,
              "#f0f921"
             ]
            ],
            "type": "heatmap"
           }
          ],
          "heatmapgl": [
           {
            "colorbar": {
             "outlinewidth": 0,
             "ticks": ""
            },
            "colorscale": [
             [
              0,
              "#0d0887"
             ],
             [
              0.1111111111111111,
              "#46039f"
             ],
             [
              0.2222222222222222,
              "#7201a8"
             ],
             [
              0.3333333333333333,
              "#9c179e"
             ],
             [
              0.4444444444444444,
              "#bd3786"
             ],
             [
              0.5555555555555556,
              "#d8576b"
             ],
             [
              0.6666666666666666,
              "#ed7953"
             ],
             [
              0.7777777777777778,
              "#fb9f3a"
             ],
             [
              0.8888888888888888,
              "#fdca26"
             ],
             [
              1,
              "#f0f921"
             ]
            ],
            "type": "heatmapgl"
           }
          ],
          "histogram": [
           {
            "marker": {
             "pattern": {
              "fillmode": "overlay",
              "size": 10,
              "solidity": 0.2
             }
            },
            "type": "histogram"
           }
          ],
          "histogram2d": [
           {
            "colorbar": {
             "outlinewidth": 0,
             "ticks": ""
            },
            "colorscale": [
             [
              0,
              "#0d0887"
             ],
             [
              0.1111111111111111,
              "#46039f"
             ],
             [
              0.2222222222222222,
              "#7201a8"
             ],
             [
              0.3333333333333333,
              "#9c179e"
             ],
             [
              0.4444444444444444,
              "#bd3786"
             ],
             [
              0.5555555555555556,
              "#d8576b"
             ],
             [
              0.6666666666666666,
              "#ed7953"
             ],
             [
              0.7777777777777778,
              "#fb9f3a"
             ],
             [
              0.8888888888888888,
              "#fdca26"
             ],
             [
              1,
              "#f0f921"
             ]
            ],
            "type": "histogram2d"
           }
          ],
          "histogram2dcontour": [
           {
            "colorbar": {
             "outlinewidth": 0,
             "ticks": ""
            },
            "colorscale": [
             [
              0,
              "#0d0887"
             ],
             [
              0.1111111111111111,
              "#46039f"
             ],
             [
              0.2222222222222222,
              "#7201a8"
             ],
             [
              0.3333333333333333,
              "#9c179e"
             ],
             [
              0.4444444444444444,
              "#bd3786"
             ],
             [
              0.5555555555555556,
              "#d8576b"
             ],
             [
              0.6666666666666666,
              "#ed7953"
             ],
             [
              0.7777777777777778,
              "#fb9f3a"
             ],
             [
              0.8888888888888888,
              "#fdca26"
             ],
             [
              1,
              "#f0f921"
             ]
            ],
            "type": "histogram2dcontour"
           }
          ],
          "mesh3d": [
           {
            "colorbar": {
             "outlinewidth": 0,
             "ticks": ""
            },
            "type": "mesh3d"
           }
          ],
          "parcoords": [
           {
            "line": {
             "colorbar": {
              "outlinewidth": 0,
              "ticks": ""
             }
            },
            "type": "parcoords"
           }
          ],
          "pie": [
           {
            "automargin": true,
            "type": "pie"
           }
          ],
          "scatter": [
           {
            "fillpattern": {
             "fillmode": "overlay",
             "size": 10,
             "solidity": 0.2
            },
            "type": "scatter"
           }
          ],
          "scatter3d": [
           {
            "line": {
             "colorbar": {
              "outlinewidth": 0,
              "ticks": ""
             }
            },
            "marker": {
             "colorbar": {
              "outlinewidth": 0,
              "ticks": ""
             }
            },
            "type": "scatter3d"
           }
          ],
          "scattercarpet": [
           {
            "marker": {
             "colorbar": {
              "outlinewidth": 0,
              "ticks": ""
             }
            },
            "type": "scattercarpet"
           }
          ],
          "scattergeo": [
           {
            "marker": {
             "colorbar": {
              "outlinewidth": 0,
              "ticks": ""
             }
            },
            "type": "scattergeo"
           }
          ],
          "scattergl": [
           {
            "marker": {
             "colorbar": {
              "outlinewidth": 0,
              "ticks": ""
             }
            },
            "type": "scattergl"
           }
          ],
          "scattermapbox": [
           {
            "marker": {
             "colorbar": {
              "outlinewidth": 0,
              "ticks": ""
             }
            },
            "type": "scattermapbox"
           }
          ],
          "scatterpolar": [
           {
            "marker": {
             "colorbar": {
              "outlinewidth": 0,
              "ticks": ""
             }
            },
            "type": "scatterpolar"
           }
          ],
          "scatterpolargl": [
           {
            "marker": {
             "colorbar": {
              "outlinewidth": 0,
              "ticks": ""
             }
            },
            "type": "scatterpolargl"
           }
          ],
          "scatterternary": [
           {
            "marker": {
             "colorbar": {
              "outlinewidth": 0,
              "ticks": ""
             }
            },
            "type": "scatterternary"
           }
          ],
          "surface": [
           {
            "colorbar": {
             "outlinewidth": 0,
             "ticks": ""
            },
            "colorscale": [
             [
              0,
              "#0d0887"
             ],
             [
              0.1111111111111111,
              "#46039f"
             ],
             [
              0.2222222222222222,
              "#7201a8"
             ],
             [
              0.3333333333333333,
              "#9c179e"
             ],
             [
              0.4444444444444444,
              "#bd3786"
             ],
             [
              0.5555555555555556,
              "#d8576b"
             ],
             [
              0.6666666666666666,
              "#ed7953"
             ],
             [
              0.7777777777777778,
              "#fb9f3a"
             ],
             [
              0.8888888888888888,
              "#fdca26"
             ],
             [
              1,
              "#f0f921"
             ]
            ],
            "type": "surface"
           }
          ],
          "table": [
           {
            "cells": {
             "fill": {
              "color": "#EBF0F8"
             },
             "line": {
              "color": "white"
             }
            },
            "header": {
             "fill": {
              "color": "#C8D4E3"
             },
             "line": {
              "color": "white"
             }
            },
            "type": "table"
           }
          ]
         },
         "layout": {
          "annotationdefaults": {
           "arrowcolor": "#2a3f5f",
           "arrowhead": 0,
           "arrowwidth": 1
          },
          "autotypenumbers": "strict",
          "coloraxis": {
           "colorbar": {
            "outlinewidth": 0,
            "ticks": ""
           }
          },
          "colorscale": {
           "diverging": [
            [
             0,
             "#8e0152"
            ],
            [
             0.1,
             "#c51b7d"
            ],
            [
             0.2,
             "#de77ae"
            ],
            [
             0.3,
             "#f1b6da"
            ],
            [
             0.4,
             "#fde0ef"
            ],
            [
             0.5,
             "#f7f7f7"
            ],
            [
             0.6,
             "#e6f5d0"
            ],
            [
             0.7,
             "#b8e186"
            ],
            [
             0.8,
             "#7fbc41"
            ],
            [
             0.9,
             "#4d9221"
            ],
            [
             1,
             "#276419"
            ]
           ],
           "sequential": [
            [
             0,
             "#0d0887"
            ],
            [
             0.1111111111111111,
             "#46039f"
            ],
            [
             0.2222222222222222,
             "#7201a8"
            ],
            [
             0.3333333333333333,
             "#9c179e"
            ],
            [
             0.4444444444444444,
             "#bd3786"
            ],
            [
             0.5555555555555556,
             "#d8576b"
            ],
            [
             0.6666666666666666,
             "#ed7953"
            ],
            [
             0.7777777777777778,
             "#fb9f3a"
            ],
            [
             0.8888888888888888,
             "#fdca26"
            ],
            [
             1,
             "#f0f921"
            ]
           ],
           "sequentialminus": [
            [
             0,
             "#0d0887"
            ],
            [
             0.1111111111111111,
             "#46039f"
            ],
            [
             0.2222222222222222,
             "#7201a8"
            ],
            [
             0.3333333333333333,
             "#9c179e"
            ],
            [
             0.4444444444444444,
             "#bd3786"
            ],
            [
             0.5555555555555556,
             "#d8576b"
            ],
            [
             0.6666666666666666,
             "#ed7953"
            ],
            [
             0.7777777777777778,
             "#fb9f3a"
            ],
            [
             0.8888888888888888,
             "#fdca26"
            ],
            [
             1,
             "#f0f921"
            ]
           ]
          },
          "colorway": [
           "#636efa",
           "#EF553B",
           "#00cc96",
           "#ab63fa",
           "#FFA15A",
           "#19d3f3",
           "#FF6692",
           "#B6E880",
           "#FF97FF",
           "#FECB52"
          ],
          "font": {
           "color": "#2a3f5f"
          },
          "geo": {
           "bgcolor": "white",
           "lakecolor": "white",
           "landcolor": "#E5ECF6",
           "showlakes": true,
           "showland": true,
           "subunitcolor": "white"
          },
          "hoverlabel": {
           "align": "left"
          },
          "hovermode": "closest",
          "mapbox": {
           "style": "light"
          },
          "paper_bgcolor": "white",
          "plot_bgcolor": "#E5ECF6",
          "polar": {
           "angularaxis": {
            "gridcolor": "white",
            "linecolor": "white",
            "ticks": ""
           },
           "bgcolor": "#E5ECF6",
           "radialaxis": {
            "gridcolor": "white",
            "linecolor": "white",
            "ticks": ""
           }
          },
          "scene": {
           "xaxis": {
            "backgroundcolor": "#E5ECF6",
            "gridcolor": "white",
            "gridwidth": 2,
            "linecolor": "white",
            "showbackground": true,
            "ticks": "",
            "zerolinecolor": "white"
           },
           "yaxis": {
            "backgroundcolor": "#E5ECF6",
            "gridcolor": "white",
            "gridwidth": 2,
            "linecolor": "white",
            "showbackground": true,
            "ticks": "",
            "zerolinecolor": "white"
           },
           "zaxis": {
            "backgroundcolor": "#E5ECF6",
            "gridcolor": "white",
            "gridwidth": 2,
            "linecolor": "white",
            "showbackground": true,
            "ticks": "",
            "zerolinecolor": "white"
           }
          },
          "shapedefaults": {
           "line": {
            "color": "#2a3f5f"
           }
          },
          "ternary": {
           "aaxis": {
            "gridcolor": "white",
            "linecolor": "white",
            "ticks": ""
           },
           "baxis": {
            "gridcolor": "white",
            "linecolor": "white",
            "ticks": ""
           },
           "bgcolor": "#E5ECF6",
           "caxis": {
            "gridcolor": "white",
            "linecolor": "white",
            "ticks": ""
           }
          },
          "title": {
           "x": 0.05
          },
          "xaxis": {
           "automargin": true,
           "gridcolor": "white",
           "linecolor": "white",
           "ticks": "",
           "title": {
            "standoff": 15
           },
           "zerolinecolor": "white",
           "zerolinewidth": 2
          },
          "yaxis": {
           "automargin": true,
           "gridcolor": "white",
           "linecolor": "white",
           "ticks": "",
           "title": {
            "standoff": 15
           },
           "zerolinecolor": "white",
           "zerolinewidth": 2
          }
         }
        },
        "updatemenus": [
         {
          "buttons": [
           {
            "args": [
             null,
             {
              "frame": {
               "duration": 500,
               "redraw": true
              },
              "fromcurrent": true,
              "mode": "immediate",
              "transition": {
               "duration": 500,
               "easing": "linear"
              }
             }
            ],
            "label": "&#9654;",
            "method": "animate"
           },
           {
            "args": [
             [
              null
             ],
             {
              "frame": {
               "duration": 0,
               "redraw": true
              },
              "fromcurrent": true,
              "mode": "immediate",
              "transition": {
               "duration": 0,
               "easing": "linear"
              }
             }
            ],
            "label": "&#9724;",
            "method": "animate"
           }
          ],
          "direction": "left",
          "pad": {
           "r": 10,
           "t": 70
          },
          "showactive": false,
          "type": "buttons",
          "x": 0.1,
          "xanchor": "right",
          "y": 0,
          "yanchor": "top"
         }
        ]
       }
      }
     },
     "metadata": {},
     "output_type": "display_data"
    }
   ],
   "source": [
    "fig = px.scatter_mapbox(city_weather_top_5, lat=\"latitude\", lon=\"longitude\",\n",
    "                        color=\"temperature\", size ='temp_cube', zoom=7, mapbox_style=\"carto-positron\",\n",
    "                        animation_frame = \"dt_object\", animation_group = 'temperature')\n",
    "fig.show()"
   ]
  },
  {
   "cell_type": "code",
   "execution_count": 11,
   "metadata": {},
   "outputs": [
    {
     "name": "stdout",
     "output_type": "stream",
     "text": [
      "2023-02-15 11:05:25,291 INFO sqlalchemy.engine.Engine SELECT * FROM hotel \n",
      "2023-02-15 11:05:25,294 INFO sqlalchemy.engine.Engine [generated in 0.00310s] ()\n"
     ]
    },
    {
     "data": {
      "text/html": [
       "<div>\n",
       "<style scoped>\n",
       "    .dataframe tbody tr th:only-of-type {\n",
       "        vertical-align: middle;\n",
       "    }\n",
       "\n",
       "    .dataframe tbody tr th {\n",
       "        vertical-align: top;\n",
       "    }\n",
       "\n",
       "    .dataframe thead th {\n",
       "        text-align: right;\n",
       "    }\n",
       "</style>\n",
       "<table border=\"1\" class=\"dataframe\">\n",
       "  <thead>\n",
       "    <tr style=\"text-align: right;\">\n",
       "      <th></th>\n",
       "      <th>index</th>\n",
       "      <th>Unnamed: 0</th>\n",
       "      <th>hotel name</th>\n",
       "      <th>Url to its booking.com page</th>\n",
       "      <th>Score</th>\n",
       "      <th>Text description</th>\n",
       "      <th>lat</th>\n",
       "      <th>lon</th>\n",
       "    </tr>\n",
       "  </thead>\n",
       "  <tbody>\n",
       "    <tr>\n",
       "      <th>0</th>\n",
       "      <td>0</td>\n",
       "      <td>0</td>\n",
       "      <td>Aux MARCHES DU PALAIS - SPACIEUX - TERRASSE - ...</td>\n",
       "      <td>https://www.booking.com/hotel/fr/nouveau-aux-m...</td>\n",
       "      <td>9.2</td>\n",
       "      <td>None</td>\n",
       "      <td>43.952055</td>\n",
       "      <td>4.805463</td>\n",
       "    </tr>\n",
       "    <tr>\n",
       "      <th>1</th>\n",
       "      <td>1</td>\n",
       "      <td>1</td>\n",
       "      <td>KAROUBA.31</td>\n",
       "      <td>https://www.booking.com/hotel/fr/karouba-31.fr...</td>\n",
       "      <td>9.5</td>\n",
       "      <td>None</td>\n",
       "      <td>43.947607</td>\n",
       "      <td>4.807996</td>\n",
       "    </tr>\n",
       "    <tr>\n",
       "      <th>2</th>\n",
       "      <td>2</td>\n",
       "      <td>2</td>\n",
       "      <td>Maison XIXe et Jardin en Intramuros</td>\n",
       "      <td>https://www.booking.com/hotel/fr/maison-xixe-e...</td>\n",
       "      <td>9.0</td>\n",
       "      <td>None</td>\n",
       "      <td>43.950344</td>\n",
       "      <td>4.811538</td>\n",
       "    </tr>\n",
       "    <tr>\n",
       "      <th>3</th>\n",
       "      <td>3</td>\n",
       "      <td>3</td>\n",
       "      <td>Hôtel Cloitre Saint Louis Avignon</td>\n",
       "      <td>https://www.booking.com/hotel/fr/clarioncloitr...</td>\n",
       "      <td>7.6</td>\n",
       "      <td>None</td>\n",
       "      <td>43.943808</td>\n",
       "      <td>4.804947</td>\n",
       "    </tr>\n",
       "    <tr>\n",
       "      <th>4</th>\n",
       "      <td>4</td>\n",
       "      <td>4</td>\n",
       "      <td>Cute and cozy town-house of 130m2 in Avignon</td>\n",
       "      <td>https://www.booking.com/hotel/fr/cute-and-cozy...</td>\n",
       "      <td>8.4</td>\n",
       "      <td>None</td>\n",
       "      <td>43.946141</td>\n",
       "      <td>4.813088</td>\n",
       "    </tr>\n",
       "  </tbody>\n",
       "</table>\n",
       "</div>"
      ],
      "text/plain": [
       "   index  Unnamed: 0                                         hotel name  \\\n",
       "0      0           0  Aux MARCHES DU PALAIS - SPACIEUX - TERRASSE - ...   \n",
       "1      1           1                                         KAROUBA.31   \n",
       "2      2           2                Maison XIXe et Jardin en Intramuros   \n",
       "3      3           3                  Hôtel Cloitre Saint Louis Avignon   \n",
       "4      4           4       Cute and cozy town-house of 130m2 in Avignon   \n",
       "\n",
       "                         Url to its booking.com page  Score Text description  \\\n",
       "0  https://www.booking.com/hotel/fr/nouveau-aux-m...    9.2             None   \n",
       "1  https://www.booking.com/hotel/fr/karouba-31.fr...    9.5             None   \n",
       "2  https://www.booking.com/hotel/fr/maison-xixe-e...    9.0             None   \n",
       "3  https://www.booking.com/hotel/fr/clarioncloitr...    7.6             None   \n",
       "4  https://www.booking.com/hotel/fr/cute-and-cozy...    8.4             None   \n",
       "\n",
       "         lat       lon  \n",
       "0  43.952055  4.805463  \n",
       "1  43.947607  4.807996  \n",
       "2  43.950344  4.811538  \n",
       "3  43.943808  4.804947  \n",
       "4  43.946141  4.813088  "
      ]
     },
     "execution_count": 11,
     "metadata": {},
     "output_type": "execute_result"
    }
   ],
   "source": [
    "# Hotel info\n",
    "stmt = text(\"SELECT * FROM hotel \"\n",
    "            )\n",
    "\n",
    "df = pd.read_sql(\n",
    "        stmt,\n",
    "        engine\n",
    "    )\n",
    "\n",
    "df.head()"
   ]
  },
  {
   "cell_type": "code",
   "execution_count": 12,
   "metadata": {},
   "outputs": [
    {
     "data": {
      "application/vnd.plotly.v1+json": {
       "config": {
        "plotlyServerURL": "https://plot.ly"
       },
       "data": [
        {
         "hovertemplate": "Score=%{marker.color}<br>lat=%{lat}<br>lon=%{lon}<extra></extra>",
         "lat": [
          43.952055,
          43.9476071,
          43.95034438,
          43.9438081,
          43.9461414,
          43.9493997,
          43.9501934,
          43.95638753,
          43.94362946,
          43.94403213,
          43.94989514,
          43.9481658,
          43.95108984,
          43.9488705,
          43.9465116,
          43.9488433,
          43.29681825,
          43.31433499,
          43.29655283,
          43.2964649,
          43.309587,
          43.2953889,
          43.29594971,
          43.2892719,
          43.296878,
          43.2954015,
          43.304229,
          43.30020105,
          43.2505303,
          43.30272424,
          43.299162,
          43.300097,
          43.29412372,
          43.29654954,
          43.46542981,
          43.452083,
          43.47418844,
          43.44888,
          43.45656073,
          43.45512494,
          43.45039148,
          43.45033695,
          43.50038852,
          43.45105644,
          43.45233086,
          43.52955573,
          43.47103999,
          43.45349134,
          43.46095608,
          43.45134949,
          43.47260109,
          43.45106618,
          43.2909627,
          43.5656945,
          43.451133,
          43.566769,
          43.5022583,
          43.57639589,
          43.56607498,
          43.5656986,
          43.567701,
          43.5667316,
          43.56803552,
          43.5660175,
          43.5689974,
          43.5655416,
          43.57006008,
          43.5658193,
          43.5793021,
          43.57298752,
          43.574094,
          43.5575394,
          43.56498662,
          43.56721967,
          43.57379435,
          43.22207969,
          43.2120018,
          43.21589392,
          43.21537,
          43.21737259,
          43.21524569,
          43.214926,
          43.21529502,
          43.21644024,
          43.2208045,
          43.21462214,
          43.2211281,
          43.21505477,
          43.2206243,
          43.21509805,
          43.2143771,
          43.2202401,
          43.2191999,
          43.215009,
          43.9403371,
          43.9499383,
          43.94917757,
          43.21407197,
          43.95249614
         ],
         "legendgroup": "",
         "lon": [
          4.8054629,
          4.8079964,
          4.81153785,
          4.80494678,
          4.8130876,
          4.8088708,
          4.81058627,
          4.80199099,
          4.81217131,
          4.80533168,
          4.81986389,
          4.80576485,
          4.79801933,
          4.8095723,
          4.8035118,
          4.8078557,
          5.37305743,
          5.38842062,
          5.37188329,
          5.3671383,
          5.3799856,
          5.3791652,
          5.37455259,
          5.3619231,
          5.377579,
          5.363451,
          5.376624,
          5.38260245,
          5.3814817,
          5.37933044,
          5.401543,
          5.367585,
          5.37463993,
          5.39145293,
          4.41963136,
          4.425598,
          4.41020608,
          4.40168,
          4.42670293,
          4.42874014,
          4.42991227,
          4.42622423,
          4.427241,
          4.42515671,
          4.43364993,
          4.40055013,
          4.41058695,
          4.43545103,
          4.42231894,
          4.42507625,
          4.41012025,
          4.42509368,
          5.3764292,
          4.19151132,
          4.430953,
          4.189113,
          4.42575753,
          4.19781804,
          4.19257857,
          4.1908793,
          4.193413,
          4.2024508,
          4.1903438,
          4.1923532,
          4.1882982,
          4.1896099,
          4.1871778,
          4.2053528,
          4.2128337,
          4.1948247,
          4.179246,
          4.1823967,
          4.19175196,
          4.1893436,
          4.18062186,
          5.53792695,
          5.5276305,
          5.53476321,
          5.53719,
          5.53635836,
          5.54466784,
          5.532989,
          5.54623054,
          5.54174572,
          5.54229625,
          5.53477276,
          5.5565709,
          5.54057326,
          5.540767,
          5.54048743,
          5.5377803,
          5.5424693,
          5.5471365,
          5.530956,
          4.81174964,
          4.8065625,
          4.81083119,
          5.53062182,
          4.81014222
         ],
         "marker": {
          "color": [
           9.2,
           9.5,
           9,
           7.6,
           8.4,
           8.8,
           9.9,
           8,
           8.3,
           8,
           7.8,
           8.4,
           9.4,
           8.6,
           9.6,
           9.5,
           7.3,
           7.3,
           7.9,
           8.5,
           7.2,
           7,
           8.8,
           7,
           6.4,
           8.7,
           7.8,
           8.3,
           9.1,
           7.8,
           10,
           7.8,
           8.5,
           8.7,
           7.3,
           8.5,
           8.5,
           7.8,
           8.8,
           8.4,
           7.9,
           8.5,
           9.7,
           8.1,
           8.4,
           8.2,
           8.1,
           7.7,
           8.4,
           7,
           9,
           7.9,
           7.9,
           9.5,
           8.9,
           8.8,
           8.4,
           7,
           9.4,
           8.6,
           9.2,
           9,
           9.5,
           9.1,
           8.7,
           8.6,
           9,
           8.2,
           9.5,
           8.5,
           8.3,
           9.2,
           9.1,
           8.4,
           8,
           7.6,
           9.7,
           8.1,
           8.1,
           8.7,
           9.5,
           9,
           7.7,
           9.2,
           9,
           9.5,
           9,
           8.1,
           8.6,
           8.1,
           8,
           7,
           9.3,
           9.3,
           8.5,
           9.8,
           8.6,
           8.4,
           9.1
          ],
          "coloraxis": "coloraxis",
          "size": [
           9.2,
           9.5,
           9,
           7.6,
           8.4,
           8.8,
           9.9,
           8,
           8.3,
           8,
           7.8,
           8.4,
           9.4,
           8.6,
           9.6,
           9.5,
           7.3,
           7.3,
           7.9,
           8.5,
           7.2,
           7,
           8.8,
           7,
           6.4,
           8.7,
           7.8,
           8.3,
           9.1,
           7.8,
           10,
           7.8,
           8.5,
           8.7,
           7.3,
           8.5,
           8.5,
           7.8,
           8.8,
           8.4,
           7.9,
           8.5,
           9.7,
           8.1,
           8.4,
           8.2,
           8.1,
           7.7,
           8.4,
           7,
           9,
           7.9,
           7.9,
           9.5,
           8.9,
           8.8,
           8.4,
           7,
           9.4,
           8.6,
           9.2,
           9,
           9.5,
           9.1,
           8.7,
           8.6,
           9,
           8.2,
           9.5,
           8.5,
           8.3,
           9.2,
           9.1,
           8.4,
           8,
           7.6,
           9.7,
           8.1,
           8.1,
           8.7,
           9.5,
           9,
           7.7,
           9.2,
           9,
           9.5,
           9,
           8.1,
           8.6,
           8.1,
           8,
           7,
           9.3,
           9.3,
           8.5,
           9.8,
           8.6,
           8.4,
           9.1
          ],
          "sizemode": "area",
          "sizeref": 0.025
         },
         "mode": "markers",
         "name": "",
         "showlegend": false,
         "subplot": "mapbox",
         "type": "scattermapbox"
        }
       ],
       "layout": {
        "coloraxis": {
         "colorbar": {
          "title": {
           "text": "Score"
          }
         },
         "colorscale": [
          [
           0,
           "#0d0887"
          ],
          [
           0.1111111111111111,
           "#46039f"
          ],
          [
           0.2222222222222222,
           "#7201a8"
          ],
          [
           0.3333333333333333,
           "#9c179e"
          ],
          [
           0.4444444444444444,
           "#bd3786"
          ],
          [
           0.5555555555555556,
           "#d8576b"
          ],
          [
           0.6666666666666666,
           "#ed7953"
          ],
          [
           0.7777777777777778,
           "#fb9f3a"
          ],
          [
           0.8888888888888888,
           "#fdca26"
          ],
          [
           1,
           "#f0f921"
          ]
         ]
        },
        "legend": {
         "itemsizing": "constant",
         "tracegroupgap": 0
        },
        "mapbox": {
         "center": {
          "lat": 43.500996857575764,
          "lon": 4.862638414949495
         },
         "domain": {
          "x": [
           0,
           1
          ],
          "y": [
           0,
           1
          ]
         },
         "style": "carto-positron",
         "zoom": 7
        },
        "template": {
         "data": {
          "bar": [
           {
            "error_x": {
             "color": "#2a3f5f"
            },
            "error_y": {
             "color": "#2a3f5f"
            },
            "marker": {
             "line": {
              "color": "#E5ECF6",
              "width": 0.5
             },
             "pattern": {
              "fillmode": "overlay",
              "size": 10,
              "solidity": 0.2
             }
            },
            "type": "bar"
           }
          ],
          "barpolar": [
           {
            "marker": {
             "line": {
              "color": "#E5ECF6",
              "width": 0.5
             },
             "pattern": {
              "fillmode": "overlay",
              "size": 10,
              "solidity": 0.2
             }
            },
            "type": "barpolar"
           }
          ],
          "carpet": [
           {
            "aaxis": {
             "endlinecolor": "#2a3f5f",
             "gridcolor": "white",
             "linecolor": "white",
             "minorgridcolor": "white",
             "startlinecolor": "#2a3f5f"
            },
            "baxis": {
             "endlinecolor": "#2a3f5f",
             "gridcolor": "white",
             "linecolor": "white",
             "minorgridcolor": "white",
             "startlinecolor": "#2a3f5f"
            },
            "type": "carpet"
           }
          ],
          "choropleth": [
           {
            "colorbar": {
             "outlinewidth": 0,
             "ticks": ""
            },
            "type": "choropleth"
           }
          ],
          "contour": [
           {
            "colorbar": {
             "outlinewidth": 0,
             "ticks": ""
            },
            "colorscale": [
             [
              0,
              "#0d0887"
             ],
             [
              0.1111111111111111,
              "#46039f"
             ],
             [
              0.2222222222222222,
              "#7201a8"
             ],
             [
              0.3333333333333333,
              "#9c179e"
             ],
             [
              0.4444444444444444,
              "#bd3786"
             ],
             [
              0.5555555555555556,
              "#d8576b"
             ],
             [
              0.6666666666666666,
              "#ed7953"
             ],
             [
              0.7777777777777778,
              "#fb9f3a"
             ],
             [
              0.8888888888888888,
              "#fdca26"
             ],
             [
              1,
              "#f0f921"
             ]
            ],
            "type": "contour"
           }
          ],
          "contourcarpet": [
           {
            "colorbar": {
             "outlinewidth": 0,
             "ticks": ""
            },
            "type": "contourcarpet"
           }
          ],
          "heatmap": [
           {
            "colorbar": {
             "outlinewidth": 0,
             "ticks": ""
            },
            "colorscale": [
             [
              0,
              "#0d0887"
             ],
             [
              0.1111111111111111,
              "#46039f"
             ],
             [
              0.2222222222222222,
              "#7201a8"
             ],
             [
              0.3333333333333333,
              "#9c179e"
             ],
             [
              0.4444444444444444,
              "#bd3786"
             ],
             [
              0.5555555555555556,
              "#d8576b"
             ],
             [
              0.6666666666666666,
              "#ed7953"
             ],
             [
              0.7777777777777778,
              "#fb9f3a"
             ],
             [
              0.8888888888888888,
              "#fdca26"
             ],
             [
              1,
              "#f0f921"
             ]
            ],
            "type": "heatmap"
           }
          ],
          "heatmapgl": [
           {
            "colorbar": {
             "outlinewidth": 0,
             "ticks": ""
            },
            "colorscale": [
             [
              0,
              "#0d0887"
             ],
             [
              0.1111111111111111,
              "#46039f"
             ],
             [
              0.2222222222222222,
              "#7201a8"
             ],
             [
              0.3333333333333333,
              "#9c179e"
             ],
             [
              0.4444444444444444,
              "#bd3786"
             ],
             [
              0.5555555555555556,
              "#d8576b"
             ],
             [
              0.6666666666666666,
              "#ed7953"
             ],
             [
              0.7777777777777778,
              "#fb9f3a"
             ],
             [
              0.8888888888888888,
              "#fdca26"
             ],
             [
              1,
              "#f0f921"
             ]
            ],
            "type": "heatmapgl"
           }
          ],
          "histogram": [
           {
            "marker": {
             "pattern": {
              "fillmode": "overlay",
              "size": 10,
              "solidity": 0.2
             }
            },
            "type": "histogram"
           }
          ],
          "histogram2d": [
           {
            "colorbar": {
             "outlinewidth": 0,
             "ticks": ""
            },
            "colorscale": [
             [
              0,
              "#0d0887"
             ],
             [
              0.1111111111111111,
              "#46039f"
             ],
             [
              0.2222222222222222,
              "#7201a8"
             ],
             [
              0.3333333333333333,
              "#9c179e"
             ],
             [
              0.4444444444444444,
              "#bd3786"
             ],
             [
              0.5555555555555556,
              "#d8576b"
             ],
             [
              0.6666666666666666,
              "#ed7953"
             ],
             [
              0.7777777777777778,
              "#fb9f3a"
             ],
             [
              0.8888888888888888,
              "#fdca26"
             ],
             [
              1,
              "#f0f921"
             ]
            ],
            "type": "histogram2d"
           }
          ],
          "histogram2dcontour": [
           {
            "colorbar": {
             "outlinewidth": 0,
             "ticks": ""
            },
            "colorscale": [
             [
              0,
              "#0d0887"
             ],
             [
              0.1111111111111111,
              "#46039f"
             ],
             [
              0.2222222222222222,
              "#7201a8"
             ],
             [
              0.3333333333333333,
              "#9c179e"
             ],
             [
              0.4444444444444444,
              "#bd3786"
             ],
             [
              0.5555555555555556,
              "#d8576b"
             ],
             [
              0.6666666666666666,
              "#ed7953"
             ],
             [
              0.7777777777777778,
              "#fb9f3a"
             ],
             [
              0.8888888888888888,
              "#fdca26"
             ],
             [
              1,
              "#f0f921"
             ]
            ],
            "type": "histogram2dcontour"
           }
          ],
          "mesh3d": [
           {
            "colorbar": {
             "outlinewidth": 0,
             "ticks": ""
            },
            "type": "mesh3d"
           }
          ],
          "parcoords": [
           {
            "line": {
             "colorbar": {
              "outlinewidth": 0,
              "ticks": ""
             }
            },
            "type": "parcoords"
           }
          ],
          "pie": [
           {
            "automargin": true,
            "type": "pie"
           }
          ],
          "scatter": [
           {
            "fillpattern": {
             "fillmode": "overlay",
             "size": 10,
             "solidity": 0.2
            },
            "type": "scatter"
           }
          ],
          "scatter3d": [
           {
            "line": {
             "colorbar": {
              "outlinewidth": 0,
              "ticks": ""
             }
            },
            "marker": {
             "colorbar": {
              "outlinewidth": 0,
              "ticks": ""
             }
            },
            "type": "scatter3d"
           }
          ],
          "scattercarpet": [
           {
            "marker": {
             "colorbar": {
              "outlinewidth": 0,
              "ticks": ""
             }
            },
            "type": "scattercarpet"
           }
          ],
          "scattergeo": [
           {
            "marker": {
             "colorbar": {
              "outlinewidth": 0,
              "ticks": ""
             }
            },
            "type": "scattergeo"
           }
          ],
          "scattergl": [
           {
            "marker": {
             "colorbar": {
              "outlinewidth": 0,
              "ticks": ""
             }
            },
            "type": "scattergl"
           }
          ],
          "scattermapbox": [
           {
            "marker": {
             "colorbar": {
              "outlinewidth": 0,
              "ticks": ""
             }
            },
            "type": "scattermapbox"
           }
          ],
          "scatterpolar": [
           {
            "marker": {
             "colorbar": {
              "outlinewidth": 0,
              "ticks": ""
             }
            },
            "type": "scatterpolar"
           }
          ],
          "scatterpolargl": [
           {
            "marker": {
             "colorbar": {
              "outlinewidth": 0,
              "ticks": ""
             }
            },
            "type": "scatterpolargl"
           }
          ],
          "scatterternary": [
           {
            "marker": {
             "colorbar": {
              "outlinewidth": 0,
              "ticks": ""
             }
            },
            "type": "scatterternary"
           }
          ],
          "surface": [
           {
            "colorbar": {
             "outlinewidth": 0,
             "ticks": ""
            },
            "colorscale": [
             [
              0,
              "#0d0887"
             ],
             [
              0.1111111111111111,
              "#46039f"
             ],
             [
              0.2222222222222222,
              "#7201a8"
             ],
             [
              0.3333333333333333,
              "#9c179e"
             ],
             [
              0.4444444444444444,
              "#bd3786"
             ],
             [
              0.5555555555555556,
              "#d8576b"
             ],
             [
              0.6666666666666666,
              "#ed7953"
             ],
             [
              0.7777777777777778,
              "#fb9f3a"
             ],
             [
              0.8888888888888888,
              "#fdca26"
             ],
             [
              1,
              "#f0f921"
             ]
            ],
            "type": "surface"
           }
          ],
          "table": [
           {
            "cells": {
             "fill": {
              "color": "#EBF0F8"
             },
             "line": {
              "color": "white"
             }
            },
            "header": {
             "fill": {
              "color": "#C8D4E3"
             },
             "line": {
              "color": "white"
             }
            },
            "type": "table"
           }
          ]
         },
         "layout": {
          "annotationdefaults": {
           "arrowcolor": "#2a3f5f",
           "arrowhead": 0,
           "arrowwidth": 1
          },
          "autotypenumbers": "strict",
          "coloraxis": {
           "colorbar": {
            "outlinewidth": 0,
            "ticks": ""
           }
          },
          "colorscale": {
           "diverging": [
            [
             0,
             "#8e0152"
            ],
            [
             0.1,
             "#c51b7d"
            ],
            [
             0.2,
             "#de77ae"
            ],
            [
             0.3,
             "#f1b6da"
            ],
            [
             0.4,
             "#fde0ef"
            ],
            [
             0.5,
             "#f7f7f7"
            ],
            [
             0.6,
             "#e6f5d0"
            ],
            [
             0.7,
             "#b8e186"
            ],
            [
             0.8,
             "#7fbc41"
            ],
            [
             0.9,
             "#4d9221"
            ],
            [
             1,
             "#276419"
            ]
           ],
           "sequential": [
            [
             0,
             "#0d0887"
            ],
            [
             0.1111111111111111,
             "#46039f"
            ],
            [
             0.2222222222222222,
             "#7201a8"
            ],
            [
             0.3333333333333333,
             "#9c179e"
            ],
            [
             0.4444444444444444,
             "#bd3786"
            ],
            [
             0.5555555555555556,
             "#d8576b"
            ],
            [
             0.6666666666666666,
             "#ed7953"
            ],
            [
             0.7777777777777778,
             "#fb9f3a"
            ],
            [
             0.8888888888888888,
             "#fdca26"
            ],
            [
             1,
             "#f0f921"
            ]
           ],
           "sequentialminus": [
            [
             0,
             "#0d0887"
            ],
            [
             0.1111111111111111,
             "#46039f"
            ],
            [
             0.2222222222222222,
             "#7201a8"
            ],
            [
             0.3333333333333333,
             "#9c179e"
            ],
            [
             0.4444444444444444,
             "#bd3786"
            ],
            [
             0.5555555555555556,
             "#d8576b"
            ],
            [
             0.6666666666666666,
             "#ed7953"
            ],
            [
             0.7777777777777778,
             "#fb9f3a"
            ],
            [
             0.8888888888888888,
             "#fdca26"
            ],
            [
             1,
             "#f0f921"
            ]
           ]
          },
          "colorway": [
           "#636efa",
           "#EF553B",
           "#00cc96",
           "#ab63fa",
           "#FFA15A",
           "#19d3f3",
           "#FF6692",
           "#B6E880",
           "#FF97FF",
           "#FECB52"
          ],
          "font": {
           "color": "#2a3f5f"
          },
          "geo": {
           "bgcolor": "white",
           "lakecolor": "white",
           "landcolor": "#E5ECF6",
           "showlakes": true,
           "showland": true,
           "subunitcolor": "white"
          },
          "hoverlabel": {
           "align": "left"
          },
          "hovermode": "closest",
          "mapbox": {
           "style": "light"
          },
          "paper_bgcolor": "white",
          "plot_bgcolor": "#E5ECF6",
          "polar": {
           "angularaxis": {
            "gridcolor": "white",
            "linecolor": "white",
            "ticks": ""
           },
           "bgcolor": "#E5ECF6",
           "radialaxis": {
            "gridcolor": "white",
            "linecolor": "white",
            "ticks": ""
           }
          },
          "scene": {
           "xaxis": {
            "backgroundcolor": "#E5ECF6",
            "gridcolor": "white",
            "gridwidth": 2,
            "linecolor": "white",
            "showbackground": true,
            "ticks": "",
            "zerolinecolor": "white"
           },
           "yaxis": {
            "backgroundcolor": "#E5ECF6",
            "gridcolor": "white",
            "gridwidth": 2,
            "linecolor": "white",
            "showbackground": true,
            "ticks": "",
            "zerolinecolor": "white"
           },
           "zaxis": {
            "backgroundcolor": "#E5ECF6",
            "gridcolor": "white",
            "gridwidth": 2,
            "linecolor": "white",
            "showbackground": true,
            "ticks": "",
            "zerolinecolor": "white"
           }
          },
          "shapedefaults": {
           "line": {
            "color": "#2a3f5f"
           }
          },
          "ternary": {
           "aaxis": {
            "gridcolor": "white",
            "linecolor": "white",
            "ticks": ""
           },
           "baxis": {
            "gridcolor": "white",
            "linecolor": "white",
            "ticks": ""
           },
           "bgcolor": "#E5ECF6",
           "caxis": {
            "gridcolor": "white",
            "linecolor": "white",
            "ticks": ""
           }
          },
          "title": {
           "x": 0.05
          },
          "xaxis": {
           "automargin": true,
           "gridcolor": "white",
           "linecolor": "white",
           "ticks": "",
           "title": {
            "standoff": 15
           },
           "zerolinecolor": "white",
           "zerolinewidth": 2
          },
          "yaxis": {
           "automargin": true,
           "gridcolor": "white",
           "linecolor": "white",
           "ticks": "",
           "title": {
            "standoff": 15
           },
           "zerolinecolor": "white",
           "zerolinewidth": 2
          }
         }
        },
        "title": {
         "text": "Top 20 hotels in our top 5 cities"
        }
       }
      }
     },
     "metadata": {},
     "output_type": "display_data"
    }
   ],
   "source": [
    "fig = px.scatter_mapbox(hotel[hotel['Score'].notna()], lat=\"lat\", lon=\"lon\", zoom=7, size=\"Score\", color=\"Score\", mapbox_style=\"carto-positron\", title = 'Top 20 hotels in our top 5 cities')\n",
    "fig.show()"
   ]
  }
 ],
 "metadata": {
  "kernelspec": {
   "display_name": "base",
   "language": "python",
   "name": "python3"
  },
  "language_info": {
   "codemirror_mode": {
    "name": "ipython",
    "version": 3
   },
   "file_extension": ".py",
   "mimetype": "text/x-python",
   "name": "python",
   "nbconvert_exporter": "python",
   "pygments_lexer": "ipython3",
   "version": "3.10.8"
  },
  "orig_nbformat": 4,
  "vscode": {
   "interpreter": {
    "hash": "27475ad11a5960b5c9c2c23a23d0db9f81f2852f739b9cd5e7b2161981b102a1"
   }
  }
 },
 "nbformat": 4,
 "nbformat_minor": 2
}
