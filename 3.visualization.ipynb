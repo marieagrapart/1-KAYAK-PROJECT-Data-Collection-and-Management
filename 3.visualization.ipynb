{
 "cells": [
  {
   "cell_type": "code",
   "execution_count": 2,
   "metadata": {},
   "outputs": [],
   "source": [
    "# import of libraries \n",
    "from sqlalchemy import create_engine, text\n",
    "import pandas as pd\n",
    "import plotly.express as px"
   ]
  },
  {
   "cell_type": "code",
   "execution_count": 3,
   "metadata": {},
   "outputs": [],
   "source": [
    "# Call of our date in S3 \n",
    "weather = pd.read_csv('s3://booking-scapping/city_weather_by_day.csv')\n",
    "hotel = pd.read_csv('s3://booking-scapping/hotels_info.csv')"
   ]
  },
  {
   "cell_type": "code",
   "execution_count": 4,
   "metadata": {},
   "outputs": [
    {
     "data": {
      "text/html": [
       "<div>\n",
       "<style scoped>\n",
       "    .dataframe tbody tr th:only-of-type {\n",
       "        vertical-align: middle;\n",
       "    }\n",
       "\n",
       "    .dataframe tbody tr th {\n",
       "        vertical-align: top;\n",
       "    }\n",
       "\n",
       "    .dataframe thead th {\n",
       "        text-align: right;\n",
       "    }\n",
       "</style>\n",
       "<table border=\"1\" class=\"dataframe\">\n",
       "  <thead>\n",
       "    <tr style=\"text-align: right;\">\n",
       "      <th></th>\n",
       "      <th>Unnamed: 0</th>\n",
       "      <th>city</th>\n",
       "      <th>dt_object</th>\n",
       "      <th>main_weather</th>\n",
       "      <th>prepcipitation</th>\n",
       "      <th>temperature</th>\n",
       "      <th>latitude</th>\n",
       "      <th>longitude</th>\n",
       "    </tr>\n",
       "  </thead>\n",
       "  <tbody>\n",
       "    <tr>\n",
       "      <th>0</th>\n",
       "      <td>0</td>\n",
       "      <td>Aigues Mortes</td>\n",
       "      <td>2023-02-15</td>\n",
       "      <td>Clouds</td>\n",
       "      <td>0.0</td>\n",
       "      <td>10.71000</td>\n",
       "      <td>43.565823</td>\n",
       "      <td>4.191284</td>\n",
       "    </tr>\n",
       "    <tr>\n",
       "      <th>1</th>\n",
       "      <td>1</td>\n",
       "      <td>Aigues Mortes</td>\n",
       "      <td>2023-02-16</td>\n",
       "      <td>Clouds</td>\n",
       "      <td>0.0</td>\n",
       "      <td>9.81125</td>\n",
       "      <td>43.565823</td>\n",
       "      <td>4.191284</td>\n",
       "    </tr>\n",
       "    <tr>\n",
       "      <th>2</th>\n",
       "      <td>2</td>\n",
       "      <td>Aigues Mortes</td>\n",
       "      <td>2023-02-17</td>\n",
       "      <td>Clear</td>\n",
       "      <td>0.0</td>\n",
       "      <td>10.83000</td>\n",
       "      <td>43.565823</td>\n",
       "      <td>4.191284</td>\n",
       "    </tr>\n",
       "    <tr>\n",
       "      <th>3</th>\n",
       "      <td>3</td>\n",
       "      <td>Aigues Mortes</td>\n",
       "      <td>2023-02-18</td>\n",
       "      <td>Clear</td>\n",
       "      <td>0.0</td>\n",
       "      <td>12.93875</td>\n",
       "      <td>43.565823</td>\n",
       "      <td>4.191284</td>\n",
       "    </tr>\n",
       "    <tr>\n",
       "      <th>4</th>\n",
       "      <td>4</td>\n",
       "      <td>Aigues Mortes</td>\n",
       "      <td>2023-02-19</td>\n",
       "      <td>Clear</td>\n",
       "      <td>0.0</td>\n",
       "      <td>12.17375</td>\n",
       "      <td>43.565823</td>\n",
       "      <td>4.191284</td>\n",
       "    </tr>\n",
       "  </tbody>\n",
       "</table>\n",
       "</div>"
      ],
      "text/plain": [
       "   Unnamed: 0           city   dt_object main_weather  prepcipitation  \\\n",
       "0           0  Aigues Mortes  2023-02-15       Clouds             0.0   \n",
       "1           1  Aigues Mortes  2023-02-16       Clouds             0.0   \n",
       "2           2  Aigues Mortes  2023-02-17        Clear             0.0   \n",
       "3           3  Aigues Mortes  2023-02-18        Clear             0.0   \n",
       "4           4  Aigues Mortes  2023-02-19        Clear             0.0   \n",
       "\n",
       "   temperature   latitude  longitude  \n",
       "0     10.71000  43.565823   4.191284  \n",
       "1      9.81125  43.565823   4.191284  \n",
       "2     10.83000  43.565823   4.191284  \n",
       "3     12.93875  43.565823   4.191284  \n",
       "4     12.17375  43.565823   4.191284  "
      ]
     },
     "execution_count": 4,
     "metadata": {},
     "output_type": "execute_result"
    }
   ],
   "source": [
    "# Keep usefull data before sending it to our DB : take the weather by day of the top 5 city \n",
    "\n",
    "top_5_city_name = pd.read_csv('top_5_city_name.csv', names= ['city'])\n",
    "top_5_city_list = [x.strip() for x in top_5_city_name['city']]\n",
    "\n",
    "city_weather_top_5 = weather[weather['city'].isin(top_5_city_list)]\n",
    "city_weather_top_5.head()"
   ]
  },
  {
   "cell_type": "code",
   "execution_count": null,
   "metadata": {},
   "outputs": [],
   "source": [
    "# Clean the scrapping data before sending it to our DB\n",
    "\n",
    "hotel[['lat', 'lon']] = hotel['latlng'].str.split(',', 1, expand=True)\n",
    "hotel = hotel.drop(['depth','download_timeout','download_slot','latlng','download_latency'], axis=1)\n",
    "\n",
    "hotel['Score'] = hotel['Score'].replace({ ',' : '.'}, regex=True)\n",
    "\n",
    "hotel['Score'] = hotel['Score'].astype(float)\n",
    "hotel['lat'] = hotel['lat'].astype(float)\n",
    "hotel['lon'] = hotel['lon'].astype(float)"
   ]
  },
  {
   "cell_type": "code",
   "execution_count": 5,
   "metadata": {},
   "outputs": [
    {
     "name": "stdout",
     "output_type": "stream",
     "text": [
      "2023-02-15 15:29:05,278 INFO sqlalchemy.engine.Engine PRAGMA main.table_info(\"city_weather_top_5\")\n",
      "2023-02-15 15:29:05,279 INFO sqlalchemy.engine.Engine [raw sql] ()\n",
      "2023-02-15 15:29:05,279 INFO sqlalchemy.engine.Engine PRAGMA temp.table_info(\"city_weather_top_5\")\n",
      "2023-02-15 15:29:05,280 INFO sqlalchemy.engine.Engine [raw sql] ()\n",
      "2023-02-15 15:29:05,281 INFO sqlalchemy.engine.Engine BEGIN (implicit)\n",
      "2023-02-15 15:29:05,282 INFO sqlalchemy.engine.Engine \n",
      "CREATE TABLE city_weather_top_5 (\n",
      "\t\"index\" BIGINT, \n",
      "\t\"Unnamed: 0\" BIGINT, \n",
      "\tcity TEXT, \n",
      "\tdt_object TEXT, \n",
      "\tmain_weather TEXT, \n",
      "\tprepcipitation FLOAT, \n",
      "\ttemperature FLOAT, \n",
      "\tlatitude FLOAT, \n",
      "\tlongitude FLOAT\n",
      ")\n",
      "\n",
      "\n",
      "2023-02-15 15:29:05,282 INFO sqlalchemy.engine.Engine [no key 0.00052s] ()\n",
      "2023-02-15 15:29:05,283 INFO sqlalchemy.engine.Engine CREATE INDEX ix_city_weather_top_5_index ON city_weather_top_5 (\"index\")\n",
      "2023-02-15 15:29:05,283 INFO sqlalchemy.engine.Engine [no key 0.00021s] ()\n",
      "2023-02-15 15:29:05,284 INFO sqlalchemy.engine.Engine COMMIT\n",
      "2023-02-15 15:29:05,285 INFO sqlalchemy.engine.Engine BEGIN (implicit)\n",
      "2023-02-15 15:29:05,287 INFO sqlalchemy.engine.Engine INSERT INTO city_weather_top_5 (\"index\", \"Unnamed: 0\", city, dt_object, main_weather, prepcipitation, temperature, latitude, longitude) VALUES (?, ?, ?, ?, ?, ?, ?, ?, ?)\n",
      "2023-02-15 15:29:05,287 INFO sqlalchemy.engine.Engine [generated in 0.00069s] ((0, 0, 'Aigues Mortes', '2023-02-15', 'Clouds', 0.0, 10.710000000000022, 43.5658225, 4.1912837), (1, 1, 'Aigues Mortes', '2023-02-16', 'Clouds', 0.0, 9.811250000000022, 43.5658225, 4.1912837), (2, 2, 'Aigues Mortes', '2023-02-17', 'Clear', 0.0, 10.830000000000034, 43.5658225, 4.1912837), (3, 3, 'Aigues Mortes', '2023-02-18', 'Clear', 0.0, 12.938750000000034, 43.5658225, 4.1912837), (4, 4, 'Aigues Mortes', '2023-02-19', 'Clear', 0.0, 12.173750000000028, 43.5658225, 4.1912837), (5, 5, 'Aigues Mortes', '2023-02-20', 'Clouds', 0.0, 10.417500000000032, 43.5658225, 4.1912837), (30, 30, 'Avignon', '2023-02-15', 'Clouds', 0.0, 10.100000000000025, 43.9492493, 4.8059012), (31, 31, 'Avignon', '2023-02-16', 'Clouds', 0.0, 8.930000000000021, 43.9492493, 4.8059012)  ... displaying 10 of 30 total bound parameter sets ...  (184, 184, 'Saintes Maries de la mer', '2023-02-19', 'Clear', 0.0, 12.241250000000022, 43.4522771, 4.4287172), (185, 185, 'Saintes Maries de la mer', '2023-02-20', 'Clouds', 0.0, 10.760000000000034, 43.4522771, 4.4287172))\n",
      "2023-02-15 15:29:05,288 INFO sqlalchemy.engine.Engine COMMIT\n"
     ]
    },
    {
     "data": {
      "text/plain": [
       "30"
      ]
     },
     "execution_count": 5,
     "metadata": {},
     "output_type": "execute_result"
    }
   ],
   "source": [
    "# send to our DB\n",
    "\n",
    "engine = create_engine(\"sqlite:///:memory:\", echo=True)\n",
    "# engine = create_engine(f\"mysql+pymysql://{DBUSER}:{DBPASS}@{DBHOST}:{PORT}/{DBNAME}\", echo=True)\n",
    "# engine = create_engine(f\"postgresql+psycopg2://{USERNAME}:{PASSWORD}@{HOSTNAME}/{DBNAME}\", echo=True)\n",
    "\n",
    "city_weather_top_5.to_sql(\n",
    "    \"city_weather_top_5\",\n",
    "    engine\n",
    ")\n",
    "\n",
    "hotel.to_sql(\n",
    "    \"hotel\",\n",
    "    engine\n",
    ")"
   ]
  },
  {
   "attachments": {},
   "cell_type": "markdown",
   "metadata": {},
   "source": [
    "## Call tables from our BD and do visualization "
   ]
  },
  {
   "cell_type": "code",
   "execution_count": 8,
   "metadata": {},
   "outputs": [
    {
     "name": "stdout",
     "output_type": "stream",
     "text": [
      "2023-02-15 15:29:05,423 INFO sqlalchemy.engine.Engine SELECT * FROM city_weather_top_5 \n",
      "2023-02-15 15:29:05,423 INFO sqlalchemy.engine.Engine [generated in 0.00047s] ()\n"
     ]
    },
    {
     "data": {
      "text/html": [
       "<div>\n",
       "<style scoped>\n",
       "    .dataframe tbody tr th:only-of-type {\n",
       "        vertical-align: middle;\n",
       "    }\n",
       "\n",
       "    .dataframe tbody tr th {\n",
       "        vertical-align: top;\n",
       "    }\n",
       "\n",
       "    .dataframe thead th {\n",
       "        text-align: right;\n",
       "    }\n",
       "</style>\n",
       "<table border=\"1\" class=\"dataframe\">\n",
       "  <thead>\n",
       "    <tr style=\"text-align: right;\">\n",
       "      <th></th>\n",
       "      <th>index</th>\n",
       "      <th>Unnamed: 0</th>\n",
       "      <th>city</th>\n",
       "      <th>dt_object</th>\n",
       "      <th>main_weather</th>\n",
       "      <th>prepcipitation</th>\n",
       "      <th>temperature</th>\n",
       "      <th>latitude</th>\n",
       "      <th>longitude</th>\n",
       "    </tr>\n",
       "  </thead>\n",
       "  <tbody>\n",
       "    <tr>\n",
       "      <th>0</th>\n",
       "      <td>0</td>\n",
       "      <td>0</td>\n",
       "      <td>Aigues Mortes</td>\n",
       "      <td>2023-02-15</td>\n",
       "      <td>Clouds</td>\n",
       "      <td>0.0</td>\n",
       "      <td>10.71000</td>\n",
       "      <td>43.565823</td>\n",
       "      <td>4.191284</td>\n",
       "    </tr>\n",
       "    <tr>\n",
       "      <th>1</th>\n",
       "      <td>1</td>\n",
       "      <td>1</td>\n",
       "      <td>Aigues Mortes</td>\n",
       "      <td>2023-02-16</td>\n",
       "      <td>Clouds</td>\n",
       "      <td>0.0</td>\n",
       "      <td>9.81125</td>\n",
       "      <td>43.565823</td>\n",
       "      <td>4.191284</td>\n",
       "    </tr>\n",
       "    <tr>\n",
       "      <th>2</th>\n",
       "      <td>2</td>\n",
       "      <td>2</td>\n",
       "      <td>Aigues Mortes</td>\n",
       "      <td>2023-02-17</td>\n",
       "      <td>Clear</td>\n",
       "      <td>0.0</td>\n",
       "      <td>10.83000</td>\n",
       "      <td>43.565823</td>\n",
       "      <td>4.191284</td>\n",
       "    </tr>\n",
       "    <tr>\n",
       "      <th>3</th>\n",
       "      <td>3</td>\n",
       "      <td>3</td>\n",
       "      <td>Aigues Mortes</td>\n",
       "      <td>2023-02-18</td>\n",
       "      <td>Clear</td>\n",
       "      <td>0.0</td>\n",
       "      <td>12.93875</td>\n",
       "      <td>43.565823</td>\n",
       "      <td>4.191284</td>\n",
       "    </tr>\n",
       "    <tr>\n",
       "      <th>4</th>\n",
       "      <td>4</td>\n",
       "      <td>4</td>\n",
       "      <td>Aigues Mortes</td>\n",
       "      <td>2023-02-19</td>\n",
       "      <td>Clear</td>\n",
       "      <td>0.0</td>\n",
       "      <td>12.17375</td>\n",
       "      <td>43.565823</td>\n",
       "      <td>4.191284</td>\n",
       "    </tr>\n",
       "  </tbody>\n",
       "</table>\n",
       "</div>"
      ],
      "text/plain": [
       "   index  Unnamed: 0           city   dt_object main_weather  prepcipitation  \\\n",
       "0      0           0  Aigues Mortes  2023-02-15       Clouds             0.0   \n",
       "1      1           1  Aigues Mortes  2023-02-16       Clouds             0.0   \n",
       "2      2           2  Aigues Mortes  2023-02-17        Clear             0.0   \n",
       "3      3           3  Aigues Mortes  2023-02-18        Clear             0.0   \n",
       "4      4           4  Aigues Mortes  2023-02-19        Clear             0.0   \n",
       "\n",
       "   temperature   latitude  longitude  \n",
       "0     10.71000  43.565823   4.191284  \n",
       "1      9.81125  43.565823   4.191284  \n",
       "2     10.83000  43.565823   4.191284  \n",
       "3     12.93875  43.565823   4.191284  \n",
       "4     12.17375  43.565823   4.191284  "
      ]
     },
     "execution_count": 8,
     "metadata": {},
     "output_type": "execute_result"
    }
   ],
   "source": [
    "# Weather table \n",
    "\n",
    "stmt = text(\"SELECT * FROM city_weather_top_5 \"\n",
    "            )\n",
    "\n",
    "weather = pd.read_sql(\n",
    "        stmt,\n",
    "        engine\n",
    "    )\n",
    "\n",
    "weather.head()"
   ]
  },
  {
   "cell_type": "code",
   "execution_count": 9,
   "metadata": {},
   "outputs": [],
   "source": [
    "# Add a proportinal colum on temperature for better see the variation \n",
    "city_weather_top_5['temp_cube'] = city_weather_top_5['temperature']**3\n",
    "city_weather_top_5.head()\n",
    "\n",
    "city_weather_top_5['dt_object'] = city_weather_top_5['dt_object'].astype(str)"
   ]
  },
  {
   "cell_type": "code",
   "execution_count": 13,
   "metadata": {},
   "outputs": [
    {
     "data": {
      "application/vnd.plotly.v1+json": {
       "config": {
        "plotlyServerURL": "https://plot.ly"
       },
       "data": [
        {
         "hovertemplate": "dt_object=2023-02-15<br>temp_cube=%{marker.size}<br>latitude=%{lat}<br>longitude=%{lon}<br>temperature=%{marker.color}<extra></extra>",
         "ids": [
          10.710000000000022,
          10.100000000000025,
          11.847500000000023,
          12.125000000000014,
          10.69750000000002
         ],
         "lat": [
          43.5658225,
          43.9492493,
          43.2140359,
          43.2961743,
          43.4522771
         ],
         "legendgroup": "",
         "lon": [
          4.1912837,
          4.8059012,
          5.5396318,
          5.3699525,
          4.4287172
         ],
         "marker": {
          "color": [
           10.710000000000022,
           10.100000000000025,
           11.847500000000023,
           12.125000000000014,
           10.69750000000002
          ],
          "coloraxis": "coloraxis",
          "size": [
           1228.4809110000076,
           1030.3010000000074,
           1662.953678421885,
           1782.5644531250064,
           1224.1845256093816
          ],
          "sizemode": "area",
          "sizeref": 6.018627378164095
         },
         "mode": "markers",
         "name": "",
         "showlegend": false,
         "subplot": "mapbox",
         "type": "scattermapbox"
        }
       ],
       "frames": [
        {
         "data": [
          {
           "hovertemplate": "dt_object=2023-02-15<br>temp_cube=%{marker.size}<br>latitude=%{lat}<br>longitude=%{lon}<br>temperature=%{marker.color}<extra></extra>",
           "ids": [
            10.710000000000022,
            10.100000000000025,
            11.847500000000023,
            12.125000000000014,
            10.69750000000002
           ],
           "lat": [
            43.5658225,
            43.9492493,
            43.2140359,
            43.2961743,
            43.4522771
           ],
           "legendgroup": "",
           "lon": [
            4.1912837,
            4.8059012,
            5.5396318,
            5.3699525,
            4.4287172
           ],
           "marker": {
            "color": [
             10.710000000000022,
             10.100000000000025,
             11.847500000000023,
             12.125000000000014,
             10.69750000000002
            ],
            "coloraxis": "coloraxis",
            "size": [
             1228.4809110000076,
             1030.3010000000074,
             1662.953678421885,
             1782.5644531250064,
             1224.1845256093816
            ],
            "sizemode": "area",
            "sizeref": 6.018627378164095
           },
           "mode": "markers",
           "name": "",
           "showlegend": false,
           "subplot": "mapbox",
           "type": "scattermapbox"
          }
         ],
         "name": "2023-02-15"
        },
        {
         "data": [
          {
           "hovertemplate": "dt_object=2023-02-16<br>temp_cube=%{marker.size}<br>latitude=%{lat}<br>longitude=%{lon}<br>temperature=%{marker.color}<extra></extra>",
           "ids": [
            9.811250000000022,
            8.930000000000021,
            10.910000000000023,
            11.042500000000024,
            10.145000000000024
           ],
           "lat": [
            43.5658225,
            43.9492493,
            43.2140359,
            43.2961743,
            43.4522771
           ],
           "legendgroup": "",
           "lon": [
            4.1912837,
            4.8059012,
            5.5396318,
            5.3699525,
            4.4287172
           ],
           "marker": {
            "color": [
             9.811250000000022,
             8.930000000000021,
             10.910000000000023,
             11.042500000000024,
             10.145000000000024
            ],
            "coloraxis": "coloraxis",
            "size": [
             944.4370723613346,
             712.1219570000051,
             1298.5965710000082,
             1346.4871830156335,
             1044.1337986250076
            ],
            "sizemode": "area",
            "sizeref": 6.018627378164095
           },
           "mode": "markers",
           "name": "",
           "showlegend": false,
           "subplot": "mapbox",
           "type": "scattermapbox"
          }
         ],
         "name": "2023-02-16"
        },
        {
         "data": [
          {
           "hovertemplate": "dt_object=2023-02-17<br>temp_cube=%{marker.size}<br>latitude=%{lat}<br>longitude=%{lon}<br>temperature=%{marker.color}<extra></extra>",
           "ids": [
            10.830000000000034,
            10.476250000000022,
            10.891250000000028,
            11.196250000000028,
            10.965000000000025
           ],
           "lat": [
            43.5658225,
            43.9492493,
            43.2140359,
            43.2961743,
            43.4522771
           ],
           "legendgroup": "",
           "lon": [
            4.1912837,
            4.8059012,
            5.5396318,
            5.3699525,
            4.4287172
           ],
           "marker": {
            "color": [
             10.830000000000034,
             10.476250000000022,
             10.891250000000028,
             11.196250000000028,
             10.965000000000025
            ],
            "coloraxis": "coloraxis",
            "size": [
             1270.2387870000118,
             1149.7874420722728,
             1291.912740423838,
             1403.517272447276,
             1318.335382125009
            ],
            "sizemode": "area",
            "sizeref": 6.018627378164095
           },
           "mode": "markers",
           "name": "",
           "showlegend": false,
           "subplot": "mapbox",
           "type": "scattermapbox"
          }
         ],
         "name": "2023-02-17"
        },
        {
         "data": [
          {
           "hovertemplate": "dt_object=2023-02-18<br>temp_cube=%{marker.size}<br>latitude=%{lat}<br>longitude=%{lon}<br>temperature=%{marker.color}<extra></extra>",
           "ids": [
            12.938750000000034,
            13.402500000000025,
            11.72125000000002,
            12.086250000000014,
            13.00250000000002
           ],
           "lat": [
            43.5658225,
            43.9492493,
            43.2140359,
            43.2961743,
            43.4522771
           ],
           "legendgroup": "",
           "lon": [
            4.1912837,
            4.8059012,
            5.5396318,
            5.3699525,
            4.4287172
           ],
           "marker": {
            "color": [
             12.938750000000034,
             13.402500000000025,
             11.72125000000002,
             12.086250000000014,
             13.00250000000002
            ],
            "coloraxis": "coloraxis",
            "size": [
             2166.0923311543143,
             2407.450951265638,
             1610.3555969394617,
             1765.5284478691467,
             2198.2677437656357
            ],
            "sizemode": "area",
            "sizeref": 6.018627378164095
           },
           "mode": "markers",
           "name": "",
           "showlegend": false,
           "subplot": "mapbox",
           "type": "scattermapbox"
          }
         ],
         "name": "2023-02-18"
        },
        {
         "data": [
          {
           "hovertemplate": "dt_object=2023-02-19<br>temp_cube=%{marker.size}<br>latitude=%{lat}<br>longitude=%{lon}<br>temperature=%{marker.color}<extra></extra>",
           "ids": [
            12.173750000000028,
            12.075000000000015,
            12.390000000000027,
            12.621250000000018,
            12.241250000000022
           ],
           "lat": [
            43.5658225,
            43.9492493,
            43.2140359,
            43.2961743,
            43.4522771
           ],
           "legendgroup": "",
           "lon": [
            4.1912837,
            4.8059012,
            5.5396318,
            5.3699525,
            4.4287172
           ],
           "marker": {
            "color": [
             12.173750000000028,
             12.075000000000015,
             12.390000000000027,
             12.621250000000018,
             12.241250000000022
            ],
            "coloraxis": "coloraxis",
            "size": [
             1804.1520515996222,
             1760.6029218750066,
             1902.0149190000125,
             2010.5140286582116,
             1834.329297376963
            ],
            "sizemode": "area",
            "sizeref": 6.018627378164095
           },
           "mode": "markers",
           "name": "",
           "showlegend": false,
           "subplot": "mapbox",
           "type": "scattermapbox"
          }
         ],
         "name": "2023-02-19"
        },
        {
         "data": [
          {
           "hovertemplate": "dt_object=2023-02-20<br>temp_cube=%{marker.size}<br>latitude=%{lat}<br>longitude=%{lon}<br>temperature=%{marker.color}<extra></extra>",
           "ids": [
            10.417500000000032,
            9.830000000000028,
            11.220000000000011,
            11.315000000000012,
            10.760000000000034
           ],
           "lat": [
            43.5658225,
            43.9492493,
            43.2140359,
            43.2961743,
            43.4522771
           ],
           "legendgroup": "",
           "lon": [
            4.1912837,
            4.8059012,
            5.5396318,
            5.3699525,
            4.4287172
           ],
           "marker": {
            "color": [
             10.417500000000032,
             9.830000000000028,
             11.220000000000011,
             11.315000000000012,
             10.760000000000034
            ],
            "coloraxis": "coloraxis",
            "size": [
             1130.5519603593855,
             949.8620870000083,
             1412.4678480000043,
             1448.6506808750046,
             1245.7669760000117
            ],
            "sizemode": "area",
            "sizeref": 6.018627378164095
           },
           "mode": "markers",
           "name": "",
           "showlegend": false,
           "subplot": "mapbox",
           "type": "scattermapbox"
          }
         ],
         "name": "2023-02-20"
        }
       ],
       "layout": {
        "coloraxis": {
         "colorbar": {
          "title": {
           "text": "temperature"
          }
         },
         "colorscale": [
          [
           0,
           "#0d0887"
          ],
          [
           0.1111111111111111,
           "#46039f"
          ],
          [
           0.2222222222222222,
           "#7201a8"
          ],
          [
           0.3333333333333333,
           "#9c179e"
          ],
          [
           0.4444444444444444,
           "#bd3786"
          ],
          [
           0.5555555555555556,
           "#d8576b"
          ],
          [
           0.6666666666666666,
           "#ed7953"
          ],
          [
           0.7777777777777778,
           "#fb9f3a"
          ],
          [
           0.8888888888888888,
           "#fdca26"
          ],
          [
           1,
           "#f0f921"
          ]
         ]
        },
        "legend": {
         "itemsizing": "constant",
         "tracegroupgap": 0
        },
        "mapbox": {
         "center": {
          "lat": 43.49551181999998,
          "lon": 4.8670972799999985
         },
         "domain": {
          "x": [
           0,
           1
          ],
          "y": [
           0,
           1
          ]
         },
         "style": "carto-positron",
         "zoom": 7
        },
        "sliders": [
         {
          "active": 0,
          "currentvalue": {
           "prefix": "dt_object="
          },
          "len": 0.9,
          "pad": {
           "b": 10,
           "t": 60
          },
          "steps": [
           {
            "args": [
             [
              "2023-02-15"
             ],
             {
              "frame": {
               "duration": 0,
               "redraw": true
              },
              "fromcurrent": true,
              "mode": "immediate",
              "transition": {
               "duration": 0,
               "easing": "linear"
              }
             }
            ],
            "label": "2023-02-15",
            "method": "animate"
           },
           {
            "args": [
             [
              "2023-02-16"
             ],
             {
              "frame": {
               "duration": 0,
               "redraw": true
              },
              "fromcurrent": true,
              "mode": "immediate",
              "transition": {
               "duration": 0,
               "easing": "linear"
              }
             }
            ],
            "label": "2023-02-16",
            "method": "animate"
           },
           {
            "args": [
             [
              "2023-02-17"
             ],
             {
              "frame": {
               "duration": 0,
               "redraw": true
              },
              "fromcurrent": true,
              "mode": "immediate",
              "transition": {
               "duration": 0,
               "easing": "linear"
              }
             }
            ],
            "label": "2023-02-17",
            "method": "animate"
           },
           {
            "args": [
             [
              "2023-02-18"
             ],
             {
              "frame": {
               "duration": 0,
               "redraw": true
              },
              "fromcurrent": true,
              "mode": "immediate",
              "transition": {
               "duration": 0,
               "easing": "linear"
              }
             }
            ],
            "label": "2023-02-18",
            "method": "animate"
           },
           {
            "args": [
             [
              "2023-02-19"
             ],
             {
              "frame": {
               "duration": 0,
               "redraw": true
              },
              "fromcurrent": true,
              "mode": "immediate",
              "transition": {
               "duration": 0,
               "easing": "linear"
              }
             }
            ],
            "label": "2023-02-19",
            "method": "animate"
           },
           {
            "args": [
             [
              "2023-02-20"
             ],
             {
              "frame": {
               "duration": 0,
               "redraw": true
              },
              "fromcurrent": true,
              "mode": "immediate",
              "transition": {
               "duration": 0,
               "easing": "linear"
              }
             }
            ],
            "label": "2023-02-20",
            "method": "animate"
           }
          ],
          "x": 0.1,
          "xanchor": "left",
          "y": 0,
          "yanchor": "top"
         }
        ],
        "template": {
         "data": {
          "bar": [
           {
            "error_x": {
             "color": "#2a3f5f"
            },
            "error_y": {
             "color": "#2a3f5f"
            },
            "marker": {
             "line": {
              "color": "#E5ECF6",
              "width": 0.5
             },
             "pattern": {
              "fillmode": "overlay",
              "size": 10,
              "solidity": 0.2
             }
            },
            "type": "bar"
           }
          ],
          "barpolar": [
           {
            "marker": {
             "line": {
              "color": "#E5ECF6",
              "width": 0.5
             },
             "pattern": {
              "fillmode": "overlay",
              "size": 10,
              "solidity": 0.2
             }
            },
            "type": "barpolar"
           }
          ],
          "carpet": [
           {
            "aaxis": {
             "endlinecolor": "#2a3f5f",
             "gridcolor": "white",
             "linecolor": "white",
             "minorgridcolor": "white",
             "startlinecolor": "#2a3f5f"
            },
            "baxis": {
             "endlinecolor": "#2a3f5f",
             "gridcolor": "white",
             "linecolor": "white",
             "minorgridcolor": "white",
             "startlinecolor": "#2a3f5f"
            },
            "type": "carpet"
           }
          ],
          "choropleth": [
           {
            "colorbar": {
             "outlinewidth": 0,
             "ticks": ""
            },
            "type": "choropleth"
           }
          ],
          "contour": [
           {
            "colorbar": {
             "outlinewidth": 0,
             "ticks": ""
            },
            "colorscale": [
             [
              0,
              "#0d0887"
             ],
             [
              0.1111111111111111,
              "#46039f"
             ],
             [
              0.2222222222222222,
              "#7201a8"
             ],
             [
              0.3333333333333333,
              "#9c179e"
             ],
             [
              0.4444444444444444,
              "#bd3786"
             ],
             [
              0.5555555555555556,
              "#d8576b"
             ],
             [
              0.6666666666666666,
              "#ed7953"
             ],
             [
              0.7777777777777778,
              "#fb9f3a"
             ],
             [
              0.8888888888888888,
              "#fdca26"
             ],
             [
              1,
              "#f0f921"
             ]
            ],
            "type": "contour"
           }
          ],
          "contourcarpet": [
           {
            "colorbar": {
             "outlinewidth": 0,
             "ticks": ""
            },
            "type": "contourcarpet"
           }
          ],
          "heatmap": [
           {
            "colorbar": {
             "outlinewidth": 0,
             "ticks": ""
            },
            "colorscale": [
             [
              0,
              "#0d0887"
             ],
             [
              0.1111111111111111,
              "#46039f"
             ],
             [
              0.2222222222222222,
              "#7201a8"
             ],
             [
              0.3333333333333333,
              "#9c179e"
             ],
             [
              0.4444444444444444,
              "#bd3786"
             ],
             [
              0.5555555555555556,
              "#d8576b"
             ],
             [
              0.6666666666666666,
              "#ed7953"
             ],
             [
              0.7777777777777778,
              "#fb9f3a"
             ],
             [
              0.8888888888888888,
              "#fdca26"
             ],
             [
              1,
              "#f0f921"
             ]
            ],
            "type": "heatmap"
           }
          ],
          "heatmapgl": [
           {
            "colorbar": {
             "outlinewidth": 0,
             "ticks": ""
            },
            "colorscale": [
             [
              0,
              "#0d0887"
             ],
             [
              0.1111111111111111,
              "#46039f"
             ],
             [
              0.2222222222222222,
              "#7201a8"
             ],
             [
              0.3333333333333333,
              "#9c179e"
             ],
             [
              0.4444444444444444,
              "#bd3786"
             ],
             [
              0.5555555555555556,
              "#d8576b"
             ],
             [
              0.6666666666666666,
              "#ed7953"
             ],
             [
              0.7777777777777778,
              "#fb9f3a"
             ],
             [
              0.8888888888888888,
              "#fdca26"
             ],
             [
              1,
              "#f0f921"
             ]
            ],
            "type": "heatmapgl"
           }
          ],
          "histogram": [
           {
            "marker": {
             "pattern": {
              "fillmode": "overlay",
              "size": 10,
              "solidity": 0.2
             }
            },
            "type": "histogram"
           }
          ],
          "histogram2d": [
           {
            "colorbar": {
             "outlinewidth": 0,
             "ticks": ""
            },
            "colorscale": [
             [
              0,
              "#0d0887"
             ],
             [
              0.1111111111111111,
              "#46039f"
             ],
             [
              0.2222222222222222,
              "#7201a8"
             ],
             [
              0.3333333333333333,
              "#9c179e"
             ],
             [
              0.4444444444444444,
              "#bd3786"
             ],
             [
              0.5555555555555556,
              "#d8576b"
             ],
             [
              0.6666666666666666,
              "#ed7953"
             ],
             [
              0.7777777777777778,
              "#fb9f3a"
             ],
             [
              0.8888888888888888,
              "#fdca26"
             ],
             [
              1,
              "#f0f921"
             ]
            ],
            "type": "histogram2d"
           }
          ],
          "histogram2dcontour": [
           {
            "colorbar": {
             "outlinewidth": 0,
             "ticks": ""
            },
            "colorscale": [
             [
              0,
              "#0d0887"
             ],
             [
              0.1111111111111111,
              "#46039f"
             ],
             [
              0.2222222222222222,
              "#7201a8"
             ],
             [
              0.3333333333333333,
              "#9c179e"
             ],
             [
              0.4444444444444444,
              "#bd3786"
             ],
             [
              0.5555555555555556,
              "#d8576b"
             ],
             [
              0.6666666666666666,
              "#ed7953"
             ],
             [
              0.7777777777777778,
              "#fb9f3a"
             ],
             [
              0.8888888888888888,
              "#fdca26"
             ],
             [
              1,
              "#f0f921"
             ]
            ],
            "type": "histogram2dcontour"
           }
          ],
          "mesh3d": [
           {
            "colorbar": {
             "outlinewidth": 0,
             "ticks": ""
            },
            "type": "mesh3d"
           }
          ],
          "parcoords": [
           {
            "line": {
             "colorbar": {
              "outlinewidth": 0,
              "ticks": ""
             }
            },
            "type": "parcoords"
           }
          ],
          "pie": [
           {
            "automargin": true,
            "type": "pie"
           }
          ],
          "scatter": [
           {
            "fillpattern": {
             "fillmode": "overlay",
             "size": 10,
             "solidity": 0.2
            },
            "type": "scatter"
           }
          ],
          "scatter3d": [
           {
            "line": {
             "colorbar": {
              "outlinewidth": 0,
              "ticks": ""
             }
            },
            "marker": {
             "colorbar": {
              "outlinewidth": 0,
              "ticks": ""
             }
            },
            "type": "scatter3d"
           }
          ],
          "scattercarpet": [
           {
            "marker": {
             "colorbar": {
              "outlinewidth": 0,
              "ticks": ""
             }
            },
            "type": "scattercarpet"
           }
          ],
          "scattergeo": [
           {
            "marker": {
             "colorbar": {
              "outlinewidth": 0,
              "ticks": ""
             }
            },
            "type": "scattergeo"
           }
          ],
          "scattergl": [
           {
            "marker": {
             "colorbar": {
              "outlinewidth": 0,
              "ticks": ""
             }
            },
            "type": "scattergl"
           }
          ],
          "scattermapbox": [
           {
            "marker": {
             "colorbar": {
              "outlinewidth": 0,
              "ticks": ""
             }
            },
            "type": "scattermapbox"
           }
          ],
          "scatterpolar": [
           {
            "marker": {
             "colorbar": {
              "outlinewidth": 0,
              "ticks": ""
             }
            },
            "type": "scatterpolar"
           }
          ],
          "scatterpolargl": [
           {
            "marker": {
             "colorbar": {
              "outlinewidth": 0,
              "ticks": ""
             }
            },
            "type": "scatterpolargl"
           }
          ],
          "scatterternary": [
           {
            "marker": {
             "colorbar": {
              "outlinewidth": 0,
              "ticks": ""
             }
            },
            "type": "scatterternary"
           }
          ],
          "surface": [
           {
            "colorbar": {
             "outlinewidth": 0,
             "ticks": ""
            },
            "colorscale": [
             [
              0,
              "#0d0887"
             ],
             [
              0.1111111111111111,
              "#46039f"
             ],
             [
              0.2222222222222222,
              "#7201a8"
             ],
             [
              0.3333333333333333,
              "#9c179e"
             ],
             [
              0.4444444444444444,
              "#bd3786"
             ],
             [
              0.5555555555555556,
              "#d8576b"
             ],
             [
              0.6666666666666666,
              "#ed7953"
             ],
             [
              0.7777777777777778,
              "#fb9f3a"
             ],
             [
              0.8888888888888888,
              "#fdca26"
             ],
             [
              1,
              "#f0f921"
             ]
            ],
            "type": "surface"
           }
          ],
          "table": [
           {
            "cells": {
             "fill": {
              "color": "#EBF0F8"
             },
             "line": {
              "color": "white"
             }
            },
            "header": {
             "fill": {
              "color": "#C8D4E3"
             },
             "line": {
              "color": "white"
             }
            },
            "type": "table"
           }
          ]
         },
         "layout": {
          "annotationdefaults": {
           "arrowcolor": "#2a3f5f",
           "arrowhead": 0,
           "arrowwidth": 1
          },
          "autotypenumbers": "strict",
          "coloraxis": {
           "colorbar": {
            "outlinewidth": 0,
            "ticks": ""
           }
          },
          "colorscale": {
           "diverging": [
            [
             0,
             "#8e0152"
            ],
            [
             0.1,
             "#c51b7d"
            ],
            [
             0.2,
             "#de77ae"
            ],
            [
             0.3,
             "#f1b6da"
            ],
            [
             0.4,
             "#fde0ef"
            ],
            [
             0.5,
             "#f7f7f7"
            ],
            [
             0.6,
             "#e6f5d0"
            ],
            [
             0.7,
             "#b8e186"
            ],
            [
             0.8,
             "#7fbc41"
            ],
            [
             0.9,
             "#4d9221"
            ],
            [
             1,
             "#276419"
            ]
           ],
           "sequential": [
            [
             0,
             "#0d0887"
            ],
            [
             0.1111111111111111,
             "#46039f"
            ],
            [
             0.2222222222222222,
             "#7201a8"
            ],
            [
             0.3333333333333333,
             "#9c179e"
            ],
            [
             0.4444444444444444,
             "#bd3786"
            ],
            [
             0.5555555555555556,
             "#d8576b"
            ],
            [
             0.6666666666666666,
             "#ed7953"
            ],
            [
             0.7777777777777778,
             "#fb9f3a"
            ],
            [
             0.8888888888888888,
             "#fdca26"
            ],
            [
             1,
             "#f0f921"
            ]
           ],
           "sequentialminus": [
            [
             0,
             "#0d0887"
            ],
            [
             0.1111111111111111,
             "#46039f"
            ],
            [
             0.2222222222222222,
             "#7201a8"
            ],
            [
             0.3333333333333333,
             "#9c179e"
            ],
            [
             0.4444444444444444,
             "#bd3786"
            ],
            [
             0.5555555555555556,
             "#d8576b"
            ],
            [
             0.6666666666666666,
             "#ed7953"
            ],
            [
             0.7777777777777778,
             "#fb9f3a"
            ],
            [
             0.8888888888888888,
             "#fdca26"
            ],
            [
             1,
             "#f0f921"
            ]
           ]
          },
          "colorway": [
           "#636efa",
           "#EF553B",
           "#00cc96",
           "#ab63fa",
           "#FFA15A",
           "#19d3f3",
           "#FF6692",
           "#B6E880",
           "#FF97FF",
           "#FECB52"
          ],
          "font": {
           "color": "#2a3f5f"
          },
          "geo": {
           "bgcolor": "white",
           "lakecolor": "white",
           "landcolor": "#E5ECF6",
           "showlakes": true,
           "showland": true,
           "subunitcolor": "white"
          },
          "hoverlabel": {
           "align": "left"
          },
          "hovermode": "closest",
          "mapbox": {
           "style": "light"
          },
          "paper_bgcolor": "white",
          "plot_bgcolor": "#E5ECF6",
          "polar": {
           "angularaxis": {
            "gridcolor": "white",
            "linecolor": "white",
            "ticks": ""
           },
           "bgcolor": "#E5ECF6",
           "radialaxis": {
            "gridcolor": "white",
            "linecolor": "white",
            "ticks": ""
           }
          },
          "scene": {
           "xaxis": {
            "backgroundcolor": "#E5ECF6",
            "gridcolor": "white",
            "gridwidth": 2,
            "linecolor": "white",
            "showbackground": true,
            "ticks": "",
            "zerolinecolor": "white"
           },
           "yaxis": {
            "backgroundcolor": "#E5ECF6",
            "gridcolor": "white",
            "gridwidth": 2,
            "linecolor": "white",
            "showbackground": true,
            "ticks": "",
            "zerolinecolor": "white"
           },
           "zaxis": {
            "backgroundcolor": "#E5ECF6",
            "gridcolor": "white",
            "gridwidth": 2,
            "linecolor": "white",
            "showbackground": true,
            "ticks": "",
            "zerolinecolor": "white"
           }
          },
          "shapedefaults": {
           "line": {
            "color": "#2a3f5f"
           }
          },
          "ternary": {
           "aaxis": {
            "gridcolor": "white",
            "linecolor": "white",
            "ticks": ""
           },
           "baxis": {
            "gridcolor": "white",
            "linecolor": "white",
            "ticks": ""
           },
           "bgcolor": "#E5ECF6",
           "caxis": {
            "gridcolor": "white",
            "linecolor": "white",
            "ticks": ""
           }
          },
          "title": {
           "x": 0.05
          },
          "xaxis": {
           "automargin": true,
           "gridcolor": "white",
           "linecolor": "white",
           "ticks": "",
           "title": {
            "standoff": 15
           },
           "zerolinecolor": "white",
           "zerolinewidth": 2
          },
          "yaxis": {
           "automargin": true,
           "gridcolor": "white",
           "linecolor": "white",
           "ticks": "",
           "title": {
            "standoff": 15
           },
           "zerolinecolor": "white",
           "zerolinewidth": 2
          }
         }
        },
        "title": {
         "text": "Top 5 best weather cities"
        },
        "updatemenus": [
         {
          "buttons": [
           {
            "args": [
             null,
             {
              "frame": {
               "duration": 500,
               "redraw": true
              },
              "fromcurrent": true,
              "mode": "immediate",
              "transition": {
               "duration": 500,
               "easing": "linear"
              }
             }
            ],
            "label": "&#9654;",
            "method": "animate"
           },
           {
            "args": [
             [
              null
             ],
             {
              "frame": {
               "duration": 0,
               "redraw": true
              },
              "fromcurrent": true,
              "mode": "immediate",
              "transition": {
               "duration": 0,
               "easing": "linear"
              }
             }
            ],
            "label": "&#9724;",
            "method": "animate"
           }
          ],
          "direction": "left",
          "pad": {
           "r": 10,
           "t": 70
          },
          "showactive": false,
          "type": "buttons",
          "x": 0.1,
          "xanchor": "right",
          "y": 0,
          "yanchor": "top"
         }
        ]
       }
      }
     },
     "metadata": {},
     "output_type": "display_data"
    }
   ],
   "source": [
    "fig = px.scatter_mapbox(city_weather_top_5, lat=\"latitude\", lon=\"longitude\",\n",
    "                        color=\"temperature\", size ='temp_cube', zoom=7, mapbox_style=\"carto-positron\",\n",
    "                        animation_frame = \"dt_object\", animation_group = 'temperature',\n",
    "                        title=\"Top 5 best weather cities\")\n",
    "fig.show()"
   ]
  },
  {
   "cell_type": "code",
   "execution_count": 11,
   "metadata": {},
   "outputs": [
    {
     "name": "stdout",
     "output_type": "stream",
     "text": [
      "2023-02-15 15:29:05,874 INFO sqlalchemy.engine.Engine SELECT * FROM hotel \n",
      "2023-02-15 15:29:05,875 INFO sqlalchemy.engine.Engine [generated in 0.00075s] ()\n"
     ]
    },
    {
     "data": {
      "text/html": [
       "<div>\n",
       "<style scoped>\n",
       "    .dataframe tbody tr th:only-of-type {\n",
       "        vertical-align: middle;\n",
       "    }\n",
       "\n",
       "    .dataframe tbody tr th {\n",
       "        vertical-align: top;\n",
       "    }\n",
       "\n",
       "    .dataframe thead th {\n",
       "        text-align: right;\n",
       "    }\n",
       "</style>\n",
       "<table border=\"1\" class=\"dataframe\">\n",
       "  <thead>\n",
       "    <tr style=\"text-align: right;\">\n",
       "      <th></th>\n",
       "      <th>index</th>\n",
       "      <th>Unnamed: 0</th>\n",
       "      <th>hotel name</th>\n",
       "      <th>Url to its booking.com page</th>\n",
       "      <th>Score</th>\n",
       "      <th>Text description</th>\n",
       "      <th>lat</th>\n",
       "      <th>lon</th>\n",
       "    </tr>\n",
       "  </thead>\n",
       "  <tbody>\n",
       "    <tr>\n",
       "      <th>0</th>\n",
       "      <td>0</td>\n",
       "      <td>0</td>\n",
       "      <td>Aux MARCHES DU PALAIS - SPACIEUX - TERRASSE - ...</td>\n",
       "      <td>https://www.booking.com/hotel/fr/nouveau-aux-m...</td>\n",
       "      <td>9.2</td>\n",
       "      <td>None</td>\n",
       "      <td>43.952055</td>\n",
       "      <td>4.805463</td>\n",
       "    </tr>\n",
       "    <tr>\n",
       "      <th>1</th>\n",
       "      <td>1</td>\n",
       "      <td>1</td>\n",
       "      <td>KAROUBA.31</td>\n",
       "      <td>https://www.booking.com/hotel/fr/karouba-31.fr...</td>\n",
       "      <td>9.5</td>\n",
       "      <td>None</td>\n",
       "      <td>43.947607</td>\n",
       "      <td>4.807996</td>\n",
       "    </tr>\n",
       "    <tr>\n",
       "      <th>2</th>\n",
       "      <td>2</td>\n",
       "      <td>2</td>\n",
       "      <td>Maison XIXe et Jardin en Intramuros</td>\n",
       "      <td>https://www.booking.com/hotel/fr/maison-xixe-e...</td>\n",
       "      <td>9.0</td>\n",
       "      <td>None</td>\n",
       "      <td>43.950344</td>\n",
       "      <td>4.811538</td>\n",
       "    </tr>\n",
       "    <tr>\n",
       "      <th>3</th>\n",
       "      <td>3</td>\n",
       "      <td>3</td>\n",
       "      <td>Hôtel Cloitre Saint Louis Avignon</td>\n",
       "      <td>https://www.booking.com/hotel/fr/clarioncloitr...</td>\n",
       "      <td>7.6</td>\n",
       "      <td>None</td>\n",
       "      <td>43.943808</td>\n",
       "      <td>4.804947</td>\n",
       "    </tr>\n",
       "    <tr>\n",
       "      <th>4</th>\n",
       "      <td>4</td>\n",
       "      <td>4</td>\n",
       "      <td>Cute and cozy town-house of 130m2 in Avignon</td>\n",
       "      <td>https://www.booking.com/hotel/fr/cute-and-cozy...</td>\n",
       "      <td>8.4</td>\n",
       "      <td>None</td>\n",
       "      <td>43.946141</td>\n",
       "      <td>4.813088</td>\n",
       "    </tr>\n",
       "  </tbody>\n",
       "</table>\n",
       "</div>"
      ],
      "text/plain": [
       "   index  Unnamed: 0                                         hotel name  \\\n",
       "0      0           0  Aux MARCHES DU PALAIS - SPACIEUX - TERRASSE - ...   \n",
       "1      1           1                                         KAROUBA.31   \n",
       "2      2           2                Maison XIXe et Jardin en Intramuros   \n",
       "3      3           3                  Hôtel Cloitre Saint Louis Avignon   \n",
       "4      4           4       Cute and cozy town-house of 130m2 in Avignon   \n",
       "\n",
       "                         Url to its booking.com page  Score Text description  \\\n",
       "0  https://www.booking.com/hotel/fr/nouveau-aux-m...    9.2             None   \n",
       "1  https://www.booking.com/hotel/fr/karouba-31.fr...    9.5             None   \n",
       "2  https://www.booking.com/hotel/fr/maison-xixe-e...    9.0             None   \n",
       "3  https://www.booking.com/hotel/fr/clarioncloitr...    7.6             None   \n",
       "4  https://www.booking.com/hotel/fr/cute-and-cozy...    8.4             None   \n",
       "\n",
       "         lat       lon  \n",
       "0  43.952055  4.805463  \n",
       "1  43.947607  4.807996  \n",
       "2  43.950344  4.811538  \n",
       "3  43.943808  4.804947  \n",
       "4  43.946141  4.813088  "
      ]
     },
     "execution_count": 11,
     "metadata": {},
     "output_type": "execute_result"
    }
   ],
   "source": [
    "# Hotel info\n",
    "stmt = text(\"SELECT * FROM hotel \"\n",
    "            )\n",
    "\n",
    "df = pd.read_sql(\n",
    "        stmt,\n",
    "        engine\n",
    "    )\n",
    "\n",
    "df.head()"
   ]
  },
  {
   "cell_type": "code",
   "execution_count": 12,
   "metadata": {},
   "outputs": [
    {
     "data": {
      "application/vnd.plotly.v1+json": {
       "config": {
        "plotlyServerURL": "https://plot.ly"
       },
       "data": [
        {
         "hovertemplate": "Score=%{marker.color}<br>lat=%{lat}<br>lon=%{lon}<extra></extra>",
         "lat": [
          43.952055,
          43.9476071,
          43.95034438,
          43.9438081,
          43.9461414,
          43.9493997,
          43.9501934,
          43.95638753,
          43.94362946,
          43.94403213,
          43.94989514,
          43.9481658,
          43.95108984,
          43.9488705,
          43.9465116,
          43.9488433,
          43.29681825,
          43.31433499,
          43.29655283,
          43.2964649,
          43.309587,
          43.2953889,
          43.29594971,
          43.2892719,
          43.296878,
          43.2954015,
          43.304229,
          43.30020105,
          43.2505303,
          43.30272424,
          43.299162,
          43.300097,
          43.29412372,
          43.29654954,
          43.46542981,
          43.452083,
          43.47418844,
          43.44888,
          43.45656073,
          43.45512494,
          43.45039148,
          43.45033695,
          43.50038852,
          43.45105644,
          43.45233086,
          43.52955573,
          43.47103999,
          43.45349134,
          43.46095608,
          43.45134949,
          43.47260109,
          43.45106618,
          43.2909627,
          43.5656945,
          43.451133,
          43.566769,
          43.5022583,
          43.57639589,
          43.56607498,
          43.5656986,
          43.567701,
          43.5667316,
          43.56803552,
          43.5660175,
          43.5689974,
          43.5655416,
          43.57006008,
          43.5658193,
          43.5793021,
          43.57298752,
          43.574094,
          43.5575394,
          43.56498662,
          43.56721967,
          43.57379435,
          43.22207969,
          43.2120018,
          43.21589392,
          43.21537,
          43.21737259,
          43.21524569,
          43.214926,
          43.21529502,
          43.21644024,
          43.2208045,
          43.21462214,
          43.2211281,
          43.21505477,
          43.2206243,
          43.21509805,
          43.2143771,
          43.2202401,
          43.2191999,
          43.215009,
          43.9403371,
          43.9499383,
          43.94917757,
          43.21407197,
          43.95249614
         ],
         "legendgroup": "",
         "lon": [
          4.8054629,
          4.8079964,
          4.81153785,
          4.80494678,
          4.8130876,
          4.8088708,
          4.81058627,
          4.80199099,
          4.81217131,
          4.80533168,
          4.81986389,
          4.80576485,
          4.79801933,
          4.8095723,
          4.8035118,
          4.8078557,
          5.37305743,
          5.38842062,
          5.37188329,
          5.3671383,
          5.3799856,
          5.3791652,
          5.37455259,
          5.3619231,
          5.377579,
          5.363451,
          5.376624,
          5.38260245,
          5.3814817,
          5.37933044,
          5.401543,
          5.367585,
          5.37463993,
          5.39145293,
          4.41963136,
          4.425598,
          4.41020608,
          4.40168,
          4.42670293,
          4.42874014,
          4.42991227,
          4.42622423,
          4.427241,
          4.42515671,
          4.43364993,
          4.40055013,
          4.41058695,
          4.43545103,
          4.42231894,
          4.42507625,
          4.41012025,
          4.42509368,
          5.3764292,
          4.19151132,
          4.430953,
          4.189113,
          4.42575753,
          4.19781804,
          4.19257857,
          4.1908793,
          4.193413,
          4.2024508,
          4.1903438,
          4.1923532,
          4.1882982,
          4.1896099,
          4.1871778,
          4.2053528,
          4.2128337,
          4.1948247,
          4.179246,
          4.1823967,
          4.19175196,
          4.1893436,
          4.18062186,
          5.53792695,
          5.5276305,
          5.53476321,
          5.53719,
          5.53635836,
          5.54466784,
          5.532989,
          5.54623054,
          5.54174572,
          5.54229625,
          5.53477276,
          5.5565709,
          5.54057326,
          5.540767,
          5.54048743,
          5.5377803,
          5.5424693,
          5.5471365,
          5.530956,
          4.81174964,
          4.8065625,
          4.81083119,
          5.53062182,
          4.81014222
         ],
         "marker": {
          "color": [
           9.2,
           9.5,
           9,
           7.6,
           8.4,
           8.8,
           9.9,
           8,
           8.3,
           8,
           7.8,
           8.4,
           9.4,
           8.6,
           9.6,
           9.5,
           7.3,
           7.3,
           7.9,
           8.5,
           7.2,
           7,
           8.8,
           7,
           6.4,
           8.7,
           7.8,
           8.3,
           9.1,
           7.8,
           10,
           7.8,
           8.5,
           8.7,
           7.3,
           8.5,
           8.5,
           7.8,
           8.8,
           8.4,
           7.9,
           8.5,
           9.7,
           8.1,
           8.4,
           8.2,
           8.1,
           7.7,
           8.4,
           7,
           9,
           7.9,
           7.9,
           9.5,
           8.9,
           8.8,
           8.4,
           7,
           9.4,
           8.6,
           9.2,
           9,
           9.5,
           9.1,
           8.7,
           8.6,
           9,
           8.2,
           9.5,
           8.5,
           8.3,
           9.2,
           9.1,
           8.4,
           8,
           7.6,
           9.7,
           8.1,
           8.1,
           8.7,
           9.5,
           9,
           7.7,
           9.2,
           9,
           9.5,
           9,
           8.1,
           8.6,
           8.1,
           8,
           7,
           9.3,
           9.3,
           8.5,
           9.8,
           8.6,
           8.4,
           9.1
          ],
          "coloraxis": "coloraxis",
          "size": [
           9.2,
           9.5,
           9,
           7.6,
           8.4,
           8.8,
           9.9,
           8,
           8.3,
           8,
           7.8,
           8.4,
           9.4,
           8.6,
           9.6,
           9.5,
           7.3,
           7.3,
           7.9,
           8.5,
           7.2,
           7,
           8.8,
           7,
           6.4,
           8.7,
           7.8,
           8.3,
           9.1,
           7.8,
           10,
           7.8,
           8.5,
           8.7,
           7.3,
           8.5,
           8.5,
           7.8,
           8.8,
           8.4,
           7.9,
           8.5,
           9.7,
           8.1,
           8.4,
           8.2,
           8.1,
           7.7,
           8.4,
           7,
           9,
           7.9,
           7.9,
           9.5,
           8.9,
           8.8,
           8.4,
           7,
           9.4,
           8.6,
           9.2,
           9,
           9.5,
           9.1,
           8.7,
           8.6,
           9,
           8.2,
           9.5,
           8.5,
           8.3,
           9.2,
           9.1,
           8.4,
           8,
           7.6,
           9.7,
           8.1,
           8.1,
           8.7,
           9.5,
           9,
           7.7,
           9.2,
           9,
           9.5,
           9,
           8.1,
           8.6,
           8.1,
           8,
           7,
           9.3,
           9.3,
           8.5,
           9.8,
           8.6,
           8.4,
           9.1
          ],
          "sizemode": "area",
          "sizeref": 0.025
         },
         "mode": "markers",
         "name": "",
         "showlegend": false,
         "subplot": "mapbox",
         "type": "scattermapbox"
        }
       ],
       "layout": {
        "coloraxis": {
         "colorbar": {
          "title": {
           "text": "Score"
          }
         },
         "colorscale": [
          [
           0,
           "#0d0887"
          ],
          [
           0.1111111111111111,
           "#46039f"
          ],
          [
           0.2222222222222222,
           "#7201a8"
          ],
          [
           0.3333333333333333,
           "#9c179e"
          ],
          [
           0.4444444444444444,
           "#bd3786"
          ],
          [
           0.5555555555555556,
           "#d8576b"
          ],
          [
           0.6666666666666666,
           "#ed7953"
          ],
          [
           0.7777777777777778,
           "#fb9f3a"
          ],
          [
           0.8888888888888888,
           "#fdca26"
          ],
          [
           1,
           "#f0f921"
          ]
         ]
        },
        "legend": {
         "itemsizing": "constant",
         "tracegroupgap": 0
        },
        "mapbox": {
         "center": {
          "lat": 43.500996857575764,
          "lon": 4.862638414949495
         },
         "domain": {
          "x": [
           0,
           1
          ],
          "y": [
           0,
           1
          ]
         },
         "style": "carto-positron",
         "zoom": 7
        },
        "template": {
         "data": {
          "bar": [
           {
            "error_x": {
             "color": "#2a3f5f"
            },
            "error_y": {
             "color": "#2a3f5f"
            },
            "marker": {
             "line": {
              "color": "#E5ECF6",
              "width": 0.5
             },
             "pattern": {
              "fillmode": "overlay",
              "size": 10,
              "solidity": 0.2
             }
            },
            "type": "bar"
           }
          ],
          "barpolar": [
           {
            "marker": {
             "line": {
              "color": "#E5ECF6",
              "width": 0.5
             },
             "pattern": {
              "fillmode": "overlay",
              "size": 10,
              "solidity": 0.2
             }
            },
            "type": "barpolar"
           }
          ],
          "carpet": [
           {
            "aaxis": {
             "endlinecolor": "#2a3f5f",
             "gridcolor": "white",
             "linecolor": "white",
             "minorgridcolor": "white",
             "startlinecolor": "#2a3f5f"
            },
            "baxis": {
             "endlinecolor": "#2a3f5f",
             "gridcolor": "white",
             "linecolor": "white",
             "minorgridcolor": "white",
             "startlinecolor": "#2a3f5f"
            },
            "type": "carpet"
           }
          ],
          "choropleth": [
           {
            "colorbar": {
             "outlinewidth": 0,
             "ticks": ""
            },
            "type": "choropleth"
           }
          ],
          "contour": [
           {
            "colorbar": {
             "outlinewidth": 0,
             "ticks": ""
            },
            "colorscale": [
             [
              0,
              "#0d0887"
             ],
             [
              0.1111111111111111,
              "#46039f"
             ],
             [
              0.2222222222222222,
              "#7201a8"
             ],
             [
              0.3333333333333333,
              "#9c179e"
             ],
             [
              0.4444444444444444,
              "#bd3786"
             ],
             [
              0.5555555555555556,
              "#d8576b"
             ],
             [
              0.6666666666666666,
              "#ed7953"
             ],
             [
              0.7777777777777778,
              "#fb9f3a"
             ],
             [
              0.8888888888888888,
              "#fdca26"
             ],
             [
              1,
              "#f0f921"
             ]
            ],
            "type": "contour"
           }
          ],
          "contourcarpet": [
           {
            "colorbar": {
             "outlinewidth": 0,
             "ticks": ""
            },
            "type": "contourcarpet"
           }
          ],
          "heatmap": [
           {
            "colorbar": {
             "outlinewidth": 0,
             "ticks": ""
            },
            "colorscale": [
             [
              0,
              "#0d0887"
             ],
             [
              0.1111111111111111,
              "#46039f"
             ],
             [
              0.2222222222222222,
              "#7201a8"
             ],
             [
              0.3333333333333333,
              "#9c179e"
             ],
             [
              0.4444444444444444,
              "#bd3786"
             ],
             [
              0.5555555555555556,
              "#d8576b"
             ],
             [
              0.6666666666666666,
              "#ed7953"
             ],
             [
              0.7777777777777778,
              "#fb9f3a"
             ],
             [
              0.8888888888888888,
              "#fdca26"
             ],
             [
              1,
              "#f0f921"
             ]
            ],
            "type": "heatmap"
           }
          ],
          "heatmapgl": [
           {
            "colorbar": {
             "outlinewidth": 0,
             "ticks": ""
            },
            "colorscale": [
             [
              0,
              "#0d0887"
             ],
             [
              0.1111111111111111,
              "#46039f"
             ],
             [
              0.2222222222222222,
              "#7201a8"
             ],
             [
              0.3333333333333333,
              "#9c179e"
             ],
             [
              0.4444444444444444,
              "#bd3786"
             ],
             [
              0.5555555555555556,
              "#d8576b"
             ],
             [
              0.6666666666666666,
              "#ed7953"
             ],
             [
              0.7777777777777778,
              "#fb9f3a"
             ],
             [
              0.8888888888888888,
              "#fdca26"
             ],
             [
              1,
              "#f0f921"
             ]
            ],
            "type": "heatmapgl"
           }
          ],
          "histogram": [
           {
            "marker": {
             "pattern": {
              "fillmode": "overlay",
              "size": 10,
              "solidity": 0.2
             }
            },
            "type": "histogram"
           }
          ],
          "histogram2d": [
           {
            "colorbar": {
             "outlinewidth": 0,
             "ticks": ""
            },
            "colorscale": [
             [
              0,
              "#0d0887"
             ],
             [
              0.1111111111111111,
              "#46039f"
             ],
             [
              0.2222222222222222,
              "#7201a8"
             ],
             [
              0.3333333333333333,
              "#9c179e"
             ],
             [
              0.4444444444444444,
              "#bd3786"
             ],
             [
              0.5555555555555556,
              "#d8576b"
             ],
             [
              0.6666666666666666,
              "#ed7953"
             ],
             [
              0.7777777777777778,
              "#fb9f3a"
             ],
             [
              0.8888888888888888,
              "#fdca26"
             ],
             [
              1,
              "#f0f921"
             ]
            ],
            "type": "histogram2d"
           }
          ],
          "histogram2dcontour": [
           {
            "colorbar": {
             "outlinewidth": 0,
             "ticks": ""
            },
            "colorscale": [
             [
              0,
              "#0d0887"
             ],
             [
              0.1111111111111111,
              "#46039f"
             ],
             [
              0.2222222222222222,
              "#7201a8"
             ],
             [
              0.3333333333333333,
              "#9c179e"
             ],
             [
              0.4444444444444444,
              "#bd3786"
             ],
             [
              0.5555555555555556,
              "#d8576b"
             ],
             [
              0.6666666666666666,
              "#ed7953"
             ],
             [
              0.7777777777777778,
              "#fb9f3a"
             ],
             [
              0.8888888888888888,
              "#fdca26"
             ],
             [
              1,
              "#f0f921"
             ]
            ],
            "type": "histogram2dcontour"
           }
          ],
          "mesh3d": [
           {
            "colorbar": {
             "outlinewidth": 0,
             "ticks": ""
            },
            "type": "mesh3d"
           }
          ],
          "parcoords": [
           {
            "line": {
             "colorbar": {
              "outlinewidth": 0,
              "ticks": ""
             }
            },
            "type": "parcoords"
           }
          ],
          "pie": [
           {
            "automargin": true,
            "type": "pie"
           }
          ],
          "scatter": [
           {
            "fillpattern": {
             "fillmode": "overlay",
             "size": 10,
             "solidity": 0.2
            },
            "type": "scatter"
           }
          ],
          "scatter3d": [
           {
            "line": {
             "colorbar": {
              "outlinewidth": 0,
              "ticks": ""
             }
            },
            "marker": {
             "colorbar": {
              "outlinewidth": 0,
              "ticks": ""
             }
            },
            "type": "scatter3d"
           }
          ],
          "scattercarpet": [
           {
            "marker": {
             "colorbar": {
              "outlinewidth": 0,
              "ticks": ""
             }
            },
            "type": "scattercarpet"
           }
          ],
          "scattergeo": [
           {
            "marker": {
             "colorbar": {
              "outlinewidth": 0,
              "ticks": ""
             }
            },
            "type": "scattergeo"
           }
          ],
          "scattergl": [
           {
            "marker": {
             "colorbar": {
              "outlinewidth": 0,
              "ticks": ""
             }
            },
            "type": "scattergl"
           }
          ],
          "scattermapbox": [
           {
            "marker": {
             "colorbar": {
              "outlinewidth": 0,
              "ticks": ""
             }
            },
            "type": "scattermapbox"
           }
          ],
          "scatterpolar": [
           {
            "marker": {
             "colorbar": {
              "outlinewidth": 0,
              "ticks": ""
             }
            },
            "type": "scatterpolar"
           }
          ],
          "scatterpolargl": [
           {
            "marker": {
             "colorbar": {
              "outlinewidth": 0,
              "ticks": ""
             }
            },
            "type": "scatterpolargl"
           }
          ],
          "scatterternary": [
           {
            "marker": {
             "colorbar": {
              "outlinewidth": 0,
              "ticks": ""
             }
            },
            "type": "scatterternary"
           }
          ],
          "surface": [
           {
            "colorbar": {
             "outlinewidth": 0,
             "ticks": ""
            },
            "colorscale": [
             [
              0,
              "#0d0887"
             ],
             [
              0.1111111111111111,
              "#46039f"
             ],
             [
              0.2222222222222222,
              "#7201a8"
             ],
             [
              0.3333333333333333,
              "#9c179e"
             ],
             [
              0.4444444444444444,
              "#bd3786"
             ],
             [
              0.5555555555555556,
              "#d8576b"
             ],
             [
              0.6666666666666666,
              "#ed7953"
             ],
             [
              0.7777777777777778,
              "#fb9f3a"
             ],
             [
              0.8888888888888888,
              "#fdca26"
             ],
             [
              1,
              "#f0f921"
             ]
            ],
            "type": "surface"
           }
          ],
          "table": [
           {
            "cells": {
             "fill": {
              "color": "#EBF0F8"
             },
             "line": {
              "color": "white"
             }
            },
            "header": {
             "fill": {
              "color": "#C8D4E3"
             },
             "line": {
              "color": "white"
             }
            },
            "type": "table"
           }
          ]
         },
         "layout": {
          "annotationdefaults": {
           "arrowcolor": "#2a3f5f",
           "arrowhead": 0,
           "arrowwidth": 1
          },
          "autotypenumbers": "strict",
          "coloraxis": {
           "colorbar": {
            "outlinewidth": 0,
            "ticks": ""
           }
          },
          "colorscale": {
           "diverging": [
            [
             0,
             "#8e0152"
            ],
            [
             0.1,
             "#c51b7d"
            ],
            [
             0.2,
             "#de77ae"
            ],
            [
             0.3,
             "#f1b6da"
            ],
            [
             0.4,
             "#fde0ef"
            ],
            [
             0.5,
             "#f7f7f7"
            ],
            [
             0.6,
             "#e6f5d0"
            ],
            [
             0.7,
             "#b8e186"
            ],
            [
             0.8,
             "#7fbc41"
            ],
            [
             0.9,
             "#4d9221"
            ],
            [
             1,
             "#276419"
            ]
           ],
           "sequential": [
            [
             0,
             "#0d0887"
            ],
            [
             0.1111111111111111,
             "#46039f"
            ],
            [
             0.2222222222222222,
             "#7201a8"
            ],
            [
             0.3333333333333333,
             "#9c179e"
            ],
            [
             0.4444444444444444,
             "#bd3786"
            ],
            [
             0.5555555555555556,
             "#d8576b"
            ],
            [
             0.6666666666666666,
             "#ed7953"
            ],
            [
             0.7777777777777778,
             "#fb9f3a"
            ],
            [
             0.8888888888888888,
             "#fdca26"
            ],
            [
             1,
             "#f0f921"
            ]
           ],
           "sequentialminus": [
            [
             0,
             "#0d0887"
            ],
            [
             0.1111111111111111,
             "#46039f"
            ],
            [
             0.2222222222222222,
             "#7201a8"
            ],
            [
             0.3333333333333333,
             "#9c179e"
            ],
            [
             0.4444444444444444,
             "#bd3786"
            ],
            [
             0.5555555555555556,
             "#d8576b"
            ],
            [
             0.6666666666666666,
             "#ed7953"
            ],
            [
             0.7777777777777778,
             "#fb9f3a"
            ],
            [
             0.8888888888888888,
             "#fdca26"
            ],
            [
             1,
             "#f0f921"
            ]
           ]
          },
          "colorway": [
           "#636efa",
           "#EF553B",
           "#00cc96",
           "#ab63fa",
           "#FFA15A",
           "#19d3f3",
           "#FF6692",
           "#B6E880",
           "#FF97FF",
           "#FECB52"
          ],
          "font": {
           "color": "#2a3f5f"
          },
          "geo": {
           "bgcolor": "white",
           "lakecolor": "white",
           "landcolor": "#E5ECF6",
           "showlakes": true,
           "showland": true,
           "subunitcolor": "white"
          },
          "hoverlabel": {
           "align": "left"
          },
          "hovermode": "closest",
          "mapbox": {
           "style": "light"
          },
          "paper_bgcolor": "white",
          "plot_bgcolor": "#E5ECF6",
          "polar": {
           "angularaxis": {
            "gridcolor": "white",
            "linecolor": "white",
            "ticks": ""
           },
           "bgcolor": "#E5ECF6",
           "radialaxis": {
            "gridcolor": "white",
            "linecolor": "white",
            "ticks": ""
           }
          },
          "scene": {
           "xaxis": {
            "backgroundcolor": "#E5ECF6",
            "gridcolor": "white",
            "gridwidth": 2,
            "linecolor": "white",
            "showbackground": true,
            "ticks": "",
            "zerolinecolor": "white"
           },
           "yaxis": {
            "backgroundcolor": "#E5ECF6",
            "gridcolor": "white",
            "gridwidth": 2,
            "linecolor": "white",
            "showbackground": true,
            "ticks": "",
            "zerolinecolor": "white"
           },
           "zaxis": {
            "backgroundcolor": "#E5ECF6",
            "gridcolor": "white",
            "gridwidth": 2,
            "linecolor": "white",
            "showbackground": true,
            "ticks": "",
            "zerolinecolor": "white"
           }
          },
          "shapedefaults": {
           "line": {
            "color": "#2a3f5f"
           }
          },
          "ternary": {
           "aaxis": {
            "gridcolor": "white",
            "linecolor": "white",
            "ticks": ""
           },
           "baxis": {
            "gridcolor": "white",
            "linecolor": "white",
            "ticks": ""
           },
           "bgcolor": "#E5ECF6",
           "caxis": {
            "gridcolor": "white",
            "linecolor": "white",
            "ticks": ""
           }
          },
          "title": {
           "x": 0.05
          },
          "xaxis": {
           "automargin": true,
           "gridcolor": "white",
           "linecolor": "white",
           "ticks": "",
           "title": {
            "standoff": 15
           },
           "zerolinecolor": "white",
           "zerolinewidth": 2
          },
          "yaxis": {
           "automargin": true,
           "gridcolor": "white",
           "linecolor": "white",
           "ticks": "",
           "title": {
            "standoff": 15
           },
           "zerolinecolor": "white",
           "zerolinewidth": 2
          }
         }
        },
        "title": {
         "text": "Top 20 hotels in our top 5 cities"
        }
       }
      }
     },
     "metadata": {},
     "output_type": "display_data"
    }
   ],
   "source": [
    "fig = px.scatter_mapbox(hotel[hotel['Score'].notna()], lat=\"lat\", lon=\"lon\", \n",
    "                        zoom=7, size=\"Score\", color=\"Score\", mapbox_style=\"carto-positron\", \n",
    "                        title = 'Top 20 hotels in our top 5 cities')\n",
    "fig.show()"
   ]
  }
 ],
 "metadata": {
  "kernelspec": {
   "display_name": "base",
   "language": "python",
   "name": "python3"
  },
  "language_info": {
   "codemirror_mode": {
    "name": "ipython",
    "version": 3
   },
   "file_extension": ".py",
   "mimetype": "text/x-python",
   "name": "python",
   "nbconvert_exporter": "python",
   "pygments_lexer": "ipython3",
   "version": "3.10.8"
  },
  "orig_nbformat": 4,
  "vscode": {
   "interpreter": {
    "hash": "27475ad11a5960b5c9c2c23a23d0db9f81f2852f739b9cd5e7b2161981b102a1"
   }
  }
 },
 "nbformat": 4,
 "nbformat_minor": 2
}
