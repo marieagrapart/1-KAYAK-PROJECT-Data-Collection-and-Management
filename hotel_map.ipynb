{
 "cells": [
  {
   "cell_type": "code",
   "execution_count": 8,
   "metadata": {},
   "outputs": [],
   "source": [
    "import pandas as pd \n",
    "import plotly.express as px"
   ]
  },
  {
   "cell_type": "code",
   "execution_count": 9,
   "metadata": {},
   "outputs": [
    {
     "data": {
      "text/html": [
       "<div>\n",
       "<style scoped>\n",
       "    .dataframe tbody tr th:only-of-type {\n",
       "        vertical-align: middle;\n",
       "    }\n",
       "\n",
       "    .dataframe tbody tr th {\n",
       "        vertical-align: top;\n",
       "    }\n",
       "\n",
       "    .dataframe thead th {\n",
       "        text-align: right;\n",
       "    }\n",
       "</style>\n",
       "<table border=\"1\" class=\"dataframe\">\n",
       "  <thead>\n",
       "    <tr style=\"text-align: right;\">\n",
       "      <th></th>\n",
       "      <th>hotel name</th>\n",
       "      <th>Url to its booking.com page</th>\n",
       "      <th>Score</th>\n",
       "      <th>Text description</th>\n",
       "      <th>depth</th>\n",
       "      <th>download_timeout</th>\n",
       "      <th>download_slot</th>\n",
       "      <th>download_latency</th>\n",
       "      <th>latlng</th>\n",
       "    </tr>\n",
       "  </thead>\n",
       "  <tbody>\n",
       "    <tr>\n",
       "      <th>0</th>\n",
       "      <td>Les Roches Brunes</td>\n",
       "      <td>https://www.booking.com/hotel/fr/les-roches-br...</td>\n",
       "      <td>9,1</td>\n",
       "      <td>Situé à Collioure, à 70 mètres de la plage de ...</td>\n",
       "      <td>2</td>\n",
       "      <td>180</td>\n",
       "      <td>www.booking.com</td>\n",
       "      <td>0.885230</td>\n",
       "      <td>42.52534777,3.09032446</td>\n",
       "    </tr>\n",
       "    <tr>\n",
       "      <th>1</th>\n",
       "      <td>Maison T4 Horizon _ Vue mer _ Piscine _ Parking</td>\n",
       "      <td>https://www.booking.com/hotel/fr/maison-t4-hor...</td>\n",
       "      <td>10</td>\n",
       "      <td>None</td>\n",
       "      <td>2</td>\n",
       "      <td>180</td>\n",
       "      <td>www.booking.com</td>\n",
       "      <td>0.855643</td>\n",
       "      <td>42.52272630,3.09265070</td>\n",
       "    </tr>\n",
       "    <tr>\n",
       "      <th>2</th>\n",
       "      <td>Mas de la Croette Collioure</td>\n",
       "      <td>https://www.booking.com/hotel/fr/mas-de-la-cro...</td>\n",
       "      <td>9,0</td>\n",
       "      <td>None</td>\n",
       "      <td>2</td>\n",
       "      <td>180</td>\n",
       "      <td>www.booking.com</td>\n",
       "      <td>0.885755</td>\n",
       "      <td>42.52173350,3.07287380</td>\n",
       "    </tr>\n",
       "    <tr>\n",
       "      <th>3</th>\n",
       "      <td>Les hauteurs de Collioure</td>\n",
       "      <td>https://www.booking.com/hotel/fr/les-hauteurs-...</td>\n",
       "      <td>9,3</td>\n",
       "      <td>None</td>\n",
       "      <td>2</td>\n",
       "      <td>180</td>\n",
       "      <td>www.booking.com</td>\n",
       "      <td>0.940443</td>\n",
       "      <td>42.52457100,3.06868300</td>\n",
       "    </tr>\n",
       "    <tr>\n",
       "      <th>4</th>\n",
       "      <td>Hôtel la Bona Casa</td>\n",
       "      <td>https://www.booking.com/hotel/fr/la-bona-casa....</td>\n",
       "      <td>8,5</td>\n",
       "      <td>None</td>\n",
       "      <td>2</td>\n",
       "      <td>180</td>\n",
       "      <td>www.booking.com</td>\n",
       "      <td>1.159766</td>\n",
       "      <td>42.52547153,3.08269870</td>\n",
       "    </tr>\n",
       "  </tbody>\n",
       "</table>\n",
       "</div>"
      ],
      "text/plain": [
       "                                        hotel name  \\\n",
       "0                                Les Roches Brunes   \n",
       "1  Maison T4 Horizon _ Vue mer _ Piscine _ Parking   \n",
       "2                      Mas de la Croette Collioure   \n",
       "3                        Les hauteurs de Collioure   \n",
       "4                               Hôtel la Bona Casa   \n",
       "\n",
       "                         Url to its booking.com page Score  \\\n",
       "0  https://www.booking.com/hotel/fr/les-roches-br...   9,1   \n",
       "1  https://www.booking.com/hotel/fr/maison-t4-hor...    10   \n",
       "2  https://www.booking.com/hotel/fr/mas-de-la-cro...   9,0   \n",
       "3  https://www.booking.com/hotel/fr/les-hauteurs-...   9,3   \n",
       "4  https://www.booking.com/hotel/fr/la-bona-casa....   8,5   \n",
       "\n",
       "                                    Text description  depth  download_timeout  \\\n",
       "0  Situé à Collioure, à 70 mètres de la plage de ...      2               180   \n",
       "1                                               None      2               180   \n",
       "2                                               None      2               180   \n",
       "3                                               None      2               180   \n",
       "4                                               None      2               180   \n",
       "\n",
       "     download_slot  download_latency                  latlng  \n",
       "0  www.booking.com          0.885230  42.52534777,3.09032446  \n",
       "1  www.booking.com          0.855643  42.52272630,3.09265070  \n",
       "2  www.booking.com          0.885755  42.52173350,3.07287380  \n",
       "3  www.booking.com          0.940443  42.52457100,3.06868300  \n",
       "4  www.booking.com          1.159766  42.52547153,3.08269870  "
      ]
     },
     "execution_count": 9,
     "metadata": {},
     "output_type": "execute_result"
    }
   ],
   "source": [
    "#lecture de nos data scrapper sur booking en dataframe\n",
    "\n",
    "df = pd.read_json('data/booking_test.json')\n",
    "df.head()"
   ]
  },
  {
   "cell_type": "code",
   "execution_count": 10,
   "metadata": {},
   "outputs": [],
   "source": [
    "#Mise en forme de la data pour la tranformer en map \n",
    "\n",
    "df[['lat', 'lon']] = df['latlng'].str.split(',', 1, expand=True)\n",
    "df2 = df.drop('latlng', axis=1)\n",
    "df2['Score'] = df2['Score'].replace({ ',' : '.'}, regex=True)"
   ]
  },
  {
   "cell_type": "code",
   "execution_count": 11,
   "metadata": {},
   "outputs": [],
   "source": [
    "# certain hotel n'ont pas de note, ce code sert à remplacer les n/a, et je prefere les identifier et les retirer le map. \n",
    "df2['Score'] = df2['Score'].fillna(0)"
   ]
  },
  {
   "cell_type": "code",
   "execution_count": 12,
   "metadata": {},
   "outputs": [],
   "source": [
    "df2['Score'] = df2['Score'].astype(float)\n",
    "df2['lat'] = df2['lat'].astype(float)\n",
    "df2['lon'] = df2['lon'].astype(float)"
   ]
  },
  {
   "cell_type": "code",
   "execution_count": 13,
   "metadata": {},
   "outputs": [
    {
     "data": {
      "application/vnd.plotly.v1+json": {
       "config": {
        "plotlyServerURL": "https://plot.ly"
       },
       "data": [
        {
         "hovertemplate": "Score=%{marker.color}<br>lat=%{lat}<br>lon=%{lon}<extra></extra>",
         "lat": [
          42.52534777,
          42.5227263,
          42.5217335,
          42.524571,
          42.52547153,
          42.52260227,
          42.52591431,
          42.5224225,
          42.52638625,
          42.5231685,
          42.52439,
          42.5271222,
          42.52371617,
          43.29139738,
          42.523431,
          42.52876467,
          43.29665083,
          43.21462302,
          43.2910567,
          43.29212822,
          43.2930579,
          43.2966165,
          43.29681825,
          43.2992713,
          43.27869234,
          43.29155323,
          43.2798554,
          43.31433499,
          43.309587,
          43.2892719,
          43.2953889,
          43.2964649,
          43.296878,
          43.304229,
          43.29655283,
          43.2954015,
          43.2119159,
          43.21495674,
          43.211728,
          43.21212598,
          43.216905,
          43.21521908,
          43.21589392,
          43.22207969,
          43.21737259,
          43.21529502,
          43.21524569,
          43.214926,
          43.2208045,
          43.21644024,
          43.21509805,
          43.21462214,
          43.21537,
          43.2211281,
          43.5656945,
          43.566769,
          43.2191999,
          43.56607498,
          43.57639589,
          43.5656986,
          43.56803552,
          43.567701,
          43.5667316,
          43.5660175,
          43.5655416,
          43.5689974,
          43.5658193,
          43.57006008,
          43.5793021,
          43.57298752,
          43.57379435,
          43.574094,
          43.4893118,
          43.56498662,
          43.56721967,
          43.47145266,
          43.46542981,
          43.452083,
          43.44888,
          43.47418844,
          43.45656073,
          43.45039148,
          43.50038852,
          43.45512494,
          43.45033695,
          43.46095608,
          43.45105644,
          43.45233086,
          43.45349134,
          43.45106618,
          43.45134949,
          43.47260109,
          43.451133,
          43.47103999,
          43.5575394,
          42.52708254,
          42.52311754,
          42.52616733,
          42.52538159,
          42.52434874
         ],
         "legendgroup": "",
         "lon": [
          3.09032446,
          3.0926507,
          3.0728738,
          3.068683,
          3.0826987,
          3.09160033,
          3.0826816,
          3.0925125,
          3.08325659,
          3.0848662,
          3.082726,
          3.0765161,
          3.08713473,
          5.37193626,
          3.097688,
          3.07865426,
          5.37055627,
          5.54361251,
          5.40434003,
          5.3664093,
          5.3747725,
          5.3658735,
          5.37305743,
          5.3780468,
          5.38806036,
          5.38197108,
          5.390496,
          5.38842062,
          5.3799856,
          5.3619231,
          5.3791652,
          5.3671383,
          5.377579,
          5.376624,
          5.37188329,
          5.363451,
          5.53091776,
          5.5357946,
          5.5286144,
          5.54519355,
          5.541446,
          5.53568187,
          5.53476321,
          5.53792695,
          5.53635836,
          5.54623054,
          5.54466784,
          5.532989,
          5.54229625,
          5.54174572,
          5.54048743,
          5.53477276,
          5.53719,
          5.5565709,
          4.19151132,
          4.189113,
          5.5471365,
          4.19257857,
          4.19781804,
          4.1908793,
          4.1903438,
          4.193413,
          4.2024508,
          4.1923532,
          4.1896099,
          4.1882982,
          4.2053528,
          4.1871778,
          4.2128337,
          4.1948247,
          4.18062186,
          4.179246,
          4.40394696,
          4.19175196,
          4.1893436,
          4.40182686,
          4.41963136,
          4.425598,
          4.40168,
          4.41020608,
          4.42670293,
          4.42991227,
          4.427241,
          4.42874014,
          4.42622423,
          4.42231894,
          4.42515671,
          4.43364993,
          4.43545103,
          4.42509368,
          4.42507625,
          4.41012025,
          4.430953,
          4.41058695,
          4.1823967,
          3.08026291,
          3.0854253,
          3.08235571,
          3.08256391,
          3.09014887
         ],
         "marker": {
          "color": [
           9.1,
           10,
           9,
           9.3,
           8.5,
           8,
           7.9,
           8.3,
           8.3,
           9.5,
           9.4,
           9.3,
           7.2,
           7.8,
           9,
           8.8,
           9,
           9.4,
           7.7,
           7.9,
           8,
           7.6,
           7.3,
           7.9,
           7.7,
           7,
           7.6,
           7.3,
           7.2,
           7,
           7,
           8.5,
           6.4,
           7.8,
           7.9,
           8.7,
           8.2,
           8.1,
           9.3,
           7.6,
           9.1,
           9.5,
           8.1,
           7.6,
           8.7,
           7.7,
           9.5,
           9,
           9,
           9.2,
           8.1,
           9.5,
           8.1,
           9,
           9.5,
           8.8,
           9.3,
           9.4,
           7,
           8.6,
           9.5,
           9.2,
           9,
           9.1,
           8.6,
           8.7,
           8.2,
           9,
           9.5,
           8.5,
           8,
           8.3,
           8.6,
           9.1,
           8.4,
           8.3,
           7.3,
           8.5,
           7.8,
           8.5,
           8.8,
           7.9,
           9.7,
           8.4,
           8.5,
           8.4,
           8.1,
           8.4,
           7.7,
           7.9,
           7,
           9,
           8.9,
           8.1,
           9.2,
           7.7,
           7.8,
           8.8,
           8,
           7.7
          ],
          "coloraxis": "coloraxis",
          "size": [
           9.1,
           10,
           9,
           9.3,
           8.5,
           8,
           7.9,
           8.3,
           8.3,
           9.5,
           9.4,
           9.3,
           7.2,
           7.8,
           9,
           8.8,
           9,
           9.4,
           7.7,
           7.9,
           8,
           7.6,
           7.3,
           7.9,
           7.7,
           7,
           7.6,
           7.3,
           7.2,
           7,
           7,
           8.5,
           6.4,
           7.8,
           7.9,
           8.7,
           8.2,
           8.1,
           9.3,
           7.6,
           9.1,
           9.5,
           8.1,
           7.6,
           8.7,
           7.7,
           9.5,
           9,
           9,
           9.2,
           8.1,
           9.5,
           8.1,
           9,
           9.5,
           8.8,
           9.3,
           9.4,
           7,
           8.6,
           9.5,
           9.2,
           9,
           9.1,
           8.6,
           8.7,
           8.2,
           9,
           9.5,
           8.5,
           8,
           8.3,
           8.6,
           9.1,
           8.4,
           8.3,
           7.3,
           8.5,
           7.8,
           8.5,
           8.8,
           7.9,
           9.7,
           8.4,
           8.5,
           8.4,
           8.1,
           8.4,
           7.7,
           7.9,
           7,
           9,
           8.9,
           8.1,
           9.2,
           7.7,
           7.8,
           8.8,
           8,
           7.7
          ],
          "sizemode": "area",
          "sizeref": 0.025
         },
         "mode": "markers",
         "name": "",
         "showlegend": false,
         "subplot": "mapbox",
         "type": "scattermapbox"
        }
       ],
       "layout": {
        "coloraxis": {
         "colorbar": {
          "title": {
           "text": "Score"
          }
         },
         "colorscale": [
          [
           0,
           "#0d0887"
          ],
          [
           0.1111111111111111,
           "#46039f"
          ],
          [
           0.2222222222222222,
           "#7201a8"
          ],
          [
           0.3333333333333333,
           "#9c179e"
          ],
          [
           0.4444444444444444,
           "#bd3786"
          ],
          [
           0.5555555555555556,
           "#d8576b"
          ],
          [
           0.6666666666666666,
           "#ed7953"
          ],
          [
           0.7777777777777778,
           "#fb9f3a"
          ],
          [
           0.8888888888888888,
           "#fdca26"
          ],
          [
           1,
           "#f0f921"
          ]
         ]
        },
        "legend": {
         "itemsizing": "constant",
         "tracegroupgap": 0
        },
        "mapbox": {
         "center": {
          "lat": 43.21318655770001,
          "lon": 4.5227374428000005
         },
         "domain": {
          "x": [
           0,
           1
          ],
          "y": [
           0,
           1
          ]
         },
         "style": "carto-positron",
         "zoom": 7
        },
        "template": {
         "data": {
          "bar": [
           {
            "error_x": {
             "color": "#2a3f5f"
            },
            "error_y": {
             "color": "#2a3f5f"
            },
            "marker": {
             "line": {
              "color": "#E5ECF6",
              "width": 0.5
             },
             "pattern": {
              "fillmode": "overlay",
              "size": 10,
              "solidity": 0.2
             }
            },
            "type": "bar"
           }
          ],
          "barpolar": [
           {
            "marker": {
             "line": {
              "color": "#E5ECF6",
              "width": 0.5
             },
             "pattern": {
              "fillmode": "overlay",
              "size": 10,
              "solidity": 0.2
             }
            },
            "type": "barpolar"
           }
          ],
          "carpet": [
           {
            "aaxis": {
             "endlinecolor": "#2a3f5f",
             "gridcolor": "white",
             "linecolor": "white",
             "minorgridcolor": "white",
             "startlinecolor": "#2a3f5f"
            },
            "baxis": {
             "endlinecolor": "#2a3f5f",
             "gridcolor": "white",
             "linecolor": "white",
             "minorgridcolor": "white",
             "startlinecolor": "#2a3f5f"
            },
            "type": "carpet"
           }
          ],
          "choropleth": [
           {
            "colorbar": {
             "outlinewidth": 0,
             "ticks": ""
            },
            "type": "choropleth"
           }
          ],
          "contour": [
           {
            "colorbar": {
             "outlinewidth": 0,
             "ticks": ""
            },
            "colorscale": [
             [
              0,
              "#0d0887"
             ],
             [
              0.1111111111111111,
              "#46039f"
             ],
             [
              0.2222222222222222,
              "#7201a8"
             ],
             [
              0.3333333333333333,
              "#9c179e"
             ],
             [
              0.4444444444444444,
              "#bd3786"
             ],
             [
              0.5555555555555556,
              "#d8576b"
             ],
             [
              0.6666666666666666,
              "#ed7953"
             ],
             [
              0.7777777777777778,
              "#fb9f3a"
             ],
             [
              0.8888888888888888,
              "#fdca26"
             ],
             [
              1,
              "#f0f921"
             ]
            ],
            "type": "contour"
           }
          ],
          "contourcarpet": [
           {
            "colorbar": {
             "outlinewidth": 0,
             "ticks": ""
            },
            "type": "contourcarpet"
           }
          ],
          "heatmap": [
           {
            "colorbar": {
             "outlinewidth": 0,
             "ticks": ""
            },
            "colorscale": [
             [
              0,
              "#0d0887"
             ],
             [
              0.1111111111111111,
              "#46039f"
             ],
             [
              0.2222222222222222,
              "#7201a8"
             ],
             [
              0.3333333333333333,
              "#9c179e"
             ],
             [
              0.4444444444444444,
              "#bd3786"
             ],
             [
              0.5555555555555556,
              "#d8576b"
             ],
             [
              0.6666666666666666,
              "#ed7953"
             ],
             [
              0.7777777777777778,
              "#fb9f3a"
             ],
             [
              0.8888888888888888,
              "#fdca26"
             ],
             [
              1,
              "#f0f921"
             ]
            ],
            "type": "heatmap"
           }
          ],
          "heatmapgl": [
           {
            "colorbar": {
             "outlinewidth": 0,
             "ticks": ""
            },
            "colorscale": [
             [
              0,
              "#0d0887"
             ],
             [
              0.1111111111111111,
              "#46039f"
             ],
             [
              0.2222222222222222,
              "#7201a8"
             ],
             [
              0.3333333333333333,
              "#9c179e"
             ],
             [
              0.4444444444444444,
              "#bd3786"
             ],
             [
              0.5555555555555556,
              "#d8576b"
             ],
             [
              0.6666666666666666,
              "#ed7953"
             ],
             [
              0.7777777777777778,
              "#fb9f3a"
             ],
             [
              0.8888888888888888,
              "#fdca26"
             ],
             [
              1,
              "#f0f921"
             ]
            ],
            "type": "heatmapgl"
           }
          ],
          "histogram": [
           {
            "marker": {
             "pattern": {
              "fillmode": "overlay",
              "size": 10,
              "solidity": 0.2
             }
            },
            "type": "histogram"
           }
          ],
          "histogram2d": [
           {
            "colorbar": {
             "outlinewidth": 0,
             "ticks": ""
            },
            "colorscale": [
             [
              0,
              "#0d0887"
             ],
             [
              0.1111111111111111,
              "#46039f"
             ],
             [
              0.2222222222222222,
              "#7201a8"
             ],
             [
              0.3333333333333333,
              "#9c179e"
             ],
             [
              0.4444444444444444,
              "#bd3786"
             ],
             [
              0.5555555555555556,
              "#d8576b"
             ],
             [
              0.6666666666666666,
              "#ed7953"
             ],
             [
              0.7777777777777778,
              "#fb9f3a"
             ],
             [
              0.8888888888888888,
              "#fdca26"
             ],
             [
              1,
              "#f0f921"
             ]
            ],
            "type": "histogram2d"
           }
          ],
          "histogram2dcontour": [
           {
            "colorbar": {
             "outlinewidth": 0,
             "ticks": ""
            },
            "colorscale": [
             [
              0,
              "#0d0887"
             ],
             [
              0.1111111111111111,
              "#46039f"
             ],
             [
              0.2222222222222222,
              "#7201a8"
             ],
             [
              0.3333333333333333,
              "#9c179e"
             ],
             [
              0.4444444444444444,
              "#bd3786"
             ],
             [
              0.5555555555555556,
              "#d8576b"
             ],
             [
              0.6666666666666666,
              "#ed7953"
             ],
             [
              0.7777777777777778,
              "#fb9f3a"
             ],
             [
              0.8888888888888888,
              "#fdca26"
             ],
             [
              1,
              "#f0f921"
             ]
            ],
            "type": "histogram2dcontour"
           }
          ],
          "mesh3d": [
           {
            "colorbar": {
             "outlinewidth": 0,
             "ticks": ""
            },
            "type": "mesh3d"
           }
          ],
          "parcoords": [
           {
            "line": {
             "colorbar": {
              "outlinewidth": 0,
              "ticks": ""
             }
            },
            "type": "parcoords"
           }
          ],
          "pie": [
           {
            "automargin": true,
            "type": "pie"
           }
          ],
          "scatter": [
           {
            "fillpattern": {
             "fillmode": "overlay",
             "size": 10,
             "solidity": 0.2
            },
            "type": "scatter"
           }
          ],
          "scatter3d": [
           {
            "line": {
             "colorbar": {
              "outlinewidth": 0,
              "ticks": ""
             }
            },
            "marker": {
             "colorbar": {
              "outlinewidth": 0,
              "ticks": ""
             }
            },
            "type": "scatter3d"
           }
          ],
          "scattercarpet": [
           {
            "marker": {
             "colorbar": {
              "outlinewidth": 0,
              "ticks": ""
             }
            },
            "type": "scattercarpet"
           }
          ],
          "scattergeo": [
           {
            "marker": {
             "colorbar": {
              "outlinewidth": 0,
              "ticks": ""
             }
            },
            "type": "scattergeo"
           }
          ],
          "scattergl": [
           {
            "marker": {
             "colorbar": {
              "outlinewidth": 0,
              "ticks": ""
             }
            },
            "type": "scattergl"
           }
          ],
          "scattermapbox": [
           {
            "marker": {
             "colorbar": {
              "outlinewidth": 0,
              "ticks": ""
             }
            },
            "type": "scattermapbox"
           }
          ],
          "scatterpolar": [
           {
            "marker": {
             "colorbar": {
              "outlinewidth": 0,
              "ticks": ""
             }
            },
            "type": "scatterpolar"
           }
          ],
          "scatterpolargl": [
           {
            "marker": {
             "colorbar": {
              "outlinewidth": 0,
              "ticks": ""
             }
            },
            "type": "scatterpolargl"
           }
          ],
          "scatterternary": [
           {
            "marker": {
             "colorbar": {
              "outlinewidth": 0,
              "ticks": ""
             }
            },
            "type": "scatterternary"
           }
          ],
          "surface": [
           {
            "colorbar": {
             "outlinewidth": 0,
             "ticks": ""
            },
            "colorscale": [
             [
              0,
              "#0d0887"
             ],
             [
              0.1111111111111111,
              "#46039f"
             ],
             [
              0.2222222222222222,
              "#7201a8"
             ],
             [
              0.3333333333333333,
              "#9c179e"
             ],
             [
              0.4444444444444444,
              "#bd3786"
             ],
             [
              0.5555555555555556,
              "#d8576b"
             ],
             [
              0.6666666666666666,
              "#ed7953"
             ],
             [
              0.7777777777777778,
              "#fb9f3a"
             ],
             [
              0.8888888888888888,
              "#fdca26"
             ],
             [
              1,
              "#f0f921"
             ]
            ],
            "type": "surface"
           }
          ],
          "table": [
           {
            "cells": {
             "fill": {
              "color": "#EBF0F8"
             },
             "line": {
              "color": "white"
             }
            },
            "header": {
             "fill": {
              "color": "#C8D4E3"
             },
             "line": {
              "color": "white"
             }
            },
            "type": "table"
           }
          ]
         },
         "layout": {
          "annotationdefaults": {
           "arrowcolor": "#2a3f5f",
           "arrowhead": 0,
           "arrowwidth": 1
          },
          "autotypenumbers": "strict",
          "coloraxis": {
           "colorbar": {
            "outlinewidth": 0,
            "ticks": ""
           }
          },
          "colorscale": {
           "diverging": [
            [
             0,
             "#8e0152"
            ],
            [
             0.1,
             "#c51b7d"
            ],
            [
             0.2,
             "#de77ae"
            ],
            [
             0.3,
             "#f1b6da"
            ],
            [
             0.4,
             "#fde0ef"
            ],
            [
             0.5,
             "#f7f7f7"
            ],
            [
             0.6,
             "#e6f5d0"
            ],
            [
             0.7,
             "#b8e186"
            ],
            [
             0.8,
             "#7fbc41"
            ],
            [
             0.9,
             "#4d9221"
            ],
            [
             1,
             "#276419"
            ]
           ],
           "sequential": [
            [
             0,
             "#0d0887"
            ],
            [
             0.1111111111111111,
             "#46039f"
            ],
            [
             0.2222222222222222,
             "#7201a8"
            ],
            [
             0.3333333333333333,
             "#9c179e"
            ],
            [
             0.4444444444444444,
             "#bd3786"
            ],
            [
             0.5555555555555556,
             "#d8576b"
            ],
            [
             0.6666666666666666,
             "#ed7953"
            ],
            [
             0.7777777777777778,
             "#fb9f3a"
            ],
            [
             0.8888888888888888,
             "#fdca26"
            ],
            [
             1,
             "#f0f921"
            ]
           ],
           "sequentialminus": [
            [
             0,
             "#0d0887"
            ],
            [
             0.1111111111111111,
             "#46039f"
            ],
            [
             0.2222222222222222,
             "#7201a8"
            ],
            [
             0.3333333333333333,
             "#9c179e"
            ],
            [
             0.4444444444444444,
             "#bd3786"
            ],
            [
             0.5555555555555556,
             "#d8576b"
            ],
            [
             0.6666666666666666,
             "#ed7953"
            ],
            [
             0.7777777777777778,
             "#fb9f3a"
            ],
            [
             0.8888888888888888,
             "#fdca26"
            ],
            [
             1,
             "#f0f921"
            ]
           ]
          },
          "colorway": [
           "#636efa",
           "#EF553B",
           "#00cc96",
           "#ab63fa",
           "#FFA15A",
           "#19d3f3",
           "#FF6692",
           "#B6E880",
           "#FF97FF",
           "#FECB52"
          ],
          "font": {
           "color": "#2a3f5f"
          },
          "geo": {
           "bgcolor": "white",
           "lakecolor": "white",
           "landcolor": "#E5ECF6",
           "showlakes": true,
           "showland": true,
           "subunitcolor": "white"
          },
          "hoverlabel": {
           "align": "left"
          },
          "hovermode": "closest",
          "mapbox": {
           "style": "light"
          },
          "paper_bgcolor": "white",
          "plot_bgcolor": "#E5ECF6",
          "polar": {
           "angularaxis": {
            "gridcolor": "white",
            "linecolor": "white",
            "ticks": ""
           },
           "bgcolor": "#E5ECF6",
           "radialaxis": {
            "gridcolor": "white",
            "linecolor": "white",
            "ticks": ""
           }
          },
          "scene": {
           "xaxis": {
            "backgroundcolor": "#E5ECF6",
            "gridcolor": "white",
            "gridwidth": 2,
            "linecolor": "white",
            "showbackground": true,
            "ticks": "",
            "zerolinecolor": "white"
           },
           "yaxis": {
            "backgroundcolor": "#E5ECF6",
            "gridcolor": "white",
            "gridwidth": 2,
            "linecolor": "white",
            "showbackground": true,
            "ticks": "",
            "zerolinecolor": "white"
           },
           "zaxis": {
            "backgroundcolor": "#E5ECF6",
            "gridcolor": "white",
            "gridwidth": 2,
            "linecolor": "white",
            "showbackground": true,
            "ticks": "",
            "zerolinecolor": "white"
           }
          },
          "shapedefaults": {
           "line": {
            "color": "#2a3f5f"
           }
          },
          "ternary": {
           "aaxis": {
            "gridcolor": "white",
            "linecolor": "white",
            "ticks": ""
           },
           "baxis": {
            "gridcolor": "white",
            "linecolor": "white",
            "ticks": ""
           },
           "bgcolor": "#E5ECF6",
           "caxis": {
            "gridcolor": "white",
            "linecolor": "white",
            "ticks": ""
           }
          },
          "title": {
           "x": 0.05
          },
          "xaxis": {
           "automargin": true,
           "gridcolor": "white",
           "linecolor": "white",
           "ticks": "",
           "title": {
            "standoff": 15
           },
           "zerolinecolor": "white",
           "zerolinewidth": 2
          },
          "yaxis": {
           "automargin": true,
           "gridcolor": "white",
           "linecolor": "white",
           "ticks": "",
           "title": {
            "standoff": 15
           },
           "zerolinecolor": "white",
           "zerolinewidth": 2
          }
         }
        },
        "title": {
         "text": "Top 20 hotels in our top 5 cities"
        }
       }
      }
     },
     "metadata": {},
     "output_type": "display_data"
    }
   ],
   "source": [
    "fig = px.scatter_mapbox(df2[df2['Score'] != 0], lat=\"lat\", lon=\"lon\", zoom=7, size=\"Score\", color=\"Score\", mapbox_style=\"carto-positron\", title = 'Top 20 hotels in our top 5 cities')\n",
    "fig.show()\n"
   ]
  }
 ],
 "metadata": {
  "kernelspec": {
   "display_name": "Python 3",
   "language": "python",
   "name": "python3"
  },
  "language_info": {
   "codemirror_mode": {
    "name": "ipython",
    "version": 3
   },
   "file_extension": ".py",
   "mimetype": "text/x-python",
   "name": "python",
   "nbconvert_exporter": "python",
   "pygments_lexer": "ipython3",
   "version": "3.9.12"
  },
  "orig_nbformat": 4,
  "vscode": {
   "interpreter": {
    "hash": "a4d33f735b5bc1716c8fc72440308505f4263435be6abde8d6dd6675ac56206b"
   }
  }
 },
 "nbformat": 4,
 "nbformat_minor": 2
}
