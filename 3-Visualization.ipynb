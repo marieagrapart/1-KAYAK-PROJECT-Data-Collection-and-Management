{
 "cells": [
  {
   "cell_type": "code",
   "execution_count": 1,
   "metadata": {},
   "outputs": [],
   "source": [
    "# import of libraries \n",
    "from sqlalchemy import create_engine, text\n",
    "import pandas as pd\n",
    "import plotly.express as px\n",
    "import psycopg2\n",
    "import os\n",
    "from datetime import datetime\n",
    "import json"
   ]
  },
  {
   "cell_type": "code",
   "execution_count": 2,
   "metadata": {},
   "outputs": [],
   "source": [
    "# Call of our date in S3 \n",
    "weather = pd.read_csv('s3://booking-scapping/city_weather_by_day.csv')\n",
    "hotel = pd.read_csv('s3://booking-scapping/hotels_info.csv')"
   ]
  },
  {
   "cell_type": "code",
   "execution_count": 3,
   "metadata": {},
   "outputs": [],
   "source": [
    "# gets our secrets for connection at RDS\n",
    "\n",
    "import json\n",
    "with open(\"./secrets.json\") as f:\n",
    "    secrets = json.load(f)\n"
   ]
  },
  {
   "cell_type": "code",
   "execution_count": 4,
   "metadata": {},
   "outputs": [
    {
     "data": {
      "text/plain": [
       "100"
      ]
     },
     "execution_count": 4,
     "metadata": {},
     "output_type": "execute_result"
    }
   ],
   "source": [
    "# send to our DB\n",
    "\n",
    "#engine = create_engine(\"sqlite:///:memory:\", echo=True)\n",
    "engine = create_engine(f'postgresql+psycopg2://{secrets[\"DBUSER\"]}:{secrets[\"DBPASS\"]}@{secrets[\"DBHOST\"]}')\n",
    "\n",
    "weather.to_sql(\n",
    "    f\"city_weather_top_5\",\n",
    "    engine,\n",
    "    if_exists='replace'\n",
    ")\n",
    "\n",
    "hotel.to_sql(\n",
    "    \"hotel\",\n",
    "    engine,\n",
    "    if_exists='replace'\n",
    ")"
   ]
  },
  {
   "attachments": {},
   "cell_type": "markdown",
   "metadata": {},
   "source": [
    "## Call tables from our BD and do visualization "
   ]
  },
  {
   "cell_type": "code",
   "execution_count": 5,
   "metadata": {},
   "outputs": [
    {
     "data": {
      "text/html": [
       "<div>\n",
       "<style scoped>\n",
       "    .dataframe tbody tr th:only-of-type {\n",
       "        vertical-align: middle;\n",
       "    }\n",
       "\n",
       "    .dataframe tbody tr th {\n",
       "        vertical-align: top;\n",
       "    }\n",
       "\n",
       "    .dataframe thead th {\n",
       "        text-align: right;\n",
       "    }\n",
       "</style>\n",
       "<table border=\"1\" class=\"dataframe\">\n",
       "  <thead>\n",
       "    <tr style=\"text-align: right;\">\n",
       "      <th></th>\n",
       "      <th>index</th>\n",
       "      <th>Unnamed: 0</th>\n",
       "      <th>city</th>\n",
       "      <th>dt_object</th>\n",
       "      <th>main_weather</th>\n",
       "      <th>precipitation</th>\n",
       "      <th>temperature</th>\n",
       "      <th>latitude</th>\n",
       "      <th>longitude</th>\n",
       "    </tr>\n",
       "  </thead>\n",
       "  <tbody>\n",
       "    <tr>\n",
       "      <th>0</th>\n",
       "      <td>0</td>\n",
       "      <td>12</td>\n",
       "      <td>Amiens</td>\n",
       "      <td>2023-02-20</td>\n",
       "      <td>Clouds</td>\n",
       "      <td>0.00</td>\n",
       "      <td>9.166667</td>\n",
       "      <td>49.894171</td>\n",
       "      <td>2.295695</td>\n",
       "    </tr>\n",
       "    <tr>\n",
       "      <th>1</th>\n",
       "      <td>1</td>\n",
       "      <td>13</td>\n",
       "      <td>Amiens</td>\n",
       "      <td>2023-02-21</td>\n",
       "      <td>Clouds</td>\n",
       "      <td>0.00</td>\n",
       "      <td>8.875000</td>\n",
       "      <td>49.894171</td>\n",
       "      <td>2.295695</td>\n",
       "    </tr>\n",
       "    <tr>\n",
       "      <th>2</th>\n",
       "      <td>2</td>\n",
       "      <td>14</td>\n",
       "      <td>Amiens</td>\n",
       "      <td>2023-02-22</td>\n",
       "      <td>Clouds</td>\n",
       "      <td>2.38</td>\n",
       "      <td>8.330000</td>\n",
       "      <td>49.894171</td>\n",
       "      <td>2.295695</td>\n",
       "    </tr>\n",
       "    <tr>\n",
       "      <th>3</th>\n",
       "      <td>3</td>\n",
       "      <td>15</td>\n",
       "      <td>Amiens</td>\n",
       "      <td>2023-02-23</td>\n",
       "      <td>Clouds</td>\n",
       "      <td>0.01</td>\n",
       "      <td>5.587500</td>\n",
       "      <td>49.894171</td>\n",
       "      <td>2.295695</td>\n",
       "    </tr>\n",
       "    <tr>\n",
       "      <th>4</th>\n",
       "      <td>4</td>\n",
       "      <td>16</td>\n",
       "      <td>Amiens</td>\n",
       "      <td>2023-02-24</td>\n",
       "      <td>Clouds</td>\n",
       "      <td>0.55</td>\n",
       "      <td>3.693750</td>\n",
       "      <td>49.894171</td>\n",
       "      <td>2.295695</td>\n",
       "    </tr>\n",
       "  </tbody>\n",
       "</table>\n",
       "</div>"
      ],
      "text/plain": [
       "   index  Unnamed: 0    city   dt_object main_weather  precipitation  \\\n",
       "0      0          12  Amiens  2023-02-20       Clouds           0.00   \n",
       "1      1          13  Amiens  2023-02-21       Clouds           0.00   \n",
       "2      2          14  Amiens  2023-02-22       Clouds           2.38   \n",
       "3      3          15  Amiens  2023-02-23       Clouds           0.01   \n",
       "4      4          16  Amiens  2023-02-24       Clouds           0.55   \n",
       "\n",
       "   temperature   latitude  longitude  \n",
       "0     9.166667  49.894171   2.295695  \n",
       "1     8.875000  49.894171   2.295695  \n",
       "2     8.330000  49.894171   2.295695  \n",
       "3     5.587500  49.894171   2.295695  \n",
       "4     3.693750  49.894171   2.295695  "
      ]
     },
     "execution_count": 5,
     "metadata": {},
     "output_type": "execute_result"
    }
   ],
   "source": [
    "# Weather table \n",
    "\n",
    "stmt = text(\"SELECT * FROM city_weather_top_5 \"\n",
    "            )\n",
    "\n",
    "weather = pd.read_sql(\n",
    "        stmt,\n",
    "        engine\n",
    "    )\n",
    "\n",
    "weather.head()"
   ]
  },
  {
   "cell_type": "code",
   "execution_count": 6,
   "metadata": {},
   "outputs": [],
   "source": [
    "# Add a proportinal colum on temperature for better see the variation \n",
    "weather['temp_cube'] = weather['temperature']**3\n",
    "weather.head()\n",
    "\n",
    "weather['dt_object'] = weather['dt_object'].astype(str)"
   ]
  },
  {
   "cell_type": "code",
   "execution_count": 7,
   "metadata": {},
   "outputs": [
    {
     "data": {
      "application/vnd.plotly.v1+json": {
       "config": {
        "plotlyServerURL": "https://plot.ly"
       },
       "data": [
        {
         "hovertemplate": "dt_object=2023-02-20<br>temp_cube=%{marker.size}<br>latitude=%{lat}<br>longitude=%{lon}<br>temperature=%{marker.color}<extra></extra>",
         "ids": [
          9.166666666666686,
          12.360000000000031,
          14.093333333333362,
          14.25333333333335,
          8.390000000000024
         ],
         "lat": [
          49.894170800000005,
          43.1506968,
          43.2140359,
          43.2961743,
          49.4404591
         ],
         "legendgroup": "",
         "lon": [
          2.2956951,
          6.341928499999999,
          5.5396318,
          5.3699525,
          1.0939658
         ],
         "marker": {
          "color": [
           9.166666666666686,
           12.360000000000031,
           14.093333333333362,
           14.25333333333335,
           8.390000000000024
          ],
          "coloraxis": "coloraxis",
          "size": [
           770.2546296296345,
           1888.2322560000143,
           2799.246679703721,
           2895.671725037047,
           590.589719000005
          ],
          "sizemode": "area",
          "sizeref": 7.239179312592618
         },
         "mode": "markers",
         "name": "",
         "showlegend": false,
         "subplot": "mapbox",
         "type": "scattermapbox"
        }
       ],
       "frames": [
        {
         "data": [
          {
           "hovertemplate": "dt_object=2023-02-20<br>temp_cube=%{marker.size}<br>latitude=%{lat}<br>longitude=%{lon}<br>temperature=%{marker.color}<extra></extra>",
           "ids": [
            9.166666666666686,
            12.360000000000031,
            14.093333333333362,
            14.25333333333335,
            8.390000000000024
           ],
           "lat": [
            49.894170800000005,
            43.1506968,
            43.2140359,
            43.2961743,
            49.4404591
           ],
           "legendgroup": "",
           "lon": [
            2.2956951,
            6.341928499999999,
            5.5396318,
            5.3699525,
            1.0939658
           ],
           "marker": {
            "color": [
             9.166666666666686,
             12.360000000000031,
             14.093333333333362,
             14.25333333333335,
             8.390000000000024
            ],
            "coloraxis": "coloraxis",
            "size": [
             770.2546296296345,
             1888.2322560000143,
             2799.246679703721,
             2895.671725037047,
             590.589719000005
            ],
            "sizemode": "area",
            "sizeref": 7.239179312592618
           },
           "mode": "markers",
           "name": "",
           "showlegend": false,
           "subplot": "mapbox",
           "type": "scattermapbox"
          }
         ],
         "name": "2023-02-20"
        },
        {
         "data": [
          {
           "hovertemplate": "dt_object=2023-02-21<br>temp_cube=%{marker.size}<br>latitude=%{lat}<br>longitude=%{lon}<br>temperature=%{marker.color}<extra></extra>",
           "ids": [
            8.875000000000028,
            11.536250000000033,
            12.648750000000014,
            12.92375000000002,
            8.66500000000002
           ],
           "lat": [
            49.8941708,
            43.1506968,
            43.2140359,
            43.2961743,
            49.4404591
           ],
           "legendgroup": "",
           "lon": [
            2.2956951,
            6.3419285,
            5.5396318,
            5.3699525,
            1.0939658
           ],
           "marker": {
            "color": [
             8.875000000000028,
             11.536250000000033,
             12.648750000000014,
             12.92375000000002,
             8.66500000000002
            ],
            "coloraxis": "coloraxis",
            "size": [
             699.0449218750067,
             1535.3025702910288,
             2023.6845999199286,
             2158.567555115244,
             650.5874796250046
            ],
            "sizemode": "area",
            "sizeref": 7.239179312592618
           },
           "mode": "markers",
           "name": "",
           "showlegend": false,
           "subplot": "mapbox",
           "type": "scattermapbox"
          }
         ],
         "name": "2023-02-21"
        },
        {
         "data": [
          {
           "hovertemplate": "dt_object=2023-02-22<br>temp_cube=%{marker.size}<br>latitude=%{lat}<br>longitude=%{lon}<br>temperature=%{marker.color}<extra></extra>",
           "ids": [
            8.330000000000027,
            11.401250000000026,
            12.915000000000012,
            13.13375000000002,
            7.741250000000029
           ],
           "lat": [
            49.8941708,
            43.1506968,
            43.2140359,
            43.2961743,
            49.4404591
           ],
           "legendgroup": "",
           "lon": [
            2.2956951,
            6.3419285,
            5.5396318,
            5.3699525,
            1.0939658
           ],
           "marker": {
            "color": [
             8.330000000000027,
             11.401250000000026,
             12.915000000000012,
             13.13375000000002,
             7.741250000000029
            ],
            "coloraxis": "coloraxis",
            "size": [
             578.0095370000056,
             1482.0314034394632,
             2154.186160875006,
             2265.5113160996198,
             463.9095137832084
            ],
            "sizemode": "area",
            "sizeref": 7.239179312592618
           },
           "mode": "markers",
           "name": "",
           "showlegend": false,
           "subplot": "mapbox",
           "type": "scattermapbox"
          }
         ],
         "name": "2023-02-22"
        },
        {
         "data": [
          {
           "hovertemplate": "dt_object=2023-02-23<br>temp_cube=%{marker.size}<br>latitude=%{lat}<br>longitude=%{lon}<br>temperature=%{marker.color}<extra></extra>",
           "ids": [
            5.58750000000002,
            11.153750000000016,
            12.675000000000018,
            12.92375000000002,
            5.281250000000014
           ],
           "lat": [
            49.8941708,
            43.1506968,
            43.2140359,
            43.2961743,
            49.4404591
           ],
           "legendgroup": "",
           "lon": [
            2.2956951,
            6.3419285,
            5.5396318,
            5.3699525,
            1.0939658
           ],
           "marker": {
            "color": [
             5.58750000000002,
             11.153750000000016,
             12.675000000000018,
             12.92375000000002,
             5.281250000000014
            ],
            "coloraxis": "coloraxis",
            "size": [
             174.44262304687686,
             1387.5949735683655,
             2036.310046875009,
             2158.567555115244,
             147.30252075195432
            ],
            "sizemode": "area",
            "sizeref": 7.239179312592618
           },
           "mode": "markers",
           "name": "",
           "showlegend": false,
           "subplot": "mapbox",
           "type": "scattermapbox"
          }
         ],
         "name": "2023-02-23"
        },
        {
         "data": [
          {
           "hovertemplate": "dt_object=2023-02-24<br>temp_cube=%{marker.size}<br>latitude=%{lat}<br>longitude=%{lon}<br>temperature=%{marker.color}<extra></extra>",
           "ids": [
            3.693750000000016,
            12.155000000000022,
            13.478750000000026,
            13.68000000000002,
            4.323750000000018
           ],
           "lat": [
            49.8941708,
            43.1506968,
            43.2140359,
            43.2961743,
            49.4404591
           ],
           "legendgroup": "",
           "lon": [
            2.2956951,
            6.3419285,
            5.5396318,
            5.3699525,
            1.0939658
           ],
           "marker": {
            "color": [
             3.693750000000016,
             12.155000000000022,
             13.478750000000026,
             13.68000000000002,
             4.323750000000018
            ],
            "coloraxis": "coloraxis",
            "size": [
             50.396745849610035,
             1795.82862387501,
             2448.7748411855614,
             2560.108032000011,
             80.8317023027354
            ],
            "sizemode": "area",
            "sizeref": 7.239179312592618
           },
           "mode": "markers",
           "name": "",
           "showlegend": false,
           "subplot": "mapbox",
           "type": "scattermapbox"
          }
         ],
         "name": "2023-02-24"
        },
        {
         "data": [
          {
           "hovertemplate": "dt_object=2023-02-25<br>temp_cube=%{marker.size}<br>latitude=%{lat}<br>longitude=%{lon}<br>temperature=%{marker.color}<extra></extra>",
           "ids": [
            3.808000000000027,
            12.716000000000008,
            13.432000000000029,
            13.124000000000024,
            5.092000000000018
           ],
           "lat": [
            49.8941708,
            43.1506968,
            43.2140359,
            43.2961743,
            49.4404591
           ],
           "legendgroup": "",
           "lon": [
            2.2956951,
            6.3419285,
            5.5396318,
            5.3699525,
            1.0939658
           ],
           "marker": {
            "color": [
             3.808000000000027,
             12.716000000000008,
             13.432000000000029,
             13.124000000000024,
             5.092000000000018
            ],
            "coloraxis": "coloraxis",
            "size": [
             55.21929011200117,
             2056.134677696004,
             2423.3829575680156,
             2260.4695706240122,
             132.02773868800142
            ],
            "sizemode": "area",
            "sizeref": 7.239179312592618
           },
           "mode": "markers",
           "name": "",
           "showlegend": false,
           "subplot": "mapbox",
           "type": "scattermapbox"
          }
         ],
         "name": "2023-02-25"
        }
       ],
       "layout": {
        "coloraxis": {
         "colorbar": {
          "title": {
           "text": "temperature"
          }
         },
         "colorscale": [
          [
           0,
           "#0d0887"
          ],
          [
           0.1111111111111111,
           "#46039f"
          ],
          [
           0.2222222222222222,
           "#7201a8"
          ],
          [
           0.3333333333333333,
           "#9c179e"
          ],
          [
           0.4444444444444444,
           "#bd3786"
          ],
          [
           0.5555555555555556,
           "#d8576b"
          ],
          [
           0.6666666666666666,
           "#ed7953"
          ],
          [
           0.7777777777777778,
           "#fb9f3a"
          ],
          [
           0.8888888888888888,
           "#fdca26"
          ],
          [
           1,
           "#f0f921"
          ]
         ]
        },
        "legend": {
         "itemsizing": "constant",
         "tracegroupgap": 0
        },
        "mapbox": {
         "center": {
          "lat": 45.79910738,
          "lon": 4.128234740000002
         },
         "domain": {
          "x": [
           0,
           1
          ],
          "y": [
           0,
           1
          ]
         },
         "style": "carto-positron",
         "zoom": 3
        },
        "sliders": [
         {
          "active": 0,
          "currentvalue": {
           "prefix": "dt_object="
          },
          "len": 0.9,
          "pad": {
           "b": 10,
           "t": 60
          },
          "steps": [
           {
            "args": [
             [
              "2023-02-20"
             ],
             {
              "frame": {
               "duration": 0,
               "redraw": true
              },
              "fromcurrent": true,
              "mode": "immediate",
              "transition": {
               "duration": 0,
               "easing": "linear"
              }
             }
            ],
            "label": "2023-02-20",
            "method": "animate"
           },
           {
            "args": [
             [
              "2023-02-21"
             ],
             {
              "frame": {
               "duration": 0,
               "redraw": true
              },
              "fromcurrent": true,
              "mode": "immediate",
              "transition": {
               "duration": 0,
               "easing": "linear"
              }
             }
            ],
            "label": "2023-02-21",
            "method": "animate"
           },
           {
            "args": [
             [
              "2023-02-22"
             ],
             {
              "frame": {
               "duration": 0,
               "redraw": true
              },
              "fromcurrent": true,
              "mode": "immediate",
              "transition": {
               "duration": 0,
               "easing": "linear"
              }
             }
            ],
            "label": "2023-02-22",
            "method": "animate"
           },
           {
            "args": [
             [
              "2023-02-23"
             ],
             {
              "frame": {
               "duration": 0,
               "redraw": true
              },
              "fromcurrent": true,
              "mode": "immediate",
              "transition": {
               "duration": 0,
               "easing": "linear"
              }
             }
            ],
            "label": "2023-02-23",
            "method": "animate"
           },
           {
            "args": [
             [
              "2023-02-24"
             ],
             {
              "frame": {
               "duration": 0,
               "redraw": true
              },
              "fromcurrent": true,
              "mode": "immediate",
              "transition": {
               "duration": 0,
               "easing": "linear"
              }
             }
            ],
            "label": "2023-02-24",
            "method": "animate"
           },
           {
            "args": [
             [
              "2023-02-25"
             ],
             {
              "frame": {
               "duration": 0,
               "redraw": true
              },
              "fromcurrent": true,
              "mode": "immediate",
              "transition": {
               "duration": 0,
               "easing": "linear"
              }
             }
            ],
            "label": "2023-02-25",
            "method": "animate"
           }
          ],
          "x": 0.1,
          "xanchor": "left",
          "y": 0,
          "yanchor": "top"
         }
        ],
        "template": {
         "data": {
          "bar": [
           {
            "error_x": {
             "color": "#2a3f5f"
            },
            "error_y": {
             "color": "#2a3f5f"
            },
            "marker": {
             "line": {
              "color": "#E5ECF6",
              "width": 0.5
             },
             "pattern": {
              "fillmode": "overlay",
              "size": 10,
              "solidity": 0.2
             }
            },
            "type": "bar"
           }
          ],
          "barpolar": [
           {
            "marker": {
             "line": {
              "color": "#E5ECF6",
              "width": 0.5
             },
             "pattern": {
              "fillmode": "overlay",
              "size": 10,
              "solidity": 0.2
             }
            },
            "type": "barpolar"
           }
          ],
          "carpet": [
           {
            "aaxis": {
             "endlinecolor": "#2a3f5f",
             "gridcolor": "white",
             "linecolor": "white",
             "minorgridcolor": "white",
             "startlinecolor": "#2a3f5f"
            },
            "baxis": {
             "endlinecolor": "#2a3f5f",
             "gridcolor": "white",
             "linecolor": "white",
             "minorgridcolor": "white",
             "startlinecolor": "#2a3f5f"
            },
            "type": "carpet"
           }
          ],
          "choropleth": [
           {
            "colorbar": {
             "outlinewidth": 0,
             "ticks": ""
            },
            "type": "choropleth"
           }
          ],
          "contour": [
           {
            "colorbar": {
             "outlinewidth": 0,
             "ticks": ""
            },
            "colorscale": [
             [
              0,
              "#0d0887"
             ],
             [
              0.1111111111111111,
              "#46039f"
             ],
             [
              0.2222222222222222,
              "#7201a8"
             ],
             [
              0.3333333333333333,
              "#9c179e"
             ],
             [
              0.4444444444444444,
              "#bd3786"
             ],
             [
              0.5555555555555556,
              "#d8576b"
             ],
             [
              0.6666666666666666,
              "#ed7953"
             ],
             [
              0.7777777777777778,
              "#fb9f3a"
             ],
             [
              0.8888888888888888,
              "#fdca26"
             ],
             [
              1,
              "#f0f921"
             ]
            ],
            "type": "contour"
           }
          ],
          "contourcarpet": [
           {
            "colorbar": {
             "outlinewidth": 0,
             "ticks": ""
            },
            "type": "contourcarpet"
           }
          ],
          "heatmap": [
           {
            "colorbar": {
             "outlinewidth": 0,
             "ticks": ""
            },
            "colorscale": [
             [
              0,
              "#0d0887"
             ],
             [
              0.1111111111111111,
              "#46039f"
             ],
             [
              0.2222222222222222,
              "#7201a8"
             ],
             [
              0.3333333333333333,
              "#9c179e"
             ],
             [
              0.4444444444444444,
              "#bd3786"
             ],
             [
              0.5555555555555556,
              "#d8576b"
             ],
             [
              0.6666666666666666,
              "#ed7953"
             ],
             [
              0.7777777777777778,
              "#fb9f3a"
             ],
             [
              0.8888888888888888,
              "#fdca26"
             ],
             [
              1,
              "#f0f921"
             ]
            ],
            "type": "heatmap"
           }
          ],
          "heatmapgl": [
           {
            "colorbar": {
             "outlinewidth": 0,
             "ticks": ""
            },
            "colorscale": [
             [
              0,
              "#0d0887"
             ],
             [
              0.1111111111111111,
              "#46039f"
             ],
             [
              0.2222222222222222,
              "#7201a8"
             ],
             [
              0.3333333333333333,
              "#9c179e"
             ],
             [
              0.4444444444444444,
              "#bd3786"
             ],
             [
              0.5555555555555556,
              "#d8576b"
             ],
             [
              0.6666666666666666,
              "#ed7953"
             ],
             [
              0.7777777777777778,
              "#fb9f3a"
             ],
             [
              0.8888888888888888,
              "#fdca26"
             ],
             [
              1,
              "#f0f921"
             ]
            ],
            "type": "heatmapgl"
           }
          ],
          "histogram": [
           {
            "marker": {
             "pattern": {
              "fillmode": "overlay",
              "size": 10,
              "solidity": 0.2
             }
            },
            "type": "histogram"
           }
          ],
          "histogram2d": [
           {
            "colorbar": {
             "outlinewidth": 0,
             "ticks": ""
            },
            "colorscale": [
             [
              0,
              "#0d0887"
             ],
             [
              0.1111111111111111,
              "#46039f"
             ],
             [
              0.2222222222222222,
              "#7201a8"
             ],
             [
              0.3333333333333333,
              "#9c179e"
             ],
             [
              0.4444444444444444,
              "#bd3786"
             ],
             [
              0.5555555555555556,
              "#d8576b"
             ],
             [
              0.6666666666666666,
              "#ed7953"
             ],
             [
              0.7777777777777778,
              "#fb9f3a"
             ],
             [
              0.8888888888888888,
              "#fdca26"
             ],
             [
              1,
              "#f0f921"
             ]
            ],
            "type": "histogram2d"
           }
          ],
          "histogram2dcontour": [
           {
            "colorbar": {
             "outlinewidth": 0,
             "ticks": ""
            },
            "colorscale": [
             [
              0,
              "#0d0887"
             ],
             [
              0.1111111111111111,
              "#46039f"
             ],
             [
              0.2222222222222222,
              "#7201a8"
             ],
             [
              0.3333333333333333,
              "#9c179e"
             ],
             [
              0.4444444444444444,
              "#bd3786"
             ],
             [
              0.5555555555555556,
              "#d8576b"
             ],
             [
              0.6666666666666666,
              "#ed7953"
             ],
             [
              0.7777777777777778,
              "#fb9f3a"
             ],
             [
              0.8888888888888888,
              "#fdca26"
             ],
             [
              1,
              "#f0f921"
             ]
            ],
            "type": "histogram2dcontour"
           }
          ],
          "mesh3d": [
           {
            "colorbar": {
             "outlinewidth": 0,
             "ticks": ""
            },
            "type": "mesh3d"
           }
          ],
          "parcoords": [
           {
            "line": {
             "colorbar": {
              "outlinewidth": 0,
              "ticks": ""
             }
            },
            "type": "parcoords"
           }
          ],
          "pie": [
           {
            "automargin": true,
            "type": "pie"
           }
          ],
          "scatter": [
           {
            "fillpattern": {
             "fillmode": "overlay",
             "size": 10,
             "solidity": 0.2
            },
            "type": "scatter"
           }
          ],
          "scatter3d": [
           {
            "line": {
             "colorbar": {
              "outlinewidth": 0,
              "ticks": ""
             }
            },
            "marker": {
             "colorbar": {
              "outlinewidth": 0,
              "ticks": ""
             }
            },
            "type": "scatter3d"
           }
          ],
          "scattercarpet": [
           {
            "marker": {
             "colorbar": {
              "outlinewidth": 0,
              "ticks": ""
             }
            },
            "type": "scattercarpet"
           }
          ],
          "scattergeo": [
           {
            "marker": {
             "colorbar": {
              "outlinewidth": 0,
              "ticks": ""
             }
            },
            "type": "scattergeo"
           }
          ],
          "scattergl": [
           {
            "marker": {
             "colorbar": {
              "outlinewidth": 0,
              "ticks": ""
             }
            },
            "type": "scattergl"
           }
          ],
          "scattermapbox": [
           {
            "marker": {
             "colorbar": {
              "outlinewidth": 0,
              "ticks": ""
             }
            },
            "type": "scattermapbox"
           }
          ],
          "scatterpolar": [
           {
            "marker": {
             "colorbar": {
              "outlinewidth": 0,
              "ticks": ""
             }
            },
            "type": "scatterpolar"
           }
          ],
          "scatterpolargl": [
           {
            "marker": {
             "colorbar": {
              "outlinewidth": 0,
              "ticks": ""
             }
            },
            "type": "scatterpolargl"
           }
          ],
          "scatterternary": [
           {
            "marker": {
             "colorbar": {
              "outlinewidth": 0,
              "ticks": ""
             }
            },
            "type": "scatterternary"
           }
          ],
          "surface": [
           {
            "colorbar": {
             "outlinewidth": 0,
             "ticks": ""
            },
            "colorscale": [
             [
              0,
              "#0d0887"
             ],
             [
              0.1111111111111111,
              "#46039f"
             ],
             [
              0.2222222222222222,
              "#7201a8"
             ],
             [
              0.3333333333333333,
              "#9c179e"
             ],
             [
              0.4444444444444444,
              "#bd3786"
             ],
             [
              0.5555555555555556,
              "#d8576b"
             ],
             [
              0.6666666666666666,
              "#ed7953"
             ],
             [
              0.7777777777777778,
              "#fb9f3a"
             ],
             [
              0.8888888888888888,
              "#fdca26"
             ],
             [
              1,
              "#f0f921"
             ]
            ],
            "type": "surface"
           }
          ],
          "table": [
           {
            "cells": {
             "fill": {
              "color": "#EBF0F8"
             },
             "line": {
              "color": "white"
             }
            },
            "header": {
             "fill": {
              "color": "#C8D4E3"
             },
             "line": {
              "color": "white"
             }
            },
            "type": "table"
           }
          ]
         },
         "layout": {
          "annotationdefaults": {
           "arrowcolor": "#2a3f5f",
           "arrowhead": 0,
           "arrowwidth": 1
          },
          "autotypenumbers": "strict",
          "coloraxis": {
           "colorbar": {
            "outlinewidth": 0,
            "ticks": ""
           }
          },
          "colorscale": {
           "diverging": [
            [
             0,
             "#8e0152"
            ],
            [
             0.1,
             "#c51b7d"
            ],
            [
             0.2,
             "#de77ae"
            ],
            [
             0.3,
             "#f1b6da"
            ],
            [
             0.4,
             "#fde0ef"
            ],
            [
             0.5,
             "#f7f7f7"
            ],
            [
             0.6,
             "#e6f5d0"
            ],
            [
             0.7,
             "#b8e186"
            ],
            [
             0.8,
             "#7fbc41"
            ],
            [
             0.9,
             "#4d9221"
            ],
            [
             1,
             "#276419"
            ]
           ],
           "sequential": [
            [
             0,
             "#0d0887"
            ],
            [
             0.1111111111111111,
             "#46039f"
            ],
            [
             0.2222222222222222,
             "#7201a8"
            ],
            [
             0.3333333333333333,
             "#9c179e"
            ],
            [
             0.4444444444444444,
             "#bd3786"
            ],
            [
             0.5555555555555556,
             "#d8576b"
            ],
            [
             0.6666666666666666,
             "#ed7953"
            ],
            [
             0.7777777777777778,
             "#fb9f3a"
            ],
            [
             0.8888888888888888,
             "#fdca26"
            ],
            [
             1,
             "#f0f921"
            ]
           ],
           "sequentialminus": [
            [
             0,
             "#0d0887"
            ],
            [
             0.1111111111111111,
             "#46039f"
            ],
            [
             0.2222222222222222,
             "#7201a8"
            ],
            [
             0.3333333333333333,
             "#9c179e"
            ],
            [
             0.4444444444444444,
             "#bd3786"
            ],
            [
             0.5555555555555556,
             "#d8576b"
            ],
            [
             0.6666666666666666,
             "#ed7953"
            ],
            [
             0.7777777777777778,
             "#fb9f3a"
            ],
            [
             0.8888888888888888,
             "#fdca26"
            ],
            [
             1,
             "#f0f921"
            ]
           ]
          },
          "colorway": [
           "#636efa",
           "#EF553B",
           "#00cc96",
           "#ab63fa",
           "#FFA15A",
           "#19d3f3",
           "#FF6692",
           "#B6E880",
           "#FF97FF",
           "#FECB52"
          ],
          "font": {
           "color": "#2a3f5f"
          },
          "geo": {
           "bgcolor": "white",
           "lakecolor": "white",
           "landcolor": "#E5ECF6",
           "showlakes": true,
           "showland": true,
           "subunitcolor": "white"
          },
          "hoverlabel": {
           "align": "left"
          },
          "hovermode": "closest",
          "mapbox": {
           "style": "light"
          },
          "paper_bgcolor": "white",
          "plot_bgcolor": "#E5ECF6",
          "polar": {
           "angularaxis": {
            "gridcolor": "white",
            "linecolor": "white",
            "ticks": ""
           },
           "bgcolor": "#E5ECF6",
           "radialaxis": {
            "gridcolor": "white",
            "linecolor": "white",
            "ticks": ""
           }
          },
          "scene": {
           "xaxis": {
            "backgroundcolor": "#E5ECF6",
            "gridcolor": "white",
            "gridwidth": 2,
            "linecolor": "white",
            "showbackground": true,
            "ticks": "",
            "zerolinecolor": "white"
           },
           "yaxis": {
            "backgroundcolor": "#E5ECF6",
            "gridcolor": "white",
            "gridwidth": 2,
            "linecolor": "white",
            "showbackground": true,
            "ticks": "",
            "zerolinecolor": "white"
           },
           "zaxis": {
            "backgroundcolor": "#E5ECF6",
            "gridcolor": "white",
            "gridwidth": 2,
            "linecolor": "white",
            "showbackground": true,
            "ticks": "",
            "zerolinecolor": "white"
           }
          },
          "shapedefaults": {
           "line": {
            "color": "#2a3f5f"
           }
          },
          "ternary": {
           "aaxis": {
            "gridcolor": "white",
            "linecolor": "white",
            "ticks": ""
           },
           "baxis": {
            "gridcolor": "white",
            "linecolor": "white",
            "ticks": ""
           },
           "bgcolor": "#E5ECF6",
           "caxis": {
            "gridcolor": "white",
            "linecolor": "white",
            "ticks": ""
           }
          },
          "title": {
           "x": 0.05
          },
          "xaxis": {
           "automargin": true,
           "gridcolor": "white",
           "linecolor": "white",
           "ticks": "",
           "title": {
            "standoff": 15
           },
           "zerolinecolor": "white",
           "zerolinewidth": 2
          },
          "yaxis": {
           "automargin": true,
           "gridcolor": "white",
           "linecolor": "white",
           "ticks": "",
           "title": {
            "standoff": 15
           },
           "zerolinecolor": "white",
           "zerolinewidth": 2
          }
         }
        },
        "title": {
         "text": "Top 5 best weather cities"
        },
        "updatemenus": [
         {
          "buttons": [
           {
            "args": [
             null,
             {
              "frame": {
               "duration": 500,
               "redraw": true
              },
              "fromcurrent": true,
              "mode": "immediate",
              "transition": {
               "duration": 500,
               "easing": "linear"
              }
             }
            ],
            "label": "&#9654;",
            "method": "animate"
           },
           {
            "args": [
             [
              null
             ],
             {
              "frame": {
               "duration": 0,
               "redraw": true
              },
              "fromcurrent": true,
              "mode": "immediate",
              "transition": {
               "duration": 0,
               "easing": "linear"
              }
             }
            ],
            "label": "&#9724;",
            "method": "animate"
           }
          ],
          "direction": "left",
          "pad": {
           "r": 10,
           "t": 70
          },
          "showactive": false,
          "type": "buttons",
          "x": 0.1,
          "xanchor": "right",
          "y": 0,
          "yanchor": "top"
         }
        ]
       }
      }
     },
     "metadata": {},
     "output_type": "display_data"
    }
   ],
   "source": [
    "fig = px.scatter_mapbox(weather, lat=\"latitude\", lon=\"longitude\",\n",
    "                        color=\"temperature\", size ='temp_cube', zoom=3, mapbox_style=\"carto-positron\",\n",
    "                        animation_frame = \"dt_object\", animation_group = 'temperature',\n",
    "                        title=\"Top 5 best weather cities\")\n",
    "fig.show()"
   ]
  },
  {
   "cell_type": "code",
   "execution_count": 8,
   "metadata": {},
   "outputs": [
    {
     "data": {
      "text/html": [
       "<div>\n",
       "<style scoped>\n",
       "    .dataframe tbody tr th:only-of-type {\n",
       "        vertical-align: middle;\n",
       "    }\n",
       "\n",
       "    .dataframe tbody tr th {\n",
       "        vertical-align: top;\n",
       "    }\n",
       "\n",
       "    .dataframe thead th {\n",
       "        text-align: right;\n",
       "    }\n",
       "</style>\n",
       "<table border=\"1\" class=\"dataframe\">\n",
       "  <thead>\n",
       "    <tr style=\"text-align: right;\">\n",
       "      <th></th>\n",
       "      <th>index</th>\n",
       "      <th>Unnamed: 0</th>\n",
       "      <th>hotel name</th>\n",
       "      <th>Url to its booking.com page</th>\n",
       "      <th>Score</th>\n",
       "      <th>Text description</th>\n",
       "      <th>lat</th>\n",
       "      <th>lon</th>\n",
       "    </tr>\n",
       "  </thead>\n",
       "  <tbody>\n",
       "    <tr>\n",
       "      <th>0</th>\n",
       "      <td>0</td>\n",
       "      <td>0</td>\n",
       "      <td>Odalys City Amiens Blamont</td>\n",
       "      <td>https://www.booking.com/hotel/fr/appart-39-oda...</td>\n",
       "      <td>8.0</td>\n",
       "      <td>Situé à 2,8 km du Zénith d'Amiens et à 900 mèt...</td>\n",
       "      <td>49.887148</td>\n",
       "      <td>2.311611</td>\n",
       "    </tr>\n",
       "    <tr>\n",
       "      <th>1</th>\n",
       "      <td>1</td>\n",
       "      <td>1</td>\n",
       "      <td>L'AMIE'NOIS - 6 COUCHAGES - JARDIN - WiFi</td>\n",
       "      <td>https://www.booking.com/hotel/fr/appt-en-amien...</td>\n",
       "      <td>8.0</td>\n",
       "      <td>Situé à 1,9 km du Zénith d'Amiens et à 3,9 km ...</td>\n",
       "      <td>49.888011</td>\n",
       "      <td>2.264935</td>\n",
       "    </tr>\n",
       "    <tr>\n",
       "      <th>2</th>\n",
       "      <td>2</td>\n",
       "      <td>2</td>\n",
       "      <td>Au Coeur d'Amiens</td>\n",
       "      <td>https://www.booking.com/hotel/fr/maison-au-coe...</td>\n",
       "      <td>9.2</td>\n",
       "      <td>Situé à Amiens, à seulement 1 km de la gare, l...</td>\n",
       "      <td>49.896155</td>\n",
       "      <td>2.306368</td>\n",
       "    </tr>\n",
       "    <tr>\n",
       "      <th>3</th>\n",
       "      <td>3</td>\n",
       "      <td>3</td>\n",
       "      <td>Gite Amiens</td>\n",
       "      <td>https://www.booking.com/hotel/fr/gite-amiens.f...</td>\n",
       "      <td>8.5</td>\n",
       "      <td>Situé à Amiens, à seulement 5 minutes à pied d...</td>\n",
       "      <td>49.902358</td>\n",
       "      <td>2.314285</td>\n",
       "    </tr>\n",
       "    <tr>\n",
       "      <th>4</th>\n",
       "      <td>4</td>\n",
       "      <td>4</td>\n",
       "      <td>Le Cottage des Hortillonnages</td>\n",
       "      <td>https://www.booking.com/hotel/fr/le-cottage-de...</td>\n",
       "      <td>9.3</td>\n",
       "      <td>Le Cottage des Hortillonnages est situé à Amie...</td>\n",
       "      <td>49.897552</td>\n",
       "      <td>2.316359</td>\n",
       "    </tr>\n",
       "  </tbody>\n",
       "</table>\n",
       "</div>"
      ],
      "text/plain": [
       "   index  Unnamed: 0                                 hotel name  \\\n",
       "0      0           0                 Odalys City Amiens Blamont   \n",
       "1      1           1  L'AMIE'NOIS - 6 COUCHAGES - JARDIN - WiFi   \n",
       "2      2           2                          Au Coeur d'Amiens   \n",
       "3      3           3                                Gite Amiens   \n",
       "4      4           4              Le Cottage des Hortillonnages   \n",
       "\n",
       "                         Url to its booking.com page  Score  \\\n",
       "0  https://www.booking.com/hotel/fr/appart-39-oda...    8.0   \n",
       "1  https://www.booking.com/hotel/fr/appt-en-amien...    8.0   \n",
       "2  https://www.booking.com/hotel/fr/maison-au-coe...    9.2   \n",
       "3  https://www.booking.com/hotel/fr/gite-amiens.f...    8.5   \n",
       "4  https://www.booking.com/hotel/fr/le-cottage-de...    9.3   \n",
       "\n",
       "                                    Text description        lat       lon  \n",
       "0  Situé à 2,8 km du Zénith d'Amiens et à 900 mèt...  49.887148  2.311611  \n",
       "1  Situé à 1,9 km du Zénith d'Amiens et à 3,9 km ...  49.888011  2.264935  \n",
       "2  Situé à Amiens, à seulement 1 km de la gare, l...  49.896155  2.306368  \n",
       "3  Situé à Amiens, à seulement 5 minutes à pied d...  49.902358  2.314285  \n",
       "4  Le Cottage des Hortillonnages est situé à Amie...  49.897552  2.316359  "
      ]
     },
     "execution_count": 8,
     "metadata": {},
     "output_type": "execute_result"
    }
   ],
   "source": [
    "# Hotel info\n",
    "stmt = text(\"SELECT * FROM hotel \"\n",
    "            )\n",
    "\n",
    "df = pd.read_sql(\n",
    "        stmt,\n",
    "        engine\n",
    "    )\n",
    "\n",
    "df.head()"
   ]
  },
  {
   "cell_type": "code",
   "execution_count": 9,
   "metadata": {},
   "outputs": [
    {
     "data": {
      "application/vnd.plotly.v1+json": {
       "config": {
        "plotlyServerURL": "https://plot.ly"
       },
       "data": [
        {
         "hovertemplate": "Score=%{marker.color}<br>lat=%{lat}<br>lon=%{lon}<extra></extra>",
         "lat": [
          49.88714842,
          49.8880108,
          49.8961553,
          49.90235783,
          49.89755206,
          49.8925625,
          49.888542,
          49.891249,
          49.893615,
          49.87000632,
          49.894229,
          49.89444519,
          43.21407197,
          49.89357965,
          49.8875926,
          43.14393659,
          43.29253825,
          43.2953889,
          43.2892719,
          43.2964649,
          43.36282524,
          43.3067083,
          43.29594971,
          43.31433499,
          43.29654954,
          43.304229,
          43.2960772,
          43.2505303,
          43.30272424,
          43.299162,
          43.300097,
          43.30020105,
          43.2891394,
          43.22207969,
          43.2909627,
          43.29412372,
          43.21737259,
          43.21589392,
          43.21509805,
          43.216905,
          43.21537,
          43.21462214,
          43.2143771,
          43.215009,
          43.215456,
          43.214926,
          43.21524569,
          43.2208045,
          43.21644024,
          43.2202401,
          43.2191999,
          43.2211281,
          43.2206243,
          43.12264843,
          43.2120018,
          43.14456855,
          43.1496567,
          43.122494,
          43.1431217,
          43.1509034,
          43.144686,
          43.12415,
          43.142501,
          43.15038674,
          43.1403633,
          43.12602594,
          43.14957041,
          43.146445,
          49.4460252,
          43.150077,
          49.44527729,
          49.442178,
          49.4525251,
          49.44903352,
          49.445091,
          49.4464641,
          49.43869536,
          49.4502853,
          49.444544,
          49.44011681,
          49.429988,
          49.43365941,
          49.43783419,
          49.44306423,
          49.44197641,
          49.44332714,
          49.44117285,
          49.44157649,
          49.446441,
          49.9071282,
          49.8925731,
          49.8925625,
          49.8916762,
          49.8930114,
          49.901814
         ],
         "legendgroup": "",
         "lon": [
          2.3116109,
          2.264935,
          2.3063681,
          2.31428465,
          2.31635948,
          2.3052844,
          2.331349,
          2.30953,
          2.3001575,
          2.30806847,
          2.305778,
          2.30094239,
          5.53062182,
          2.29715419,
          2.281197,
          6.33632324,
          5.37886038,
          5.3791652,
          5.3619231,
          5.3671383,
          5.31176512,
          5.3709456,
          5.37455259,
          5.38842062,
          5.39145293,
          5.376624,
          5.3791039,
          5.3814817,
          5.37933044,
          5.401543,
          5.367585,
          5.38260245,
          5.3837717,
          5.53792695,
          5.3764292,
          5.37463993,
          5.53635836,
          5.53476321,
          5.54048743,
          5.541446,
          5.53719,
          5.53477276,
          5.5377803,
          5.530956,
          5.535734,
          5.532989,
          5.54466784,
          5.54229625,
          5.54174572,
          5.5424693,
          5.5471365,
          5.5565709,
          5.540767,
          6.35946596,
          5.5276305,
          6.35168418,
          6.3018207,
          6.357174,
          6.3521398,
          6.3419325,
          6.335125,
          6.351192,
          6.3491788,
          6.34269357,
          6.3367149,
          6.35675467,
          6.30204835,
          6.327724,
          1.0832305,
          6.342641,
          1.0867627,
          1.088876,
          1.0928101,
          1.09021068,
          1.0965322,
          1.0957957,
          1.1092034,
          1.0890898,
          1.091178,
          1.09693363,
          1.072398,
          1.09861642,
          1.09725282,
          1.08660311,
          1.09243892,
          1.09457396,
          1.09517545,
          1.0839549,
          1.09412,
          2.3172668,
          2.3118048,
          2.3052844,
          2.30775386,
          2.3058662,
          2.271326
         ],
         "marker": {
          "color": [
           8,
           8,
           9.2,
           8.5,
           9.3,
           9.6,
           9.1,
           8.5,
           8.5,
           9.6,
           7.9,
           8.3,
           8.4,
           9.1,
           9,
           9.4,
           8,
           7,
           7,
           8.5,
           8,
           7.1,
           8.8,
           7.3,
           8.7,
           7.8,
           8.6,
           9.2,
           7.8,
           9.7,
           7.8,
           8.3,
           10,
           7.6,
           7.9,
           8.5,
           8.7,
           8.1,
           8.1,
           9.1,
           8.1,
           9.5,
           8,
           9.3,
           9.4,
           9,
           9.5,
           9,
           9.2,
           7,
           9.3,
           8.5,
           8.6,
           7.6,
           9.7,
           9.1,
           9.2,
           8.2,
           8.4,
           10,
           8,
           9,
           8.9,
           8.6,
           8.5,
           8.4,
           9.2,
           9.6,
           9,
           8.4,
           8,
           8.4,
           7.2,
           8,
           7.6,
           9.1,
           7.4,
           8.5,
           8.6,
           7.8,
           8.3,
           8.7,
           8.2,
           8.5,
           8,
           8.1,
           8.1,
           8.6,
           8.9,
           8.4,
           9.5,
           9.3,
           7.9,
           7.8,
           8.3
          ],
          "coloraxis": "coloraxis",
          "size": [
           8,
           8,
           9.2,
           8.5,
           9.3,
           9.6,
           9.1,
           8.5,
           8.5,
           9.6,
           7.9,
           8.3,
           8.4,
           9.1,
           9,
           9.4,
           8,
           7,
           7,
           8.5,
           8,
           7.1,
           8.8,
           7.3,
           8.7,
           7.8,
           8.6,
           9.2,
           7.8,
           9.7,
           7.8,
           8.3,
           10,
           7.6,
           7.9,
           8.5,
           8.7,
           8.1,
           8.1,
           9.1,
           8.1,
           9.5,
           8,
           9.3,
           9.4,
           9,
           9.5,
           9,
           9.2,
           7,
           9.3,
           8.5,
           8.6,
           7.6,
           9.7,
           9.1,
           9.2,
           8.2,
           8.4,
           10,
           8,
           9,
           8.9,
           8.6,
           8.5,
           8.4,
           9.2,
           9.6,
           9,
           8.4,
           8,
           8.4,
           7.2,
           8,
           7.6,
           9.1,
           7.4,
           8.5,
           8.6,
           7.8,
           8.3,
           8.7,
           8.2,
           8.5,
           8,
           8.1,
           8.1,
           8.6,
           8.9,
           8.4,
           9.5,
           9.3,
           7.9,
           7.8,
           8.3
          ],
          "sizemode": "area",
          "sizeref": 0.025
         },
         "mode": "markers",
         "name": "",
         "showlegend": false,
         "subplot": "mapbox",
         "type": "scattermapbox"
        }
       ],
       "layout": {
        "coloraxis": {
         "colorbar": {
          "title": {
           "text": "Score"
          }
         },
         "colorscale": [
          [
           0,
           "#0d0887"
          ],
          [
           0.1111111111111111,
           "#46039f"
          ],
          [
           0.2222222222222222,
           "#7201a8"
          ],
          [
           0.3333333333333333,
           "#9c179e"
          ],
          [
           0.4444444444444444,
           "#bd3786"
          ],
          [
           0.5555555555555556,
           "#d8576b"
          ],
          [
           0.6666666666666666,
           "#ed7953"
          ],
          [
           0.7777777777777778,
           "#fb9f3a"
          ],
          [
           0.8888888888888888,
           "#fdca26"
          ],
          [
           1,
           "#f0f921"
          ]
         ]
        },
        "legend": {
         "itemsizing": "constant",
         "tracegroupgap": 0
        },
        "mapbox": {
         "center": {
          "lat": 45.93663963852632,
          "lon": 4.023729843157895
         },
         "domain": {
          "x": [
           0,
           1
          ],
          "y": [
           0,
           1
          ]
         },
         "style": "carto-positron",
         "zoom": 3
        },
        "template": {
         "data": {
          "bar": [
           {
            "error_x": {
             "color": "#2a3f5f"
            },
            "error_y": {
             "color": "#2a3f5f"
            },
            "marker": {
             "line": {
              "color": "#E5ECF6",
              "width": 0.5
             },
             "pattern": {
              "fillmode": "overlay",
              "size": 10,
              "solidity": 0.2
             }
            },
            "type": "bar"
           }
          ],
          "barpolar": [
           {
            "marker": {
             "line": {
              "color": "#E5ECF6",
              "width": 0.5
             },
             "pattern": {
              "fillmode": "overlay",
              "size": 10,
              "solidity": 0.2
             }
            },
            "type": "barpolar"
           }
          ],
          "carpet": [
           {
            "aaxis": {
             "endlinecolor": "#2a3f5f",
             "gridcolor": "white",
             "linecolor": "white",
             "minorgridcolor": "white",
             "startlinecolor": "#2a3f5f"
            },
            "baxis": {
             "endlinecolor": "#2a3f5f",
             "gridcolor": "white",
             "linecolor": "white",
             "minorgridcolor": "white",
             "startlinecolor": "#2a3f5f"
            },
            "type": "carpet"
           }
          ],
          "choropleth": [
           {
            "colorbar": {
             "outlinewidth": 0,
             "ticks": ""
            },
            "type": "choropleth"
           }
          ],
          "contour": [
           {
            "colorbar": {
             "outlinewidth": 0,
             "ticks": ""
            },
            "colorscale": [
             [
              0,
              "#0d0887"
             ],
             [
              0.1111111111111111,
              "#46039f"
             ],
             [
              0.2222222222222222,
              "#7201a8"
             ],
             [
              0.3333333333333333,
              "#9c179e"
             ],
             [
              0.4444444444444444,
              "#bd3786"
             ],
             [
              0.5555555555555556,
              "#d8576b"
             ],
             [
              0.6666666666666666,
              "#ed7953"
             ],
             [
              0.7777777777777778,
              "#fb9f3a"
             ],
             [
              0.8888888888888888,
              "#fdca26"
             ],
             [
              1,
              "#f0f921"
             ]
            ],
            "type": "contour"
           }
          ],
          "contourcarpet": [
           {
            "colorbar": {
             "outlinewidth": 0,
             "ticks": ""
            },
            "type": "contourcarpet"
           }
          ],
          "heatmap": [
           {
            "colorbar": {
             "outlinewidth": 0,
             "ticks": ""
            },
            "colorscale": [
             [
              0,
              "#0d0887"
             ],
             [
              0.1111111111111111,
              "#46039f"
             ],
             [
              0.2222222222222222,
              "#7201a8"
             ],
             [
              0.3333333333333333,
              "#9c179e"
             ],
             [
              0.4444444444444444,
              "#bd3786"
             ],
             [
              0.5555555555555556,
              "#d8576b"
             ],
             [
              0.6666666666666666,
              "#ed7953"
             ],
             [
              0.7777777777777778,
              "#fb9f3a"
             ],
             [
              0.8888888888888888,
              "#fdca26"
             ],
             [
              1,
              "#f0f921"
             ]
            ],
            "type": "heatmap"
           }
          ],
          "heatmapgl": [
           {
            "colorbar": {
             "outlinewidth": 0,
             "ticks": ""
            },
            "colorscale": [
             [
              0,
              "#0d0887"
             ],
             [
              0.1111111111111111,
              "#46039f"
             ],
             [
              0.2222222222222222,
              "#7201a8"
             ],
             [
              0.3333333333333333,
              "#9c179e"
             ],
             [
              0.4444444444444444,
              "#bd3786"
             ],
             [
              0.5555555555555556,
              "#d8576b"
             ],
             [
              0.6666666666666666,
              "#ed7953"
             ],
             [
              0.7777777777777778,
              "#fb9f3a"
             ],
             [
              0.8888888888888888,
              "#fdca26"
             ],
             [
              1,
              "#f0f921"
             ]
            ],
            "type": "heatmapgl"
           }
          ],
          "histogram": [
           {
            "marker": {
             "pattern": {
              "fillmode": "overlay",
              "size": 10,
              "solidity": 0.2
             }
            },
            "type": "histogram"
           }
          ],
          "histogram2d": [
           {
            "colorbar": {
             "outlinewidth": 0,
             "ticks": ""
            },
            "colorscale": [
             [
              0,
              "#0d0887"
             ],
             [
              0.1111111111111111,
              "#46039f"
             ],
             [
              0.2222222222222222,
              "#7201a8"
             ],
             [
              0.3333333333333333,
              "#9c179e"
             ],
             [
              0.4444444444444444,
              "#bd3786"
             ],
             [
              0.5555555555555556,
              "#d8576b"
             ],
             [
              0.6666666666666666,
              "#ed7953"
             ],
             [
              0.7777777777777778,
              "#fb9f3a"
             ],
             [
              0.8888888888888888,
              "#fdca26"
             ],
             [
              1,
              "#f0f921"
             ]
            ],
            "type": "histogram2d"
           }
          ],
          "histogram2dcontour": [
           {
            "colorbar": {
             "outlinewidth": 0,
             "ticks": ""
            },
            "colorscale": [
             [
              0,
              "#0d0887"
             ],
             [
              0.1111111111111111,
              "#46039f"
             ],
             [
              0.2222222222222222,
              "#7201a8"
             ],
             [
              0.3333333333333333,
              "#9c179e"
             ],
             [
              0.4444444444444444,
              "#bd3786"
             ],
             [
              0.5555555555555556,
              "#d8576b"
             ],
             [
              0.6666666666666666,
              "#ed7953"
             ],
             [
              0.7777777777777778,
              "#fb9f3a"
             ],
             [
              0.8888888888888888,
              "#fdca26"
             ],
             [
              1,
              "#f0f921"
             ]
            ],
            "type": "histogram2dcontour"
           }
          ],
          "mesh3d": [
           {
            "colorbar": {
             "outlinewidth": 0,
             "ticks": ""
            },
            "type": "mesh3d"
           }
          ],
          "parcoords": [
           {
            "line": {
             "colorbar": {
              "outlinewidth": 0,
              "ticks": ""
             }
            },
            "type": "parcoords"
           }
          ],
          "pie": [
           {
            "automargin": true,
            "type": "pie"
           }
          ],
          "scatter": [
           {
            "fillpattern": {
             "fillmode": "overlay",
             "size": 10,
             "solidity": 0.2
            },
            "type": "scatter"
           }
          ],
          "scatter3d": [
           {
            "line": {
             "colorbar": {
              "outlinewidth": 0,
              "ticks": ""
             }
            },
            "marker": {
             "colorbar": {
              "outlinewidth": 0,
              "ticks": ""
             }
            },
            "type": "scatter3d"
           }
          ],
          "scattercarpet": [
           {
            "marker": {
             "colorbar": {
              "outlinewidth": 0,
              "ticks": ""
             }
            },
            "type": "scattercarpet"
           }
          ],
          "scattergeo": [
           {
            "marker": {
             "colorbar": {
              "outlinewidth": 0,
              "ticks": ""
             }
            },
            "type": "scattergeo"
           }
          ],
          "scattergl": [
           {
            "marker": {
             "colorbar": {
              "outlinewidth": 0,
              "ticks": ""
             }
            },
            "type": "scattergl"
           }
          ],
          "scattermapbox": [
           {
            "marker": {
             "colorbar": {
              "outlinewidth": 0,
              "ticks": ""
             }
            },
            "type": "scattermapbox"
           }
          ],
          "scatterpolar": [
           {
            "marker": {
             "colorbar": {
              "outlinewidth": 0,
              "ticks": ""
             }
            },
            "type": "scatterpolar"
           }
          ],
          "scatterpolargl": [
           {
            "marker": {
             "colorbar": {
              "outlinewidth": 0,
              "ticks": ""
             }
            },
            "type": "scatterpolargl"
           }
          ],
          "scatterternary": [
           {
            "marker": {
             "colorbar": {
              "outlinewidth": 0,
              "ticks": ""
             }
            },
            "type": "scatterternary"
           }
          ],
          "surface": [
           {
            "colorbar": {
             "outlinewidth": 0,
             "ticks": ""
            },
            "colorscale": [
             [
              0,
              "#0d0887"
             ],
             [
              0.1111111111111111,
              "#46039f"
             ],
             [
              0.2222222222222222,
              "#7201a8"
             ],
             [
              0.3333333333333333,
              "#9c179e"
             ],
             [
              0.4444444444444444,
              "#bd3786"
             ],
             [
              0.5555555555555556,
              "#d8576b"
             ],
             [
              0.6666666666666666,
              "#ed7953"
             ],
             [
              0.7777777777777778,
              "#fb9f3a"
             ],
             [
              0.8888888888888888,
              "#fdca26"
             ],
             [
              1,
              "#f0f921"
             ]
            ],
            "type": "surface"
           }
          ],
          "table": [
           {
            "cells": {
             "fill": {
              "color": "#EBF0F8"
             },
             "line": {
              "color": "white"
             }
            },
            "header": {
             "fill": {
              "color": "#C8D4E3"
             },
             "line": {
              "color": "white"
             }
            },
            "type": "table"
           }
          ]
         },
         "layout": {
          "annotationdefaults": {
           "arrowcolor": "#2a3f5f",
           "arrowhead": 0,
           "arrowwidth": 1
          },
          "autotypenumbers": "strict",
          "coloraxis": {
           "colorbar": {
            "outlinewidth": 0,
            "ticks": ""
           }
          },
          "colorscale": {
           "diverging": [
            [
             0,
             "#8e0152"
            ],
            [
             0.1,
             "#c51b7d"
            ],
            [
             0.2,
             "#de77ae"
            ],
            [
             0.3,
             "#f1b6da"
            ],
            [
             0.4,
             "#fde0ef"
            ],
            [
             0.5,
             "#f7f7f7"
            ],
            [
             0.6,
             "#e6f5d0"
            ],
            [
             0.7,
             "#b8e186"
            ],
            [
             0.8,
             "#7fbc41"
            ],
            [
             0.9,
             "#4d9221"
            ],
            [
             1,
             "#276419"
            ]
           ],
           "sequential": [
            [
             0,
             "#0d0887"
            ],
            [
             0.1111111111111111,
             "#46039f"
            ],
            [
             0.2222222222222222,
             "#7201a8"
            ],
            [
             0.3333333333333333,
             "#9c179e"
            ],
            [
             0.4444444444444444,
             "#bd3786"
            ],
            [
             0.5555555555555556,
             "#d8576b"
            ],
            [
             0.6666666666666666,
             "#ed7953"
            ],
            [
             0.7777777777777778,
             "#fb9f3a"
            ],
            [
             0.8888888888888888,
             "#fdca26"
            ],
            [
             1,
             "#f0f921"
            ]
           ],
           "sequentialminus": [
            [
             0,
             "#0d0887"
            ],
            [
             0.1111111111111111,
             "#46039f"
            ],
            [
             0.2222222222222222,
             "#7201a8"
            ],
            [
             0.3333333333333333,
             "#9c179e"
            ],
            [
             0.4444444444444444,
             "#bd3786"
            ],
            [
             0.5555555555555556,
             "#d8576b"
            ],
            [
             0.6666666666666666,
             "#ed7953"
            ],
            [
             0.7777777777777778,
             "#fb9f3a"
            ],
            [
             0.8888888888888888,
             "#fdca26"
            ],
            [
             1,
             "#f0f921"
            ]
           ]
          },
          "colorway": [
           "#636efa",
           "#EF553B",
           "#00cc96",
           "#ab63fa",
           "#FFA15A",
           "#19d3f3",
           "#FF6692",
           "#B6E880",
           "#FF97FF",
           "#FECB52"
          ],
          "font": {
           "color": "#2a3f5f"
          },
          "geo": {
           "bgcolor": "white",
           "lakecolor": "white",
           "landcolor": "#E5ECF6",
           "showlakes": true,
           "showland": true,
           "subunitcolor": "white"
          },
          "hoverlabel": {
           "align": "left"
          },
          "hovermode": "closest",
          "mapbox": {
           "style": "light"
          },
          "paper_bgcolor": "white",
          "plot_bgcolor": "#E5ECF6",
          "polar": {
           "angularaxis": {
            "gridcolor": "white",
            "linecolor": "white",
            "ticks": ""
           },
           "bgcolor": "#E5ECF6",
           "radialaxis": {
            "gridcolor": "white",
            "linecolor": "white",
            "ticks": ""
           }
          },
          "scene": {
           "xaxis": {
            "backgroundcolor": "#E5ECF6",
            "gridcolor": "white",
            "gridwidth": 2,
            "linecolor": "white",
            "showbackground": true,
            "ticks": "",
            "zerolinecolor": "white"
           },
           "yaxis": {
            "backgroundcolor": "#E5ECF6",
            "gridcolor": "white",
            "gridwidth": 2,
            "linecolor": "white",
            "showbackground": true,
            "ticks": "",
            "zerolinecolor": "white"
           },
           "zaxis": {
            "backgroundcolor": "#E5ECF6",
            "gridcolor": "white",
            "gridwidth": 2,
            "linecolor": "white",
            "showbackground": true,
            "ticks": "",
            "zerolinecolor": "white"
           }
          },
          "shapedefaults": {
           "line": {
            "color": "#2a3f5f"
           }
          },
          "ternary": {
           "aaxis": {
            "gridcolor": "white",
            "linecolor": "white",
            "ticks": ""
           },
           "baxis": {
            "gridcolor": "white",
            "linecolor": "white",
            "ticks": ""
           },
           "bgcolor": "#E5ECF6",
           "caxis": {
            "gridcolor": "white",
            "linecolor": "white",
            "ticks": ""
           }
          },
          "title": {
           "x": 0.05
          },
          "xaxis": {
           "automargin": true,
           "gridcolor": "white",
           "linecolor": "white",
           "ticks": "",
           "title": {
            "standoff": 15
           },
           "zerolinecolor": "white",
           "zerolinewidth": 2
          },
          "yaxis": {
           "automargin": true,
           "gridcolor": "white",
           "linecolor": "white",
           "ticks": "",
           "title": {
            "standoff": 15
           },
           "zerolinecolor": "white",
           "zerolinewidth": 2
          }
         }
        },
        "title": {
         "text": "Top 20 hotels in our top 5 cities"
        }
       }
      }
     },
     "metadata": {},
     "output_type": "display_data"
    }
   ],
   "source": [
    "fig = px.scatter_mapbox(hotel[hotel['Score'].notna()], lat=\"lat\", lon=\"lon\", \n",
    "                        zoom=3, size=\"Score\", color=\"Score\", mapbox_style=\"carto-positron\", \n",
    "                        title = 'Top 20 hotels in our top 5 cities')\n",
    "fig.show()"
   ]
  }
 ],
 "metadata": {
  "kernelspec": {
   "display_name": "base",
   "language": "python",
   "name": "python3"
  },
  "language_info": {
   "codemirror_mode": {
    "name": "ipython",
    "version": 3
   },
   "file_extension": ".py",
   "mimetype": "text/x-python",
   "name": "python",
   "nbconvert_exporter": "python",
   "pygments_lexer": "ipython3",
   "version": "3.10.8"
  },
  "orig_nbformat": 4,
  "vscode": {
   "interpreter": {
    "hash": "27475ad11a5960b5c9c2c23a23d0db9f81f2852f739b9cd5e7b2161981b102a1"
   }
  }
 },
 "nbformat": 4,
 "nbformat_minor": 2
}
