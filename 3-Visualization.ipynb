{
 "cells": [
  {
   "cell_type": "code",
   "execution_count": 1,
   "metadata": {},
   "outputs": [],
   "source": [
    "# import of libraries \n",
    "from sqlalchemy import create_engine, text\n",
    "import pandas as pd\n",
    "import plotly.express as px\n",
    "import psycopg2\n",
    "import os\n",
    "from datetime import datetime\n",
    "import json"
   ]
  },
  {
   "cell_type": "code",
   "execution_count": 2,
   "metadata": {},
   "outputs": [],
   "source": [
    "# Call of our date in S3 \n",
    "weather = pd.read_csv('s3://booking-scapping/city_weather_by_day.csv')\n",
    "hotel = pd.read_csv('s3://booking-scapping/hotels_info.csv')"
   ]
  },
  {
   "cell_type": "code",
   "execution_count": 5,
   "metadata": {},
   "outputs": [],
   "source": [
    "# gets our secrets for connection at RDS\n",
    "\n",
    "import json\n",
    "with open(\"./secrets.json\") as f:\n",
    "    secrets = json.load(f)\n"
   ]
  },
  {
   "cell_type": "code",
   "execution_count": 6,
   "metadata": {},
   "outputs": [
    {
     "data": {
      "text/plain": [
       "100"
      ]
     },
     "execution_count": 6,
     "metadata": {},
     "output_type": "execute_result"
    }
   ],
   "source": [
    "# send to our DB\n",
    "\n",
    "#engine = create_engine(\"sqlite:///:memory:\", echo=True)\n",
    "engine = create_engine(f'postgresql+psycopg2://{secrets[\"DBUSER\"]}:{secrets[\"DBPASS\"]}@{secrets[\"DBHOST\"]}')\n",
    "\n",
    "weather.to_sql(\n",
    "    f\"city_weather_top_5\",\n",
    "    engine,\n",
    "    if_exists='replace'\n",
    ")\n",
    "\n",
    "hotel.to_sql(\n",
    "    \"hotel\",\n",
    "    engine,\n",
    "    if_exists='replace'\n",
    ")"
   ]
  },
  {
   "attachments": {},
   "cell_type": "markdown",
   "metadata": {},
   "source": [
    "## Call tables from our BD and do visualization "
   ]
  },
  {
   "cell_type": "code",
   "execution_count": 7,
   "metadata": {},
   "outputs": [
    {
     "data": {
      "text/html": [
       "<div>\n",
       "<style scoped>\n",
       "    .dataframe tbody tr th:only-of-type {\n",
       "        vertical-align: middle;\n",
       "    }\n",
       "\n",
       "    .dataframe tbody tr th {\n",
       "        vertical-align: top;\n",
       "    }\n",
       "\n",
       "    .dataframe thead th {\n",
       "        text-align: right;\n",
       "    }\n",
       "</style>\n",
       "<table border=\"1\" class=\"dataframe\">\n",
       "  <thead>\n",
       "    <tr style=\"text-align: right;\">\n",
       "      <th></th>\n",
       "      <th>index</th>\n",
       "      <th>Unnamed: 0</th>\n",
       "      <th>city</th>\n",
       "      <th>dt_object</th>\n",
       "      <th>main_weather</th>\n",
       "      <th>prepcipitation</th>\n",
       "      <th>temperature</th>\n",
       "      <th>latitude</th>\n",
       "      <th>longitude</th>\n",
       "    </tr>\n",
       "  </thead>\n",
       "  <tbody>\n",
       "    <tr>\n",
       "      <th>0</th>\n",
       "      <td>0</td>\n",
       "      <td>12</td>\n",
       "      <td>Amiens</td>\n",
       "      <td>2023-02-20</td>\n",
       "      <td>Clouds</td>\n",
       "      <td>0.00</td>\n",
       "      <td>8.796667</td>\n",
       "      <td>49.894171</td>\n",
       "      <td>2.295695</td>\n",
       "    </tr>\n",
       "    <tr>\n",
       "      <th>1</th>\n",
       "      <td>1</td>\n",
       "      <td>13</td>\n",
       "      <td>Amiens</td>\n",
       "      <td>2023-02-21</td>\n",
       "      <td>Clouds</td>\n",
       "      <td>0.00</td>\n",
       "      <td>8.875000</td>\n",
       "      <td>49.894171</td>\n",
       "      <td>2.295695</td>\n",
       "    </tr>\n",
       "    <tr>\n",
       "      <th>2</th>\n",
       "      <td>2</td>\n",
       "      <td>14</td>\n",
       "      <td>Amiens</td>\n",
       "      <td>2023-02-22</td>\n",
       "      <td>Clouds</td>\n",
       "      <td>2.38</td>\n",
       "      <td>8.330000</td>\n",
       "      <td>49.894171</td>\n",
       "      <td>2.295695</td>\n",
       "    </tr>\n",
       "    <tr>\n",
       "      <th>3</th>\n",
       "      <td>3</td>\n",
       "      <td>15</td>\n",
       "      <td>Amiens</td>\n",
       "      <td>2023-02-23</td>\n",
       "      <td>Clouds</td>\n",
       "      <td>0.01</td>\n",
       "      <td>5.587500</td>\n",
       "      <td>49.894171</td>\n",
       "      <td>2.295695</td>\n",
       "    </tr>\n",
       "    <tr>\n",
       "      <th>4</th>\n",
       "      <td>4</td>\n",
       "      <td>16</td>\n",
       "      <td>Amiens</td>\n",
       "      <td>2023-02-24</td>\n",
       "      <td>Clouds</td>\n",
       "      <td>0.55</td>\n",
       "      <td>3.693750</td>\n",
       "      <td>49.894171</td>\n",
       "      <td>2.295695</td>\n",
       "    </tr>\n",
       "  </tbody>\n",
       "</table>\n",
       "</div>"
      ],
      "text/plain": [
       "   index  Unnamed: 0    city   dt_object main_weather  prepcipitation  \\\n",
       "0      0          12  Amiens  2023-02-20       Clouds            0.00   \n",
       "1      1          13  Amiens  2023-02-21       Clouds            0.00   \n",
       "2      2          14  Amiens  2023-02-22       Clouds            2.38   \n",
       "3      3          15  Amiens  2023-02-23       Clouds            0.01   \n",
       "4      4          16  Amiens  2023-02-24       Clouds            0.55   \n",
       "\n",
       "   temperature   latitude  longitude  \n",
       "0     8.796667  49.894171   2.295695  \n",
       "1     8.875000  49.894171   2.295695  \n",
       "2     8.330000  49.894171   2.295695  \n",
       "3     5.587500  49.894171   2.295695  \n",
       "4     3.693750  49.894171   2.295695  "
      ]
     },
     "execution_count": 7,
     "metadata": {},
     "output_type": "execute_result"
    }
   ],
   "source": [
    "# Weather table \n",
    "\n",
    "stmt = text(\"SELECT * FROM city_weather_top_5 \"\n",
    "            )\n",
    "\n",
    "weather = pd.read_sql(\n",
    "        stmt,\n",
    "        engine\n",
    "    )\n",
    "\n",
    "weather.head()"
   ]
  },
  {
   "cell_type": "code",
   "execution_count": 9,
   "metadata": {},
   "outputs": [],
   "source": [
    "# Add a proportinal colum on temperature for better see the variation \n",
    "weather['temp_cube'] = weather['temperature']**3\n",
    "weather.head()\n",
    "\n",
    "weather['dt_object'] = weather['dt_object'].astype(str)"
   ]
  },
  {
   "cell_type": "code",
   "execution_count": 10,
   "metadata": {},
   "outputs": [
    {
     "data": {
      "application/vnd.plotly.v1+json": {
       "config": {
        "plotlyServerURL": "https://plot.ly"
       },
       "data": [
        {
         "hovertemplate": "dt_object=2023-02-20<br>temp_cube=%{marker.size}<br>latitude=%{lat}<br>longitude=%{lon}<br>temperature=%{marker.color}<extra></extra>",
         "ids": [
          8.7966666666667,
          12.256666666666698,
          14.096666666666692,
          14.200000000000026,
          8.266666666666689
         ],
         "lat": [
          49.894170800000005,
          43.1506968,
          43.2140359,
          43.2961743,
          49.4404591
         ],
         "legendgroup": "",
         "lon": [
          2.2956951,
          6.341928499999999,
          5.5396318,
          5.3699525,
          1.0939658
         ],
         "marker": {
          "color": [
           8.7966666666667,
           12.256666666666698,
           14.096666666666692,
           14.200000000000026,
           8.266666666666689
          ],
          "coloraxis": "coloraxis",
          "size": [
           680.6978932963042,
           1841.2685086296437,
           2801.2333699629785,
           2863.2880000000155,
           564.9256296296342
          ],
          "sizemode": "area",
          "sizeref": 7.158220000000039
         },
         "mode": "markers",
         "name": "",
         "showlegend": false,
         "subplot": "mapbox",
         "type": "scattermapbox"
        }
       ],
       "frames": [
        {
         "data": [
          {
           "hovertemplate": "dt_object=2023-02-20<br>temp_cube=%{marker.size}<br>latitude=%{lat}<br>longitude=%{lon}<br>temperature=%{marker.color}<extra></extra>",
           "ids": [
            8.7966666666667,
            12.256666666666698,
            14.096666666666692,
            14.200000000000026,
            8.266666666666689
           ],
           "lat": [
            49.894170800000005,
            43.1506968,
            43.2140359,
            43.2961743,
            49.4404591
           ],
           "legendgroup": "",
           "lon": [
            2.2956951,
            6.341928499999999,
            5.5396318,
            5.3699525,
            1.0939658
           ],
           "marker": {
            "color": [
             8.7966666666667,
             12.256666666666698,
             14.096666666666692,
             14.200000000000026,
             8.266666666666689
            ],
            "coloraxis": "coloraxis",
            "size": [
             680.6978932963042,
             1841.2685086296437,
             2801.2333699629785,
             2863.2880000000155,
             564.9256296296342
            ],
            "sizemode": "area",
            "sizeref": 7.158220000000039
           },
           "mode": "markers",
           "name": "",
           "showlegend": false,
           "subplot": "mapbox",
           "type": "scattermapbox"
          }
         ],
         "name": "2023-02-20"
        },
        {
         "data": [
          {
           "hovertemplate": "dt_object=2023-02-21<br>temp_cube=%{marker.size}<br>latitude=%{lat}<br>longitude=%{lon}<br>temperature=%{marker.color}<extra></extra>",
           "ids": [
            8.875000000000028,
            11.536250000000033,
            12.648750000000014,
            12.92375000000002,
            8.66500000000002
           ],
           "lat": [
            49.8941708,
            43.1506968,
            43.2140359,
            43.2961743,
            49.4404591
           ],
           "legendgroup": "",
           "lon": [
            2.2956951,
            6.3419285,
            5.5396318,
            5.3699525,
            1.0939658
           ],
           "marker": {
            "color": [
             8.875000000000028,
             11.536250000000033,
             12.648750000000014,
             12.92375000000002,
             8.66500000000002
            ],
            "coloraxis": "coloraxis",
            "size": [
             699.0449218750067,
             1535.3025702910288,
             2023.6845999199286,
             2158.567555115244,
             650.5874796250046
            ],
            "sizemode": "area",
            "sizeref": 7.158220000000039
           },
           "mode": "markers",
           "name": "",
           "showlegend": false,
           "subplot": "mapbox",
           "type": "scattermapbox"
          }
         ],
         "name": "2023-02-21"
        },
        {
         "data": [
          {
           "hovertemplate": "dt_object=2023-02-22<br>temp_cube=%{marker.size}<br>latitude=%{lat}<br>longitude=%{lon}<br>temperature=%{marker.color}<extra></extra>",
           "ids": [
            8.330000000000027,
            11.401250000000026,
            12.915000000000012,
            13.13375000000002,
            7.741250000000029
           ],
           "lat": [
            49.8941708,
            43.1506968,
            43.2140359,
            43.2961743,
            49.4404591
           ],
           "legendgroup": "",
           "lon": [
            2.2956951,
            6.3419285,
            5.5396318,
            5.3699525,
            1.0939658
           ],
           "marker": {
            "color": [
             8.330000000000027,
             11.401250000000026,
             12.915000000000012,
             13.13375000000002,
             7.741250000000029
            ],
            "coloraxis": "coloraxis",
            "size": [
             578.0095370000056,
             1482.0314034394632,
             2154.186160875006,
             2265.5113160996198,
             463.9095137832084
            ],
            "sizemode": "area",
            "sizeref": 7.158220000000039
           },
           "mode": "markers",
           "name": "",
           "showlegend": false,
           "subplot": "mapbox",
           "type": "scattermapbox"
          }
         ],
         "name": "2023-02-22"
        },
        {
         "data": [
          {
           "hovertemplate": "dt_object=2023-02-23<br>temp_cube=%{marker.size}<br>latitude=%{lat}<br>longitude=%{lon}<br>temperature=%{marker.color}<extra></extra>",
           "ids": [
            5.58750000000002,
            11.153750000000016,
            12.675000000000018,
            12.92375000000002,
            5.281250000000014
           ],
           "lat": [
            49.8941708,
            43.1506968,
            43.2140359,
            43.2961743,
            49.4404591
           ],
           "legendgroup": "",
           "lon": [
            2.2956951,
            6.3419285,
            5.5396318,
            5.3699525,
            1.0939658
           ],
           "marker": {
            "color": [
             5.58750000000002,
             11.153750000000016,
             12.675000000000018,
             12.92375000000002,
             5.281250000000014
            ],
            "coloraxis": "coloraxis",
            "size": [
             174.44262304687686,
             1387.5949735683655,
             2036.310046875009,
             2158.567555115244,
             147.30252075195432
            ],
            "sizemode": "area",
            "sizeref": 7.158220000000039
           },
           "mode": "markers",
           "name": "",
           "showlegend": false,
           "subplot": "mapbox",
           "type": "scattermapbox"
          }
         ],
         "name": "2023-02-23"
        },
        {
         "data": [
          {
           "hovertemplate": "dt_object=2023-02-24<br>temp_cube=%{marker.size}<br>latitude=%{lat}<br>longitude=%{lon}<br>temperature=%{marker.color}<extra></extra>",
           "ids": [
            3.693750000000016,
            12.155000000000022,
            13.478750000000026,
            13.68000000000002,
            4.323750000000018
           ],
           "lat": [
            49.8941708,
            43.1506968,
            43.2140359,
            43.2961743,
            49.4404591
           ],
           "legendgroup": "",
           "lon": [
            2.2956951,
            6.3419285,
            5.5396318,
            5.3699525,
            1.0939658
           ],
           "marker": {
            "color": [
             3.693750000000016,
             12.155000000000022,
             13.478750000000026,
             13.68000000000002,
             4.323750000000018
            ],
            "coloraxis": "coloraxis",
            "size": [
             50.396745849610035,
             1795.82862387501,
             2448.7748411855614,
             2560.108032000011,
             80.8317023027354
            ],
            "sizemode": "area",
            "sizeref": 7.158220000000039
           },
           "mode": "markers",
           "name": "",
           "showlegend": false,
           "subplot": "mapbox",
           "type": "scattermapbox"
          }
         ],
         "name": "2023-02-24"
        },
        {
         "data": [
          {
           "hovertemplate": "dt_object=2023-02-25<br>temp_cube=%{marker.size}<br>latitude=%{lat}<br>longitude=%{lon}<br>temperature=%{marker.color}<extra></extra>",
           "ids": [
            3.808000000000027,
            12.716000000000008,
            13.432000000000029,
            13.124000000000024,
            5.092000000000018
           ],
           "lat": [
            49.8941708,
            43.1506968,
            43.2140359,
            43.2961743,
            49.4404591
           ],
           "legendgroup": "",
           "lon": [
            2.2956951,
            6.3419285,
            5.5396318,
            5.3699525,
            1.0939658
           ],
           "marker": {
            "color": [
             3.808000000000027,
             12.716000000000008,
             13.432000000000029,
             13.124000000000024,
             5.092000000000018
            ],
            "coloraxis": "coloraxis",
            "size": [
             55.21929011200117,
             2056.134677696004,
             2423.3829575680156,
             2260.4695706240122,
             132.02773868800142
            ],
            "sizemode": "area",
            "sizeref": 7.158220000000039
           },
           "mode": "markers",
           "name": "",
           "showlegend": false,
           "subplot": "mapbox",
           "type": "scattermapbox"
          }
         ],
         "name": "2023-02-25"
        }
       ],
       "layout": {
        "coloraxis": {
         "colorbar": {
          "title": {
           "text": "temperature"
          }
         },
         "colorscale": [
          [
           0,
           "#0d0887"
          ],
          [
           0.1111111111111111,
           "#46039f"
          ],
          [
           0.2222222222222222,
           "#7201a8"
          ],
          [
           0.3333333333333333,
           "#9c179e"
          ],
          [
           0.4444444444444444,
           "#bd3786"
          ],
          [
           0.5555555555555556,
           "#d8576b"
          ],
          [
           0.6666666666666666,
           "#ed7953"
          ],
          [
           0.7777777777777778,
           "#fb9f3a"
          ],
          [
           0.8888888888888888,
           "#fdca26"
          ],
          [
           1,
           "#f0f921"
          ]
         ]
        },
        "legend": {
         "itemsizing": "constant",
         "tracegroupgap": 0
        },
        "mapbox": {
         "center": {
          "lat": 45.79910738,
          "lon": 4.128234740000002
         },
         "domain": {
          "x": [
           0,
           1
          ],
          "y": [
           0,
           1
          ]
         },
         "style": "carto-positron",
         "zoom": 3
        },
        "sliders": [
         {
          "active": 0,
          "currentvalue": {
           "prefix": "dt_object="
          },
          "len": 0.9,
          "pad": {
           "b": 10,
           "t": 60
          },
          "steps": [
           {
            "args": [
             [
              "2023-02-20"
             ],
             {
              "frame": {
               "duration": 0,
               "redraw": true
              },
              "fromcurrent": true,
              "mode": "immediate",
              "transition": {
               "duration": 0,
               "easing": "linear"
              }
             }
            ],
            "label": "2023-02-20",
            "method": "animate"
           },
           {
            "args": [
             [
              "2023-02-21"
             ],
             {
              "frame": {
               "duration": 0,
               "redraw": true
              },
              "fromcurrent": true,
              "mode": "immediate",
              "transition": {
               "duration": 0,
               "easing": "linear"
              }
             }
            ],
            "label": "2023-02-21",
            "method": "animate"
           },
           {
            "args": [
             [
              "2023-02-22"
             ],
             {
              "frame": {
               "duration": 0,
               "redraw": true
              },
              "fromcurrent": true,
              "mode": "immediate",
              "transition": {
               "duration": 0,
               "easing": "linear"
              }
             }
            ],
            "label": "2023-02-22",
            "method": "animate"
           },
           {
            "args": [
             [
              "2023-02-23"
             ],
             {
              "frame": {
               "duration": 0,
               "redraw": true
              },
              "fromcurrent": true,
              "mode": "immediate",
              "transition": {
               "duration": 0,
               "easing": "linear"
              }
             }
            ],
            "label": "2023-02-23",
            "method": "animate"
           },
           {
            "args": [
             [
              "2023-02-24"
             ],
             {
              "frame": {
               "duration": 0,
               "redraw": true
              },
              "fromcurrent": true,
              "mode": "immediate",
              "transition": {
               "duration": 0,
               "easing": "linear"
              }
             }
            ],
            "label": "2023-02-24",
            "method": "animate"
           },
           {
            "args": [
             [
              "2023-02-25"
             ],
             {
              "frame": {
               "duration": 0,
               "redraw": true
              },
              "fromcurrent": true,
              "mode": "immediate",
              "transition": {
               "duration": 0,
               "easing": "linear"
              }
             }
            ],
            "label": "2023-02-25",
            "method": "animate"
           }
          ],
          "x": 0.1,
          "xanchor": "left",
          "y": 0,
          "yanchor": "top"
         }
        ],
        "template": {
         "data": {
          "bar": [
           {
            "error_x": {
             "color": "#2a3f5f"
            },
            "error_y": {
             "color": "#2a3f5f"
            },
            "marker": {
             "line": {
              "color": "#E5ECF6",
              "width": 0.5
             },
             "pattern": {
              "fillmode": "overlay",
              "size": 10,
              "solidity": 0.2
             }
            },
            "type": "bar"
           }
          ],
          "barpolar": [
           {
            "marker": {
             "line": {
              "color": "#E5ECF6",
              "width": 0.5
             },
             "pattern": {
              "fillmode": "overlay",
              "size": 10,
              "solidity": 0.2
             }
            },
            "type": "barpolar"
           }
          ],
          "carpet": [
           {
            "aaxis": {
             "endlinecolor": "#2a3f5f",
             "gridcolor": "white",
             "linecolor": "white",
             "minorgridcolor": "white",
             "startlinecolor": "#2a3f5f"
            },
            "baxis": {
             "endlinecolor": "#2a3f5f",
             "gridcolor": "white",
             "linecolor": "white",
             "minorgridcolor": "white",
             "startlinecolor": "#2a3f5f"
            },
            "type": "carpet"
           }
          ],
          "choropleth": [
           {
            "colorbar": {
             "outlinewidth": 0,
             "ticks": ""
            },
            "type": "choropleth"
           }
          ],
          "contour": [
           {
            "colorbar": {
             "outlinewidth": 0,
             "ticks": ""
            },
            "colorscale": [
             [
              0,
              "#0d0887"
             ],
             [
              0.1111111111111111,
              "#46039f"
             ],
             [
              0.2222222222222222,
              "#7201a8"
             ],
             [
              0.3333333333333333,
              "#9c179e"
             ],
             [
              0.4444444444444444,
              "#bd3786"
             ],
             [
              0.5555555555555556,
              "#d8576b"
             ],
             [
              0.6666666666666666,
              "#ed7953"
             ],
             [
              0.7777777777777778,
              "#fb9f3a"
             ],
             [
              0.8888888888888888,
              "#fdca26"
             ],
             [
              1,
              "#f0f921"
             ]
            ],
            "type": "contour"
           }
          ],
          "contourcarpet": [
           {
            "colorbar": {
             "outlinewidth": 0,
             "ticks": ""
            },
            "type": "contourcarpet"
           }
          ],
          "heatmap": [
           {
            "colorbar": {
             "outlinewidth": 0,
             "ticks": ""
            },
            "colorscale": [
             [
              0,
              "#0d0887"
             ],
             [
              0.1111111111111111,
              "#46039f"
             ],
             [
              0.2222222222222222,
              "#7201a8"
             ],
             [
              0.3333333333333333,
              "#9c179e"
             ],
             [
              0.4444444444444444,
              "#bd3786"
             ],
             [
              0.5555555555555556,
              "#d8576b"
             ],
             [
              0.6666666666666666,
              "#ed7953"
             ],
             [
              0.7777777777777778,
              "#fb9f3a"
             ],
             [
              0.8888888888888888,
              "#fdca26"
             ],
             [
              1,
              "#f0f921"
             ]
            ],
            "type": "heatmap"
           }
          ],
          "heatmapgl": [
           {
            "colorbar": {
             "outlinewidth": 0,
             "ticks": ""
            },
            "colorscale": [
             [
              0,
              "#0d0887"
             ],
             [
              0.1111111111111111,
              "#46039f"
             ],
             [
              0.2222222222222222,
              "#7201a8"
             ],
             [
              0.3333333333333333,
              "#9c179e"
             ],
             [
              0.4444444444444444,
              "#bd3786"
             ],
             [
              0.5555555555555556,
              "#d8576b"
             ],
             [
              0.6666666666666666,
              "#ed7953"
             ],
             [
              0.7777777777777778,
              "#fb9f3a"
             ],
             [
              0.8888888888888888,
              "#fdca26"
             ],
             [
              1,
              "#f0f921"
             ]
            ],
            "type": "heatmapgl"
           }
          ],
          "histogram": [
           {
            "marker": {
             "pattern": {
              "fillmode": "overlay",
              "size": 10,
              "solidity": 0.2
             }
            },
            "type": "histogram"
           }
          ],
          "histogram2d": [
           {
            "colorbar": {
             "outlinewidth": 0,
             "ticks": ""
            },
            "colorscale": [
             [
              0,
              "#0d0887"
             ],
             [
              0.1111111111111111,
              "#46039f"
             ],
             [
              0.2222222222222222,
              "#7201a8"
             ],
             [
              0.3333333333333333,
              "#9c179e"
             ],
             [
              0.4444444444444444,
              "#bd3786"
             ],
             [
              0.5555555555555556,
              "#d8576b"
             ],
             [
              0.6666666666666666,
              "#ed7953"
             ],
             [
              0.7777777777777778,
              "#fb9f3a"
             ],
             [
              0.8888888888888888,
              "#fdca26"
             ],
             [
              1,
              "#f0f921"
             ]
            ],
            "type": "histogram2d"
           }
          ],
          "histogram2dcontour": [
           {
            "colorbar": {
             "outlinewidth": 0,
             "ticks": ""
            },
            "colorscale": [
             [
              0,
              "#0d0887"
             ],
             [
              0.1111111111111111,
              "#46039f"
             ],
             [
              0.2222222222222222,
              "#7201a8"
             ],
             [
              0.3333333333333333,
              "#9c179e"
             ],
             [
              0.4444444444444444,
              "#bd3786"
             ],
             [
              0.5555555555555556,
              "#d8576b"
             ],
             [
              0.6666666666666666,
              "#ed7953"
             ],
             [
              0.7777777777777778,
              "#fb9f3a"
             ],
             [
              0.8888888888888888,
              "#fdca26"
             ],
             [
              1,
              "#f0f921"
             ]
            ],
            "type": "histogram2dcontour"
           }
          ],
          "mesh3d": [
           {
            "colorbar": {
             "outlinewidth": 0,
             "ticks": ""
            },
            "type": "mesh3d"
           }
          ],
          "parcoords": [
           {
            "line": {
             "colorbar": {
              "outlinewidth": 0,
              "ticks": ""
             }
            },
            "type": "parcoords"
           }
          ],
          "pie": [
           {
            "automargin": true,
            "type": "pie"
           }
          ],
          "scatter": [
           {
            "fillpattern": {
             "fillmode": "overlay",
             "size": 10,
             "solidity": 0.2
            },
            "type": "scatter"
           }
          ],
          "scatter3d": [
           {
            "line": {
             "colorbar": {
              "outlinewidth": 0,
              "ticks": ""
             }
            },
            "marker": {
             "colorbar": {
              "outlinewidth": 0,
              "ticks": ""
             }
            },
            "type": "scatter3d"
           }
          ],
          "scattercarpet": [
           {
            "marker": {
             "colorbar": {
              "outlinewidth": 0,
              "ticks": ""
             }
            },
            "type": "scattercarpet"
           }
          ],
          "scattergeo": [
           {
            "marker": {
             "colorbar": {
              "outlinewidth": 0,
              "ticks": ""
             }
            },
            "type": "scattergeo"
           }
          ],
          "scattergl": [
           {
            "marker": {
             "colorbar": {
              "outlinewidth": 0,
              "ticks": ""
             }
            },
            "type": "scattergl"
           }
          ],
          "scattermapbox": [
           {
            "marker": {
             "colorbar": {
              "outlinewidth": 0,
              "ticks": ""
             }
            },
            "type": "scattermapbox"
           }
          ],
          "scatterpolar": [
           {
            "marker": {
             "colorbar": {
              "outlinewidth": 0,
              "ticks": ""
             }
            },
            "type": "scatterpolar"
           }
          ],
          "scatterpolargl": [
           {
            "marker": {
             "colorbar": {
              "outlinewidth": 0,
              "ticks": ""
             }
            },
            "type": "scatterpolargl"
           }
          ],
          "scatterternary": [
           {
            "marker": {
             "colorbar": {
              "outlinewidth": 0,
              "ticks": ""
             }
            },
            "type": "scatterternary"
           }
          ],
          "surface": [
           {
            "colorbar": {
             "outlinewidth": 0,
             "ticks": ""
            },
            "colorscale": [
             [
              0,
              "#0d0887"
             ],
             [
              0.1111111111111111,
              "#46039f"
             ],
             [
              0.2222222222222222,
              "#7201a8"
             ],
             [
              0.3333333333333333,
              "#9c179e"
             ],
             [
              0.4444444444444444,
              "#bd3786"
             ],
             [
              0.5555555555555556,
              "#d8576b"
             ],
             [
              0.6666666666666666,
              "#ed7953"
             ],
             [
              0.7777777777777778,
              "#fb9f3a"
             ],
             [
              0.8888888888888888,
              "#fdca26"
             ],
             [
              1,
              "#f0f921"
             ]
            ],
            "type": "surface"
           }
          ],
          "table": [
           {
            "cells": {
             "fill": {
              "color": "#EBF0F8"
             },
             "line": {
              "color": "white"
             }
            },
            "header": {
             "fill": {
              "color": "#C8D4E3"
             },
             "line": {
              "color": "white"
             }
            },
            "type": "table"
           }
          ]
         },
         "layout": {
          "annotationdefaults": {
           "arrowcolor": "#2a3f5f",
           "arrowhead": 0,
           "arrowwidth": 1
          },
          "autotypenumbers": "strict",
          "coloraxis": {
           "colorbar": {
            "outlinewidth": 0,
            "ticks": ""
           }
          },
          "colorscale": {
           "diverging": [
            [
             0,
             "#8e0152"
            ],
            [
             0.1,
             "#c51b7d"
            ],
            [
             0.2,
             "#de77ae"
            ],
            [
             0.3,
             "#f1b6da"
            ],
            [
             0.4,
             "#fde0ef"
            ],
            [
             0.5,
             "#f7f7f7"
            ],
            [
             0.6,
             "#e6f5d0"
            ],
            [
             0.7,
             "#b8e186"
            ],
            [
             0.8,
             "#7fbc41"
            ],
            [
             0.9,
             "#4d9221"
            ],
            [
             1,
             "#276419"
            ]
           ],
           "sequential": [
            [
             0,
             "#0d0887"
            ],
            [
             0.1111111111111111,
             "#46039f"
            ],
            [
             0.2222222222222222,
             "#7201a8"
            ],
            [
             0.3333333333333333,
             "#9c179e"
            ],
            [
             0.4444444444444444,
             "#bd3786"
            ],
            [
             0.5555555555555556,
             "#d8576b"
            ],
            [
             0.6666666666666666,
             "#ed7953"
            ],
            [
             0.7777777777777778,
             "#fb9f3a"
            ],
            [
             0.8888888888888888,
             "#fdca26"
            ],
            [
             1,
             "#f0f921"
            ]
           ],
           "sequentialminus": [
            [
             0,
             "#0d0887"
            ],
            [
             0.1111111111111111,
             "#46039f"
            ],
            [
             0.2222222222222222,
             "#7201a8"
            ],
            [
             0.3333333333333333,
             "#9c179e"
            ],
            [
             0.4444444444444444,
             "#bd3786"
            ],
            [
             0.5555555555555556,
             "#d8576b"
            ],
            [
             0.6666666666666666,
             "#ed7953"
            ],
            [
             0.7777777777777778,
             "#fb9f3a"
            ],
            [
             0.8888888888888888,
             "#fdca26"
            ],
            [
             1,
             "#f0f921"
            ]
           ]
          },
          "colorway": [
           "#636efa",
           "#EF553B",
           "#00cc96",
           "#ab63fa",
           "#FFA15A",
           "#19d3f3",
           "#FF6692",
           "#B6E880",
           "#FF97FF",
           "#FECB52"
          ],
          "font": {
           "color": "#2a3f5f"
          },
          "geo": {
           "bgcolor": "white",
           "lakecolor": "white",
           "landcolor": "#E5ECF6",
           "showlakes": true,
           "showland": true,
           "subunitcolor": "white"
          },
          "hoverlabel": {
           "align": "left"
          },
          "hovermode": "closest",
          "mapbox": {
           "style": "light"
          },
          "paper_bgcolor": "white",
          "plot_bgcolor": "#E5ECF6",
          "polar": {
           "angularaxis": {
            "gridcolor": "white",
            "linecolor": "white",
            "ticks": ""
           },
           "bgcolor": "#E5ECF6",
           "radialaxis": {
            "gridcolor": "white",
            "linecolor": "white",
            "ticks": ""
           }
          },
          "scene": {
           "xaxis": {
            "backgroundcolor": "#E5ECF6",
            "gridcolor": "white",
            "gridwidth": 2,
            "linecolor": "white",
            "showbackground": true,
            "ticks": "",
            "zerolinecolor": "white"
           },
           "yaxis": {
            "backgroundcolor": "#E5ECF6",
            "gridcolor": "white",
            "gridwidth": 2,
            "linecolor": "white",
            "showbackground": true,
            "ticks": "",
            "zerolinecolor": "white"
           },
           "zaxis": {
            "backgroundcolor": "#E5ECF6",
            "gridcolor": "white",
            "gridwidth": 2,
            "linecolor": "white",
            "showbackground": true,
            "ticks": "",
            "zerolinecolor": "white"
           }
          },
          "shapedefaults": {
           "line": {
            "color": "#2a3f5f"
           }
          },
          "ternary": {
           "aaxis": {
            "gridcolor": "white",
            "linecolor": "white",
            "ticks": ""
           },
           "baxis": {
            "gridcolor": "white",
            "linecolor": "white",
            "ticks": ""
           },
           "bgcolor": "#E5ECF6",
           "caxis": {
            "gridcolor": "white",
            "linecolor": "white",
            "ticks": ""
           }
          },
          "title": {
           "x": 0.05
          },
          "xaxis": {
           "automargin": true,
           "gridcolor": "white",
           "linecolor": "white",
           "ticks": "",
           "title": {
            "standoff": 15
           },
           "zerolinecolor": "white",
           "zerolinewidth": 2
          },
          "yaxis": {
           "automargin": true,
           "gridcolor": "white",
           "linecolor": "white",
           "ticks": "",
           "title": {
            "standoff": 15
           },
           "zerolinecolor": "white",
           "zerolinewidth": 2
          }
         }
        },
        "title": {
         "text": "Top 5 best weather cities"
        },
        "updatemenus": [
         {
          "buttons": [
           {
            "args": [
             null,
             {
              "frame": {
               "duration": 500,
               "redraw": true
              },
              "fromcurrent": true,
              "mode": "immediate",
              "transition": {
               "duration": 500,
               "easing": "linear"
              }
             }
            ],
            "label": "&#9654;",
            "method": "animate"
           },
           {
            "args": [
             [
              null
             ],
             {
              "frame": {
               "duration": 0,
               "redraw": true
              },
              "fromcurrent": true,
              "mode": "immediate",
              "transition": {
               "duration": 0,
               "easing": "linear"
              }
             }
            ],
            "label": "&#9724;",
            "method": "animate"
           }
          ],
          "direction": "left",
          "pad": {
           "r": 10,
           "t": 70
          },
          "showactive": false,
          "type": "buttons",
          "x": 0.1,
          "xanchor": "right",
          "y": 0,
          "yanchor": "top"
         }
        ]
       }
      }
     },
     "metadata": {},
     "output_type": "display_data"
    }
   ],
   "source": [
    "fig = px.scatter_mapbox(weather, lat=\"latitude\", lon=\"longitude\",\n",
    "                        color=\"temperature\", size ='temp_cube', zoom=3, mapbox_style=\"carto-positron\",\n",
    "                        animation_frame = \"dt_object\", animation_group = 'temperature',\n",
    "                        title=\"Top 5 best weather cities\")\n",
    "fig.show()"
   ]
  },
  {
   "cell_type": "code",
   "execution_count": 11,
   "metadata": {},
   "outputs": [
    {
     "data": {
      "text/html": [
       "<div>\n",
       "<style scoped>\n",
       "    .dataframe tbody tr th:only-of-type {\n",
       "        vertical-align: middle;\n",
       "    }\n",
       "\n",
       "    .dataframe tbody tr th {\n",
       "        vertical-align: top;\n",
       "    }\n",
       "\n",
       "    .dataframe thead th {\n",
       "        text-align: right;\n",
       "    }\n",
       "</style>\n",
       "<table border=\"1\" class=\"dataframe\">\n",
       "  <thead>\n",
       "    <tr style=\"text-align: right;\">\n",
       "      <th></th>\n",
       "      <th>index</th>\n",
       "      <th>Unnamed: 0</th>\n",
       "      <th>hotel name</th>\n",
       "      <th>Url to its booking.com page</th>\n",
       "      <th>Score</th>\n",
       "      <th>Text description</th>\n",
       "      <th>lat</th>\n",
       "      <th>lon</th>\n",
       "    </tr>\n",
       "  </thead>\n",
       "  <tbody>\n",
       "    <tr>\n",
       "      <th>0</th>\n",
       "      <td>0</td>\n",
       "      <td>0</td>\n",
       "      <td>MISTRAL Gagnant</td>\n",
       "      <td>https://www.booking.com/hotel/fr/mistral-cassi...</td>\n",
       "      <td>8.1</td>\n",
       "      <td>Situé à 5 km du cap Canaille à Cassis, le MIST...</td>\n",
       "      <td>43.215370</td>\n",
       "      <td>5.537190</td>\n",
       "    </tr>\n",
       "    <tr>\n",
       "      <th>1</th>\n",
       "      <td>1</td>\n",
       "      <td>1</td>\n",
       "      <td>UNE TERRASSE SUR LA MER 3 pers 2 chambres VUE MER</td>\n",
       "      <td>https://www.booking.com/hotel/fr/une-terrasse-...</td>\n",
       "      <td>8.4</td>\n",
       "      <td>Situé à Cassis, à seulement 400 mètres de Best...</td>\n",
       "      <td>43.214072</td>\n",
       "      <td>5.530622</td>\n",
       "    </tr>\n",
       "    <tr>\n",
       "      <th>2</th>\n",
       "      <td>2</td>\n",
       "      <td>2</td>\n",
       "      <td>Home Cassis - Maison Julou - Piscine chauffée</td>\n",
       "      <td>https://www.booking.com/hotel/fr/home-cassis-m...</td>\n",
       "      <td>7.6</td>\n",
       "      <td>Offrant une vue sur la montagne, l'établisseme...</td>\n",
       "      <td>43.222080</td>\n",
       "      <td>5.537927</td>\n",
       "    </tr>\n",
       "    <tr>\n",
       "      <th>3</th>\n",
       "      <td>3</td>\n",
       "      <td>3</td>\n",
       "      <td>Cassis, le Grand Bleu, triplex vue mer, port p...</td>\n",
       "      <td>https://www.booking.com/hotel/fr/le-grand-bleu...</td>\n",
       "      <td>9.0</td>\n",
       "      <td>Situé à Cassis, l’hébergement Cassis, le Grand...</td>\n",
       "      <td>43.220804</td>\n",
       "      <td>5.542296</td>\n",
       "    </tr>\n",
       "    <tr>\n",
       "      <th>4</th>\n",
       "      <td>4</td>\n",
       "      <td>4</td>\n",
       "      <td>SunRise Cassis</td>\n",
       "      <td>https://www.booking.com/hotel/fr/sunrise-cassi...</td>\n",
       "      <td>9.5</td>\n",
       "      <td>Doté d'un jardin, d'une terrasse et d'un casin...</td>\n",
       "      <td>43.215219</td>\n",
       "      <td>5.535682</td>\n",
       "    </tr>\n",
       "  </tbody>\n",
       "</table>\n",
       "</div>"
      ],
      "text/plain": [
       "   index  Unnamed: 0                                         hotel name  \\\n",
       "0      0           0                                    MISTRAL Gagnant   \n",
       "1      1           1  UNE TERRASSE SUR LA MER 3 pers 2 chambres VUE MER   \n",
       "2      2           2      Home Cassis - Maison Julou - Piscine chauffée   \n",
       "3      3           3  Cassis, le Grand Bleu, triplex vue mer, port p...   \n",
       "4      4           4                                     SunRise Cassis   \n",
       "\n",
       "                         Url to its booking.com page  Score  \\\n",
       "0  https://www.booking.com/hotel/fr/mistral-cassi...    8.1   \n",
       "1  https://www.booking.com/hotel/fr/une-terrasse-...    8.4   \n",
       "2  https://www.booking.com/hotel/fr/home-cassis-m...    7.6   \n",
       "3  https://www.booking.com/hotel/fr/le-grand-bleu...    9.0   \n",
       "4  https://www.booking.com/hotel/fr/sunrise-cassi...    9.5   \n",
       "\n",
       "                                    Text description        lat       lon  \n",
       "0  Situé à 5 km du cap Canaille à Cassis, le MIST...  43.215370  5.537190  \n",
       "1  Situé à Cassis, à seulement 400 mètres de Best...  43.214072  5.530622  \n",
       "2  Offrant une vue sur la montagne, l'établisseme...  43.222080  5.537927  \n",
       "3  Situé à Cassis, l’hébergement Cassis, le Grand...  43.220804  5.542296  \n",
       "4  Doté d'un jardin, d'une terrasse et d'un casin...  43.215219  5.535682  "
      ]
     },
     "execution_count": 11,
     "metadata": {},
     "output_type": "execute_result"
    }
   ],
   "source": [
    "# Hotel info\n",
    "stmt = text(\"SELECT * FROM hotel \"\n",
    "            )\n",
    "\n",
    "df = pd.read_sql(\n",
    "        stmt,\n",
    "        engine\n",
    "    )\n",
    "\n",
    "df.head()"
   ]
  },
  {
   "cell_type": "code",
   "execution_count": 12,
   "metadata": {},
   "outputs": [
    {
     "data": {
      "application/vnd.plotly.v1+json": {
       "config": {
        "plotlyServerURL": "https://plot.ly"
       },
       "data": [
        {
         "hovertemplate": "Score=%{marker.color}<br>lat=%{lat}<br>lon=%{lon}<extra></extra>",
         "lat": [
          43.21537,
          43.21407197,
          43.22207969,
          43.2208045,
          43.21521908,
          43.21589392,
          43.21524569,
          43.21509805,
          43.22008475,
          43.215009,
          43.21644024,
          49.88714842,
          49.442178,
          43.21462214,
          49.90235783,
          43.21505477,
          43.14923281,
          43.14456855,
          43.122494,
          43.12235696,
          43.1431217,
          43.12415,
          43.144686,
          43.1509034,
          43.142501,
          43.12602594,
          43.15038674,
          43.1403633,
          43.10348079,
          43.14957041,
          43.146445,
          43.150077,
          43.2953889,
          43.29681825,
          43.3067083,
          43.29155323,
          43.2964649,
          43.29253825,
          43.2951169,
          43.304229,
          43.2954015,
          43.29594971,
          43.2892719,
          43.29654954,
          43.30020105,
          43.30272424,
          43.2909627,
          43.299162,
          43.300097,
          43.29412372,
          43.2505303,
          43.2891394,
          49.891249,
          49.8880108,
          49.89013675,
          49.894229,
          49.8925731,
          49.893615,
          49.888542,
          49.8875926,
          49.8930114,
          49.8925625,
          49.87000632,
          49.89357965,
          49.89444519,
          49.901814,
          49.8925625,
          49.8916762,
          49.89755206,
          49.4525251,
          49.8814696,
          49.445091,
          49.44527729,
          49.43869536,
          49.437454,
          49.444544,
          49.4439629,
          49.429988,
          49.4502853,
          49.43365941,
          49.44011681,
          49.44306423,
          49.43783419,
          49.44157649,
          49.44117285,
          49.44332714,
          49.4290146,
          49.4446518,
          49.4416755,
          43.2143771,
          43.215456,
          43.214926,
          43.2211281,
          43.2120018,
          43.2202401,
          43.2191999
         ],
         "legendgroup": "",
         "lon": [
          5.53719,
          5.53062182,
          5.53792695,
          5.54229625,
          5.53568187,
          5.53476321,
          5.54466784,
          5.54048743,
          5.53128685,
          5.530956,
          5.54174572,
          2.3116109,
          1.088876,
          5.53477276,
          2.31428465,
          5.54057326,
          6.34197015,
          6.35168418,
          6.357174,
          6.35379444,
          6.3521398,
          6.351192,
          6.335125,
          6.3419325,
          6.3491788,
          6.35675467,
          6.34269357,
          6.3367149,
          6.32792383,
          6.30204835,
          6.327724,
          6.342641,
          5.3791652,
          5.37305743,
          5.3709456,
          5.38197108,
          5.3671383,
          5.37886038,
          5.3761663,
          5.376624,
          5.363451,
          5.37455259,
          5.3619231,
          5.39145293,
          5.38260245,
          5.37933044,
          5.3764292,
          5.401543,
          5.367585,
          5.37463993,
          5.3814817,
          5.3837717,
          2.30953,
          2.264935,
          2.29853201,
          2.305778,
          2.3118048,
          2.3001575,
          2.331349,
          2.281197,
          2.3058662,
          2.3052844,
          2.30806847,
          2.29715419,
          2.30094239,
          2.271326,
          2.3052844,
          2.30775386,
          2.31635948,
          1.0928101,
          2.2998714,
          1.0965322,
          1.0867627,
          1.1092034,
          1.096183,
          1.091178,
          1.08896,
          1.072398,
          1.0890898,
          1.09861642,
          1.09693363,
          1.08660311,
          1.09725282,
          1.0839549,
          1.09517545,
          1.09457396,
          1.0832807,
          1.0913262,
          1.1006621,
          5.5377803,
          5.535734,
          5.532989,
          5.5565709,
          5.5276305,
          5.5424693,
          5.5471365
         ],
         "marker": {
          "color": [
           8.1,
           8.4,
           7.6,
           9,
           9.5,
           8.1,
           9.5,
           8.1,
           9.1,
           9.3,
           9.2,
           8,
           8.4,
           9.5,
           8.5,
           8.1,
           8.9,
           9.1,
           8.2,
           9.3,
           8.4,
           9,
           8,
           10,
           8.9,
           8.3,
           8.6,
           8.5,
           9.7,
           9.2,
           9.6,
           8.4,
           7,
           7.3,
           7.1,
           7,
           8.5,
           8,
           9.5,
           7.8,
           8.7,
           8.8,
           7,
           8.7,
           8.3,
           7.8,
           7.9,
           9.7,
           7.8,
           8.5,
           9.2,
           10,
           8.5,
           8,
           9,
           7.9,
           9.5,
           8.5,
           9.1,
           9,
           7.8,
           9.6,
           9.6,
           9.1,
           8.3,
           8.3,
           9.3,
           7.9,
           9.3,
           7.2,
           8.7,
           7.6,
           8,
           7.4,
           7.2,
           8.6,
           8.3,
           8.3,
           8.5,
           8.7,
           7.8,
           8.5,
           8.2,
           8.6,
           8.1,
           8.1,
           8.8,
           8.6,
           9,
           8,
           9.4,
           9,
           8.5,
           9.7,
           7,
           9.3
          ],
          "coloraxis": "coloraxis",
          "size": [
           8.1,
           8.4,
           7.6,
           9,
           9.5,
           8.1,
           9.5,
           8.1,
           9.1,
           9.3,
           9.2,
           8,
           8.4,
           9.5,
           8.5,
           8.1,
           8.9,
           9.1,
           8.2,
           9.3,
           8.4,
           9,
           8,
           10,
           8.9,
           8.3,
           8.6,
           8.5,
           9.7,
           9.2,
           9.6,
           8.4,
           7,
           7.3,
           7.1,
           7,
           8.5,
           8,
           9.5,
           7.8,
           8.7,
           8.8,
           7,
           8.7,
           8.3,
           7.8,
           7.9,
           9.7,
           7.8,
           8.5,
           9.2,
           10,
           8.5,
           8,
           9,
           7.9,
           9.5,
           8.5,
           9.1,
           9,
           7.8,
           9.6,
           9.6,
           9.1,
           8.3,
           8.3,
           9.3,
           7.9,
           9.3,
           7.2,
           8.7,
           7.6,
           8,
           7.4,
           7.2,
           8.6,
           8.3,
           8.3,
           8.5,
           8.7,
           7.8,
           8.5,
           8.2,
           8.6,
           8.1,
           8.1,
           8.8,
           8.6,
           9,
           8,
           9.4,
           9,
           8.5,
           9.7,
           7,
           9.3
          ],
          "sizemode": "area",
          "sizeref": 0.025
         },
         "mode": "markers",
         "name": "",
         "showlegend": false,
         "subplot": "mapbox",
         "type": "scattermapbox"
        }
       ],
       "layout": {
        "coloraxis": {
         "colorbar": {
          "title": {
           "text": "Score"
          }
         },
         "colorscale": [
          [
           0,
           "#0d0887"
          ],
          [
           0.1111111111111111,
           "#46039f"
          ],
          [
           0.2222222222222222,
           "#7201a8"
          ],
          [
           0.3333333333333333,
           "#9c179e"
          ],
          [
           0.4444444444444444,
           "#bd3786"
          ],
          [
           0.5555555555555556,
           "#d8576b"
          ],
          [
           0.6666666666666666,
           "#ed7953"
          ],
          [
           0.7777777777777778,
           "#fb9f3a"
          ],
          [
           0.8888888888888888,
           "#fdca26"
          ],
          [
           1,
           "#f0f921"
          ]
         ]
        },
        "legend": {
         "itemsizing": "constant",
         "tracegroupgap": 0
        },
        "mapbox": {
         "center": {
          "lat": 45.90704005291667,
          "lon": 4.03816797
         },
         "domain": {
          "x": [
           0,
           1
          ],
          "y": [
           0,
           1
          ]
         },
         "style": "carto-positron",
         "zoom": 3
        },
        "template": {
         "data": {
          "bar": [
           {
            "error_x": {
             "color": "#2a3f5f"
            },
            "error_y": {
             "color": "#2a3f5f"
            },
            "marker": {
             "line": {
              "color": "#E5ECF6",
              "width": 0.5
             },
             "pattern": {
              "fillmode": "overlay",
              "size": 10,
              "solidity": 0.2
             }
            },
            "type": "bar"
           }
          ],
          "barpolar": [
           {
            "marker": {
             "line": {
              "color": "#E5ECF6",
              "width": 0.5
             },
             "pattern": {
              "fillmode": "overlay",
              "size": 10,
              "solidity": 0.2
             }
            },
            "type": "barpolar"
           }
          ],
          "carpet": [
           {
            "aaxis": {
             "endlinecolor": "#2a3f5f",
             "gridcolor": "white",
             "linecolor": "white",
             "minorgridcolor": "white",
             "startlinecolor": "#2a3f5f"
            },
            "baxis": {
             "endlinecolor": "#2a3f5f",
             "gridcolor": "white",
             "linecolor": "white",
             "minorgridcolor": "white",
             "startlinecolor": "#2a3f5f"
            },
            "type": "carpet"
           }
          ],
          "choropleth": [
           {
            "colorbar": {
             "outlinewidth": 0,
             "ticks": ""
            },
            "type": "choropleth"
           }
          ],
          "contour": [
           {
            "colorbar": {
             "outlinewidth": 0,
             "ticks": ""
            },
            "colorscale": [
             [
              0,
              "#0d0887"
             ],
             [
              0.1111111111111111,
              "#46039f"
             ],
             [
              0.2222222222222222,
              "#7201a8"
             ],
             [
              0.3333333333333333,
              "#9c179e"
             ],
             [
              0.4444444444444444,
              "#bd3786"
             ],
             [
              0.5555555555555556,
              "#d8576b"
             ],
             [
              0.6666666666666666,
              "#ed7953"
             ],
             [
              0.7777777777777778,
              "#fb9f3a"
             ],
             [
              0.8888888888888888,
              "#fdca26"
             ],
             [
              1,
              "#f0f921"
             ]
            ],
            "type": "contour"
           }
          ],
          "contourcarpet": [
           {
            "colorbar": {
             "outlinewidth": 0,
             "ticks": ""
            },
            "type": "contourcarpet"
           }
          ],
          "heatmap": [
           {
            "colorbar": {
             "outlinewidth": 0,
             "ticks": ""
            },
            "colorscale": [
             [
              0,
              "#0d0887"
             ],
             [
              0.1111111111111111,
              "#46039f"
             ],
             [
              0.2222222222222222,
              "#7201a8"
             ],
             [
              0.3333333333333333,
              "#9c179e"
             ],
             [
              0.4444444444444444,
              "#bd3786"
             ],
             [
              0.5555555555555556,
              "#d8576b"
             ],
             [
              0.6666666666666666,
              "#ed7953"
             ],
             [
              0.7777777777777778,
              "#fb9f3a"
             ],
             [
              0.8888888888888888,
              "#fdca26"
             ],
             [
              1,
              "#f0f921"
             ]
            ],
            "type": "heatmap"
           }
          ],
          "heatmapgl": [
           {
            "colorbar": {
             "outlinewidth": 0,
             "ticks": ""
            },
            "colorscale": [
             [
              0,
              "#0d0887"
             ],
             [
              0.1111111111111111,
              "#46039f"
             ],
             [
              0.2222222222222222,
              "#7201a8"
             ],
             [
              0.3333333333333333,
              "#9c179e"
             ],
             [
              0.4444444444444444,
              "#bd3786"
             ],
             [
              0.5555555555555556,
              "#d8576b"
             ],
             [
              0.6666666666666666,
              "#ed7953"
             ],
             [
              0.7777777777777778,
              "#fb9f3a"
             ],
             [
              0.8888888888888888,
              "#fdca26"
             ],
             [
              1,
              "#f0f921"
             ]
            ],
            "type": "heatmapgl"
           }
          ],
          "histogram": [
           {
            "marker": {
             "pattern": {
              "fillmode": "overlay",
              "size": 10,
              "solidity": 0.2
             }
            },
            "type": "histogram"
           }
          ],
          "histogram2d": [
           {
            "colorbar": {
             "outlinewidth": 0,
             "ticks": ""
            },
            "colorscale": [
             [
              0,
              "#0d0887"
             ],
             [
              0.1111111111111111,
              "#46039f"
             ],
             [
              0.2222222222222222,
              "#7201a8"
             ],
             [
              0.3333333333333333,
              "#9c179e"
             ],
             [
              0.4444444444444444,
              "#bd3786"
             ],
             [
              0.5555555555555556,
              "#d8576b"
             ],
             [
              0.6666666666666666,
              "#ed7953"
             ],
             [
              0.7777777777777778,
              "#fb9f3a"
             ],
             [
              0.8888888888888888,
              "#fdca26"
             ],
             [
              1,
              "#f0f921"
             ]
            ],
            "type": "histogram2d"
           }
          ],
          "histogram2dcontour": [
           {
            "colorbar": {
             "outlinewidth": 0,
             "ticks": ""
            },
            "colorscale": [
             [
              0,
              "#0d0887"
             ],
             [
              0.1111111111111111,
              "#46039f"
             ],
             [
              0.2222222222222222,
              "#7201a8"
             ],
             [
              0.3333333333333333,
              "#9c179e"
             ],
             [
              0.4444444444444444,
              "#bd3786"
             ],
             [
              0.5555555555555556,
              "#d8576b"
             ],
             [
              0.6666666666666666,
              "#ed7953"
             ],
             [
              0.7777777777777778,
              "#fb9f3a"
             ],
             [
              0.8888888888888888,
              "#fdca26"
             ],
             [
              1,
              "#f0f921"
             ]
            ],
            "type": "histogram2dcontour"
           }
          ],
          "mesh3d": [
           {
            "colorbar": {
             "outlinewidth": 0,
             "ticks": ""
            },
            "type": "mesh3d"
           }
          ],
          "parcoords": [
           {
            "line": {
             "colorbar": {
              "outlinewidth": 0,
              "ticks": ""
             }
            },
            "type": "parcoords"
           }
          ],
          "pie": [
           {
            "automargin": true,
            "type": "pie"
           }
          ],
          "scatter": [
           {
            "fillpattern": {
             "fillmode": "overlay",
             "size": 10,
             "solidity": 0.2
            },
            "type": "scatter"
           }
          ],
          "scatter3d": [
           {
            "line": {
             "colorbar": {
              "outlinewidth": 0,
              "ticks": ""
             }
            },
            "marker": {
             "colorbar": {
              "outlinewidth": 0,
              "ticks": ""
             }
            },
            "type": "scatter3d"
           }
          ],
          "scattercarpet": [
           {
            "marker": {
             "colorbar": {
              "outlinewidth": 0,
              "ticks": ""
             }
            },
            "type": "scattercarpet"
           }
          ],
          "scattergeo": [
           {
            "marker": {
             "colorbar": {
              "outlinewidth": 0,
              "ticks": ""
             }
            },
            "type": "scattergeo"
           }
          ],
          "scattergl": [
           {
            "marker": {
             "colorbar": {
              "outlinewidth": 0,
              "ticks": ""
             }
            },
            "type": "scattergl"
           }
          ],
          "scattermapbox": [
           {
            "marker": {
             "colorbar": {
              "outlinewidth": 0,
              "ticks": ""
             }
            },
            "type": "scattermapbox"
           }
          ],
          "scatterpolar": [
           {
            "marker": {
             "colorbar": {
              "outlinewidth": 0,
              "ticks": ""
             }
            },
            "type": "scatterpolar"
           }
          ],
          "scatterpolargl": [
           {
            "marker": {
             "colorbar": {
              "outlinewidth": 0,
              "ticks": ""
             }
            },
            "type": "scatterpolargl"
           }
          ],
          "scatterternary": [
           {
            "marker": {
             "colorbar": {
              "outlinewidth": 0,
              "ticks": ""
             }
            },
            "type": "scatterternary"
           }
          ],
          "surface": [
           {
            "colorbar": {
             "outlinewidth": 0,
             "ticks": ""
            },
            "colorscale": [
             [
              0,
              "#0d0887"
             ],
             [
              0.1111111111111111,
              "#46039f"
             ],
             [
              0.2222222222222222,
              "#7201a8"
             ],
             [
              0.3333333333333333,
              "#9c179e"
             ],
             [
              0.4444444444444444,
              "#bd3786"
             ],
             [
              0.5555555555555556,
              "#d8576b"
             ],
             [
              0.6666666666666666,
              "#ed7953"
             ],
             [
              0.7777777777777778,
              "#fb9f3a"
             ],
             [
              0.8888888888888888,
              "#fdca26"
             ],
             [
              1,
              "#f0f921"
             ]
            ],
            "type": "surface"
           }
          ],
          "table": [
           {
            "cells": {
             "fill": {
              "color": "#EBF0F8"
             },
             "line": {
              "color": "white"
             }
            },
            "header": {
             "fill": {
              "color": "#C8D4E3"
             },
             "line": {
              "color": "white"
             }
            },
            "type": "table"
           }
          ]
         },
         "layout": {
          "annotationdefaults": {
           "arrowcolor": "#2a3f5f",
           "arrowhead": 0,
           "arrowwidth": 1
          },
          "autotypenumbers": "strict",
          "coloraxis": {
           "colorbar": {
            "outlinewidth": 0,
            "ticks": ""
           }
          },
          "colorscale": {
           "diverging": [
            [
             0,
             "#8e0152"
            ],
            [
             0.1,
             "#c51b7d"
            ],
            [
             0.2,
             "#de77ae"
            ],
            [
             0.3,
             "#f1b6da"
            ],
            [
             0.4,
             "#fde0ef"
            ],
            [
             0.5,
             "#f7f7f7"
            ],
            [
             0.6,
             "#e6f5d0"
            ],
            [
             0.7,
             "#b8e186"
            ],
            [
             0.8,
             "#7fbc41"
            ],
            [
             0.9,
             "#4d9221"
            ],
            [
             1,
             "#276419"
            ]
           ],
           "sequential": [
            [
             0,
             "#0d0887"
            ],
            [
             0.1111111111111111,
             "#46039f"
            ],
            [
             0.2222222222222222,
             "#7201a8"
            ],
            [
             0.3333333333333333,
             "#9c179e"
            ],
            [
             0.4444444444444444,
             "#bd3786"
            ],
            [
             0.5555555555555556,
             "#d8576b"
            ],
            [
             0.6666666666666666,
             "#ed7953"
            ],
            [
             0.7777777777777778,
             "#fb9f3a"
            ],
            [
             0.8888888888888888,
             "#fdca26"
            ],
            [
             1,
             "#f0f921"
            ]
           ],
           "sequentialminus": [
            [
             0,
             "#0d0887"
            ],
            [
             0.1111111111111111,
             "#46039f"
            ],
            [
             0.2222222222222222,
             "#7201a8"
            ],
            [
             0.3333333333333333,
             "#9c179e"
            ],
            [
             0.4444444444444444,
             "#bd3786"
            ],
            [
             0.5555555555555556,
             "#d8576b"
            ],
            [
             0.6666666666666666,
             "#ed7953"
            ],
            [
             0.7777777777777778,
             "#fb9f3a"
            ],
            [
             0.8888888888888888,
             "#fdca26"
            ],
            [
             1,
             "#f0f921"
            ]
           ]
          },
          "colorway": [
           "#636efa",
           "#EF553B",
           "#00cc96",
           "#ab63fa",
           "#FFA15A",
           "#19d3f3",
           "#FF6692",
           "#B6E880",
           "#FF97FF",
           "#FECB52"
          ],
          "font": {
           "color": "#2a3f5f"
          },
          "geo": {
           "bgcolor": "white",
           "lakecolor": "white",
           "landcolor": "#E5ECF6",
           "showlakes": true,
           "showland": true,
           "subunitcolor": "white"
          },
          "hoverlabel": {
           "align": "left"
          },
          "hovermode": "closest",
          "mapbox": {
           "style": "light"
          },
          "paper_bgcolor": "white",
          "plot_bgcolor": "#E5ECF6",
          "polar": {
           "angularaxis": {
            "gridcolor": "white",
            "linecolor": "white",
            "ticks": ""
           },
           "bgcolor": "#E5ECF6",
           "radialaxis": {
            "gridcolor": "white",
            "linecolor": "white",
            "ticks": ""
           }
          },
          "scene": {
           "xaxis": {
            "backgroundcolor": "#E5ECF6",
            "gridcolor": "white",
            "gridwidth": 2,
            "linecolor": "white",
            "showbackground": true,
            "ticks": "",
            "zerolinecolor": "white"
           },
           "yaxis": {
            "backgroundcolor": "#E5ECF6",
            "gridcolor": "white",
            "gridwidth": 2,
            "linecolor": "white",
            "showbackground": true,
            "ticks": "",
            "zerolinecolor": "white"
           },
           "zaxis": {
            "backgroundcolor": "#E5ECF6",
            "gridcolor": "white",
            "gridwidth": 2,
            "linecolor": "white",
            "showbackground": true,
            "ticks": "",
            "zerolinecolor": "white"
           }
          },
          "shapedefaults": {
           "line": {
            "color": "#2a3f5f"
           }
          },
          "ternary": {
           "aaxis": {
            "gridcolor": "white",
            "linecolor": "white",
            "ticks": ""
           },
           "baxis": {
            "gridcolor": "white",
            "linecolor": "white",
            "ticks": ""
           },
           "bgcolor": "#E5ECF6",
           "caxis": {
            "gridcolor": "white",
            "linecolor": "white",
            "ticks": ""
           }
          },
          "title": {
           "x": 0.05
          },
          "xaxis": {
           "automargin": true,
           "gridcolor": "white",
           "linecolor": "white",
           "ticks": "",
           "title": {
            "standoff": 15
           },
           "zerolinecolor": "white",
           "zerolinewidth": 2
          },
          "yaxis": {
           "automargin": true,
           "gridcolor": "white",
           "linecolor": "white",
           "ticks": "",
           "title": {
            "standoff": 15
           },
           "zerolinecolor": "white",
           "zerolinewidth": 2
          }
         }
        },
        "title": {
         "text": "Top 20 hotels in our top 5 cities"
        }
       }
      }
     },
     "metadata": {},
     "output_type": "display_data"
    }
   ],
   "source": [
    "fig = px.scatter_mapbox(hotel[hotel['Score'].notna()], lat=\"lat\", lon=\"lon\", \n",
    "                        zoom=3, size=\"Score\", color=\"Score\", mapbox_style=\"carto-positron\", \n",
    "                        title = 'Top 20 hotels in our top 5 cities')\n",
    "fig.show()"
   ]
  }
 ],
 "metadata": {
  "kernelspec": {
   "display_name": "base",
   "language": "python",
   "name": "python3"
  },
  "language_info": {
   "codemirror_mode": {
    "name": "ipython",
    "version": 3
   },
   "file_extension": ".py",
   "mimetype": "text/x-python",
   "name": "python",
   "nbconvert_exporter": "python",
   "pygments_lexer": "ipython3",
   "version": "3.10.8"
  },
  "orig_nbformat": 4,
  "vscode": {
   "interpreter": {
    "hash": "27475ad11a5960b5c9c2c23a23d0db9f81f2852f739b9cd5e7b2161981b102a1"
   }
  }
 },
 "nbformat": 4,
 "nbformat_minor": 2
}
