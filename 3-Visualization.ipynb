{
 "cells": [
  {
   "cell_type": "code",
   "execution_count": 22,
   "metadata": {},
   "outputs": [],
   "source": [
    "# import of libraries \n",
    "from sqlalchemy import create_engine, text\n",
    "import pandas as pd\n",
    "import plotly.express as px\n",
    "import psycopg2\n",
    "import os\n",
    "from datetime import datetime\n",
    "import json"
   ]
  },
  {
   "cell_type": "code",
   "execution_count": 23,
   "metadata": {},
   "outputs": [],
   "source": [
    "# Call of our date in S3 \n",
    "weather = pd.read_csv('s3://booking-scapping/city_weather_by_day.csv')\n",
    "hotel = pd.read_csv('s3://booking-scapping/hotels_info.csv')"
   ]
  },
  {
   "cell_type": "code",
   "execution_count": 24,
   "metadata": {},
   "outputs": [
    {
     "data": {
      "text/html": [
       "<div>\n",
       "<style scoped>\n",
       "    .dataframe tbody tr th:only-of-type {\n",
       "        vertical-align: middle;\n",
       "    }\n",
       "\n",
       "    .dataframe tbody tr th {\n",
       "        vertical-align: top;\n",
       "    }\n",
       "\n",
       "    .dataframe thead th {\n",
       "        text-align: right;\n",
       "    }\n",
       "</style>\n",
       "<table border=\"1\" class=\"dataframe\">\n",
       "  <thead>\n",
       "    <tr style=\"text-align: right;\">\n",
       "      <th></th>\n",
       "      <th>Unnamed: 0</th>\n",
       "      <th>city</th>\n",
       "      <th>dt_object</th>\n",
       "      <th>main_weather</th>\n",
       "      <th>prepcipitation</th>\n",
       "      <th>temperature</th>\n",
       "      <th>latitude</th>\n",
       "      <th>longitude</th>\n",
       "    </tr>\n",
       "  </thead>\n",
       "  <tbody>\n",
       "    <tr>\n",
       "      <th>12</th>\n",
       "      <td>12</td>\n",
       "      <td>Amiens</td>\n",
       "      <td>2023-02-20</td>\n",
       "      <td>Clouds</td>\n",
       "      <td>0.00</td>\n",
       "      <td>8.78500</td>\n",
       "      <td>49.894171</td>\n",
       "      <td>2.295695</td>\n",
       "    </tr>\n",
       "    <tr>\n",
       "      <th>13</th>\n",
       "      <td>13</td>\n",
       "      <td>Amiens</td>\n",
       "      <td>2023-02-21</td>\n",
       "      <td>Clouds</td>\n",
       "      <td>0.00</td>\n",
       "      <td>8.70125</td>\n",
       "      <td>49.894171</td>\n",
       "      <td>2.295695</td>\n",
       "    </tr>\n",
       "    <tr>\n",
       "      <th>14</th>\n",
       "      <td>14</td>\n",
       "      <td>Amiens</td>\n",
       "      <td>2023-02-22</td>\n",
       "      <td>['Clouds' 'Rain']</td>\n",
       "      <td>1.83</td>\n",
       "      <td>8.62125</td>\n",
       "      <td>49.894171</td>\n",
       "      <td>2.295695</td>\n",
       "    </tr>\n",
       "    <tr>\n",
       "      <th>15</th>\n",
       "      <td>15</td>\n",
       "      <td>Amiens</td>\n",
       "      <td>2023-02-23</td>\n",
       "      <td>Clouds</td>\n",
       "      <td>0.23</td>\n",
       "      <td>5.94375</td>\n",
       "      <td>49.894171</td>\n",
       "      <td>2.295695</td>\n",
       "    </tr>\n",
       "    <tr>\n",
       "      <th>16</th>\n",
       "      <td>16</td>\n",
       "      <td>Amiens</td>\n",
       "      <td>2023-02-24</td>\n",
       "      <td>Clouds</td>\n",
       "      <td>0.00</td>\n",
       "      <td>5.88500</td>\n",
       "      <td>49.894171</td>\n",
       "      <td>2.295695</td>\n",
       "    </tr>\n",
       "  </tbody>\n",
       "</table>\n",
       "</div>"
      ],
      "text/plain": [
       "    Unnamed: 0    city   dt_object       main_weather  prepcipitation  \\\n",
       "12          12  Amiens  2023-02-20             Clouds            0.00   \n",
       "13          13  Amiens  2023-02-21             Clouds            0.00   \n",
       "14          14  Amiens  2023-02-22  ['Clouds' 'Rain']            1.83   \n",
       "15          15  Amiens  2023-02-23             Clouds            0.23   \n",
       "16          16  Amiens  2023-02-24             Clouds            0.00   \n",
       "\n",
       "    temperature   latitude  longitude  \n",
       "12      8.78500  49.894171   2.295695  \n",
       "13      8.70125  49.894171   2.295695  \n",
       "14      8.62125  49.894171   2.295695  \n",
       "15      5.94375  49.894171   2.295695  \n",
       "16      5.88500  49.894171   2.295695  "
      ]
     },
     "execution_count": 24,
     "metadata": {},
     "output_type": "execute_result"
    }
   ],
   "source": [
    "# Keep usefull data before sending it to our DB : take the weather by day of the top 5 city \n",
    "\n",
    "top_5_city_name = pd.read_csv('data/top_5_city_name.csv')\n",
    "\n",
    "city_weather_top_5 = weather[weather['city'].isin(top_5_city_name['city'])]\n",
    "city_weather_top_5.head()"
   ]
  },
  {
   "cell_type": "code",
   "execution_count": 25,
   "metadata": {},
   "outputs": [
    {
     "name": "stderr",
     "output_type": "stream",
     "text": [
      "/var/folders/38/qp_mmpqs5_5fc3fgl0jc4_v40000gn/T/ipykernel_32830/2801105528.py:3: FutureWarning:\n",
      "\n",
      "In a future version of pandas all arguments of StringMethods.split except for the argument 'pat' will be keyword-only.\n",
      "\n"
     ]
    }
   ],
   "source": [
    "# Clean the scrapping data before sending it to our DB\n",
    "\n",
    "hotel[['lat', 'lon']] = hotel['latlng'].str.split(',', 1, expand=True)\n",
    "hotel = hotel.drop(['depth','download_timeout','download_slot','latlng','download_latency'], axis=1)\n",
    "\n",
    "hotel['Score'] = hotel['Score'].replace({ ',' : '.'}, regex=True)\n",
    "\n",
    "hotel['Score'] = hotel['Score'].astype(float)\n",
    "hotel['lat'] = hotel['lat'].astype(float)\n",
    "hotel['lon'] = hotel['lon'].astype(float)"
   ]
  },
  {
   "cell_type": "code",
   "execution_count": 26,
   "metadata": {},
   "outputs": [],
   "source": [
    "# gets our secrets for connection at RDS\n",
    "\n",
    "import json\n",
    "with open(\"./secrets.json\") as f:\n",
    "    secrets = json.load(f)\n"
   ]
  },
  {
   "cell_type": "code",
   "execution_count": 27,
   "metadata": {},
   "outputs": [
    {
     "name": "stdout",
     "output_type": "stream",
     "text": [
      "2023-02-20 09:17:15,323 INFO sqlalchemy.engine.Engine select pg_catalog.version()\n",
      "2023-02-20 09:17:15,324 INFO sqlalchemy.engine.Engine [raw sql] {}\n",
      "2023-02-20 09:17:15,498 INFO sqlalchemy.engine.Engine select current_schema()\n",
      "2023-02-20 09:17:15,499 INFO sqlalchemy.engine.Engine [raw sql] {}\n",
      "2023-02-20 09:17:15,669 INFO sqlalchemy.engine.Engine show standard_conforming_strings\n",
      "2023-02-20 09:17:15,670 INFO sqlalchemy.engine.Engine [raw sql] {}\n",
      "2023-02-20 09:17:15,850 INFO sqlalchemy.engine.Engine select relname from pg_class c join pg_namespace n on n.oid=c.relnamespace where pg_catalog.pg_table_is_visible(c.oid) and relname=%(name)s\n",
      "2023-02-20 09:17:15,851 INFO sqlalchemy.engine.Engine [generated in 0.00070s] {'name': 'city_weather_top_5'}\n",
      "2023-02-20 09:17:16,093 INFO sqlalchemy.engine.Engine select relname from pg_class c join pg_namespace n on n.oid=c.relnamespace where pg_catalog.pg_table_is_visible(c.oid) and relname=%(name)s\n",
      "2023-02-20 09:17:16,094 INFO sqlalchemy.engine.Engine [cached since 0.2437s ago] {'name': 'city_weather_top_5'}\n",
      "2023-02-20 09:17:16,348 INFO sqlalchemy.engine.Engine SELECT c.relname FROM pg_class c JOIN pg_namespace n ON n.oid = c.relnamespace WHERE n.nspname = %(schema)s AND c.relkind in ('r', 'p')\n",
      "2023-02-20 09:17:16,348 INFO sqlalchemy.engine.Engine [generated in 0.00061s] {'schema': 'public'}\n",
      "2023-02-20 09:17:16,515 INFO sqlalchemy.engine.Engine \n",
      "            SELECT c.oid\n",
      "            FROM pg_catalog.pg_class c\n",
      "            LEFT JOIN pg_catalog.pg_namespace n ON n.oid = c.relnamespace\n",
      "            WHERE (pg_catalog.pg_table_is_visible(c.oid))\n",
      "            AND c.relname = %(table_name)s AND c.relkind in\n",
      "            ('r', 'v', 'm', 'f', 'p')\n",
      "        \n",
      "2023-02-20 09:17:16,516 INFO sqlalchemy.engine.Engine [generated in 0.00064s] {'table_name': 'city_weather_top_5'}\n",
      "2023-02-20 09:17:16,595 INFO sqlalchemy.engine.Engine \n",
      "            SELECT a.attname,\n",
      "              pg_catalog.format_type(a.atttypid, a.atttypmod),\n",
      "              (\n",
      "                SELECT pg_catalog.pg_get_expr(d.adbin, d.adrelid)\n",
      "                FROM pg_catalog.pg_attrdef d\n",
      "                WHERE d.adrelid = a.attrelid AND d.adnum = a.attnum\n",
      "                AND a.atthasdef\n",
      "              ) AS DEFAULT,\n",
      "              a.attnotnull,\n",
      "              a.attrelid as table_oid,\n",
      "              pgd.description as comment,\n",
      "              a.attgenerated as generated,\n",
      "                              (SELECT json_build_object(\n",
      "                    'always', a.attidentity = 'a',\n",
      "                    'start', s.seqstart,\n",
      "                    'increment', s.seqincrement,\n",
      "                    'minvalue', s.seqmin,\n",
      "                    'maxvalue', s.seqmax,\n",
      "                    'cache', s.seqcache,\n",
      "                    'cycle', s.seqcycle)\n",
      "                FROM pg_catalog.pg_sequence s\n",
      "                JOIN pg_catalog.pg_class c on s.seqrelid = c.\"oid\"\n",
      "                WHERE c.relkind = 'S'\n",
      "                AND a.attidentity != ''\n",
      "                AND s.seqrelid = pg_catalog.pg_get_serial_sequence(\n",
      "                    a.attrelid::regclass::text, a.attname\n",
      "                )::regclass::oid\n",
      "                ) as identity_options                \n",
      "            FROM pg_catalog.pg_attribute a\n",
      "            LEFT JOIN pg_catalog.pg_description pgd ON (\n",
      "                pgd.objoid = a.attrelid AND pgd.objsubid = a.attnum)\n",
      "            WHERE a.attrelid = %(table_oid)s\n",
      "            AND a.attnum > 0 AND NOT a.attisdropped\n",
      "            ORDER BY a.attnum\n",
      "        \n",
      "2023-02-20 09:17:16,595 INFO sqlalchemy.engine.Engine [generated in 0.00050s] {'table_oid': 16416}\n",
      "2023-02-20 09:17:16,701 INFO sqlalchemy.engine.Engine \n",
      "            SELECT t.typname as \"name\",\n",
      "               pg_catalog.format_type(t.typbasetype, t.typtypmod) as \"attype\",\n",
      "               not t.typnotnull as \"nullable\",\n",
      "               t.typdefault as \"default\",\n",
      "               pg_catalog.pg_type_is_visible(t.oid) as \"visible\",\n",
      "               n.nspname as \"schema\"\n",
      "            FROM pg_catalog.pg_type t\n",
      "               LEFT JOIN pg_catalog.pg_namespace n ON n.oid = t.typnamespace\n",
      "            WHERE t.typtype = 'd'\n",
      "        \n",
      "2023-02-20 09:17:16,701 INFO sqlalchemy.engine.Engine [generated in 0.00048s] {}\n",
      "2023-02-20 09:17:16,797 INFO sqlalchemy.engine.Engine \n",
      "            SELECT t.typname as \"name\",\n",
      "               -- no enum defaults in 8.4 at least\n",
      "               -- t.typdefault as \"default\",\n",
      "               pg_catalog.pg_type_is_visible(t.oid) as \"visible\",\n",
      "               n.nspname as \"schema\",\n",
      "               e.enumlabel as \"label\"\n",
      "            FROM pg_catalog.pg_type t\n",
      "                 LEFT JOIN pg_catalog.pg_namespace n ON n.oid = t.typnamespace\n",
      "                 LEFT JOIN pg_catalog.pg_enum e ON t.oid = e.enumtypid\n",
      "            WHERE t.typtype = 'e'\n",
      "        ORDER BY \"schema\", \"name\", e.oid\n",
      "2023-02-20 09:17:16,797 INFO sqlalchemy.engine.Engine [generated in 0.00048s] {}\n",
      "2023-02-20 09:17:16,882 INFO sqlalchemy.engine.Engine \n",
      "                SELECT a.attname\n",
      "                FROM pg_attribute a JOIN (\n",
      "                    SELECT unnest(ix.indkey) attnum,\n",
      "                           generate_subscripts(ix.indkey, 1) ord\n",
      "                    FROM pg_index ix\n",
      "                    WHERE ix.indrelid = %(table_oid)s AND ix.indisprimary\n",
      "                    ) k ON a.attnum=k.attnum\n",
      "                WHERE a.attrelid = %(table_oid)s\n",
      "                ORDER BY k.ord\n",
      "            \n",
      "2023-02-20 09:17:16,882 INFO sqlalchemy.engine.Engine [generated in 0.00054s] {'table_oid': 16416}\n",
      "2023-02-20 09:17:16,966 INFO sqlalchemy.engine.Engine \n",
      "        SELECT conname\n",
      "           FROM  pg_catalog.pg_constraint r\n",
      "           WHERE r.conrelid = %(table_oid)s AND r.contype = 'p'\n",
      "           ORDER BY 1\n",
      "        \n",
      "2023-02-20 09:17:16,966 INFO sqlalchemy.engine.Engine [generated in 0.00078s] {'table_oid': 16416}\n",
      "2023-02-20 09:17:17,060 INFO sqlalchemy.engine.Engine \n",
      "          SELECT r.conname,\n",
      "                pg_catalog.pg_get_constraintdef(r.oid, true) as condef,\n",
      "                n.nspname as conschema\n",
      "          FROM  pg_catalog.pg_constraint r,\n",
      "                pg_namespace n,\n",
      "                pg_class c\n",
      "\n",
      "          WHERE r.conrelid = %(table)s AND\n",
      "                r.contype = 'f' AND\n",
      "                c.oid = confrelid AND\n",
      "                n.oid = c.relnamespace\n",
      "          ORDER BY 1\n",
      "        \n",
      "2023-02-20 09:17:17,061 INFO sqlalchemy.engine.Engine [generated in 0.00053s] {'table': 16416}\n",
      "2023-02-20 09:17:17,155 INFO sqlalchemy.engine.Engine \n",
      "              SELECT\n",
      "                  i.relname as relname,\n",
      "                  ix.indisunique, ix.indexprs,\n",
      "                  a.attname, a.attnum, c.conrelid, ix.indkey::varchar,\n",
      "                  ix.indoption::varchar, i.reloptions, am.amname,\n",
      "                  pg_get_expr(ix.indpred, ix.indrelid),\n",
      "                  ix.indnkeyatts as indnkeyatts\n",
      "              FROM\n",
      "                  pg_class t\n",
      "                        join pg_index ix on t.oid = ix.indrelid\n",
      "                        join pg_class i on i.oid = ix.indexrelid\n",
      "                        left outer join\n",
      "                            pg_attribute a\n",
      "                            on t.oid = a.attrelid and a.attnum = ANY(ix.indkey)\n",
      "                        left outer join\n",
      "                            pg_constraint c\n",
      "                            on (ix.indrelid = c.conrelid and\n",
      "                                ix.indexrelid = c.conindid and\n",
      "                                c.contype in ('p', 'u', 'x'))\n",
      "                        left outer join\n",
      "                            pg_am am\n",
      "                            on i.relam = am.oid\n",
      "              WHERE\n",
      "                  t.relkind IN ('r', 'v', 'f', 'm', 'p')\n",
      "                  and t.oid = %(table_oid)s\n",
      "                  and ix.indisprimary = 'f'\n",
      "              ORDER BY\n",
      "                  t.relname,\n",
      "                  i.relname\n",
      "            \n",
      "2023-02-20 09:17:17,156 INFO sqlalchemy.engine.Engine [generated in 0.00050s] {'table_oid': 16416}\n",
      "2023-02-20 09:17:17,243 INFO sqlalchemy.engine.Engine \n",
      "            SELECT\n",
      "                cons.conname as name,\n",
      "                cons.conkey as key,\n",
      "                a.attnum as col_num,\n",
      "                a.attname as col_name\n",
      "            FROM\n",
      "                pg_catalog.pg_constraint cons\n",
      "                join pg_attribute a\n",
      "                  on cons.conrelid = a.attrelid AND\n",
      "                    a.attnum = ANY(cons.conkey)\n",
      "            WHERE\n",
      "                cons.conrelid = %(table_oid)s AND\n",
      "                cons.contype = 'u'\n",
      "        \n",
      "2023-02-20 09:17:17,244 INFO sqlalchemy.engine.Engine [generated in 0.00042s] {'table_oid': 16416}\n",
      "2023-02-20 09:17:17,331 INFO sqlalchemy.engine.Engine \n",
      "            SELECT\n",
      "                cons.conname as name,\n",
      "                pg_get_constraintdef(cons.oid) as src\n",
      "            FROM\n",
      "                pg_catalog.pg_constraint cons\n",
      "            WHERE\n",
      "                cons.conrelid = %(table_oid)s AND\n",
      "                cons.contype = 'c'\n",
      "        \n",
      "2023-02-20 09:17:17,332 INFO sqlalchemy.engine.Engine [generated in 0.00057s] {'table_oid': 16416}\n",
      "2023-02-20 09:17:17,423 INFO sqlalchemy.engine.Engine \n",
      "            SELECT\n",
      "                pgd.description as table_comment\n",
      "            FROM\n",
      "                pg_catalog.pg_description pgd\n",
      "            WHERE\n",
      "                pgd.objsubid = 0 AND\n",
      "                pgd.objoid = %(table_oid)s\n",
      "        \n",
      "2023-02-20 09:17:17,424 INFO sqlalchemy.engine.Engine [generated in 0.00048s] {'table_oid': 16416}\n",
      "2023-02-20 09:17:17,611 INFO sqlalchemy.engine.Engine BEGIN (implicit)\n",
      "2023-02-20 09:17:17,612 INFO sqlalchemy.engine.Engine \n",
      "DROP TABLE city_weather_top_5\n",
      "2023-02-20 09:17:17,612 INFO sqlalchemy.engine.Engine [no key 0.00039s] {}\n",
      "2023-02-20 09:17:17,784 INFO sqlalchemy.engine.Engine COMMIT\n",
      "2023-02-20 09:17:17,874 INFO sqlalchemy.engine.Engine BEGIN (implicit)\n",
      "2023-02-20 09:17:17,874 INFO sqlalchemy.engine.Engine \n",
      "CREATE TABLE city_weather_top_5 (\n",
      "\tindex BIGINT, \n",
      "\t\"Unnamed: 0\" BIGINT, \n",
      "\tcity TEXT, \n",
      "\tdt_object TEXT, \n",
      "\tmain_weather TEXT, \n",
      "\tprepcipitation FLOAT(53), \n",
      "\ttemperature FLOAT(53), \n",
      "\tlatitude FLOAT(53), \n",
      "\tlongitude FLOAT(53)\n",
      ")\n",
      "\n",
      "\n",
      "2023-02-20 09:17:17,875 INFO sqlalchemy.engine.Engine [no key 0.00031s] {}\n",
      "2023-02-20 09:17:18,062 INFO sqlalchemy.engine.Engine CREATE INDEX ix_city_weather_top_5_index ON city_weather_top_5 (index)\n",
      "2023-02-20 09:17:18,062 INFO sqlalchemy.engine.Engine [no key 0.00052s] {}\n",
      "2023-02-20 09:17:18,148 INFO sqlalchemy.engine.Engine COMMIT\n",
      "2023-02-20 09:17:18,229 INFO sqlalchemy.engine.Engine BEGIN (implicit)\n",
      "2023-02-20 09:17:18,231 INFO sqlalchemy.engine.Engine INSERT INTO city_weather_top_5 (index, \"Unnamed: 0\", city, dt_object, main_weather, prepcipitation, temperature, latitude, longitude) VALUES (%(index)s, %(UnnamedC_0)s, %(city)s, %(dt_object)s, %(main_weather)s, %(prepcipitation)s, %(temperature)s, %(latitude)s, %(longitude)s)\n",
      "2023-02-20 09:17:18,231 INFO sqlalchemy.engine.Engine [generated in 0.00047s] ({'index': 12, 'UnnamedC_0': 12, 'city': 'Amiens', 'dt_object': '2023-02-20', 'main_weather': 'Clouds', 'prepcipitation': 0.0, 'temperature': 8.785000000000025, 'latitude': 49.8941708, 'longitude': 2.2956951}, {'index': 13, 'UnnamedC_0': 13, 'city': 'Amiens', 'dt_object': '2023-02-21', 'main_weather': 'Clouds', 'prepcipitation': 0.0, 'temperature': 8.701250000000023, 'latitude': 49.8941708, 'longitude': 2.2956951}, {'index': 14, 'UnnamedC_0': 14, 'city': 'Amiens', 'dt_object': '2023-02-22', 'main_weather': \"['Clouds' 'Rain']\", 'prepcipitation': 1.83, 'temperature': 8.621250000000032, 'latitude': 49.8941708, 'longitude': 2.2956951}, {'index': 15, 'UnnamedC_0': 15, 'city': 'Amiens', 'dt_object': '2023-02-23', 'main_weather': 'Clouds', 'prepcipitation': 0.23, 'temperature': 5.943750000000016, 'latitude': 49.8941708, 'longitude': 2.2956951}, {'index': 16, 'UnnamedC_0': 16, 'city': 'Amiens', 'dt_object': '2023-02-24', 'main_weather': 'Clouds', 'prepcipitation': 0.0, 'temperature': 5.885000000000012, 'latitude': 49.8941708, 'longitude': 2.2956951}, {'index': 17, 'UnnamedC_0': 17, 'city': 'Amiens', 'dt_object': '2023-02-25', 'main_weather': 'Clouds', 'prepcipitation': 0.0, 'temperature': 3.747500000000017, 'latitude': 49.8941708, 'longitude': 2.2956951}, {'index': 60, 'UnnamedC_0': 60, 'city': 'Bormes les Mimosas', 'dt_object': '2023-02-20', 'main_weather': 'Clear', 'prepcipitation': 0.0, 'temperature': 11.93000000000002, 'latitude': 43.1506968, 'longitude': 6.3419285}, {'index': 61, 'UnnamedC_0': 61, 'city': 'Bormes les Mimosas', 'dt_object': '2023-02-21', 'main_weather': 'Clouds', 'prepcipitation': 0.0, 'temperature': 10.881250000000025, 'latitude': 43.1506968, 'longitude': 6.3419285}  ... displaying 10 of 30 total bound parameter sets ...  {'index': 196, 'UnnamedC_0': 196, 'city': 'Strasbourg', 'dt_object': '2023-02-24', 'main_weather': 'Clouds', 'prepcipitation': 0.92, 'temperature': 8.556250000000027, 'latitude': 48.584614, 'longitude': 7.7507127}, {'index': 197, 'UnnamedC_0': 197, 'city': 'Strasbourg', 'dt_object': '2023-02-25', 'main_weather': 'Clouds', 'prepcipitation': 0.16, 'temperature': 5.1575000000000415, 'latitude': 48.584614, 'longitude': 7.7507127})\n",
      "2023-02-20 09:17:18,410 INFO sqlalchemy.engine.Engine COMMIT\n",
      "2023-02-20 09:17:18,501 INFO sqlalchemy.engine.Engine select relname from pg_class c join pg_namespace n on n.oid=c.relnamespace where pg_catalog.pg_table_is_visible(c.oid) and relname=%(name)s\n",
      "2023-02-20 09:17:18,502 INFO sqlalchemy.engine.Engine [cached since 2.652s ago] {'name': 'hotel'}\n",
      "2023-02-20 09:17:18,764 INFO sqlalchemy.engine.Engine select relname from pg_class c join pg_namespace n on n.oid=c.relnamespace where pg_catalog.pg_table_is_visible(c.oid) and relname=%(name)s\n",
      "2023-02-20 09:17:18,765 INFO sqlalchemy.engine.Engine [cached since 2.915s ago] {'name': 'hotel'}\n",
      "2023-02-20 09:17:19,028 INFO sqlalchemy.engine.Engine SELECT c.relname FROM pg_class c JOIN pg_namespace n ON n.oid = c.relnamespace WHERE n.nspname = %(schema)s AND c.relkind in ('r', 'p')\n",
      "2023-02-20 09:17:19,030 INFO sqlalchemy.engine.Engine [cached since 2.683s ago] {'schema': 'public'}\n",
      "2023-02-20 09:17:19,204 INFO sqlalchemy.engine.Engine \n",
      "            SELECT c.oid\n",
      "            FROM pg_catalog.pg_class c\n",
      "            LEFT JOIN pg_catalog.pg_namespace n ON n.oid = c.relnamespace\n",
      "            WHERE (pg_catalog.pg_table_is_visible(c.oid))\n",
      "            AND c.relname = %(table_name)s AND c.relkind in\n",
      "            ('r', 'v', 'm', 'f', 'p')\n",
      "        \n",
      "2023-02-20 09:17:19,205 INFO sqlalchemy.engine.Engine [cached since 2.69s ago] {'table_name': 'hotel'}\n",
      "2023-02-20 09:17:19,284 INFO sqlalchemy.engine.Engine \n",
      "            SELECT a.attname,\n",
      "              pg_catalog.format_type(a.atttypid, a.atttypmod),\n",
      "              (\n",
      "                SELECT pg_catalog.pg_get_expr(d.adbin, d.adrelid)\n",
      "                FROM pg_catalog.pg_attrdef d\n",
      "                WHERE d.adrelid = a.attrelid AND d.adnum = a.attnum\n",
      "                AND a.atthasdef\n",
      "              ) AS DEFAULT,\n",
      "              a.attnotnull,\n",
      "              a.attrelid as table_oid,\n",
      "              pgd.description as comment,\n",
      "              a.attgenerated as generated,\n",
      "                              (SELECT json_build_object(\n",
      "                    'always', a.attidentity = 'a',\n",
      "                    'start', s.seqstart,\n",
      "                    'increment', s.seqincrement,\n",
      "                    'minvalue', s.seqmin,\n",
      "                    'maxvalue', s.seqmax,\n",
      "                    'cache', s.seqcache,\n",
      "                    'cycle', s.seqcycle)\n",
      "                FROM pg_catalog.pg_sequence s\n",
      "                JOIN pg_catalog.pg_class c on s.seqrelid = c.\"oid\"\n",
      "                WHERE c.relkind = 'S'\n",
      "                AND a.attidentity != ''\n",
      "                AND s.seqrelid = pg_catalog.pg_get_serial_sequence(\n",
      "                    a.attrelid::regclass::text, a.attname\n",
      "                )::regclass::oid\n",
      "                ) as identity_options                \n",
      "            FROM pg_catalog.pg_attribute a\n",
      "            LEFT JOIN pg_catalog.pg_description pgd ON (\n",
      "                pgd.objoid = a.attrelid AND pgd.objsubid = a.attnum)\n",
      "            WHERE a.attrelid = %(table_oid)s\n",
      "            AND a.attnum > 0 AND NOT a.attisdropped\n",
      "            ORDER BY a.attnum\n",
      "        \n",
      "2023-02-20 09:17:19,285 INFO sqlalchemy.engine.Engine [cached since 2.69s ago] {'table_oid': 16423}\n",
      "2023-02-20 09:17:19,377 INFO sqlalchemy.engine.Engine \n",
      "            SELECT t.typname as \"name\",\n",
      "               pg_catalog.format_type(t.typbasetype, t.typtypmod) as \"attype\",\n",
      "               not t.typnotnull as \"nullable\",\n",
      "               t.typdefault as \"default\",\n",
      "               pg_catalog.pg_type_is_visible(t.oid) as \"visible\",\n",
      "               n.nspname as \"schema\"\n",
      "            FROM pg_catalog.pg_type t\n",
      "               LEFT JOIN pg_catalog.pg_namespace n ON n.oid = t.typnamespace\n",
      "            WHERE t.typtype = 'd'\n",
      "        \n",
      "2023-02-20 09:17:19,380 INFO sqlalchemy.engine.Engine [cached since 2.679s ago] {}\n",
      "2023-02-20 09:17:19,465 INFO sqlalchemy.engine.Engine \n",
      "            SELECT t.typname as \"name\",\n",
      "               -- no enum defaults in 8.4 at least\n",
      "               -- t.typdefault as \"default\",\n",
      "               pg_catalog.pg_type_is_visible(t.oid) as \"visible\",\n",
      "               n.nspname as \"schema\",\n",
      "               e.enumlabel as \"label\"\n",
      "            FROM pg_catalog.pg_type t\n",
      "                 LEFT JOIN pg_catalog.pg_namespace n ON n.oid = t.typnamespace\n",
      "                 LEFT JOIN pg_catalog.pg_enum e ON t.oid = e.enumtypid\n",
      "            WHERE t.typtype = 'e'\n",
      "        ORDER BY \"schema\", \"name\", e.oid\n",
      "2023-02-20 09:17:19,466 INFO sqlalchemy.engine.Engine [cached since 2.669s ago] {}\n",
      "2023-02-20 09:17:19,555 INFO sqlalchemy.engine.Engine \n",
      "                SELECT a.attname\n",
      "                FROM pg_attribute a JOIN (\n",
      "                    SELECT unnest(ix.indkey) attnum,\n",
      "                           generate_subscripts(ix.indkey, 1) ord\n",
      "                    FROM pg_index ix\n",
      "                    WHERE ix.indrelid = %(table_oid)s AND ix.indisprimary\n",
      "                    ) k ON a.attnum=k.attnum\n",
      "                WHERE a.attrelid = %(table_oid)s\n",
      "                ORDER BY k.ord\n",
      "            \n",
      "2023-02-20 09:17:19,556 INFO sqlalchemy.engine.Engine [cached since 2.674s ago] {'table_oid': 16423}\n",
      "2023-02-20 09:17:19,635 INFO sqlalchemy.engine.Engine \n",
      "        SELECT conname\n",
      "           FROM  pg_catalog.pg_constraint r\n",
      "           WHERE r.conrelid = %(table_oid)s AND r.contype = 'p'\n",
      "           ORDER BY 1\n",
      "        \n",
      "2023-02-20 09:17:19,636 INFO sqlalchemy.engine.Engine [cached since 2.671s ago] {'table_oid': 16423}\n",
      "2023-02-20 09:17:19,737 INFO sqlalchemy.engine.Engine \n",
      "          SELECT r.conname,\n",
      "                pg_catalog.pg_get_constraintdef(r.oid, true) as condef,\n",
      "                n.nspname as conschema\n",
      "          FROM  pg_catalog.pg_constraint r,\n",
      "                pg_namespace n,\n",
      "                pg_class c\n",
      "\n",
      "          WHERE r.conrelid = %(table)s AND\n",
      "                r.contype = 'f' AND\n",
      "                c.oid = confrelid AND\n",
      "                n.oid = c.relnamespace\n",
      "          ORDER BY 1\n",
      "        \n",
      "2023-02-20 09:17:19,738 INFO sqlalchemy.engine.Engine [cached since 2.677s ago] {'table': 16423}\n",
      "2023-02-20 09:17:19,821 INFO sqlalchemy.engine.Engine \n",
      "              SELECT\n",
      "                  i.relname as relname,\n",
      "                  ix.indisunique, ix.indexprs,\n",
      "                  a.attname, a.attnum, c.conrelid, ix.indkey::varchar,\n",
      "                  ix.indoption::varchar, i.reloptions, am.amname,\n",
      "                  pg_get_expr(ix.indpred, ix.indrelid),\n",
      "                  ix.indnkeyatts as indnkeyatts\n",
      "              FROM\n",
      "                  pg_class t\n",
      "                        join pg_index ix on t.oid = ix.indrelid\n",
      "                        join pg_class i on i.oid = ix.indexrelid\n",
      "                        left outer join\n",
      "                            pg_attribute a\n",
      "                            on t.oid = a.attrelid and a.attnum = ANY(ix.indkey)\n",
      "                        left outer join\n",
      "                            pg_constraint c\n",
      "                            on (ix.indrelid = c.conrelid and\n",
      "                                ix.indexrelid = c.conindid and\n",
      "                                c.contype in ('p', 'u', 'x'))\n",
      "                        left outer join\n",
      "                            pg_am am\n",
      "                            on i.relam = am.oid\n",
      "              WHERE\n",
      "                  t.relkind IN ('r', 'v', 'f', 'm', 'p')\n",
      "                  and t.oid = %(table_oid)s\n",
      "                  and ix.indisprimary = 'f'\n",
      "              ORDER BY\n",
      "                  t.relname,\n",
      "                  i.relname\n",
      "            \n",
      "2023-02-20 09:17:19,822 INFO sqlalchemy.engine.Engine [cached since 2.666s ago] {'table_oid': 16423}\n",
      "2023-02-20 09:17:19,913 INFO sqlalchemy.engine.Engine \n",
      "            SELECT\n",
      "                cons.conname as name,\n",
      "                cons.conkey as key,\n",
      "                a.attnum as col_num,\n",
      "                a.attname as col_name\n",
      "            FROM\n",
      "                pg_catalog.pg_constraint cons\n",
      "                join pg_attribute a\n",
      "                  on cons.conrelid = a.attrelid AND\n",
      "                    a.attnum = ANY(cons.conkey)\n",
      "            WHERE\n",
      "                cons.conrelid = %(table_oid)s AND\n",
      "                cons.contype = 'u'\n",
      "        \n",
      "2023-02-20 09:17:19,914 INFO sqlalchemy.engine.Engine [cached since 2.671s ago] {'table_oid': 16423}\n",
      "2023-02-20 09:17:19,999 INFO sqlalchemy.engine.Engine \n",
      "            SELECT\n",
      "                cons.conname as name,\n",
      "                pg_get_constraintdef(cons.oid) as src\n",
      "            FROM\n",
      "                pg_catalog.pg_constraint cons\n",
      "            WHERE\n",
      "                cons.conrelid = %(table_oid)s AND\n",
      "                cons.contype = 'c'\n",
      "        \n",
      "2023-02-20 09:17:20,000 INFO sqlalchemy.engine.Engine [cached since 2.668s ago] {'table_oid': 16423}\n",
      "2023-02-20 09:17:20,094 INFO sqlalchemy.engine.Engine \n",
      "            SELECT\n",
      "                pgd.description as table_comment\n",
      "            FROM\n",
      "                pg_catalog.pg_description pgd\n",
      "            WHERE\n",
      "                pgd.objsubid = 0 AND\n",
      "                pgd.objoid = %(table_oid)s\n",
      "        \n",
      "2023-02-20 09:17:20,095 INFO sqlalchemy.engine.Engine [cached since 2.672s ago] {'table_oid': 16423}\n",
      "2023-02-20 09:17:20,262 INFO sqlalchemy.engine.Engine BEGIN (implicit)\n",
      "2023-02-20 09:17:20,264 INFO sqlalchemy.engine.Engine \n",
      "DROP TABLE hotel\n",
      "2023-02-20 09:17:20,265 INFO sqlalchemy.engine.Engine [no key 0.00095s] {}\n",
      "2023-02-20 09:17:20,442 INFO sqlalchemy.engine.Engine COMMIT\n",
      "2023-02-20 09:17:20,533 INFO sqlalchemy.engine.Engine BEGIN (implicit)\n",
      "2023-02-20 09:17:20,535 INFO sqlalchemy.engine.Engine \n",
      "CREATE TABLE hotel (\n",
      "\tindex BIGINT, \n",
      "\t\"Unnamed: 0\" BIGINT, \n",
      "\t\"hotel name\" TEXT, \n",
      "\t\"Url to its booking.com page\" TEXT, \n",
      "\t\"Score\" FLOAT(53), \n",
      "\t\"Text description\" TEXT, \n",
      "\tlat FLOAT(53), \n",
      "\tlon FLOAT(53)\n",
      ")\n",
      "\n",
      "\n",
      "2023-02-20 09:17:20,535 INFO sqlalchemy.engine.Engine [no key 0.00057s] {}\n",
      "2023-02-20 09:17:20,712 INFO sqlalchemy.engine.Engine CREATE INDEX ix_hotel_index ON hotel (index)\n",
      "2023-02-20 09:17:20,712 INFO sqlalchemy.engine.Engine [no key 0.00047s] {}\n",
      "2023-02-20 09:17:20,798 INFO sqlalchemy.engine.Engine COMMIT\n",
      "2023-02-20 09:17:20,887 INFO sqlalchemy.engine.Engine BEGIN (implicit)\n",
      "2023-02-20 09:17:20,890 INFO sqlalchemy.engine.Engine INSERT INTO hotel (index, \"Unnamed: 0\", \"hotel name\", \"Url to its booking.com page\", \"Score\", \"Text description\", lat, lon) VALUES (%(index)s, %(UnnamedC_0)s, %(hotel_name)s, %(Url_to_its_booking.com_page)s, %(Score)s, %(Text_description)s, %(lat)s, %(lon)s)\n",
      "2023-02-20 09:17:20,890 INFO sqlalchemy.engine.Engine [generated in 0.00136s] ({'index': 0, 'UnnamedC_0': 0, 'hotel_name': 'James Vignoble Hôtel - Eguisheim', 'Url_to_its_booking.com_page': 'https://www.booking.com/hotel/fr/saint-hubert-eguisheim.fr.html?aid=304142&label=gen173nr-1FCAEoggI46AdIM1gEaEaIAQGYAQ24AQfIAQzYAQHoAQH4AQuIAgGoAgO4A ... (116 characters truncated) ... no_rooms=1&group_children=0&req_children=0&hpos=1&hapos=1&sr_order=popularity&srpvid=cb514125e1420424&srepoch=1676884556&from=searchresults#hotelTmpl', 'Score': 8.6, 'Text_description': 'James Vignoble Hôtel - Eguisheim is located among the vineyards of Eguisheim. It offers a spectacular view of the Black Forest. ', 'lat': 48.04496277, 'lon': 7.30157845}, {'index': 1, 'UnnamedC_0': 1, 'hotel_name': 'WHITE HOUSE DHAVERNAS - PROCHE CENTRE - PARKING - WIFi HD', 'Url_to_its_booking.com_page': 'https://www.booking.com/hotel/fr/white-house-dhavernas.fr.html?aid=304142&label=gen173nr-1FCAEoggI46AdIM1gEaEaIAQGYAQ24AQfIAQzYAQHoAQH4AQuIAgGoAgO4Ap ... (115 characters truncated) ... no_rooms=1&group_children=0&req_children=0&hpos=1&hapos=1&sr_order=popularity&srpvid=b2584125e8c8002b&srepoch=1676884556&from=searchresults#hotelTmpl', 'Score': 8.7, 'Text_description': 'Situé à Amiens, en Picardie, à proximité de la gare et du musée de Berny, le WHITE HOUSE DHAVERNAS - PROCHE CENTRE - PARKING - WIFi HD propose des hébergements avec connexion Wi-Fi et parking privé...', 'lat': 49.8814696, 'lon': 2.2998714}, {'index': 2, 'UnnamedC_0': 2, 'hotel_name': \"L'AMIE'NOIS - 6 COUCHAGES - JARDIN - WiFi\", 'Url_to_its_booking.com_page': 'https://www.booking.com/hotel/fr/appt-en-amienoise-avec-jardin-calme-et-spacieux.fr.html?aid=304142&label=gen173nr-1FCAEoggI46AdIM1gEaEaIAQGYAQ24AQfI ... (143 characters truncated) ... _rooms=1&group_children=0&req_children=0&hpos=18&hapos=18&sr_order=popularity&srpvid=b2584125e8c8002b&srepoch=1676884556&from=searchresults#hotelTmpl', 'Score': 8.0, 'Text_description': \"Situé à 1,9 km du Zénith d'Amiens et à 3,9 km de la gare d'Amiens, L'AMIE'NOIS - 6 COUCHAGES - JARDIN - WiFi propose une connexion Wi-Fi gratuite et un jardin. \", 'lat': 49.8880108, 'lon': 2.264935}, {'index': 3, 'UnnamedC_0': 3, 'hotel_name': \"Au Coeur d'Amiens\", 'Url_to_its_booking.com_page': 'https://www.booking.com/hotel/fr/maison-au-coeur-de-la-ville-amiens1.fr.html?aid=304142&label=gen173nr-1FCAEoggI46AdIM1gEaEaIAQGYAQ24AQfIAQzYAQHoAQH4 ... (131 characters truncated) ... _rooms=1&group_children=0&req_children=0&hpos=20&hapos=20&sr_order=popularity&srpvid=b2584125e8c8002b&srepoch=1676884556&from=searchresults#hotelTmpl', 'Score': 9.2, 'Text_description': \"Situé à Amiens, à seulement 1 km de la gare, l'établissement Au Coeur d'Amiens propose un service de prêt de vélos, un jardin et une réception ouverte 24h/24. \", 'lat': 49.8961553, 'lon': 2.3063681}, {'index': 4, 'UnnamedC_0': 4, 'hotel_name': 'Charmant T2 Hyper-centre, Netflix, Gare', 'Url_to_its_booking.com_page': 'https://www.booking.com/hotel/fr/charmant-t2-hyper-centre-netflix-gare.fr.html?aid=304142&label=gen173nr-1FCAEoggI46AdIM1gEaEaIAQGYAQ24AQfIAQzYAQHoAQ ... (133 characters truncated) ... _rooms=1&group_children=0&req_children=0&hpos=19&hapos=19&sr_order=popularity&srpvid=b2584125e8c8002b&srepoch=1676884556&from=searchresults#hotelTmpl', 'Score': 9.0, 'Text_description': 'Le Charmant T2 Hyper-centre, Netflix, Gare est situé à Amiens, à 3,3 km du Zénith, à 600 mètres du musée Berny et à 1,6 km du parc des jardins flottants. ', 'lat': 49.89013675, 'lon': 2.29853201}, {'index': 5, 'UnnamedC_0': 5, 'hotel_name': 'Comme une parenthèse au coeur des hortillonnages', 'Url_to_its_booking.com_page': 'https://www.booking.com/hotel/fr/comme-une-parenthese-au-coeur-des-hortillonnages.fr.html?aid=304142&label=gen173nr-1FCAEoggI46AdIM1gEaEaIAQGYAQ24AQf ... (175 characters truncated) ... hildren=0&hpos=16&hapos=16&sr_order=popularity&srpvid=b2584125e8c8002b&srepoch=1676884556&from_sustainable_property_sr=1&from=searchresults#hotelTmpl', 'Score': 9.1, 'Text_description': \"Situé à Amiens, à 2,3 km de la gare, L'établissement Comme une parenthèse au coeur des hortillonnages propose un service de prêt de vélos, un parking privé gratuit, un jardin et une terrasse. \", 'lat': 49.888542, 'lon': 2.331349}, {'index': 6, 'UnnamedC_0': 6, 'hotel_name': 'Moxy Amiens', 'Url_to_its_booking.com_page': 'https://www.booking.com/hotel/fr/campanile-amiens-centre-gare.fr.html?aid=304142&label=gen173nr-1FCAEoggI46AdIM1gEaEaIAQGYAQ24AQfIAQzYAQHoAQH4AQuIAgG ... (155 characters truncated) ... hildren=0&hpos=15&hapos=15&sr_order=popularity&srpvid=b2584125e8c8002b&srepoch=1676884556&from_sustainable_property_sr=1&from=searchresults#hotelTmpl', 'Score': 8.5, 'Text_description': 'Situé au cœur de la ville et à deux pas de la gare, l’hôtel Moxy Amiens est un pied-à-terre idéal pour vos déplacements professionnels ou sportifs, pour un voyage entre amis ou un séjour découverte en...', 'lat': 49.891249, 'lon': 2.30953}, {'index': 7, 'UnnamedC_0': 7, 'hotel_name': 'Sòlfar - Amiens (hypercentre)', 'Url_to_its_booking.com_page': 'https://www.booking.com/hotel/fr/solfar-amiens-hypercentre.fr.html?aid=304142&label=gen173nr-1FCAEoggI46AdIM1gEaEaIAQGYAQ24AQfIAQzYAQHoAQH4AQuIAgGoAg ... (152 characters truncated) ... hildren=0&hpos=17&hapos=17&sr_order=popularity&srpvid=b2584125e8c8002b&srepoch=1676884556&from_sustainable_property_sr=1&from=searchresults#hotelTmpl', 'Score': 9.1, 'Text_description': \"Doté d'une connexion Wi-Fi gratuite et offrant une vue sur la ville, le Sòlfar - Amiens (hypercentre) est un hébergement situé à Amiens, à moins de 1 km de la gare et à 5 minutes à pied du musée...\", 'lat': 49.89357965, 'lon': 2.29715419}  ... displaying 10 of 100 total bound parameter sets ...  {'index': 98, 'UnnamedC_0': 98, 'hotel_name': 'Le Cottage des Hortillonnages', 'Url_to_its_booking.com_page': 'https://www.booking.com/hotel/fr/le-cottage-des-hortillons.fr.html?aid=304142&label=gen173nr-1FCAEoggI46AdIM1gEaEaIAQGYAQ24AQfIAQzYAQHoAQH4AQuIAgGoAg ... (150 characters truncated) ... _children=0&hpos=2&hapos=2&sr_order=popularity&srpvid=b2584125e8c8002b&srepoch=1676884556&from_sustainable_property_sr=1&from=searchresults#hotelTmpl', 'Score': 9.3, 'Text_description': \"Le Cottage des Hortillonnages est situé à Amiens, à 1,5 km de la gare et à 5,1 km du Zénith d'Amiens, dans une région où vous pourrez pêcher. \", 'lat': 49.89755206, 'lon': 2.31635948}, {'index': 99, 'UnnamedC_0': 99, 'hotel_name': 'GRANDE MAISON COSY TERRASSE PARKING GARE 8PERS', 'Url_to_its_booking.com_page': 'https://www.booking.com/hotel/fr/grande-maison-cosy-terrasse-parking-gare-8pers-amiens.fr.html?aid=304142&label=gen173nr-1FCAEoggI46AdIM1gEaEaIAQGYAQ ... (147 characters truncated) ... no_rooms=1&group_children=0&req_children=0&hpos=3&hapos=3&sr_order=popularity&srpvid=b2584125e8c8002b&srepoch=1676884556&from=searchresults#hotelTmpl', 'Score': 9.5, 'Text_description': 'La GRANDE MAISON COSY TERRASSE PARKING GARE 8PERS est située à Amiens, à 3,9 km du Zénith, à 700 mètres du parc des jardins flottants et à moins de 1 km du musée Berny. ', 'lat': 49.8925731, 'lon': 2.3118048})\n",
      "2023-02-20 09:17:21,164 INFO sqlalchemy.engine.Engine COMMIT\n"
     ]
    },
    {
     "data": {
      "text/plain": [
       "100"
      ]
     },
     "execution_count": 27,
     "metadata": {},
     "output_type": "execute_result"
    }
   ],
   "source": [
    "# send to our DB\n",
    "\n",
    "#engine = create_engine(\"sqlite:///:memory:\", echo=True)\n",
    "engine = create_engine(f'postgresql+psycopg2://{secrets[\"DBUSER\"]}:{secrets[\"DBPASS\"]}@{secrets[\"DBHOST\"]}', echo=True)\n",
    "\n",
    "city_weather_top_5.to_sql(\n",
    "    f\"city_weather_top_5\",\n",
    "    engine,\n",
    "    if_exists='replace'\n",
    ")\n",
    "\n",
    "hotel.to_sql(\n",
    "    \"hotel\",\n",
    "    engine,\n",
    "    if_exists='replace'\n",
    ")"
   ]
  },
  {
   "attachments": {},
   "cell_type": "markdown",
   "metadata": {},
   "source": [
    "## Call tables from our BD and do visualization "
   ]
  },
  {
   "cell_type": "code",
   "execution_count": 28,
   "metadata": {},
   "outputs": [
    {
     "name": "stdout",
     "output_type": "stream",
     "text": [
      "2023-02-20 09:17:21,284 INFO sqlalchemy.engine.Engine select relname from pg_class c join pg_namespace n on n.oid=c.relnamespace where pg_catalog.pg_table_is_visible(c.oid) and relname=%(name)s\n",
      "2023-02-20 09:17:21,286 INFO sqlalchemy.engine.Engine [cached since 5.436s ago] {'name': 'SELECT * FROM city_weather_top_5 '}\n",
      "2023-02-20 09:17:21,552 INFO sqlalchemy.engine.Engine SELECT * FROM city_weather_top_5 \n",
      "2023-02-20 09:17:21,553 INFO sqlalchemy.engine.Engine [generated in 0.00087s] {}\n"
     ]
    },
    {
     "data": {
      "text/html": [
       "<div>\n",
       "<style scoped>\n",
       "    .dataframe tbody tr th:only-of-type {\n",
       "        vertical-align: middle;\n",
       "    }\n",
       "\n",
       "    .dataframe tbody tr th {\n",
       "        vertical-align: top;\n",
       "    }\n",
       "\n",
       "    .dataframe thead th {\n",
       "        text-align: right;\n",
       "    }\n",
       "</style>\n",
       "<table border=\"1\" class=\"dataframe\">\n",
       "  <thead>\n",
       "    <tr style=\"text-align: right;\">\n",
       "      <th></th>\n",
       "      <th>index</th>\n",
       "      <th>Unnamed: 0</th>\n",
       "      <th>city</th>\n",
       "      <th>dt_object</th>\n",
       "      <th>main_weather</th>\n",
       "      <th>prepcipitation</th>\n",
       "      <th>temperature</th>\n",
       "      <th>latitude</th>\n",
       "      <th>longitude</th>\n",
       "    </tr>\n",
       "  </thead>\n",
       "  <tbody>\n",
       "    <tr>\n",
       "      <th>0</th>\n",
       "      <td>12</td>\n",
       "      <td>12</td>\n",
       "      <td>Amiens</td>\n",
       "      <td>2023-02-20</td>\n",
       "      <td>Clouds</td>\n",
       "      <td>0.00</td>\n",
       "      <td>8.78500</td>\n",
       "      <td>49.894171</td>\n",
       "      <td>2.295695</td>\n",
       "    </tr>\n",
       "    <tr>\n",
       "      <th>1</th>\n",
       "      <td>13</td>\n",
       "      <td>13</td>\n",
       "      <td>Amiens</td>\n",
       "      <td>2023-02-21</td>\n",
       "      <td>Clouds</td>\n",
       "      <td>0.00</td>\n",
       "      <td>8.70125</td>\n",
       "      <td>49.894171</td>\n",
       "      <td>2.295695</td>\n",
       "    </tr>\n",
       "    <tr>\n",
       "      <th>2</th>\n",
       "      <td>14</td>\n",
       "      <td>14</td>\n",
       "      <td>Amiens</td>\n",
       "      <td>2023-02-22</td>\n",
       "      <td>['Clouds' 'Rain']</td>\n",
       "      <td>1.83</td>\n",
       "      <td>8.62125</td>\n",
       "      <td>49.894171</td>\n",
       "      <td>2.295695</td>\n",
       "    </tr>\n",
       "    <tr>\n",
       "      <th>3</th>\n",
       "      <td>15</td>\n",
       "      <td>15</td>\n",
       "      <td>Amiens</td>\n",
       "      <td>2023-02-23</td>\n",
       "      <td>Clouds</td>\n",
       "      <td>0.23</td>\n",
       "      <td>5.94375</td>\n",
       "      <td>49.894171</td>\n",
       "      <td>2.295695</td>\n",
       "    </tr>\n",
       "    <tr>\n",
       "      <th>4</th>\n",
       "      <td>16</td>\n",
       "      <td>16</td>\n",
       "      <td>Amiens</td>\n",
       "      <td>2023-02-24</td>\n",
       "      <td>Clouds</td>\n",
       "      <td>0.00</td>\n",
       "      <td>5.88500</td>\n",
       "      <td>49.894171</td>\n",
       "      <td>2.295695</td>\n",
       "    </tr>\n",
       "  </tbody>\n",
       "</table>\n",
       "</div>"
      ],
      "text/plain": [
       "   index  Unnamed: 0    city   dt_object       main_weather  prepcipitation  \\\n",
       "0     12          12  Amiens  2023-02-20             Clouds            0.00   \n",
       "1     13          13  Amiens  2023-02-21             Clouds            0.00   \n",
       "2     14          14  Amiens  2023-02-22  ['Clouds' 'Rain']            1.83   \n",
       "3     15          15  Amiens  2023-02-23             Clouds            0.23   \n",
       "4     16          16  Amiens  2023-02-24             Clouds            0.00   \n",
       "\n",
       "   temperature   latitude  longitude  \n",
       "0      8.78500  49.894171   2.295695  \n",
       "1      8.70125  49.894171   2.295695  \n",
       "2      8.62125  49.894171   2.295695  \n",
       "3      5.94375  49.894171   2.295695  \n",
       "4      5.88500  49.894171   2.295695  "
      ]
     },
     "execution_count": 28,
     "metadata": {},
     "output_type": "execute_result"
    }
   ],
   "source": [
    "# Weather table \n",
    "\n",
    "stmt = text(\"SELECT * FROM city_weather_top_5 \"\n",
    "            )\n",
    "\n",
    "weather = pd.read_sql(\n",
    "        stmt,\n",
    "        engine\n",
    "    )\n",
    "\n",
    "weather.head()"
   ]
  },
  {
   "cell_type": "code",
   "execution_count": 29,
   "metadata": {},
   "outputs": [],
   "source": [
    "# Add a proportinal colum on temperature for better see the variation \n",
    "city_weather_top_5['temp_cube'] = city_weather_top_5['temperature']**3\n",
    "city_weather_top_5.head()\n",
    "\n",
    "city_weather_top_5['dt_object'] = city_weather_top_5['dt_object'].astype(str)"
   ]
  },
  {
   "cell_type": "code",
   "execution_count": 30,
   "metadata": {},
   "outputs": [
    {
     "data": {
      "application/vnd.plotly.v1+json": {
       "config": {
        "plotlyServerURL": "https://plot.ly"
       },
       "data": [
        {
         "hovertemplate": "dt_object=2023-02-20<br>temp_cube=%{marker.size}<br>latitude=%{lat}<br>longitude=%{lon}<br>temperature=%{marker.color}<extra></extra>",
         "ids": [
          8.785000000000025,
          11.93000000000002,
          9.802500000000023,
          8.307500000000019,
          9.955000000000013
         ],
         "lat": [
          49.8941708,
          43.1506968,
          48.0447968,
          49.4404591,
          48.584614
         ],
         "legendgroup": "",
         "lon": [
          2.2956951,
          6.3419285,
          7.3079618,
          1.0939658,
          7.7507127
         ],
         "marker": {
          "color": [
           8.785000000000025,
           11.93000000000002,
           9.802500000000023,
           8.307500000000019,
           9.955000000000013
          ],
          "coloraxis": "coloraxis",
          "size": [
           677.9931366250058,
           1697.9360570000083,
           941.9124837656317,
           573.3384260468789,
           986.5606588750037
          ],
          "sizemode": "area",
          "sizeref": 4.244840142500021
         },
         "mode": "markers",
         "name": "",
         "showlegend": false,
         "subplot": "mapbox",
         "type": "scattermapbox"
        }
       ],
       "frames": [
        {
         "data": [
          {
           "hovertemplate": "dt_object=2023-02-20<br>temp_cube=%{marker.size}<br>latitude=%{lat}<br>longitude=%{lon}<br>temperature=%{marker.color}<extra></extra>",
           "ids": [
            8.785000000000025,
            11.93000000000002,
            9.802500000000023,
            8.307500000000019,
            9.955000000000013
           ],
           "lat": [
            49.8941708,
            43.1506968,
            48.0447968,
            49.4404591,
            48.584614
           ],
           "legendgroup": "",
           "lon": [
            2.2956951,
            6.3419285,
            7.3079618,
            1.0939658,
            7.7507127
           ],
           "marker": {
            "color": [
             8.785000000000025,
             11.93000000000002,
             9.802500000000023,
             8.307500000000019,
             9.955000000000013
            ],
            "coloraxis": "coloraxis",
            "size": [
             677.9931366250058,
             1697.9360570000083,
             941.9124837656317,
             573.3384260468789,
             986.5606588750037
            ],
            "sizemode": "area",
            "sizeref": 4.244840142500021
           },
           "mode": "markers",
           "name": "",
           "showlegend": false,
           "subplot": "mapbox",
           "type": "scattermapbox"
          }
         ],
         "name": "2023-02-20"
        },
        {
         "data": [
          {
           "hovertemplate": "dt_object=2023-02-21<br>temp_cube=%{marker.size}<br>latitude=%{lat}<br>longitude=%{lon}<br>temperature=%{marker.color}<extra></extra>",
           "ids": [
            8.701250000000023,
            10.881250000000025,
            9.242500000000014,
            8.707500000000024,
            8.652500000000018
           ],
           "lat": [
            49.8941708,
            43.1506968,
            48.0447968,
            49.4404591,
            48.584614
           ],
           "legendgroup": "",
           "lon": [
            2.2956951,
            6.3419285,
            7.3079618,
            1.0939658,
            7.7507127
           ],
           "marker": {
            "color": [
             8.701250000000023,
             10.881250000000025,
             9.242500000000014,
             8.707500000000024,
             8.652500000000018
            ],
            "coloraxis": "coloraxis",
            "size": [
             658.7868782832084,
             1288.357427001962,
             789.5295292656285,
             660.2074935468805,
             647.7759559531289
            ],
            "sizemode": "area",
            "sizeref": 4.244840142500021
           },
           "mode": "markers",
           "name": "",
           "showlegend": false,
           "subplot": "mapbox",
           "type": "scattermapbox"
          }
         ],
         "name": "2023-02-21"
        },
        {
         "data": [
          {
           "hovertemplate": "dt_object=2023-02-22<br>temp_cube=%{marker.size}<br>latitude=%{lat}<br>longitude=%{lon}<br>temperature=%{marker.color}<extra></extra>",
           "ids": [
            8.621250000000032,
            10.348750000000024,
            9.72750000000002,
            8.511250000000032,
            8.707500000000017
           ],
           "lat": [
            49.8941708,
            43.1506968,
            48.0447968,
            49.4404591,
            48.584614
           ],
           "legendgroup": "",
           "lon": [
            2.2956951,
            6.3419285,
            7.3079618,
            1.0939658,
            7.7507127
           ],
           "marker": {
            "color": [
             8.621250000000032,
             10.348750000000024,
             9.72750000000002,
             8.511250000000032,
             8.707500000000017
            ],
            "coloraxis": "coloraxis",
            "size": [
             640.7826099082102,
             1108.3162141386795,
             920.4574526718808,
             616.5666662675852,
             660.2074935468789
            ],
            "sizemode": "area",
            "sizeref": 4.244840142500021
           },
           "mode": "markers",
           "name": "",
           "showlegend": false,
           "subplot": "mapbox",
           "type": "scattermapbox"
          }
         ],
         "name": "2023-02-22"
        },
        {
         "data": [
          {
           "hovertemplate": "dt_object=2023-02-23<br>temp_cube=%{marker.size}<br>latitude=%{lat}<br>longitude=%{lon}<br>temperature=%{marker.color}<extra></extra>",
           "ids": [
            5.943750000000016,
            10.701250000000025,
            9.667500000000018,
            5.643750000000026,
            9.943750000000016
           ],
           "lat": [
            49.8941708,
            43.1506968,
            48.0447968,
            49.4404591,
            48.584614
           ],
           "legendgroup": "",
           "lon": [
            2.2956951,
            6.3419285,
            7.3079618,
            1.0939658,
            7.7507127
           ],
           "marker": {
            "color": [
             5.943750000000016,
             10.701250000000025,
             9.667500000000018,
             5.643750000000026,
             9.943750000000016
            ],
            "coloraxis": "coloraxis",
            "size": [
             209.98177514648603,
             1225.4723876582116,
             903.5299275468801,
             179.76423999023683,
             983.219743896489
            ],
            "sizemode": "area",
            "sizeref": 4.244840142500021
           },
           "mode": "markers",
           "name": "",
           "showlegend": false,
           "subplot": "mapbox",
           "type": "scattermapbox"
          }
         ],
         "name": "2023-02-23"
        },
        {
         "data": [
          {
           "hovertemplate": "dt_object=2023-02-24<br>temp_cube=%{marker.size}<br>latitude=%{lat}<br>longitude=%{lon}<br>temperature=%{marker.color}<extra></extra>",
           "ids": [
            5.885000000000012,
            11.496250000000018,
            9.662500000000016,
            5.892500000000027,
            8.556250000000027
           ],
           "lat": [
            49.8941708,
            43.1506968,
            48.0447968,
            49.4404591,
            48.584614
           ],
           "legendgroup": "",
           "lon": [
            2.2956951,
            6.3419285,
            7.3079618,
            1.0939658,
            7.7507127
           ],
           "marker": {
            "color": [
             5.885000000000012,
             11.496250000000018,
             9.662500000000016,
             5.892500000000027,
             8.556250000000027
            ],
            "coloraxis": "coloraxis",
            "size": [
             203.81652912500127,
             1519.3876726035226,
             902.1287441406294,
             204.5967702031278,
             626.3980490722715
            ],
            "sizemode": "area",
            "sizeref": 4.244840142500021
           },
           "mode": "markers",
           "name": "",
           "showlegend": false,
           "subplot": "mapbox",
           "type": "scattermapbox"
          }
         ],
         "name": "2023-02-24"
        },
        {
         "data": [
          {
           "hovertemplate": "dt_object=2023-02-25<br>temp_cube=%{marker.size}<br>latitude=%{lat}<br>longitude=%{lon}<br>temperature=%{marker.color}<extra></extra>",
           "ids": [
            3.747500000000017,
            11.105000000000018,
            5.837500000000034,
            3.4875000000000256,
            5.1575000000000415
           ],
           "lat": [
            49.8941708,
            43.1506968,
            48.0447968,
            49.4404591,
            48.584614
           ],
           "legendgroup": "",
           "lon": [
            2.2956951,
            6.3419285,
            7.3079618,
            1.0939658,
            7.7507127
           ],
           "marker": {
            "color": [
             3.747500000000017,
             11.105000000000018,
             5.837500000000034,
             3.4875000000000256,
             5.1575000000000415
            ],
            "coloraxis": "coloraxis",
            "size": [
             52.62897654687571,
             1369.4799826250066,
             198.92102148437849,
             42.417263671875936,
             137.18850073437832
            ],
            "sizemode": "area",
            "sizeref": 4.244840142500021
           },
           "mode": "markers",
           "name": "",
           "showlegend": false,
           "subplot": "mapbox",
           "type": "scattermapbox"
          }
         ],
         "name": "2023-02-25"
        }
       ],
       "layout": {
        "coloraxis": {
         "colorbar": {
          "title": {
           "text": "temperature"
          }
         },
         "colorscale": [
          [
           0,
           "#0d0887"
          ],
          [
           0.1111111111111111,
           "#46039f"
          ],
          [
           0.2222222222222222,
           "#7201a8"
          ],
          [
           0.3333333333333333,
           "#9c179e"
          ],
          [
           0.4444444444444444,
           "#bd3786"
          ],
          [
           0.5555555555555556,
           "#d8576b"
          ],
          [
           0.6666666666666666,
           "#ed7953"
          ],
          [
           0.7777777777777778,
           "#fb9f3a"
          ],
          [
           0.8888888888888888,
           "#fdca26"
          ],
          [
           1,
           "#f0f921"
          ]
         ]
        },
        "legend": {
         "itemsizing": "constant",
         "tracegroupgap": 0
        },
        "mapbox": {
         "center": {
          "lat": 47.822947500000026,
          "lon": 4.95805278
         },
         "domain": {
          "x": [
           0,
           1
          ],
          "y": [
           0,
           1
          ]
         },
         "style": "carto-positron",
         "zoom": 7
        },
        "sliders": [
         {
          "active": 0,
          "currentvalue": {
           "prefix": "dt_object="
          },
          "len": 0.9,
          "pad": {
           "b": 10,
           "t": 60
          },
          "steps": [
           {
            "args": [
             [
              "2023-02-20"
             ],
             {
              "frame": {
               "duration": 0,
               "redraw": true
              },
              "fromcurrent": true,
              "mode": "immediate",
              "transition": {
               "duration": 0,
               "easing": "linear"
              }
             }
            ],
            "label": "2023-02-20",
            "method": "animate"
           },
           {
            "args": [
             [
              "2023-02-21"
             ],
             {
              "frame": {
               "duration": 0,
               "redraw": true
              },
              "fromcurrent": true,
              "mode": "immediate",
              "transition": {
               "duration": 0,
               "easing": "linear"
              }
             }
            ],
            "label": "2023-02-21",
            "method": "animate"
           },
           {
            "args": [
             [
              "2023-02-22"
             ],
             {
              "frame": {
               "duration": 0,
               "redraw": true
              },
              "fromcurrent": true,
              "mode": "immediate",
              "transition": {
               "duration": 0,
               "easing": "linear"
              }
             }
            ],
            "label": "2023-02-22",
            "method": "animate"
           },
           {
            "args": [
             [
              "2023-02-23"
             ],
             {
              "frame": {
               "duration": 0,
               "redraw": true
              },
              "fromcurrent": true,
              "mode": "immediate",
              "transition": {
               "duration": 0,
               "easing": "linear"
              }
             }
            ],
            "label": "2023-02-23",
            "method": "animate"
           },
           {
            "args": [
             [
              "2023-02-24"
             ],
             {
              "frame": {
               "duration": 0,
               "redraw": true
              },
              "fromcurrent": true,
              "mode": "immediate",
              "transition": {
               "duration": 0,
               "easing": "linear"
              }
             }
            ],
            "label": "2023-02-24",
            "method": "animate"
           },
           {
            "args": [
             [
              "2023-02-25"
             ],
             {
              "frame": {
               "duration": 0,
               "redraw": true
              },
              "fromcurrent": true,
              "mode": "immediate",
              "transition": {
               "duration": 0,
               "easing": "linear"
              }
             }
            ],
            "label": "2023-02-25",
            "method": "animate"
           }
          ],
          "x": 0.1,
          "xanchor": "left",
          "y": 0,
          "yanchor": "top"
         }
        ],
        "template": {
         "data": {
          "bar": [
           {
            "error_x": {
             "color": "#2a3f5f"
            },
            "error_y": {
             "color": "#2a3f5f"
            },
            "marker": {
             "line": {
              "color": "#E5ECF6",
              "width": 0.5
             },
             "pattern": {
              "fillmode": "overlay",
              "size": 10,
              "solidity": 0.2
             }
            },
            "type": "bar"
           }
          ],
          "barpolar": [
           {
            "marker": {
             "line": {
              "color": "#E5ECF6",
              "width": 0.5
             },
             "pattern": {
              "fillmode": "overlay",
              "size": 10,
              "solidity": 0.2
             }
            },
            "type": "barpolar"
           }
          ],
          "carpet": [
           {
            "aaxis": {
             "endlinecolor": "#2a3f5f",
             "gridcolor": "white",
             "linecolor": "white",
             "minorgridcolor": "white",
             "startlinecolor": "#2a3f5f"
            },
            "baxis": {
             "endlinecolor": "#2a3f5f",
             "gridcolor": "white",
             "linecolor": "white",
             "minorgridcolor": "white",
             "startlinecolor": "#2a3f5f"
            },
            "type": "carpet"
           }
          ],
          "choropleth": [
           {
            "colorbar": {
             "outlinewidth": 0,
             "ticks": ""
            },
            "type": "choropleth"
           }
          ],
          "contour": [
           {
            "colorbar": {
             "outlinewidth": 0,
             "ticks": ""
            },
            "colorscale": [
             [
              0,
              "#0d0887"
             ],
             [
              0.1111111111111111,
              "#46039f"
             ],
             [
              0.2222222222222222,
              "#7201a8"
             ],
             [
              0.3333333333333333,
              "#9c179e"
             ],
             [
              0.4444444444444444,
              "#bd3786"
             ],
             [
              0.5555555555555556,
              "#d8576b"
             ],
             [
              0.6666666666666666,
              "#ed7953"
             ],
             [
              0.7777777777777778,
              "#fb9f3a"
             ],
             [
              0.8888888888888888,
              "#fdca26"
             ],
             [
              1,
              "#f0f921"
             ]
            ],
            "type": "contour"
           }
          ],
          "contourcarpet": [
           {
            "colorbar": {
             "outlinewidth": 0,
             "ticks": ""
            },
            "type": "contourcarpet"
           }
          ],
          "heatmap": [
           {
            "colorbar": {
             "outlinewidth": 0,
             "ticks": ""
            },
            "colorscale": [
             [
              0,
              "#0d0887"
             ],
             [
              0.1111111111111111,
              "#46039f"
             ],
             [
              0.2222222222222222,
              "#7201a8"
             ],
             [
              0.3333333333333333,
              "#9c179e"
             ],
             [
              0.4444444444444444,
              "#bd3786"
             ],
             [
              0.5555555555555556,
              "#d8576b"
             ],
             [
              0.6666666666666666,
              "#ed7953"
             ],
             [
              0.7777777777777778,
              "#fb9f3a"
             ],
             [
              0.8888888888888888,
              "#fdca26"
             ],
             [
              1,
              "#f0f921"
             ]
            ],
            "type": "heatmap"
           }
          ],
          "heatmapgl": [
           {
            "colorbar": {
             "outlinewidth": 0,
             "ticks": ""
            },
            "colorscale": [
             [
              0,
              "#0d0887"
             ],
             [
              0.1111111111111111,
              "#46039f"
             ],
             [
              0.2222222222222222,
              "#7201a8"
             ],
             [
              0.3333333333333333,
              "#9c179e"
             ],
             [
              0.4444444444444444,
              "#bd3786"
             ],
             [
              0.5555555555555556,
              "#d8576b"
             ],
             [
              0.6666666666666666,
              "#ed7953"
             ],
             [
              0.7777777777777778,
              "#fb9f3a"
             ],
             [
              0.8888888888888888,
              "#fdca26"
             ],
             [
              1,
              "#f0f921"
             ]
            ],
            "type": "heatmapgl"
           }
          ],
          "histogram": [
           {
            "marker": {
             "pattern": {
              "fillmode": "overlay",
              "size": 10,
              "solidity": 0.2
             }
            },
            "type": "histogram"
           }
          ],
          "histogram2d": [
           {
            "colorbar": {
             "outlinewidth": 0,
             "ticks": ""
            },
            "colorscale": [
             [
              0,
              "#0d0887"
             ],
             [
              0.1111111111111111,
              "#46039f"
             ],
             [
              0.2222222222222222,
              "#7201a8"
             ],
             [
              0.3333333333333333,
              "#9c179e"
             ],
             [
              0.4444444444444444,
              "#bd3786"
             ],
             [
              0.5555555555555556,
              "#d8576b"
             ],
             [
              0.6666666666666666,
              "#ed7953"
             ],
             [
              0.7777777777777778,
              "#fb9f3a"
             ],
             [
              0.8888888888888888,
              "#fdca26"
             ],
             [
              1,
              "#f0f921"
             ]
            ],
            "type": "histogram2d"
           }
          ],
          "histogram2dcontour": [
           {
            "colorbar": {
             "outlinewidth": 0,
             "ticks": ""
            },
            "colorscale": [
             [
              0,
              "#0d0887"
             ],
             [
              0.1111111111111111,
              "#46039f"
             ],
             [
              0.2222222222222222,
              "#7201a8"
             ],
             [
              0.3333333333333333,
              "#9c179e"
             ],
             [
              0.4444444444444444,
              "#bd3786"
             ],
             [
              0.5555555555555556,
              "#d8576b"
             ],
             [
              0.6666666666666666,
              "#ed7953"
             ],
             [
              0.7777777777777778,
              "#fb9f3a"
             ],
             [
              0.8888888888888888,
              "#fdca26"
             ],
             [
              1,
              "#f0f921"
             ]
            ],
            "type": "histogram2dcontour"
           }
          ],
          "mesh3d": [
           {
            "colorbar": {
             "outlinewidth": 0,
             "ticks": ""
            },
            "type": "mesh3d"
           }
          ],
          "parcoords": [
           {
            "line": {
             "colorbar": {
              "outlinewidth": 0,
              "ticks": ""
             }
            },
            "type": "parcoords"
           }
          ],
          "pie": [
           {
            "automargin": true,
            "type": "pie"
           }
          ],
          "scatter": [
           {
            "fillpattern": {
             "fillmode": "overlay",
             "size": 10,
             "solidity": 0.2
            },
            "type": "scatter"
           }
          ],
          "scatter3d": [
           {
            "line": {
             "colorbar": {
              "outlinewidth": 0,
              "ticks": ""
             }
            },
            "marker": {
             "colorbar": {
              "outlinewidth": 0,
              "ticks": ""
             }
            },
            "type": "scatter3d"
           }
          ],
          "scattercarpet": [
           {
            "marker": {
             "colorbar": {
              "outlinewidth": 0,
              "ticks": ""
             }
            },
            "type": "scattercarpet"
           }
          ],
          "scattergeo": [
           {
            "marker": {
             "colorbar": {
              "outlinewidth": 0,
              "ticks": ""
             }
            },
            "type": "scattergeo"
           }
          ],
          "scattergl": [
           {
            "marker": {
             "colorbar": {
              "outlinewidth": 0,
              "ticks": ""
             }
            },
            "type": "scattergl"
           }
          ],
          "scattermapbox": [
           {
            "marker": {
             "colorbar": {
              "outlinewidth": 0,
              "ticks": ""
             }
            },
            "type": "scattermapbox"
           }
          ],
          "scatterpolar": [
           {
            "marker": {
             "colorbar": {
              "outlinewidth": 0,
              "ticks": ""
             }
            },
            "type": "scatterpolar"
           }
          ],
          "scatterpolargl": [
           {
            "marker": {
             "colorbar": {
              "outlinewidth": 0,
              "ticks": ""
             }
            },
            "type": "scatterpolargl"
           }
          ],
          "scatterternary": [
           {
            "marker": {
             "colorbar": {
              "outlinewidth": 0,
              "ticks": ""
             }
            },
            "type": "scatterternary"
           }
          ],
          "surface": [
           {
            "colorbar": {
             "outlinewidth": 0,
             "ticks": ""
            },
            "colorscale": [
             [
              0,
              "#0d0887"
             ],
             [
              0.1111111111111111,
              "#46039f"
             ],
             [
              0.2222222222222222,
              "#7201a8"
             ],
             [
              0.3333333333333333,
              "#9c179e"
             ],
             [
              0.4444444444444444,
              "#bd3786"
             ],
             [
              0.5555555555555556,
              "#d8576b"
             ],
             [
              0.6666666666666666,
              "#ed7953"
             ],
             [
              0.7777777777777778,
              "#fb9f3a"
             ],
             [
              0.8888888888888888,
              "#fdca26"
             ],
             [
              1,
              "#f0f921"
             ]
            ],
            "type": "surface"
           }
          ],
          "table": [
           {
            "cells": {
             "fill": {
              "color": "#EBF0F8"
             },
             "line": {
              "color": "white"
             }
            },
            "header": {
             "fill": {
              "color": "#C8D4E3"
             },
             "line": {
              "color": "white"
             }
            },
            "type": "table"
           }
          ]
         },
         "layout": {
          "annotationdefaults": {
           "arrowcolor": "#2a3f5f",
           "arrowhead": 0,
           "arrowwidth": 1
          },
          "autotypenumbers": "strict",
          "coloraxis": {
           "colorbar": {
            "outlinewidth": 0,
            "ticks": ""
           }
          },
          "colorscale": {
           "diverging": [
            [
             0,
             "#8e0152"
            ],
            [
             0.1,
             "#c51b7d"
            ],
            [
             0.2,
             "#de77ae"
            ],
            [
             0.3,
             "#f1b6da"
            ],
            [
             0.4,
             "#fde0ef"
            ],
            [
             0.5,
             "#f7f7f7"
            ],
            [
             0.6,
             "#e6f5d0"
            ],
            [
             0.7,
             "#b8e186"
            ],
            [
             0.8,
             "#7fbc41"
            ],
            [
             0.9,
             "#4d9221"
            ],
            [
             1,
             "#276419"
            ]
           ],
           "sequential": [
            [
             0,
             "#0d0887"
            ],
            [
             0.1111111111111111,
             "#46039f"
            ],
            [
             0.2222222222222222,
             "#7201a8"
            ],
            [
             0.3333333333333333,
             "#9c179e"
            ],
            [
             0.4444444444444444,
             "#bd3786"
            ],
            [
             0.5555555555555556,
             "#d8576b"
            ],
            [
             0.6666666666666666,
             "#ed7953"
            ],
            [
             0.7777777777777778,
             "#fb9f3a"
            ],
            [
             0.8888888888888888,
             "#fdca26"
            ],
            [
             1,
             "#f0f921"
            ]
           ],
           "sequentialminus": [
            [
             0,
             "#0d0887"
            ],
            [
             0.1111111111111111,
             "#46039f"
            ],
            [
             0.2222222222222222,
             "#7201a8"
            ],
            [
             0.3333333333333333,
             "#9c179e"
            ],
            [
             0.4444444444444444,
             "#bd3786"
            ],
            [
             0.5555555555555556,
             "#d8576b"
            ],
            [
             0.6666666666666666,
             "#ed7953"
            ],
            [
             0.7777777777777778,
             "#fb9f3a"
            ],
            [
             0.8888888888888888,
             "#fdca26"
            ],
            [
             1,
             "#f0f921"
            ]
           ]
          },
          "colorway": [
           "#636efa",
           "#EF553B",
           "#00cc96",
           "#ab63fa",
           "#FFA15A",
           "#19d3f3",
           "#FF6692",
           "#B6E880",
           "#FF97FF",
           "#FECB52"
          ],
          "font": {
           "color": "#2a3f5f"
          },
          "geo": {
           "bgcolor": "white",
           "lakecolor": "white",
           "landcolor": "#E5ECF6",
           "showlakes": true,
           "showland": true,
           "subunitcolor": "white"
          },
          "hoverlabel": {
           "align": "left"
          },
          "hovermode": "closest",
          "mapbox": {
           "style": "light"
          },
          "paper_bgcolor": "white",
          "plot_bgcolor": "#E5ECF6",
          "polar": {
           "angularaxis": {
            "gridcolor": "white",
            "linecolor": "white",
            "ticks": ""
           },
           "bgcolor": "#E5ECF6",
           "radialaxis": {
            "gridcolor": "white",
            "linecolor": "white",
            "ticks": ""
           }
          },
          "scene": {
           "xaxis": {
            "backgroundcolor": "#E5ECF6",
            "gridcolor": "white",
            "gridwidth": 2,
            "linecolor": "white",
            "showbackground": true,
            "ticks": "",
            "zerolinecolor": "white"
           },
           "yaxis": {
            "backgroundcolor": "#E5ECF6",
            "gridcolor": "white",
            "gridwidth": 2,
            "linecolor": "white",
            "showbackground": true,
            "ticks": "",
            "zerolinecolor": "white"
           },
           "zaxis": {
            "backgroundcolor": "#E5ECF6",
            "gridcolor": "white",
            "gridwidth": 2,
            "linecolor": "white",
            "showbackground": true,
            "ticks": "",
            "zerolinecolor": "white"
           }
          },
          "shapedefaults": {
           "line": {
            "color": "#2a3f5f"
           }
          },
          "ternary": {
           "aaxis": {
            "gridcolor": "white",
            "linecolor": "white",
            "ticks": ""
           },
           "baxis": {
            "gridcolor": "white",
            "linecolor": "white",
            "ticks": ""
           },
           "bgcolor": "#E5ECF6",
           "caxis": {
            "gridcolor": "white",
            "linecolor": "white",
            "ticks": ""
           }
          },
          "title": {
           "x": 0.05
          },
          "xaxis": {
           "automargin": true,
           "gridcolor": "white",
           "linecolor": "white",
           "ticks": "",
           "title": {
            "standoff": 15
           },
           "zerolinecolor": "white",
           "zerolinewidth": 2
          },
          "yaxis": {
           "automargin": true,
           "gridcolor": "white",
           "linecolor": "white",
           "ticks": "",
           "title": {
            "standoff": 15
           },
           "zerolinecolor": "white",
           "zerolinewidth": 2
          }
         }
        },
        "title": {
         "text": "Top 5 best weather cities"
        },
        "updatemenus": [
         {
          "buttons": [
           {
            "args": [
             null,
             {
              "frame": {
               "duration": 500,
               "redraw": true
              },
              "fromcurrent": true,
              "mode": "immediate",
              "transition": {
               "duration": 500,
               "easing": "linear"
              }
             }
            ],
            "label": "&#9654;",
            "method": "animate"
           },
           {
            "args": [
             [
              null
             ],
             {
              "frame": {
               "duration": 0,
               "redraw": true
              },
              "fromcurrent": true,
              "mode": "immediate",
              "transition": {
               "duration": 0,
               "easing": "linear"
              }
             }
            ],
            "label": "&#9724;",
            "method": "animate"
           }
          ],
          "direction": "left",
          "pad": {
           "r": 10,
           "t": 70
          },
          "showactive": false,
          "type": "buttons",
          "x": 0.1,
          "xanchor": "right",
          "y": 0,
          "yanchor": "top"
         }
        ]
       }
      }
     },
     "metadata": {},
     "output_type": "display_data"
    }
   ],
   "source": [
    "fig = px.scatter_mapbox(city_weather_top_5, lat=\"latitude\", lon=\"longitude\",\n",
    "                        color=\"temperature\", size ='temp_cube', zoom=7, mapbox_style=\"carto-positron\",\n",
    "                        animation_frame = \"dt_object\", animation_group = 'temperature',\n",
    "                        title=\"Top 5 best weather cities\")\n",
    "fig.show()"
   ]
  },
  {
   "cell_type": "code",
   "execution_count": 31,
   "metadata": {},
   "outputs": [
    {
     "name": "stdout",
     "output_type": "stream",
     "text": [
      "2023-02-20 09:17:21,926 INFO sqlalchemy.engine.Engine select relname from pg_class c join pg_namespace n on n.oid=c.relnamespace where pg_catalog.pg_table_is_visible(c.oid) and relname=%(name)s\n",
      "2023-02-20 09:17:21,926 INFO sqlalchemy.engine.Engine [cached since 6.076s ago] {'name': 'SELECT * FROM hotel '}\n",
      "2023-02-20 09:17:22,172 INFO sqlalchemy.engine.Engine SELECT * FROM hotel \n",
      "2023-02-20 09:17:22,174 INFO sqlalchemy.engine.Engine [generated in 0.00175s] {}\n"
     ]
    },
    {
     "data": {
      "text/html": [
       "<div>\n",
       "<style scoped>\n",
       "    .dataframe tbody tr th:only-of-type {\n",
       "        vertical-align: middle;\n",
       "    }\n",
       "\n",
       "    .dataframe tbody tr th {\n",
       "        vertical-align: top;\n",
       "    }\n",
       "\n",
       "    .dataframe thead th {\n",
       "        text-align: right;\n",
       "    }\n",
       "</style>\n",
       "<table border=\"1\" class=\"dataframe\">\n",
       "  <thead>\n",
       "    <tr style=\"text-align: right;\">\n",
       "      <th></th>\n",
       "      <th>index</th>\n",
       "      <th>Unnamed: 0</th>\n",
       "      <th>hotel name</th>\n",
       "      <th>Url to its booking.com page</th>\n",
       "      <th>Score</th>\n",
       "      <th>Text description</th>\n",
       "      <th>lat</th>\n",
       "      <th>lon</th>\n",
       "    </tr>\n",
       "  </thead>\n",
       "  <tbody>\n",
       "    <tr>\n",
       "      <th>0</th>\n",
       "      <td>0</td>\n",
       "      <td>0</td>\n",
       "      <td>James Vignoble Hôtel - Eguisheim</td>\n",
       "      <td>https://www.booking.com/hotel/fr/saint-hubert-...</td>\n",
       "      <td>8.6</td>\n",
       "      <td>James Vignoble Hôtel - Eguisheim is located am...</td>\n",
       "      <td>48.044963</td>\n",
       "      <td>7.301578</td>\n",
       "    </tr>\n",
       "    <tr>\n",
       "      <th>1</th>\n",
       "      <td>1</td>\n",
       "      <td>1</td>\n",
       "      <td>WHITE HOUSE DHAVERNAS - PROCHE CENTRE - PARKIN...</td>\n",
       "      <td>https://www.booking.com/hotel/fr/white-house-d...</td>\n",
       "      <td>8.7</td>\n",
       "      <td>Situé à Amiens, en Picardie, à proximité de la...</td>\n",
       "      <td>49.881470</td>\n",
       "      <td>2.299871</td>\n",
       "    </tr>\n",
       "    <tr>\n",
       "      <th>2</th>\n",
       "      <td>2</td>\n",
       "      <td>2</td>\n",
       "      <td>L'AMIE'NOIS - 6 COUCHAGES - JARDIN - WiFi</td>\n",
       "      <td>https://www.booking.com/hotel/fr/appt-en-amien...</td>\n",
       "      <td>8.0</td>\n",
       "      <td>Situé à 1,9 km du Zénith d'Amiens et à 3,9 km ...</td>\n",
       "      <td>49.888011</td>\n",
       "      <td>2.264935</td>\n",
       "    </tr>\n",
       "    <tr>\n",
       "      <th>3</th>\n",
       "      <td>3</td>\n",
       "      <td>3</td>\n",
       "      <td>Au Coeur d'Amiens</td>\n",
       "      <td>https://www.booking.com/hotel/fr/maison-au-coe...</td>\n",
       "      <td>9.2</td>\n",
       "      <td>Situé à Amiens, à seulement 1 km de la gare, l...</td>\n",
       "      <td>49.896155</td>\n",
       "      <td>2.306368</td>\n",
       "    </tr>\n",
       "    <tr>\n",
       "      <th>4</th>\n",
       "      <td>4</td>\n",
       "      <td>4</td>\n",
       "      <td>Charmant T2 Hyper-centre, Netflix, Gare</td>\n",
       "      <td>https://www.booking.com/hotel/fr/charmant-t2-h...</td>\n",
       "      <td>9.0</td>\n",
       "      <td>Le Charmant T2 Hyper-centre, Netflix, Gare est...</td>\n",
       "      <td>49.890137</td>\n",
       "      <td>2.298532</td>\n",
       "    </tr>\n",
       "  </tbody>\n",
       "</table>\n",
       "</div>"
      ],
      "text/plain": [
       "   index  Unnamed: 0                                         hotel name  \\\n",
       "0      0           0                   James Vignoble Hôtel - Eguisheim   \n",
       "1      1           1  WHITE HOUSE DHAVERNAS - PROCHE CENTRE - PARKIN...   \n",
       "2      2           2          L'AMIE'NOIS - 6 COUCHAGES - JARDIN - WiFi   \n",
       "3      3           3                                  Au Coeur d'Amiens   \n",
       "4      4           4            Charmant T2 Hyper-centre, Netflix, Gare   \n",
       "\n",
       "                         Url to its booking.com page  Score  \\\n",
       "0  https://www.booking.com/hotel/fr/saint-hubert-...    8.6   \n",
       "1  https://www.booking.com/hotel/fr/white-house-d...    8.7   \n",
       "2  https://www.booking.com/hotel/fr/appt-en-amien...    8.0   \n",
       "3  https://www.booking.com/hotel/fr/maison-au-coe...    9.2   \n",
       "4  https://www.booking.com/hotel/fr/charmant-t2-h...    9.0   \n",
       "\n",
       "                                    Text description        lat       lon  \n",
       "0  James Vignoble Hôtel - Eguisheim is located am...  48.044963  7.301578  \n",
       "1  Situé à Amiens, en Picardie, à proximité de la...  49.881470  2.299871  \n",
       "2  Situé à 1,9 km du Zénith d'Amiens et à 3,9 km ...  49.888011  2.264935  \n",
       "3  Situé à Amiens, à seulement 1 km de la gare, l...  49.896155  2.306368  \n",
       "4  Le Charmant T2 Hyper-centre, Netflix, Gare est...  49.890137  2.298532  "
      ]
     },
     "execution_count": 31,
     "metadata": {},
     "output_type": "execute_result"
    }
   ],
   "source": [
    "# Hotel info\n",
    "stmt = text(\"SELECT * FROM hotel \"\n",
    "            )\n",
    "\n",
    "df = pd.read_sql(\n",
    "        stmt,\n",
    "        engine\n",
    "    )\n",
    "\n",
    "df.head()"
   ]
  },
  {
   "cell_type": "code",
   "execution_count": 32,
   "metadata": {},
   "outputs": [
    {
     "data": {
      "application/vnd.plotly.v1+json": {
       "config": {
        "plotlyServerURL": "https://plot.ly"
       },
       "data": [
        {
         "hovertemplate": "Score=%{marker.color}<br>lat=%{lat}<br>lon=%{lon}<extra></extra>",
         "lat": [
          48.04496277,
          49.8814696,
          49.8880108,
          49.8961553,
          49.89013675,
          49.888542,
          49.891249,
          49.89357965,
          49.893615,
          49.89444519,
          48.0476831,
          49.9071282,
          49.894229,
          49.8875926,
          48.0432777,
          49.42179438,
          49.43869536,
          49.445091,
          49.4502853,
          49.4439629,
          49.4525251,
          49.444544,
          49.429988,
          49.44306423,
          49.43365941,
          49.4290146,
          49.44197641,
          49.44011681,
          49.43783419,
          49.44117285,
          49.44157649,
          49.44332714,
          49.4416755,
          49.4446518,
          43.14393659,
          49.446441,
          43.122494,
          43.14456855,
          43.12415,
          43.144686,
          43.1431217,
          43.15038674,
          43.142501,
          43.1403633,
          43.1509034,
          43.12264843,
          43.12602594,
          43.146445,
          43.150077,
          43.10348079,
          43.14957041,
          48.59274972,
          48.57772068,
          48.58387581,
          48.58501891,
          48.5732564,
          48.58389311,
          48.5826468,
          48.58373253,
          48.57968064,
          48.58389843,
          48.5870959,
          48.58319667,
          48.60427412,
          48.57154052,
          48.58383633,
          48.58031945,
          48.57924766,
          48.58469688,
          48.58906194,
          48.04242043,
          48.04340695,
          48.57269177,
          48.0437697,
          48.04349458,
          48.04252897,
          48.04203,
          48.041599,
          48.04223841,
          48.0430391,
          48.04228862,
          48.042963,
          48.04327133,
          48.0425764,
          48.04502734,
          48.04170911,
          49.8925625,
          48.0418229,
          48.0461134,
          49.8930114,
          49.8916762,
          49.8925625,
          49.87000632,
          49.901814,
          49.89755206,
          49.8925731
         ],
         "legendgroup": "",
         "lon": [
          7.30157845,
          2.2998714,
          2.264935,
          2.3063681,
          2.29853201,
          2.331349,
          2.30953,
          2.29715419,
          2.3001575,
          2.30094239,
          7.3132915,
          2.3172668,
          2.305778,
          2.281197,
          7.3051784,
          1.08928666,
          1.1092034,
          1.0965322,
          1.0890898,
          1.08896,
          1.0928101,
          1.091178,
          1.072398,
          1.08660311,
          1.09861642,
          1.0832807,
          1.09243892,
          1.09693363,
          1.09725282,
          1.09517545,
          1.0839549,
          1.09457396,
          1.1006621,
          1.0913262,
          6.33632324,
          1.09412,
          6.357174,
          6.35168418,
          6.351192,
          6.335125,
          6.3521398,
          6.34269357,
          6.3491788,
          6.3367149,
          6.3419325,
          6.35946596,
          6.35675467,
          6.327724,
          6.342641,
          6.32792383,
          6.30204835,
          7.74505986,
          7.73397669,
          7.73722887,
          7.73882546,
          7.76572449,
          7.73574829,
          7.7335328,
          7.74504483,
          7.74689153,
          7.73765266,
          7.7585664,
          7.74285212,
          7.70446112,
          7.74525492,
          7.73494899,
          7.75127023,
          7.73222588,
          7.736561,
          7.73879863,
          7.30631925,
          7.30760872,
          7.72871353,
          7.3054,
          7.30439007,
          7.30712727,
          7.304598,
          7.306161,
          7.30916776,
          7.30580762,
          7.3094514,
          7.307216,
          7.30412185,
          7.3052388,
          7.31185466,
          7.3056928,
          2.3052844,
          7.30527944,
          7.3051632,
          2.3058662,
          2.30775386,
          2.3052844,
          2.30806847,
          2.271326,
          2.31635948,
          2.3118048
         ],
         "marker": {
          "color": [
           8.6,
           8.7,
           8,
           9.2,
           9,
           9.1,
           8.5,
           9.1,
           8.5,
           8.3,
           9.4,
           8.4,
           7.9,
           9,
           9.7,
           7.2,
           7.4,
           7.6,
           8.5,
           8.3,
           7.2,
           8.6,
           8.3,
           8.5,
           8.7,
           8.8,
           8,
           7.8,
           8.2,
           8.1,
           8.6,
           8.1,
           9,
           8.6,
           9.4,
           8.9,
           8.2,
           9.1,
           9,
           8,
           8.4,
           8.6,
           8.9,
           8.5,
           10,
           7.6,
           8.3,
           9.6,
           8.4,
           9.7,
           9.2,
           8.3,
           7.7,
           7.9,
           8.4,
           8.3,
           7.6,
           9.2,
           7.7,
           7,
           7.8,
           8.4,
           7.9,
           8.6,
           7.9,
           9,
           8,
           8.1,
           8.3,
           7,
           9,
           8.6,
           8.2,
           8.9,
           8.2,
           8.9,
           9.3,
           9,
           8.5,
           8.6,
           7.7,
           9.3,
           8.8,
           9.2,
           8,
           9.8,
           9.6,
           8.7,
           9.7,
           7.8,
           7.9,
           9.3,
           9.6,
           8.3,
           9.3,
           9.5
          ],
          "coloraxis": "coloraxis",
          "size": [
           8.6,
           8.7,
           8,
           9.2,
           9,
           9.1,
           8.5,
           9.1,
           8.5,
           8.3,
           9.4,
           8.4,
           7.9,
           9,
           9.7,
           7.2,
           7.4,
           7.6,
           8.5,
           8.3,
           7.2,
           8.6,
           8.3,
           8.5,
           8.7,
           8.8,
           8,
           7.8,
           8.2,
           8.1,
           8.6,
           8.1,
           9,
           8.6,
           9.4,
           8.9,
           8.2,
           9.1,
           9,
           8,
           8.4,
           8.6,
           8.9,
           8.5,
           10,
           7.6,
           8.3,
           9.6,
           8.4,
           9.7,
           9.2,
           8.3,
           7.7,
           7.9,
           8.4,
           8.3,
           7.6,
           9.2,
           7.7,
           7,
           7.8,
           8.4,
           7.9,
           8.6,
           7.9,
           9,
           8,
           8.1,
           8.3,
           7,
           9,
           8.6,
           8.2,
           8.9,
           8.2,
           8.9,
           9.3,
           9,
           8.5,
           8.6,
           7.7,
           9.3,
           8.8,
           9.2,
           8,
           9.8,
           9.6,
           8.7,
           9.7,
           7.8,
           7.9,
           9.3,
           9.6,
           8.3,
           9.3,
           9.5
          ],
          "sizemode": "area",
          "sizeref": 0.025
         },
         "mode": "markers",
         "name": "",
         "showlegend": false,
         "subplot": "mapbox",
         "type": "scattermapbox"
        }
       ],
       "layout": {
        "coloraxis": {
         "colorbar": {
          "title": {
           "text": "Score"
          }
         },
         "colorscale": [
          [
           0,
           "#0d0887"
          ],
          [
           0.1111111111111111,
           "#46039f"
          ],
          [
           0.2222222222222222,
           "#7201a8"
          ],
          [
           0.3333333333333333,
           "#9c179e"
          ],
          [
           0.4444444444444444,
           "#bd3786"
          ],
          [
           0.5555555555555556,
           "#d8576b"
          ],
          [
           0.6666666666666666,
           "#ed7953"
          ],
          [
           0.7777777777777778,
           "#fb9f3a"
          ],
          [
           0.8888888888888888,
           "#fdca26"
          ],
          [
           1,
           "#f0f921"
          ]
         ]
        },
        "legend": {
         "itemsizing": "constant",
         "tracegroupgap": 0
        },
        "mapbox": {
         "center": {
          "lat": 48.01440962052084,
          "lon": 4.898790892291667
         },
         "domain": {
          "x": [
           0,
           1
          ],
          "y": [
           0,
           1
          ]
         },
         "style": "carto-positron",
         "zoom": 7
        },
        "template": {
         "data": {
          "bar": [
           {
            "error_x": {
             "color": "#2a3f5f"
            },
            "error_y": {
             "color": "#2a3f5f"
            },
            "marker": {
             "line": {
              "color": "#E5ECF6",
              "width": 0.5
             },
             "pattern": {
              "fillmode": "overlay",
              "size": 10,
              "solidity": 0.2
             }
            },
            "type": "bar"
           }
          ],
          "barpolar": [
           {
            "marker": {
             "line": {
              "color": "#E5ECF6",
              "width": 0.5
             },
             "pattern": {
              "fillmode": "overlay",
              "size": 10,
              "solidity": 0.2
             }
            },
            "type": "barpolar"
           }
          ],
          "carpet": [
           {
            "aaxis": {
             "endlinecolor": "#2a3f5f",
             "gridcolor": "white",
             "linecolor": "white",
             "minorgridcolor": "white",
             "startlinecolor": "#2a3f5f"
            },
            "baxis": {
             "endlinecolor": "#2a3f5f",
             "gridcolor": "white",
             "linecolor": "white",
             "minorgridcolor": "white",
             "startlinecolor": "#2a3f5f"
            },
            "type": "carpet"
           }
          ],
          "choropleth": [
           {
            "colorbar": {
             "outlinewidth": 0,
             "ticks": ""
            },
            "type": "choropleth"
           }
          ],
          "contour": [
           {
            "colorbar": {
             "outlinewidth": 0,
             "ticks": ""
            },
            "colorscale": [
             [
              0,
              "#0d0887"
             ],
             [
              0.1111111111111111,
              "#46039f"
             ],
             [
              0.2222222222222222,
              "#7201a8"
             ],
             [
              0.3333333333333333,
              "#9c179e"
             ],
             [
              0.4444444444444444,
              "#bd3786"
             ],
             [
              0.5555555555555556,
              "#d8576b"
             ],
             [
              0.6666666666666666,
              "#ed7953"
             ],
             [
              0.7777777777777778,
              "#fb9f3a"
             ],
             [
              0.8888888888888888,
              "#fdca26"
             ],
             [
              1,
              "#f0f921"
             ]
            ],
            "type": "contour"
           }
          ],
          "contourcarpet": [
           {
            "colorbar": {
             "outlinewidth": 0,
             "ticks": ""
            },
            "type": "contourcarpet"
           }
          ],
          "heatmap": [
           {
            "colorbar": {
             "outlinewidth": 0,
             "ticks": ""
            },
            "colorscale": [
             [
              0,
              "#0d0887"
             ],
             [
              0.1111111111111111,
              "#46039f"
             ],
             [
              0.2222222222222222,
              "#7201a8"
             ],
             [
              0.3333333333333333,
              "#9c179e"
             ],
             [
              0.4444444444444444,
              "#bd3786"
             ],
             [
              0.5555555555555556,
              "#d8576b"
             ],
             [
              0.6666666666666666,
              "#ed7953"
             ],
             [
              0.7777777777777778,
              "#fb9f3a"
             ],
             [
              0.8888888888888888,
              "#fdca26"
             ],
             [
              1,
              "#f0f921"
             ]
            ],
            "type": "heatmap"
           }
          ],
          "heatmapgl": [
           {
            "colorbar": {
             "outlinewidth": 0,
             "ticks": ""
            },
            "colorscale": [
             [
              0,
              "#0d0887"
             ],
             [
              0.1111111111111111,
              "#46039f"
             ],
             [
              0.2222222222222222,
              "#7201a8"
             ],
             [
              0.3333333333333333,
              "#9c179e"
             ],
             [
              0.4444444444444444,
              "#bd3786"
             ],
             [
              0.5555555555555556,
              "#d8576b"
             ],
             [
              0.6666666666666666,
              "#ed7953"
             ],
             [
              0.7777777777777778,
              "#fb9f3a"
             ],
             [
              0.8888888888888888,
              "#fdca26"
             ],
             [
              1,
              "#f0f921"
             ]
            ],
            "type": "heatmapgl"
           }
          ],
          "histogram": [
           {
            "marker": {
             "pattern": {
              "fillmode": "overlay",
              "size": 10,
              "solidity": 0.2
             }
            },
            "type": "histogram"
           }
          ],
          "histogram2d": [
           {
            "colorbar": {
             "outlinewidth": 0,
             "ticks": ""
            },
            "colorscale": [
             [
              0,
              "#0d0887"
             ],
             [
              0.1111111111111111,
              "#46039f"
             ],
             [
              0.2222222222222222,
              "#7201a8"
             ],
             [
              0.3333333333333333,
              "#9c179e"
             ],
             [
              0.4444444444444444,
              "#bd3786"
             ],
             [
              0.5555555555555556,
              "#d8576b"
             ],
             [
              0.6666666666666666,
              "#ed7953"
             ],
             [
              0.7777777777777778,
              "#fb9f3a"
             ],
             [
              0.8888888888888888,
              "#fdca26"
             ],
             [
              1,
              "#f0f921"
             ]
            ],
            "type": "histogram2d"
           }
          ],
          "histogram2dcontour": [
           {
            "colorbar": {
             "outlinewidth": 0,
             "ticks": ""
            },
            "colorscale": [
             [
              0,
              "#0d0887"
             ],
             [
              0.1111111111111111,
              "#46039f"
             ],
             [
              0.2222222222222222,
              "#7201a8"
             ],
             [
              0.3333333333333333,
              "#9c179e"
             ],
             [
              0.4444444444444444,
              "#bd3786"
             ],
             [
              0.5555555555555556,
              "#d8576b"
             ],
             [
              0.6666666666666666,
              "#ed7953"
             ],
             [
              0.7777777777777778,
              "#fb9f3a"
             ],
             [
              0.8888888888888888,
              "#fdca26"
             ],
             [
              1,
              "#f0f921"
             ]
            ],
            "type": "histogram2dcontour"
           }
          ],
          "mesh3d": [
           {
            "colorbar": {
             "outlinewidth": 0,
             "ticks": ""
            },
            "type": "mesh3d"
           }
          ],
          "parcoords": [
           {
            "line": {
             "colorbar": {
              "outlinewidth": 0,
              "ticks": ""
             }
            },
            "type": "parcoords"
           }
          ],
          "pie": [
           {
            "automargin": true,
            "type": "pie"
           }
          ],
          "scatter": [
           {
            "fillpattern": {
             "fillmode": "overlay",
             "size": 10,
             "solidity": 0.2
            },
            "type": "scatter"
           }
          ],
          "scatter3d": [
           {
            "line": {
             "colorbar": {
              "outlinewidth": 0,
              "ticks": ""
             }
            },
            "marker": {
             "colorbar": {
              "outlinewidth": 0,
              "ticks": ""
             }
            },
            "type": "scatter3d"
           }
          ],
          "scattercarpet": [
           {
            "marker": {
             "colorbar": {
              "outlinewidth": 0,
              "ticks": ""
             }
            },
            "type": "scattercarpet"
           }
          ],
          "scattergeo": [
           {
            "marker": {
             "colorbar": {
              "outlinewidth": 0,
              "ticks": ""
             }
            },
            "type": "scattergeo"
           }
          ],
          "scattergl": [
           {
            "marker": {
             "colorbar": {
              "outlinewidth": 0,
              "ticks": ""
             }
            },
            "type": "scattergl"
           }
          ],
          "scattermapbox": [
           {
            "marker": {
             "colorbar": {
              "outlinewidth": 0,
              "ticks": ""
             }
            },
            "type": "scattermapbox"
           }
          ],
          "scatterpolar": [
           {
            "marker": {
             "colorbar": {
              "outlinewidth": 0,
              "ticks": ""
             }
            },
            "type": "scatterpolar"
           }
          ],
          "scatterpolargl": [
           {
            "marker": {
             "colorbar": {
              "outlinewidth": 0,
              "ticks": ""
             }
            },
            "type": "scatterpolargl"
           }
          ],
          "scatterternary": [
           {
            "marker": {
             "colorbar": {
              "outlinewidth": 0,
              "ticks": ""
             }
            },
            "type": "scatterternary"
           }
          ],
          "surface": [
           {
            "colorbar": {
             "outlinewidth": 0,
             "ticks": ""
            },
            "colorscale": [
             [
              0,
              "#0d0887"
             ],
             [
              0.1111111111111111,
              "#46039f"
             ],
             [
              0.2222222222222222,
              "#7201a8"
             ],
             [
              0.3333333333333333,
              "#9c179e"
             ],
             [
              0.4444444444444444,
              "#bd3786"
             ],
             [
              0.5555555555555556,
              "#d8576b"
             ],
             [
              0.6666666666666666,
              "#ed7953"
             ],
             [
              0.7777777777777778,
              "#fb9f3a"
             ],
             [
              0.8888888888888888,
              "#fdca26"
             ],
             [
              1,
              "#f0f921"
             ]
            ],
            "type": "surface"
           }
          ],
          "table": [
           {
            "cells": {
             "fill": {
              "color": "#EBF0F8"
             },
             "line": {
              "color": "white"
             }
            },
            "header": {
             "fill": {
              "color": "#C8D4E3"
             },
             "line": {
              "color": "white"
             }
            },
            "type": "table"
           }
          ]
         },
         "layout": {
          "annotationdefaults": {
           "arrowcolor": "#2a3f5f",
           "arrowhead": 0,
           "arrowwidth": 1
          },
          "autotypenumbers": "strict",
          "coloraxis": {
           "colorbar": {
            "outlinewidth": 0,
            "ticks": ""
           }
          },
          "colorscale": {
           "diverging": [
            [
             0,
             "#8e0152"
            ],
            [
             0.1,
             "#c51b7d"
            ],
            [
             0.2,
             "#de77ae"
            ],
            [
             0.3,
             "#f1b6da"
            ],
            [
             0.4,
             "#fde0ef"
            ],
            [
             0.5,
             "#f7f7f7"
            ],
            [
             0.6,
             "#e6f5d0"
            ],
            [
             0.7,
             "#b8e186"
            ],
            [
             0.8,
             "#7fbc41"
            ],
            [
             0.9,
             "#4d9221"
            ],
            [
             1,
             "#276419"
            ]
           ],
           "sequential": [
            [
             0,
             "#0d0887"
            ],
            [
             0.1111111111111111,
             "#46039f"
            ],
            [
             0.2222222222222222,
             "#7201a8"
            ],
            [
             0.3333333333333333,
             "#9c179e"
            ],
            [
             0.4444444444444444,
             "#bd3786"
            ],
            [
             0.5555555555555556,
             "#d8576b"
            ],
            [
             0.6666666666666666,
             "#ed7953"
            ],
            [
             0.7777777777777778,
             "#fb9f3a"
            ],
            [
             0.8888888888888888,
             "#fdca26"
            ],
            [
             1,
             "#f0f921"
            ]
           ],
           "sequentialminus": [
            [
             0,
             "#0d0887"
            ],
            [
             0.1111111111111111,
             "#46039f"
            ],
            [
             0.2222222222222222,
             "#7201a8"
            ],
            [
             0.3333333333333333,
             "#9c179e"
            ],
            [
             0.4444444444444444,
             "#bd3786"
            ],
            [
             0.5555555555555556,
             "#d8576b"
            ],
            [
             0.6666666666666666,
             "#ed7953"
            ],
            [
             0.7777777777777778,
             "#fb9f3a"
            ],
            [
             0.8888888888888888,
             "#fdca26"
            ],
            [
             1,
             "#f0f921"
            ]
           ]
          },
          "colorway": [
           "#636efa",
           "#EF553B",
           "#00cc96",
           "#ab63fa",
           "#FFA15A",
           "#19d3f3",
           "#FF6692",
           "#B6E880",
           "#FF97FF",
           "#FECB52"
          ],
          "font": {
           "color": "#2a3f5f"
          },
          "geo": {
           "bgcolor": "white",
           "lakecolor": "white",
           "landcolor": "#E5ECF6",
           "showlakes": true,
           "showland": true,
           "subunitcolor": "white"
          },
          "hoverlabel": {
           "align": "left"
          },
          "hovermode": "closest",
          "mapbox": {
           "style": "light"
          },
          "paper_bgcolor": "white",
          "plot_bgcolor": "#E5ECF6",
          "polar": {
           "angularaxis": {
            "gridcolor": "white",
            "linecolor": "white",
            "ticks": ""
           },
           "bgcolor": "#E5ECF6",
           "radialaxis": {
            "gridcolor": "white",
            "linecolor": "white",
            "ticks": ""
           }
          },
          "scene": {
           "xaxis": {
            "backgroundcolor": "#E5ECF6",
            "gridcolor": "white",
            "gridwidth": 2,
            "linecolor": "white",
            "showbackground": true,
            "ticks": "",
            "zerolinecolor": "white"
           },
           "yaxis": {
            "backgroundcolor": "#E5ECF6",
            "gridcolor": "white",
            "gridwidth": 2,
            "linecolor": "white",
            "showbackground": true,
            "ticks": "",
            "zerolinecolor": "white"
           },
           "zaxis": {
            "backgroundcolor": "#E5ECF6",
            "gridcolor": "white",
            "gridwidth": 2,
            "linecolor": "white",
            "showbackground": true,
            "ticks": "",
            "zerolinecolor": "white"
           }
          },
          "shapedefaults": {
           "line": {
            "color": "#2a3f5f"
           }
          },
          "ternary": {
           "aaxis": {
            "gridcolor": "white",
            "linecolor": "white",
            "ticks": ""
           },
           "baxis": {
            "gridcolor": "white",
            "linecolor": "white",
            "ticks": ""
           },
           "bgcolor": "#E5ECF6",
           "caxis": {
            "gridcolor": "white",
            "linecolor": "white",
            "ticks": ""
           }
          },
          "title": {
           "x": 0.05
          },
          "xaxis": {
           "automargin": true,
           "gridcolor": "white",
           "linecolor": "white",
           "ticks": "",
           "title": {
            "standoff": 15
           },
           "zerolinecolor": "white",
           "zerolinewidth": 2
          },
          "yaxis": {
           "automargin": true,
           "gridcolor": "white",
           "linecolor": "white",
           "ticks": "",
           "title": {
            "standoff": 15
           },
           "zerolinecolor": "white",
           "zerolinewidth": 2
          }
         }
        },
        "title": {
         "text": "Top 20 hotels in our top 5 cities"
        }
       }
      }
     },
     "metadata": {},
     "output_type": "display_data"
    }
   ],
   "source": [
    "fig = px.scatter_mapbox(hotel[hotel['Score'].notna()], lat=\"lat\", lon=\"lon\", \n",
    "                        zoom=7, size=\"Score\", color=\"Score\", mapbox_style=\"carto-positron\", \n",
    "                        title = 'Top 20 hotels in our top 5 cities')\n",
    "fig.show()"
   ]
  }
 ],
 "metadata": {
  "kernelspec": {
   "display_name": "base",
   "language": "python",
   "name": "python3"
  },
  "language_info": {
   "codemirror_mode": {
    "name": "ipython",
    "version": 3
   },
   "file_extension": ".py",
   "mimetype": "text/x-python",
   "name": "python",
   "nbconvert_exporter": "python",
   "pygments_lexer": "ipython3",
   "version": "3.10.8"
  },
  "orig_nbformat": 4,
  "vscode": {
   "interpreter": {
    "hash": "27475ad11a5960b5c9c2c23a23d0db9f81f2852f739b9cd5e7b2161981b102a1"
   }
  }
 },
 "nbformat": 4,
 "nbformat_minor": 2
}
